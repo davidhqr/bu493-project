{
 "cells": [
  {
   "cell_type": "code",
   "execution_count": 1,
   "id": "1b4ee547",
   "metadata": {
    "id": "1b4ee547"
   },
   "outputs": [],
   "source": [
    "import pandas as pd\n",
    "import numpy as np\n",
    "import statsmodels.api as sm\n",
    "import statsmodels.formula.api as smf\n",
    "from itertools import combinations\n",
    "pd.set_option('display.max_columns', 100)"
   ]
  },
  {
   "cell_type": "code",
   "execution_count": 2,
   "id": "a1df5ac6",
   "metadata": {
    "id": "a1df5ac6"
   },
   "outputs": [],
   "source": [
    "data = pd.read_csv('senate_returns.csv')\n",
    "data.rename(columns = {col:col.lower() for col in data.columns}, inplace = True)\n",
    "data['amount_discrete'] = data['amount_discrete'].apply(lambda x: min(x, 5))\n",
    "def market_cap_discrete(x):\n",
    "    if x < 10 ** 8: # <= 100,000,000\n",
    "        return 1\n",
    "    if x < 2.5 * 10 ** 8: # <= 250,000,000\n",
    "        return 2\n",
    "    if x < 5 * 10 ** 8: # <= 500,000,000\n",
    "        return 3\n",
    "    if x < 10 ** 9: # <= 1,000,000,000\n",
    "        return 4\n",
    "    if x < 2.5 * 10 ** 9: # <= 2,500,000,000\n",
    "        return 5\n",
    "    if x < 5 * 10 ** 9: # <= 5,000,000,000\n",
    "        return 6\n",
    "    if x < 10 ** 10: # <= 10,000,000,000\n",
    "        return 7\n",
    "    if x < 2.5 * 10 ** 10: # <= 25,000,000,000\n",
    "        return 8\n",
    "    if x < 5 * 10 ** 10: # <= 50,000,000,000\n",
    "        return 9\n",
    "    if x < 10 ** 11: # <= 100,000,000,000\n",
    "        return 10\n",
    "    if x < 2.5 * 10 ** 11: # <= 250,000,000,000\n",
    "        return 11\n",
    "    if x < 5 * 10 ** 11: # <= 500,000,000,000\n",
    "        return 12\n",
    "    if x < 10 ** 12: # <= 1,000,000,000,000\n",
    "        return 13\n",
    "    return 14\n",
    "data['market_cap_discrete'] = data['market_cap'].apply(market_cap_discrete)"
   ]
  },
  {
   "cell_type": "code",
   "execution_count": 3,
   "id": "08d92504",
   "metadata": {
    "id": "08d92504"
   },
   "outputs": [
    {
     "data": {
      "text/plain": [
       "16"
      ]
     },
     "execution_count": 3,
     "metadata": {},
     "output_type": "execute_result"
    }
   ],
   "source": [
    "committees_high = ['agriculture_nutrition_and_forestry',\n",
    " 'appropriations',\n",
    " 'banking_housing_and_urban_affairs',\n",
    " 'commerce_science_and_transportation',\n",
    " 'energy_and_natural_resources',\n",
    " 'finance',\n",
    " 'health_education_labor_and_pensions']\n",
    "committees_medium = ['armed_services',\n",
    " 'budget',\n",
    " 'environment_and_public_works',\n",
    " 'foreign_relations',\n",
    " 'judiciary']\n",
    "committees_low = [\n",
    " 'homeland_security_and_governmental_affairs',\n",
    " 'rules_and_administration',\n",
    " 'small_business_and_entrepreneurship',\n",
    " 'veterans_affairs']\n",
    "len(set(committees_high + committees_medium + committees_low))"
   ]
  },
  {
   "cell_type": "code",
   "execution_count": 4,
   "id": "1092208a",
   "metadata": {},
   "outputs": [
    {
     "data": {
      "text/html": [
       "<div>\n",
       "<style scoped>\n",
       "    .dataframe tbody tr th:only-of-type {\n",
       "        vertical-align: middle;\n",
       "    }\n",
       "\n",
       "    .dataframe tbody tr th {\n",
       "        vertical-align: top;\n",
       "    }\n",
       "\n",
       "    .dataframe thead th {\n",
       "        text-align: right;\n",
       "    }\n",
       "</style>\n",
       "<table border=\"1\" class=\"dataframe\">\n",
       "  <thead>\n",
       "    <tr style=\"text-align: right;\">\n",
       "      <th></th>\n",
       "      <th>return_1d</th>\n",
       "    </tr>\n",
       "    <tr>\n",
       "      <th>party</th>\n",
       "      <th></th>\n",
       "    </tr>\n",
       "  </thead>\n",
       "  <tbody>\n",
       "    <tr>\n",
       "      <th>Democratic</th>\n",
       "      <td>334</td>\n",
       "    </tr>\n",
       "    <tr>\n",
       "      <th>Republican</th>\n",
       "      <td>834</td>\n",
       "    </tr>\n",
       "  </tbody>\n",
       "</table>\n",
       "</div>"
      ],
      "text/plain": [
       "            return_1d\n",
       "party                \n",
       "Democratic        334\n",
       "Republican        834"
      ]
     },
     "execution_count": 4,
     "metadata": {},
     "output_type": "execute_result"
    }
   ],
   "source": [
    "data = data[data['party'] != 'Independent']\n",
    "data.pivot_table(index = 'party', values = 'return_1d', aggfunc = 'count')"
   ]
  },
  {
   "cell_type": "code",
   "execution_count": 5,
   "id": "fb6b6685",
   "metadata": {},
   "outputs": [
    {
     "data": {
      "text/plain": [
       "3"
      ]
     },
     "execution_count": 5,
     "metadata": {},
     "output_type": "execute_result"
    }
   ],
   "source": [
    "returns = [['return_{}'.format(time), 'return_prev{}'.format(time)] for time in ['1d', '5d', '1m']] \\\n",
    "# + [['return_abnormal_{}'.format(time), 'return_abnormal_prev{}'.format(time)] for time in ['1d', '5d', '1m']]\n",
    "returns = [['return_abnormal_{}'.format(time), 'return_abnormal_prev{}'.format(time)] for time in ['1d', '5d', '1m']]\n",
    "indep_vars = ['amount_discrete', 'type', 'party', 'age', 'market_cap_discrete']\n",
    "committees = [committees_high] \n",
    "#[[], committees_high, committees_high + committees_medium, committees_high + committees_medium + committees_low]\n",
    "\n",
    "# combos = []\n",
    "# for i in range(len(indep_vars) + 1):\n",
    "#     combos.extend(list(map(lambda t: list(t), combinations(indep_vars, i))))\n",
    "models = []\n",
    "for com in committees:\n",
    "    for ret in returns:\n",
    "        models.append(ret + indep_vars + com)\n",
    "#     models.extend(list(map(lambda c: [ret] + c, combos)))\n",
    "# models.extend(list(map(lambda c: c + committees, models)))\n",
    "len(models)"
   ]
  },
  {
   "cell_type": "code",
   "execution_count": 6,
   "id": "c731e3c9",
   "metadata": {
    "id": "c731e3c9",
    "outputId": "d238e2e0-a20f-488e-b396-4bd6c444f713"
   },
   "outputs": [],
   "source": [
    "# smf.ols('return_1d ~ Age + In_Office', data = data[['return_1d', 'amount', 'Party']].dropna()).fit().rsquared_adj\n",
    "\n",
    "def make_model(variables):\n",
    "    model_data = data[variables].dropna()\n",
    "    if len(variables) == 1:\n",
    "        formula = variables[0] + ' ~ 1'\n",
    "    else:\n",
    "        formula = variables[0] + ' ~ ' + ' + '.join(variables[1:])\n",
    "    print(formula)\n",
    "    model = smf.ols(formula, data = model_data).fit()\n",
    "    print(model.summary())\n",
    "    return formula, model.rsquared_adj"
   ]
  },
  {
   "cell_type": "code",
   "execution_count": 7,
   "id": "e4a353cb",
   "metadata": {
    "scrolled": false
   },
   "outputs": [
    {
     "name": "stdout",
     "output_type": "stream",
     "text": [
      "return_abnormal_1d ~ return_abnormal_prev1d + type + party + age + in_office\n",
      "                            OLS Regression Results                            \n",
      "==============================================================================\n",
      "Dep. Variable:     return_abnormal_1d   R-squared:                       0.004\n",
      "Model:                            OLS   Adj. R-squared:                 -0.001\n",
      "Method:                 Least Squares   F-statistic:                    0.8455\n",
      "Date:                Tue, 29 Jun 2021   Prob (F-statistic):              0.517\n",
      "Time:                        12:15:30   Log-Likelihood:                 2052.4\n",
      "No. Observations:                1167   AIC:                            -4093.\n",
      "Df Residuals:                    1161   BIC:                            -4062.\n",
      "Df Model:                           5                                         \n",
      "Covariance Type:            nonrobust                                         \n",
      "==========================================================================================\n",
      "                             coef    std err          t      P>|t|      [0.025      0.975]\n",
      "------------------------------------------------------------------------------------------\n",
      "Intercept                  0.0005      0.011      0.047      0.962      -0.021       0.023\n",
      "type[T.Sale]               0.0022      0.003      0.808      0.419      -0.003       0.008\n",
      "party[T.Republican]       -0.0024      0.004     -0.530      0.596      -0.011       0.006\n",
      "return_abnormal_prev1d     0.0491      0.029      1.686      0.092      -0.008       0.106\n",
      "age                    -3.487e-06      0.000     -0.016      0.987      -0.000       0.000\n",
      "in_office                 -0.0001      0.000     -0.341      0.733      -0.001       0.000\n",
      "==============================================================================\n",
      "Omnibus:                     1371.044   Durbin-Watson:                   1.984\n",
      "Prob(Omnibus):                  0.000   Jarque-Bera (JB):           528472.223\n",
      "Skew:                          -5.347   Prob(JB):                         0.00\n",
      "Kurtosis:                     106.701   Cond. No.                     1.68e+03\n",
      "==============================================================================\n",
      "\n",
      "Notes:\n",
      "[1] Standard Errors assume that the covariance matrix of the errors is correctly specified.\n",
      "[2] The condition number is large, 1.68e+03. This might indicate that there are\n",
      "strong multicollinearity or other numerical problems.\n",
      "return_abnormal_1d ~ return_abnormal_prev1d + type + party + age + in_office + agriculture_nutrition_and_forestry + appropriations + banking_housing_and_urban_affairs + commerce_science_and_transportation + energy_and_natural_resources + finance + health_education_labor_and_pensions\n",
      "                            OLS Regression Results                            \n",
      "==============================================================================\n",
      "Dep. Variable:     return_abnormal_1d   R-squared:                       0.025\n",
      "Model:                            OLS   Adj. R-squared:                  0.015\n",
      "Method:                 Least Squares   F-statistic:                     2.495\n",
      "Date:                Tue, 29 Jun 2021   Prob (F-statistic):            0.00312\n",
      "Time:                        12:15:30   Log-Likelihood:                 2065.2\n",
      "No. Observations:                1167   AIC:                            -4104.\n",
      "Df Residuals:                    1154   BIC:                            -4039.\n",
      "Df Model:                          12                                         \n",
      "Covariance Type:            nonrobust                                         \n",
      "=======================================================================================================\n",
      "                                          coef    std err          t      P>|t|      [0.025      0.975]\n",
      "-------------------------------------------------------------------------------------------------------\n",
      "Intercept                               0.0087      0.019      0.457      0.648      -0.029       0.046\n",
      "type[T.Sale]                            0.0021      0.003      0.736      0.462      -0.003       0.008\n",
      "party[T.Republican]                    -0.0302      0.012     -2.626      0.009      -0.053      -0.008\n",
      "return_abnormal_prev1d                  0.0547      0.029      1.884      0.060      -0.002       0.112\n",
      "age                                     0.0005      0.000      1.372      0.170      -0.000       0.001\n",
      "in_office                              -0.0010      0.001     -1.724      0.085      -0.002       0.000\n",
      "agriculture_nutrition_and_forestry     -0.0139      0.012     -1.134      0.257      -0.038       0.010\n",
      "appropriations                          0.0250      0.018      1.425      0.154      -0.009       0.060\n",
      "banking_housing_and_urban_affairs      -0.0402      0.011     -3.676      0.000      -0.062      -0.019\n",
      "commerce_science_and_transportation    -0.0092      0.022     -0.412      0.680      -0.053       0.035\n",
      "energy_and_natural_resources            0.0082      0.005      1.558      0.119      -0.002       0.018\n",
      "finance                                -0.0326      0.015     -2.145      0.032      -0.062      -0.003\n",
      "health_education_labor_and_pensions     0.0097      0.005      1.853      0.064      -0.001       0.020\n",
      "==============================================================================\n",
      "Omnibus:                     1148.584   Durbin-Watson:                   1.972\n",
      "Prob(Omnibus):                  0.000   Jarque-Bera (JB):           305354.864\n",
      "Skew:                          -3.938   Prob(JB):                         0.00\n",
      "Kurtosis:                      81.853   Cond. No.                     1.76e+03\n",
      "==============================================================================\n",
      "\n",
      "Notes:\n",
      "[1] Standard Errors assume that the covariance matrix of the errors is correctly specified.\n",
      "[2] The condition number is large, 1.76e+03. This might indicate that there are\n",
      "strong multicollinearity or other numerical problems.\n",
      "return_abnormal_1m ~ return_abnormal_prev1m + amount_discrete + type + party + age + market_cap_discrete + agriculture_nutrition_and_forestry + appropriations + banking_housing_and_urban_affairs + commerce_science_and_transportation + energy_and_natural_resources + finance + health_education_labor_and_pensions\n",
      "                            OLS Regression Results                            \n",
      "==============================================================================\n",
      "Dep. Variable:     return_abnormal_1m   R-squared:                       0.042\n",
      "Model:                            OLS   Adj. R-squared:                  0.031\n",
      "Method:                 Least Squares   F-statistic:                     3.811\n",
      "Date:                Tue, 29 Jun 2021   Prob (F-statistic):           4.94e-06\n",
      "Time:                        12:15:30   Log-Likelihood:                 442.82\n",
      "No. Observations:                1137   AIC:                            -857.6\n",
      "Df Residuals:                    1123   BIC:                            -787.1\n",
      "Df Model:                          13                                         \n",
      "Covariance Type:            nonrobust                                         \n",
      "=======================================================================================================\n",
      "                                          coef    std err          t      P>|t|      [0.025      0.975]\n",
      "-------------------------------------------------------------------------------------------------------\n",
      "Intercept                               0.0058      0.089      0.065      0.948      -0.169       0.180\n",
      "type[T.Sale]                            0.0383      0.011      3.399      0.001       0.016       0.060\n",
      "party[T.Republican]                    -0.0458      0.031     -1.486      0.138      -0.106       0.015\n",
      "return_abnormal_prev1m                 -0.0454      0.030     -1.494      0.135      -0.105       0.014\n",
      "amount_discrete                        -0.0022      0.006     -0.344      0.731      -0.015       0.010\n",
      "age                                     0.0003      0.001      0.504      0.615      -0.001       0.002\n",
      "market_cap_discrete                     0.0005      0.002      0.237      0.812      -0.004       0.005\n",
      "agriculture_nutrition_and_forestry     -0.0145      0.046     -0.318      0.751      -0.104       0.075\n",
      "appropriations                          0.1457      0.080      1.823      0.069      -0.011       0.303\n",
      "banking_housing_and_urban_affairs      -0.2483      0.045     -5.520      0.000      -0.337      -0.160\n",
      "commerce_science_and_transportation     0.0871      0.089      0.976      0.329      -0.088       0.262\n",
      "energy_and_natural_resources           -0.0102      0.020     -0.519      0.604      -0.049       0.028\n",
      "finance                                -0.0188      0.058     -0.322      0.747      -0.133       0.096\n",
      "health_education_labor_and_pensions     0.0110      0.014      0.789      0.430      -0.016       0.039\n",
      "==============================================================================\n",
      "Omnibus:                      220.874   Durbin-Watson:                   1.600\n",
      "Prob(Omnibus):                  0.000   Jarque-Bera (JB):             5529.616\n",
      "Skew:                          -0.092   Prob(JB):                         0.00\n",
      "Kurtosis:                      13.802   Cond. No.                     1.79e+03\n",
      "==============================================================================\n",
      "\n",
      "Notes:\n",
      "[1] Standard Errors assume that the covariance matrix of the errors is correctly specified.\n",
      "[2] The condition number is large, 1.79e+03. This might indicate that there are\n",
      "strong multicollinearity or other numerical problems.\n"
     ]
    },
    {
     "data": {
      "text/plain": [
       "('return_abnormal_1m ~ return_abnormal_prev1m + amount_discrete + type + party + age + market_cap_discrete + agriculture_nutrition_and_forestry + appropriations + banking_housing_and_urban_affairs + commerce_science_and_transportation + energy_and_natural_resources + finance + health_education_labor_and_pensions',\n",
       " 0.03116735227730738)"
      ]
     },
     "execution_count": 7,
     "metadata": {},
     "output_type": "execute_result"
    }
   ],
   "source": [
    "# r2 = {}\n",
    "# for model in models:\n",
    "#     m = make_model(model)\n",
    "#     r2[m[0]] = m[1]\n",
    "model1 = ['return_abnormal_1d', 'return_abnormal_prev1d', 'type', 'party', 'age', 'in_office']\n",
    "model2 = ['return_abnormal_1m', 'return_abnormal_prev1m', 'amount_discrete', 'type', 'party', 'age', 'market_cap_discrete'] + committees_high\n",
    "\n",
    "make_model(model1)\n",
    "make_model(model1 + committees_high)\n",
    "make_model(model2)"
   ]
  }
 ],
 "metadata": {
  "colab": {
   "name": "Elbert-Regression.ipynb",
   "provenance": []
  },
  "kernelspec": {
   "display_name": "Python 3",
   "language": "python",
   "name": "python3"
  },
  "language_info": {
   "codemirror_mode": {
    "name": "ipython",
    "version": 3
   },
   "file_extension": ".py",
   "mimetype": "text/x-python",
   "name": "python",
   "nbconvert_exporter": "python",
   "pygments_lexer": "ipython3",
   "version": "3.9.1"
  }
 },
 "nbformat": 4,
 "nbformat_minor": 5
}
