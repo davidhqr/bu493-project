{
 "cells": [
  {
   "cell_type": "code",
   "execution_count": 1,
   "id": "1b4ee547",
   "metadata": {
    "id": "1b4ee547"
   },
   "outputs": [],
   "source": [
    "import pandas as pd\n",
    "import numpy as np\n",
    "import statsmodels.api as sm\n",
    "import statsmodels.formula.api as smf\n",
    "from itertools import combinations\n",
    "pd.set_option('display.max_columns', 100)"
   ]
  },
  {
   "cell_type": "code",
   "execution_count": 2,
   "id": "a1df5ac6",
   "metadata": {
    "id": "a1df5ac6"
   },
   "outputs": [],
   "source": [
    "data = pd.read_csv('house_returns.csv')\n",
    "data.rename(columns = {col:col.lower() for col in data.columns}, inplace = True)\n",
    "data['amount_discrete'] = data['amount_discrete'].apply(lambda x: min(x, 5))\n",
    "def market_cap_discrete(x):\n",
    "    if x < 10 ** 8: # <= 100,000,000\n",
    "        return 1\n",
    "    if x < 2.5 * 10 ** 8: # <= 250,000,000\n",
    "        return 2\n",
    "    if x < 5 * 10 ** 8: # <= 500,000,000\n",
    "        return 3\n",
    "    if x < 10 ** 9: # <= 1,000,000,000\n",
    "        return 4\n",
    "    if x < 2.5 * 10 ** 9: # <= 2,500,000,000\n",
    "        return 5\n",
    "    if x < 5 * 10 ** 9: # <= 5,000,000,000\n",
    "        return 6\n",
    "    if x < 10 ** 10: # <= 10,000,000,000\n",
    "        return 7\n",
    "    if x < 2.5 * 10 ** 10: # <= 25,000,000,000\n",
    "        return 8\n",
    "    if x < 5 * 10 ** 10: # <= 50,000,000,000\n",
    "        return 9\n",
    "    if x < 10 ** 11: # <= 100,000,000,000\n",
    "        return 10\n",
    "    if x < 2.5 * 10 ** 11: # <= 250,000,000,000\n",
    "        return 11\n",
    "    if x < 5 * 10 ** 11: # <= 500,000,000,000\n",
    "        return 12\n",
    "    if x < 10 ** 12: # <= 1,000,000,000,000\n",
    "        return 13\n",
    "    return 14\n",
    "data['market_cap_discrete'] = data['market_cap'].apply(market_cap_discrete)"
   ]
  },
  {
   "cell_type": "code",
   "execution_count": 3,
   "id": "a43a5950",
   "metadata": {},
   "outputs": [],
   "source": [
    "committees_high = ['agriculture',\n",
    " 'appropriations',\n",
    " 'energy_and_commerce',\n",
    " 'financial_services',\n",
    " 'natural_resources',\n",
    " 'science_space_and_technology',\n",
    " 'transportation_and_infrastructure']\n",
    "committees_medium = [\n",
    " 'armed_services',\n",
    " 'budget',\n",
    " 'education_and_labor',\n",
    " 'foreign_affairs',\n",
    " 'judiciary',\n",
    " 'oversight_and_reform',\n",
    " 'ways_and_means']\n",
    "committees_low = [\n",
    " 'ethics',\n",
    " 'homeland_security',\n",
    " 'house_administration',\n",
    " 'rules',\n",
    " 'small_business',\n",
    " 'veterans_affairs']"
   ]
  },
  {
   "cell_type": "code",
   "execution_count": 4,
   "id": "fb6b6685",
   "metadata": {},
   "outputs": [
    {
     "data": {
      "text/plain": [
       "3"
      ]
     },
     "execution_count": 4,
     "metadata": {},
     "output_type": "execute_result"
    }
   ],
   "source": [
    "returns = [['return_{}'.format(time), 'return_prev{}'.format(time)] for time in ['1d', '5d', '1m']] \\\n",
    "# + [['return_abnormal_{}'.format(time), 'return_abnormal_prev{}'.format(time)] for time in ['1d', '5d', '1m']]\n",
    "returns = [['return_abnormal_{}'.format(time), 'return_abnormal_prev{}'.format(time)] for time in ['1d', '5d', '1m']]\n",
    "indep_vars = ['amount_discrete', 'type', 'party', 'age', 'market_cap_discrete']\n",
    "committees = [committees_high] \n",
    "#[[], committees_high, committees_high + committees_medium, committees_high + committees_medium + committees_low]\n",
    "\n",
    "# combos = []\n",
    "# for i in range(len(indep_vars) + 1):\n",
    "#     combos.extend(list(map(lambda t: list(t), combinations(indep_vars, i))))\n",
    "models = []\n",
    "for com in committees:\n",
    "    for ret in returns:\n",
    "        models.append(ret + indep_vars + com)\n",
    "#     models.extend(list(map(lambda c: [ret] + c, combos)))\n",
    "# models.extend(list(map(lambda c: c + committees, models)))\n",
    "len(models)"
   ]
  },
  {
   "cell_type": "code",
   "execution_count": 5,
   "id": "c731e3c9",
   "metadata": {
    "id": "c731e3c9",
    "outputId": "d238e2e0-a20f-488e-b396-4bd6c444f713"
   },
   "outputs": [],
   "source": [
    "# smf.ols('return_1d ~ Age + In_Office', data = data[['return_1d', 'amount', 'Party']].dropna()).fit().rsquared_adj\n",
    "\n",
    "def make_model(variables):\n",
    "    model_data = data[variables].dropna()\n",
    "    if len(variables) == 1:\n",
    "        formula = variables[0] + ' ~ 1'\n",
    "    else:\n",
    "        formula = variables[0] + ' ~ ' + ' + '.join(variables[1:])\n",
    "    print(formula)\n",
    "    model = smf.ols(formula, data = model_data).fit()\n",
    "    print(model.summary())\n",
    "    return formula, model.rsquared_adj"
   ]
  },
  {
   "cell_type": "code",
   "execution_count": 6,
   "id": "1f0440d2",
   "metadata": {},
   "outputs": [],
   "source": [
    "data = data[data['party'] != 'Libertarian']"
   ]
  },
  {
   "cell_type": "code",
   "execution_count": 7,
   "id": "c41344a8",
   "metadata": {
    "scrolled": false
   },
   "outputs": [],
   "source": [
    "# r2 = {}\n",
    "# for model in models:\n",
    "#     m = make_model(model)\n",
    "#     r2[m[0]] = m[1]\n",
    "\n",
    "# make_model()\n",
    "model1 = ['return_abnormal_1d', 'return_abnormal_prev1d', 'type', 'party', 'age', 'in_office']\n",
    "model2 = ['return_abnormal_1m', 'return_abnormal_prev1m', 'amount_discrete', 'type', 'party', 'age', 'market_cap_discrete'] + committees_high"
   ]
  },
  {
   "cell_type": "code",
   "execution_count": 8,
   "id": "8a361308",
   "metadata": {},
   "outputs": [
    {
     "data": {
      "text/html": [
       "<div>\n",
       "<style scoped>\n",
       "    .dataframe tbody tr th:only-of-type {\n",
       "        vertical-align: middle;\n",
       "    }\n",
       "\n",
       "    .dataframe tbody tr th {\n",
       "        vertical-align: top;\n",
       "    }\n",
       "\n",
       "    .dataframe thead th {\n",
       "        text-align: right;\n",
       "    }\n",
       "</style>\n",
       "<table border=\"1\" class=\"dataframe\">\n",
       "  <thead>\n",
       "    <tr style=\"text-align: right;\">\n",
       "      <th></th>\n",
       "      <th>return_1d</th>\n",
       "    </tr>\n",
       "    <tr>\n",
       "      <th>party</th>\n",
       "      <th></th>\n",
       "    </tr>\n",
       "  </thead>\n",
       "  <tbody>\n",
       "    <tr>\n",
       "      <th>Democratic</th>\n",
       "      <td>3733</td>\n",
       "    </tr>\n",
       "    <tr>\n",
       "      <th>Republican</th>\n",
       "      <td>1726</td>\n",
       "    </tr>\n",
       "  </tbody>\n",
       "</table>\n",
       "</div>"
      ],
      "text/plain": [
       "            return_1d\n",
       "party                \n",
       "Democratic       3733\n",
       "Republican       1726"
      ]
     },
     "execution_count": 8,
     "metadata": {},
     "output_type": "execute_result"
    }
   ],
   "source": [
    "data.pivot_table(index = 'party', values = 'return_1d', aggfunc = 'count')"
   ]
  },
  {
   "cell_type": "code",
   "execution_count": 9,
   "id": "d3728c31",
   "metadata": {
    "scrolled": false
   },
   "outputs": [
    {
     "name": "stdout",
     "output_type": "stream",
     "text": [
      "return_abnormal_1d ~ return_abnormal_prev1d + type + party + age + in_office\n",
      "                            OLS Regression Results                            \n",
      "==============================================================================\n",
      "Dep. Variable:     return_abnormal_1d   R-squared:                       0.005\n",
      "Model:                            OLS   Adj. R-squared:                  0.004\n",
      "Method:                 Least Squares   F-statistic:                     4.976\n",
      "Date:                Tue, 29 Jun 2021   Prob (F-statistic):           0.000150\n",
      "Time:                        12:17:18   Log-Likelihood:                 9966.6\n",
      "No. Observations:                5457   AIC:                        -1.992e+04\n",
      "Df Residuals:                    5451   BIC:                        -1.988e+04\n",
      "Df Model:                           5                                         \n",
      "Covariance Type:            nonrobust                                         \n",
      "==========================================================================================\n",
      "                             coef    std err          t      P>|t|      [0.025      0.975]\n",
      "------------------------------------------------------------------------------------------\n",
      "Intercept                  0.0089      0.003      2.661      0.008       0.002       0.015\n",
      "type[T.Sale]              -0.0031      0.001     -2.888      0.004      -0.005      -0.001\n",
      "party[T.Republican]       -0.0009      0.001     -0.746      0.456      -0.003       0.001\n",
      "return_abnormal_prev1d     0.0166      0.013      1.281      0.200      -0.009       0.042\n",
      "age                       -0.0002   6.04e-05     -2.974      0.003      -0.000   -6.12e-05\n",
      "in_office                  0.0004      0.000      3.867      0.000       0.000       0.001\n",
      "==============================================================================\n",
      "Omnibus:                     2961.189   Durbin-Watson:                   1.749\n",
      "Prob(Omnibus):                  0.000   Jarque-Bera (JB):           400688.232\n",
      "Skew:                           1.586   Prob(JB):                         0.00\n",
      "Kurtosis:                      44.859   Cond. No.                     1.49e+03\n",
      "==============================================================================\n",
      "\n",
      "Notes:\n",
      "[1] Standard Errors assume that the covariance matrix of the errors is correctly specified.\n",
      "[2] The condition number is large, 1.49e+03. This might indicate that there are\n",
      "strong multicollinearity or other numerical problems.\n",
      "return_abnormal_1d ~ return_abnormal_prev1d + type + party + age + in_office + agriculture + appropriations + energy_and_commerce + financial_services + natural_resources + science_space_and_technology + transportation_and_infrastructure\n",
      "                            OLS Regression Results                            \n",
      "==============================================================================\n",
      "Dep. Variable:     return_abnormal_1d   R-squared:                       0.008\n",
      "Model:                            OLS   Adj. R-squared:                  0.006\n",
      "Method:                 Least Squares   F-statistic:                     3.691\n",
      "Date:                Tue, 29 Jun 2021   Prob (F-statistic):           1.44e-05\n",
      "Time:                        12:17:18   Log-Likelihood:                 9976.3\n",
      "No. Observations:                5457   AIC:                        -1.993e+04\n",
      "Df Residuals:                    5444   BIC:                        -1.984e+04\n",
      "Df Model:                          12                                         \n",
      "Covariance Type:            nonrobust                                         \n",
      "=====================================================================================================\n",
      "                                        coef    std err          t      P>|t|      [0.025      0.975]\n",
      "-----------------------------------------------------------------------------------------------------\n",
      "Intercept                             0.0042      0.004      1.019      0.308      -0.004       0.012\n",
      "type[T.Sale]                         -0.0026      0.001     -2.375      0.018      -0.005      -0.000\n",
      "party[T.Republican]                  -0.0017      0.001     -1.296      0.195      -0.004       0.001\n",
      "return_abnormal_prev1d                0.0150      0.013      1.161      0.246      -0.010       0.040\n",
      "age                               -8.722e-05   7.72e-05     -1.130      0.258      -0.000    6.41e-05\n",
      "in_office                             0.0003      0.000      2.913      0.004       0.000       0.001\n",
      "agriculture                           0.0028      0.003      1.042      0.298      -0.002       0.008\n",
      "appropriations                        0.0010      0.002      0.582      0.561      -0.002       0.004\n",
      "energy_and_commerce                  -0.0013      0.002     -0.575      0.565      -0.006       0.003\n",
      "financial_services                -2.441e-05      0.002     -0.012      0.990      -0.004       0.004\n",
      "natural_resources                     0.0018      0.002      0.800      0.424      -0.003       0.006\n",
      "science_space_and_technology          0.0002      0.002      0.136      0.892      -0.003       0.004\n",
      "transportation_and_infrastructure    -0.0094      0.003     -3.684      0.000      -0.014      -0.004\n",
      "==============================================================================\n",
      "Omnibus:                     2994.552   Durbin-Watson:                   1.755\n",
      "Prob(Omnibus):                  0.000   Jarque-Bera (JB):           405097.081\n",
      "Skew:                           1.618   Prob(JB):                         0.00\n",
      "Kurtosis:                      45.085   Cond. No.                     1.49e+03\n",
      "==============================================================================\n",
      "\n",
      "Notes:\n",
      "[1] Standard Errors assume that the covariance matrix of the errors is correctly specified.\n",
      "[2] The condition number is large, 1.49e+03. This might indicate that there are\n",
      "strong multicollinearity or other numerical problems.\n",
      "return_abnormal_1m ~ return_abnormal_prev1m + amount_discrete + type + party + age + market_cap_discrete + agriculture + appropriations + energy_and_commerce + financial_services + natural_resources + science_space_and_technology + transportation_and_infrastructure\n",
      "                            OLS Regression Results                            \n",
      "==============================================================================\n",
      "Dep. Variable:     return_abnormal_1m   R-squared:                       0.030\n",
      "Model:                            OLS   Adj. R-squared:                  0.027\n",
      "Method:                 Least Squares   F-statistic:                     12.11\n",
      "Date:                Tue, 29 Jun 2021   Prob (F-statistic):           1.81e-26\n",
      "Time:                        12:17:18   Log-Likelihood:                 899.43\n",
      "No. Observations:                5144   AIC:                            -1771.\n",
      "Df Residuals:                    5130   BIC:                            -1679.\n",
      "Df Model:                          13                                         \n",
      "Covariance Type:            nonrobust                                         \n",
      "=====================================================================================================\n",
      "                                        coef    std err          t      P>|t|      [0.025      0.975]\n",
      "-----------------------------------------------------------------------------------------------------\n",
      "Intercept                             0.0072      0.021      0.350      0.727      -0.033       0.047\n",
      "type[T.Sale]                         -0.0293      0.006     -4.975      0.000      -0.041      -0.018\n",
      "party[T.Republican]                  -0.0073      0.007     -0.983      0.326      -0.022       0.007\n",
      "return_abnormal_prev1m               -0.0213      0.009     -2.317      0.021      -0.039      -0.003\n",
      "amount_discrete                       0.0038      0.004      0.934      0.350      -0.004       0.012\n",
      "age                                  -0.0006      0.000     -1.797      0.072      -0.001     5.2e-05\n",
      "market_cap_discrete                   0.0034      0.001      2.944      0.003       0.001       0.006\n",
      "agriculture                           0.0056      0.014      0.388      0.698      -0.023       0.034\n",
      "appropriations                        0.0073      0.009      0.801      0.423      -0.011       0.025\n",
      "energy_and_commerce                   0.0212      0.012      1.791      0.073      -0.002       0.044\n",
      "financial_services                   -0.0023      0.011     -0.220      0.826      -0.023       0.019\n",
      "natural_resources                    -0.0069      0.012     -0.577      0.564      -0.030       0.016\n",
      "science_space_and_technology          0.0204      0.010      2.087      0.037       0.001       0.039\n",
      "transportation_and_infrastructure    -0.0804      0.014     -5.786      0.000      -0.108      -0.053\n",
      "==============================================================================\n",
      "Omnibus:                     2621.670   Durbin-Watson:                   1.782\n",
      "Prob(Omnibus):                  0.000   Jarque-Bera (JB):         13127239.191\n",
      "Skew:                          -0.582   Prob(JB):                         0.00\n",
      "Kurtosis:                     250.478   Cond. No.                         466.\n",
      "==============================================================================\n",
      "\n",
      "Notes:\n",
      "[1] Standard Errors assume that the covariance matrix of the errors is correctly specified.\n"
     ]
    },
    {
     "data": {
      "text/plain": [
       "('return_abnormal_1m ~ return_abnormal_prev1m + amount_discrete + type + party + age + market_cap_discrete + agriculture + appropriations + energy_and_commerce + financial_services + natural_resources + science_space_and_technology + transportation_and_infrastructure',\n",
       " 0.02731842199054968)"
      ]
     },
     "execution_count": 9,
     "metadata": {},
     "output_type": "execute_result"
    }
   ],
   "source": [
    "make_model(model1)\n",
    "make_model(model1 + committees_high)\n",
    "make_model(model2)"
   ]
  },
  {
   "cell_type": "code",
   "execution_count": null,
   "id": "07df3feb",
   "metadata": {},
   "outputs": [],
   "source": []
  }
 ],
 "metadata": {
  "colab": {
   "name": "Elbert-Regression.ipynb",
   "provenance": []
  },
  "kernelspec": {
   "display_name": "Python 3",
   "language": "python",
   "name": "python3"
  },
  "language_info": {
   "codemirror_mode": {
    "name": "ipython",
    "version": 3
   },
   "file_extension": ".py",
   "mimetype": "text/x-python",
   "name": "python",
   "nbconvert_exporter": "python",
   "pygments_lexer": "ipython3",
   "version": "3.9.1"
  }
 },
 "nbformat": 4,
 "nbformat_minor": 5
}
