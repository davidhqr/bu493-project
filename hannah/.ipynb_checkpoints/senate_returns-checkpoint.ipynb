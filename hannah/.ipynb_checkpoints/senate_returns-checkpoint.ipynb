{
 "cells": [
  {
   "cell_type": "code",
   "execution_count": 1,
   "id": "mineral-council",
   "metadata": {},
   "outputs": [],
   "source": [
    "import pandas as pd\n",
    "from datetime import timedelta\n",
    "import matplotlib.pyplot as plt\n",
    "import plotly.express as px"
   ]
  },
  {
   "cell_type": "code",
   "execution_count": 2,
   "id": "intellectual-obligation",
   "metadata": {},
   "outputs": [
    {
     "data": {
      "text/html": [
       "<div>\n",
       "<style scoped>\n",
       "    .dataframe tbody tr th:only-of-type {\n",
       "        vertical-align: middle;\n",
       "    }\n",
       "\n",
       "    .dataframe tbody tr th {\n",
       "        vertical-align: top;\n",
       "    }\n",
       "\n",
       "    .dataframe thead th {\n",
       "        text-align: right;\n",
       "    }\n",
       "</style>\n",
       "<table border=\"1\" class=\"dataframe\">\n",
       "  <thead>\n",
       "    <tr style=\"text-align: right;\">\n",
       "      <th></th>\n",
       "      <th>transaction_date</th>\n",
       "      <th>owner</th>\n",
       "      <th>ticker_original</th>\n",
       "      <th>asset_description</th>\n",
       "      <th>asset_type</th>\n",
       "      <th>type_detailed</th>\n",
       "      <th>amount</th>\n",
       "      <th>comment</th>\n",
       "      <th>senator</th>\n",
       "      <th>ptr_link</th>\n",
       "      <th>ticker</th>\n",
       "      <th>share_class</th>\n",
       "      <th>type</th>\n",
       "    </tr>\n",
       "  </thead>\n",
       "  <tbody>\n",
       "    <tr>\n",
       "      <th>1074</th>\n",
       "      <td>2020-04-13</td>\n",
       "      <td>Self</td>\n",
       "      <td>AA</td>\n",
       "      <td>Alcoa Corporation</td>\n",
       "      <td>Stock</td>\n",
       "      <td>Sale (Full)</td>\n",
       "      <td>$15,001 - $50,000</td>\n",
       "      <td>--</td>\n",
       "      <td>Kelly Loeffler</td>\n",
       "      <td>https://efdsearch.senate.gov/search/view/ptr/2...</td>\n",
       "      <td>AA</td>\n",
       "      <td>None</td>\n",
       "      <td>Sale</td>\n",
       "    </tr>\n",
       "    <tr>\n",
       "      <th>629</th>\n",
       "      <td>2020-06-04</td>\n",
       "      <td>Spouse</td>\n",
       "      <td>AAL</td>\n",
       "      <td>American Airlines Group Inc.</td>\n",
       "      <td>Stock</td>\n",
       "      <td>Purchase</td>\n",
       "      <td>$1,001 - $15,000</td>\n",
       "      <td>sep</td>\n",
       "      <td>Pat Roberts</td>\n",
       "      <td>https://efdsearch.senate.gov/search/view/ptr/8...</td>\n",
       "      <td>AAL</td>\n",
       "      <td>None</td>\n",
       "      <td>Purchase</td>\n",
       "    </tr>\n",
       "    <tr>\n",
       "      <th>630</th>\n",
       "      <td>2020-06-04</td>\n",
       "      <td>Spouse</td>\n",
       "      <td>AAL</td>\n",
       "      <td>American Airlines Group Inc.</td>\n",
       "      <td>Stock</td>\n",
       "      <td>Purchase</td>\n",
       "      <td>$1,001 - $15,000</td>\n",
       "      <td>sep</td>\n",
       "      <td>Pat Roberts</td>\n",
       "      <td>https://efdsearch.senate.gov/search/view/ptr/8...</td>\n",
       "      <td>AAL</td>\n",
       "      <td>None</td>\n",
       "      <td>Purchase</td>\n",
       "    </tr>\n",
       "    <tr>\n",
       "      <th>632</th>\n",
       "      <td>2020-06-30</td>\n",
       "      <td>Spouse</td>\n",
       "      <td>AAL</td>\n",
       "      <td>American Airlines Group Inc.</td>\n",
       "      <td>Stock</td>\n",
       "      <td>Purchase</td>\n",
       "      <td>$1,001 - $15,000</td>\n",
       "      <td>R</td>\n",
       "      <td>Pat Roberts</td>\n",
       "      <td>https://efdsearch.senate.gov/search/view/ptr/8...</td>\n",
       "      <td>AAL</td>\n",
       "      <td>None</td>\n",
       "      <td>Purchase</td>\n",
       "    </tr>\n",
       "    <tr>\n",
       "      <th>530</th>\n",
       "      <td>2020-07-02</td>\n",
       "      <td>Spouse</td>\n",
       "      <td>AAL</td>\n",
       "      <td>American Airlines Group Inc.</td>\n",
       "      <td>Stock</td>\n",
       "      <td>Sale (Full)</td>\n",
       "      <td>$1,001 - $15,000</td>\n",
       "      <td>R</td>\n",
       "      <td>Pat Roberts</td>\n",
       "      <td>https://efdsearch.senate.gov/search/view/ptr/3...</td>\n",
       "      <td>AAL</td>\n",
       "      <td>None</td>\n",
       "      <td>Sale</td>\n",
       "    </tr>\n",
       "    <tr>\n",
       "      <th>...</th>\n",
       "      <td>...</td>\n",
       "      <td>...</td>\n",
       "      <td>...</td>\n",
       "      <td>...</td>\n",
       "      <td>...</td>\n",
       "      <td>...</td>\n",
       "      <td>...</td>\n",
       "      <td>...</td>\n",
       "      <td>...</td>\n",
       "      <td>...</td>\n",
       "      <td>...</td>\n",
       "      <td>...</td>\n",
       "      <td>...</td>\n",
       "    </tr>\n",
       "    <tr>\n",
       "      <th>380</th>\n",
       "      <td>2020-08-18</td>\n",
       "      <td>Spouse</td>\n",
       "      <td>XOM</td>\n",
       "      <td>Exxon Mobil Corporation</td>\n",
       "      <td>Stock</td>\n",
       "      <td>Sale (Full)</td>\n",
       "      <td>$1,001 - $15,000</td>\n",
       "      <td>--</td>\n",
       "      <td>Angus S King, Jr.</td>\n",
       "      <td>https://efdsearch.senate.gov/search/view/ptr/1...</td>\n",
       "      <td>XOM</td>\n",
       "      <td>None</td>\n",
       "      <td>Sale</td>\n",
       "    </tr>\n",
       "    <tr>\n",
       "      <th>452</th>\n",
       "      <td>2020-08-21</td>\n",
       "      <td>Spouse</td>\n",
       "      <td>XOM</td>\n",
       "      <td>Exxon Mobil Corporation</td>\n",
       "      <td>Stock</td>\n",
       "      <td>Sale (Full)</td>\n",
       "      <td>$15,001 - $50,000</td>\n",
       "      <td>--</td>\n",
       "      <td>Ron L Wyden</td>\n",
       "      <td>https://efdsearch.senate.gov/search/view/ptr/3...</td>\n",
       "      <td>XOM</td>\n",
       "      <td>None</td>\n",
       "      <td>Sale</td>\n",
       "    </tr>\n",
       "    <tr>\n",
       "      <th>151</th>\n",
       "      <td>2020-12-31</td>\n",
       "      <td>Spouse</td>\n",
       "      <td>XOM</td>\n",
       "      <td>Exxon Mobil Corporation</td>\n",
       "      <td>Stock</td>\n",
       "      <td>Sale (Full)</td>\n",
       "      <td>$1,001 - $15,000</td>\n",
       "      <td>--</td>\n",
       "      <td>Shelley M Capito</td>\n",
       "      <td>https://efdsearch.senate.gov/search/view/ptr/5...</td>\n",
       "      <td>XOM</td>\n",
       "      <td>None</td>\n",
       "      <td>Sale</td>\n",
       "    </tr>\n",
       "    <tr>\n",
       "      <th>342</th>\n",
       "      <td>2020-09-09</td>\n",
       "      <td>Spouse</td>\n",
       "      <td>ZM</td>\n",
       "      <td>Zoom Video Communications, Inc.</td>\n",
       "      <td>Stock</td>\n",
       "      <td>Purchase</td>\n",
       "      <td>$15,001 - $50,000</td>\n",
       "      <td>R</td>\n",
       "      <td>Pat Roberts</td>\n",
       "      <td>https://efdsearch.senate.gov/search/view/ptr/6...</td>\n",
       "      <td>ZM</td>\n",
       "      <td>None</td>\n",
       "      <td>Purchase</td>\n",
       "    </tr>\n",
       "    <tr>\n",
       "      <th>183</th>\n",
       "      <td>2020-12-02</td>\n",
       "      <td>Spouse</td>\n",
       "      <td>ZM</td>\n",
       "      <td>Zoom Video Communications, Inc.</td>\n",
       "      <td>Stock</td>\n",
       "      <td>Purchase</td>\n",
       "      <td>$15,001 - $50,000</td>\n",
       "      <td>sep</td>\n",
       "      <td>Pat Roberts</td>\n",
       "      <td>https://efdsearch.senate.gov/search/view/ptr/7...</td>\n",
       "      <td>ZM</td>\n",
       "      <td>None</td>\n",
       "      <td>Purchase</td>\n",
       "    </tr>\n",
       "  </tbody>\n",
       "</table>\n",
       "<p>1200 rows × 13 columns</p>\n",
       "</div>"
      ],
      "text/plain": [
       "     transaction_date   owner ticker_original  \\\n",
       "1074       2020-04-13    Self              AA   \n",
       "629        2020-06-04  Spouse             AAL   \n",
       "630        2020-06-04  Spouse             AAL   \n",
       "632        2020-06-30  Spouse             AAL   \n",
       "530        2020-07-02  Spouse             AAL   \n",
       "...               ...     ...             ...   \n",
       "380        2020-08-18  Spouse             XOM   \n",
       "452        2020-08-21  Spouse             XOM   \n",
       "151        2020-12-31  Spouse             XOM   \n",
       "342        2020-09-09  Spouse              ZM   \n",
       "183        2020-12-02  Spouse              ZM   \n",
       "\n",
       "                    asset_description asset_type type_detailed  \\\n",
       "1074                Alcoa Corporation      Stock   Sale (Full)   \n",
       "629      American Airlines Group Inc.      Stock      Purchase   \n",
       "630      American Airlines Group Inc.      Stock      Purchase   \n",
       "632      American Airlines Group Inc.      Stock      Purchase   \n",
       "530      American Airlines Group Inc.      Stock   Sale (Full)   \n",
       "...                               ...        ...           ...   \n",
       "380           Exxon Mobil Corporation      Stock   Sale (Full)   \n",
       "452           Exxon Mobil Corporation      Stock   Sale (Full)   \n",
       "151           Exxon Mobil Corporation      Stock   Sale (Full)   \n",
       "342   Zoom Video Communications, Inc.      Stock      Purchase   \n",
       "183   Zoom Video Communications, Inc.      Stock      Purchase   \n",
       "\n",
       "                 amount comment            senator  \\\n",
       "1074  $15,001 - $50,000      --     Kelly Loeffler   \n",
       "629    $1,001 - $15,000     sep        Pat Roberts   \n",
       "630    $1,001 - $15,000     sep        Pat Roberts   \n",
       "632    $1,001 - $15,000       R        Pat Roberts   \n",
       "530    $1,001 - $15,000       R        Pat Roberts   \n",
       "...                 ...     ...                ...   \n",
       "380    $1,001 - $15,000      --  Angus S King, Jr.   \n",
       "452   $15,001 - $50,000      --        Ron L Wyden   \n",
       "151    $1,001 - $15,000      --   Shelley M Capito   \n",
       "342   $15,001 - $50,000       R        Pat Roberts   \n",
       "183   $15,001 - $50,000     sep        Pat Roberts   \n",
       "\n",
       "                                               ptr_link ticker share_class  \\\n",
       "1074  https://efdsearch.senate.gov/search/view/ptr/2...     AA        None   \n",
       "629   https://efdsearch.senate.gov/search/view/ptr/8...    AAL        None   \n",
       "630   https://efdsearch.senate.gov/search/view/ptr/8...    AAL        None   \n",
       "632   https://efdsearch.senate.gov/search/view/ptr/8...    AAL        None   \n",
       "530   https://efdsearch.senate.gov/search/view/ptr/3...    AAL        None   \n",
       "...                                                 ...    ...         ...   \n",
       "380   https://efdsearch.senate.gov/search/view/ptr/1...    XOM        None   \n",
       "452   https://efdsearch.senate.gov/search/view/ptr/3...    XOM        None   \n",
       "151   https://efdsearch.senate.gov/search/view/ptr/5...    XOM        None   \n",
       "342   https://efdsearch.senate.gov/search/view/ptr/6...     ZM        None   \n",
       "183   https://efdsearch.senate.gov/search/view/ptr/7...     ZM        None   \n",
       "\n",
       "          type  \n",
       "1074      Sale  \n",
       "629   Purchase  \n",
       "630   Purchase  \n",
       "632   Purchase  \n",
       "530       Sale  \n",
       "...        ...  \n",
       "380       Sale  \n",
       "452       Sale  \n",
       "151       Sale  \n",
       "342   Purchase  \n",
       "183   Purchase  \n",
       "\n",
       "[1200 rows x 13 columns]"
      ]
     },
     "execution_count": 2,
     "metadata": {},
     "output_type": "execute_result"
    }
   ],
   "source": [
    "senate_transactions = pd.read_csv('senate_transactions.csv', parse_dates = [0])\n",
    "senate_transactions.dropna(subset=['ticker'], inplace=True)\n",
    "senate_transactions = senate_transactions[senate_transactions['ticker'] != '--']\n",
    "senate_transactions = senate_transactions[senate_transactions['asset_type'] == 'Stock']\n",
    "senate_transactions = senate_transactions[senate_transactions['type'] != 'Exchange']\n",
    "senate_transactions = senate_transactions[senate_transactions['transaction_date'].dt.year == 2020]\n",
    "senate_transactions.rename(columns={'ticker': 'ticker_original', 'type': 'type_detailed'}, inplace=True)\n",
    "original_tickers = senate_transactions['ticker_original']\n",
    "senate_transactions['ticker'] = [t.split(\"-\")[0] if '-' in t else t for t in original_tickers]\n",
    "senate_transactions['share_class'] = [t.split(\"-\")[1] if '-' in t else None for t in original_tickers]\n",
    "senate_transactions['type'] = senate_transactions.apply(lambda row: 'Purchase' if row['type_detailed'] == 'Purchase' else 'Sale', axis=1)\n",
    "senate_transactions.sort_values(by=['ticker', 'transaction_date'], inplace=True)\n",
    "\n",
    "senate_transactions"
   ]
  },
  {
   "cell_type": "code",
   "execution_count": 3,
   "id": "bound-australian",
   "metadata": {},
   "outputs": [
    {
     "data": {
      "text/plain": [
       "'AA AAL AAPL ABBV ABT ACA ACIW ADM ADP AEP AFL AGCO AGN AIG AIV AIZ AJRD ALB ALL AMAT AMGN AMT AMWD AMZN ANTM APO ARCC ARE ARNA ATVI AVGO AXS AXTA AY AZO BA BABA BAC BAH BAM BAX BBY BERY BFAM BK BKNG BLK BLL BMEZ BMY BOIVF BP BRK BRKR BRY BSTZ BX BYND C CAG CAH CAIFX CARR CAT CB CDLX CEF CEQP CFG CGNX CL CLX CMCSA CME CONE COP COST COUP CR CRSP CRWD CSCO CTSH CTVA CTXS CVS CVX CZR DAL DCP DD DDOG DFS DG DGX DHI DHR DIS DLR DNKN DOCU DOW DPZ DRI DVN DXCM EAF EBAY EEFT EMR ENB ENTG EPD EQM ERIC ET ETY EVOP EXPI EXR F FB FDX FEYE FHB FIS FITB FNKO FOX FOXA FPL FRIAX FTNT GE GEL GILD GIS GLAD GLD GLNCY GLW GM GMAB GOLD GOOG GOOGL GPK GRUB GS HAL HASI HBI HCA HD HELE HIG HON HPQ HQL HUN IBM ICE ILMN INTC INTU IPHI IRBT IRM JCI JD JNJ JPM K KEY KEYS KHC KL KLAC KMI KNX KO KR KSS LDP LGF LGI LHX LLY LMRK LMT LNG LOW LULU LYV M MA MANT MAR MAXR MCD MDLZ MDT MET MMM MMP MO MPC MPLX MPW MRK MRVL MSFT MSM MTCH MU NFLX NKE NKLA NNVC NOC NSC NTAP NTLA NUAN NVAX NVDA NVO NWS NWSA OHI OKE ORCL ORLY OSK OTIS OXY PAA PAAS PAGP PAGS PBA PEP PFE PG PII PKG PLD PLUG PM PODD PRU PSA PSX PSXP PYPL QCOM QSR RDS REZI RF RIO RL RMD ROKU ROST RPM RTN RTX SAP SBUX SHLX SI SIEGY SLB SNPS SO SOJA SPOT SQ STT STX STZ SU SUN SWKS SYK SYY T TCEHY TCP TDG TEL TEX TFC TGT TJX TMO TRGP TRIP TROW TRP TRV TSLA TSN TT TXN UBER UHAL UN UNH UPS URBN URI USB UTX V VAC VFC VIAC VIAV VMC VOD VTR VTRS VWO VZ W WDAY WDC WES WFC WIW WM WMB WMT WPX WW XOM ZM'"
      ]
     },
     "execution_count": 3,
     "metadata": {},
     "output_type": "execute_result"
    }
   ],
   "source": [
    "' '.join(senate_transactions['ticker'].unique())"
   ]
  },
  {
   "cell_type": "code",
   "execution_count": 4,
   "id": "together-kitchen",
   "metadata": {},
   "outputs": [
    {
     "name": "stderr",
     "output_type": "stream",
     "text": [
      "/Library/Frameworks/Python.framework/Versions/3.9/lib/python3.9/site-packages/IPython/core/interactiveshell.py:3169: DtypeWarning: Columns (3,12,17) have mixed types.Specify dtype option on import or set low_memory=False.\n",
      "  has_raised = await self.run_ast_nodes(code_ast.body, cell_name,\n"
     ]
    },
    {
     "data": {
      "text/html": [
       "<div>\n",
       "<style scoped>\n",
       "    .dataframe tbody tr th:only-of-type {\n",
       "        vertical-align: middle;\n",
       "    }\n",
       "\n",
       "    .dataframe tbody tr th {\n",
       "        vertical-align: top;\n",
       "    }\n",
       "\n",
       "    .dataframe thead th {\n",
       "        text-align: right;\n",
       "    }\n",
       "</style>\n",
       "<table border=\"1\" class=\"dataframe\">\n",
       "  <thead>\n",
       "    <tr style=\"text-align: right;\">\n",
       "      <th></th>\n",
       "      <th>PERMNO</th>\n",
       "      <th>date</th>\n",
       "      <th>SHRCD</th>\n",
       "      <th>SICCD</th>\n",
       "      <th>TICKER</th>\n",
       "      <th>COMNAM</th>\n",
       "      <th>SHRCLS</th>\n",
       "      <th>HSICCD</th>\n",
       "      <th>BIDLO</th>\n",
       "      <th>ASKHI</th>\n",
       "      <th>PRC</th>\n",
       "      <th>VOL</th>\n",
       "      <th>RET</th>\n",
       "      <th>BID</th>\n",
       "      <th>ASK</th>\n",
       "      <th>OPENPRC</th>\n",
       "      <th>NUMTRD</th>\n",
       "      <th>RETX</th>\n",
       "    </tr>\n",
       "  </thead>\n",
       "  <tbody>\n",
       "    <tr>\n",
       "      <th>0</th>\n",
       "      <td>10104</td>\n",
       "      <td>2019-01-02</td>\n",
       "      <td>11</td>\n",
       "      <td>7372</td>\n",
       "      <td>ORCL</td>\n",
       "      <td>ORACLE CORP</td>\n",
       "      <td>NaN</td>\n",
       "      <td>7372.0</td>\n",
       "      <td>44.45000</td>\n",
       "      <td>45.34000</td>\n",
       "      <td>45.22000</td>\n",
       "      <td>14320441.0</td>\n",
       "      <td>0.00155</td>\n",
       "      <td>45.20000</td>\n",
       "      <td>45.21000</td>\n",
       "      <td>44.48000</td>\n",
       "      <td>NaN</td>\n",
       "      <td>0.00155</td>\n",
       "    </tr>\n",
       "    <tr>\n",
       "      <th>1</th>\n",
       "      <td>10104</td>\n",
       "      <td>2019-01-03</td>\n",
       "      <td>11</td>\n",
       "      <td>7372</td>\n",
       "      <td>ORCL</td>\n",
       "      <td>ORACLE CORP</td>\n",
       "      <td>NaN</td>\n",
       "      <td>7372.0</td>\n",
       "      <td>44.41000</td>\n",
       "      <td>45.50000</td>\n",
       "      <td>44.78000</td>\n",
       "      <td>19868713.0</td>\n",
       "      <td>-0.00973</td>\n",
       "      <td>44.78000</td>\n",
       "      <td>44.79000</td>\n",
       "      <td>44.75000</td>\n",
       "      <td>NaN</td>\n",
       "      <td>-0.00973</td>\n",
       "    </tr>\n",
       "    <tr>\n",
       "      <th>2</th>\n",
       "      <td>10104</td>\n",
       "      <td>2019-01-04</td>\n",
       "      <td>11</td>\n",
       "      <td>7372</td>\n",
       "      <td>ORCL</td>\n",
       "      <td>ORACLE CORP</td>\n",
       "      <td>NaN</td>\n",
       "      <td>7372.0</td>\n",
       "      <td>45.25000</td>\n",
       "      <td>46.95000</td>\n",
       "      <td>46.71000</td>\n",
       "      <td>20983953.0</td>\n",
       "      <td>0.0431</td>\n",
       "      <td>46.72000</td>\n",
       "      <td>46.73000</td>\n",
       "      <td>45.37000</td>\n",
       "      <td>NaN</td>\n",
       "      <td>0.0431</td>\n",
       "    </tr>\n",
       "    <tr>\n",
       "      <th>3</th>\n",
       "      <td>10104</td>\n",
       "      <td>2019-01-07</td>\n",
       "      <td>11</td>\n",
       "      <td>7372</td>\n",
       "      <td>ORCL</td>\n",
       "      <td>ORACLE CORP</td>\n",
       "      <td>NaN</td>\n",
       "      <td>7372.0</td>\n",
       "      <td>46.47000</td>\n",
       "      <td>48.10500</td>\n",
       "      <td>47.45000</td>\n",
       "      <td>17967907.0</td>\n",
       "      <td>0.015842</td>\n",
       "      <td>47.45000</td>\n",
       "      <td>47.46000</td>\n",
       "      <td>46.93000</td>\n",
       "      <td>NaN</td>\n",
       "      <td>0.015842</td>\n",
       "    </tr>\n",
       "    <tr>\n",
       "      <th>4</th>\n",
       "      <td>10104</td>\n",
       "      <td>2019-01-08</td>\n",
       "      <td>11</td>\n",
       "      <td>7372</td>\n",
       "      <td>ORCL</td>\n",
       "      <td>ORACLE CORP</td>\n",
       "      <td>NaN</td>\n",
       "      <td>7372.0</td>\n",
       "      <td>47.20000</td>\n",
       "      <td>48.36000</td>\n",
       "      <td>47.88000</td>\n",
       "      <td>16255688.0</td>\n",
       "      <td>0.009062</td>\n",
       "      <td>47.88000</td>\n",
       "      <td>47.89000</td>\n",
       "      <td>47.93000</td>\n",
       "      <td>NaN</td>\n",
       "      <td>0.009062</td>\n",
       "    </tr>\n",
       "    <tr>\n",
       "      <th>...</th>\n",
       "      <td>...</td>\n",
       "      <td>...</td>\n",
       "      <td>...</td>\n",
       "      <td>...</td>\n",
       "      <td>...</td>\n",
       "      <td>...</td>\n",
       "      <td>...</td>\n",
       "      <td>...</td>\n",
       "      <td>...</td>\n",
       "      <td>...</td>\n",
       "      <td>...</td>\n",
       "      <td>...</td>\n",
       "      <td>...</td>\n",
       "      <td>...</td>\n",
       "      <td>...</td>\n",
       "      <td>...</td>\n",
       "      <td>...</td>\n",
       "      <td>...</td>\n",
       "    </tr>\n",
       "    <tr>\n",
       "      <th>172531</th>\n",
       "      <td>93436</td>\n",
       "      <td>2020-12-24</td>\n",
       "      <td>11</td>\n",
       "      <td>9999</td>\n",
       "      <td>TSLA</td>\n",
       "      <td>TESLA INC</td>\n",
       "      <td>NaN</td>\n",
       "      <td>9999.0</td>\n",
       "      <td>641.00000</td>\n",
       "      <td>666.09003</td>\n",
       "      <td>661.77002</td>\n",
       "      <td>22813214.0</td>\n",
       "      <td>0.024444</td>\n",
       "      <td>661.62000</td>\n",
       "      <td>661.78003</td>\n",
       "      <td>642.98999</td>\n",
       "      <td>465870.0</td>\n",
       "      <td>0.024444</td>\n",
       "    </tr>\n",
       "    <tr>\n",
       "      <th>172532</th>\n",
       "      <td>93436</td>\n",
       "      <td>2020-12-28</td>\n",
       "      <td>11</td>\n",
       "      <td>9999</td>\n",
       "      <td>TSLA</td>\n",
       "      <td>TESLA INC</td>\n",
       "      <td>NaN</td>\n",
       "      <td>9999.0</td>\n",
       "      <td>660.79999</td>\n",
       "      <td>681.40002</td>\n",
       "      <td>663.69000</td>\n",
       "      <td>32232732.0</td>\n",
       "      <td>0.002901</td>\n",
       "      <td>663.59998</td>\n",
       "      <td>663.77002</td>\n",
       "      <td>674.51001</td>\n",
       "      <td>631681.0</td>\n",
       "      <td>0.002901</td>\n",
       "    </tr>\n",
       "    <tr>\n",
       "      <th>172533</th>\n",
       "      <td>93436</td>\n",
       "      <td>2020-12-29</td>\n",
       "      <td>11</td>\n",
       "      <td>9999</td>\n",
       "      <td>TSLA</td>\n",
       "      <td>TESLA INC</td>\n",
       "      <td>NaN</td>\n",
       "      <td>9999.0</td>\n",
       "      <td>655.00000</td>\n",
       "      <td>669.90002</td>\n",
       "      <td>665.98999</td>\n",
       "      <td>22867542.0</td>\n",
       "      <td>0.003465</td>\n",
       "      <td>665.82001</td>\n",
       "      <td>665.97998</td>\n",
       "      <td>661.00000</td>\n",
       "      <td>466884.0</td>\n",
       "      <td>0.003465</td>\n",
       "    </tr>\n",
       "    <tr>\n",
       "      <th>172534</th>\n",
       "      <td>93436</td>\n",
       "      <td>2020-12-30</td>\n",
       "      <td>11</td>\n",
       "      <td>9999</td>\n",
       "      <td>TSLA</td>\n",
       "      <td>TESLA INC</td>\n",
       "      <td>NaN</td>\n",
       "      <td>9999.0</td>\n",
       "      <td>668.36029</td>\n",
       "      <td>696.59998</td>\n",
       "      <td>694.78003</td>\n",
       "      <td>42766263.0</td>\n",
       "      <td>0.043229</td>\n",
       "      <td>694.64001</td>\n",
       "      <td>694.78003</td>\n",
       "      <td>672.00000</td>\n",
       "      <td>767565.0</td>\n",
       "      <td>0.043229</td>\n",
       "    </tr>\n",
       "    <tr>\n",
       "      <th>172535</th>\n",
       "      <td>93436</td>\n",
       "      <td>2020-12-31</td>\n",
       "      <td>11</td>\n",
       "      <td>9999</td>\n",
       "      <td>TSLA</td>\n",
       "      <td>TESLA INC</td>\n",
       "      <td>NaN</td>\n",
       "      <td>9999.0</td>\n",
       "      <td>691.12000</td>\n",
       "      <td>718.71997</td>\n",
       "      <td>705.66998</td>\n",
       "      <td>49544141.0</td>\n",
       "      <td>0.015674</td>\n",
       "      <td>705.21002</td>\n",
       "      <td>705.50000</td>\n",
       "      <td>699.98999</td>\n",
       "      <td>917115.0</td>\n",
       "      <td>0.015674</td>\n",
       "    </tr>\n",
       "  </tbody>\n",
       "</table>\n",
       "<p>172536 rows × 18 columns</p>\n",
       "</div>"
      ],
      "text/plain": [
       "        PERMNO       date  SHRCD SICCD TICKER       COMNAM SHRCLS  HSICCD  \\\n",
       "0        10104 2019-01-02     11  7372   ORCL  ORACLE CORP    NaN  7372.0   \n",
       "1        10104 2019-01-03     11  7372   ORCL  ORACLE CORP    NaN  7372.0   \n",
       "2        10104 2019-01-04     11  7372   ORCL  ORACLE CORP    NaN  7372.0   \n",
       "3        10104 2019-01-07     11  7372   ORCL  ORACLE CORP    NaN  7372.0   \n",
       "4        10104 2019-01-08     11  7372   ORCL  ORACLE CORP    NaN  7372.0   \n",
       "...        ...        ...    ...   ...    ...          ...    ...     ...   \n",
       "172531   93436 2020-12-24     11  9999   TSLA    TESLA INC    NaN  9999.0   \n",
       "172532   93436 2020-12-28     11  9999   TSLA    TESLA INC    NaN  9999.0   \n",
       "172533   93436 2020-12-29     11  9999   TSLA    TESLA INC    NaN  9999.0   \n",
       "172534   93436 2020-12-30     11  9999   TSLA    TESLA INC    NaN  9999.0   \n",
       "172535   93436 2020-12-31     11  9999   TSLA    TESLA INC    NaN  9999.0   \n",
       "\n",
       "            BIDLO      ASKHI        PRC         VOL       RET        BID  \\\n",
       "0        44.45000   45.34000   45.22000  14320441.0   0.00155   45.20000   \n",
       "1        44.41000   45.50000   44.78000  19868713.0  -0.00973   44.78000   \n",
       "2        45.25000   46.95000   46.71000  20983953.0    0.0431   46.72000   \n",
       "3        46.47000   48.10500   47.45000  17967907.0  0.015842   47.45000   \n",
       "4        47.20000   48.36000   47.88000  16255688.0  0.009062   47.88000   \n",
       "...           ...        ...        ...         ...       ...        ...   \n",
       "172531  641.00000  666.09003  661.77002  22813214.0  0.024444  661.62000   \n",
       "172532  660.79999  681.40002  663.69000  32232732.0  0.002901  663.59998   \n",
       "172533  655.00000  669.90002  665.98999  22867542.0  0.003465  665.82001   \n",
       "172534  668.36029  696.59998  694.78003  42766263.0  0.043229  694.64001   \n",
       "172535  691.12000  718.71997  705.66998  49544141.0  0.015674  705.21002   \n",
       "\n",
       "              ASK    OPENPRC    NUMTRD      RETX  \n",
       "0        45.21000   44.48000       NaN   0.00155  \n",
       "1        44.79000   44.75000       NaN  -0.00973  \n",
       "2        46.73000   45.37000       NaN    0.0431  \n",
       "3        47.46000   46.93000       NaN  0.015842  \n",
       "4        47.89000   47.93000       NaN  0.009062  \n",
       "...           ...        ...       ...       ...  \n",
       "172531  661.78003  642.98999  465870.0  0.024444  \n",
       "172532  663.77002  674.51001  631681.0  0.002901  \n",
       "172533  665.97998  661.00000  466884.0  0.003465  \n",
       "172534  694.78003  672.00000  767565.0  0.043229  \n",
       "172535  705.50000  699.98999  917115.0  0.015674  \n",
       "\n",
       "[172536 rows x 18 columns]"
      ]
     },
     "execution_count": 4,
     "metadata": {},
     "output_type": "execute_result"
    }
   ],
   "source": [
    "senate_stocks = pd.read_csv('senate_stocks.csv', parse_dates=[1])\n",
    "senate_stocks['PRC'] = senate_stocks['PRC'].abs()\n",
    "senate_stocks"
   ]
  },
  {
   "cell_type": "code",
   "execution_count": 5,
   "id": "advisory-garden",
   "metadata": {},
   "outputs": [],
   "source": [
    "senate_transactions = senate_transactions[senate_transactions['ticker'].isin(senate_stocks['TICKER'].unique())]"
   ]
  },
  {
   "cell_type": "code",
   "execution_count": 6,
   "id": "tough-beauty",
   "metadata": {},
   "outputs": [
    {
     "data": {
      "text/html": [
       "<div>\n",
       "<style scoped>\n",
       "    .dataframe tbody tr th:only-of-type {\n",
       "        vertical-align: middle;\n",
       "    }\n",
       "\n",
       "    .dataframe tbody tr th {\n",
       "        vertical-align: top;\n",
       "    }\n",
       "\n",
       "    .dataframe thead th {\n",
       "        text-align: right;\n",
       "    }\n",
       "</style>\n",
       "<table border=\"1\" class=\"dataframe\">\n",
       "  <thead>\n",
       "    <tr style=\"text-align: right;\">\n",
       "      <th></th>\n",
       "      <th>vwretd</th>\n",
       "      <th>vwretx</th>\n",
       "      <th>ewretd</th>\n",
       "      <th>ewretx</th>\n",
       "      <th>totval</th>\n",
       "      <th>totcnt</th>\n",
       "      <th>usdval</th>\n",
       "      <th>usdcnt</th>\n",
       "      <th>spindx</th>\n",
       "      <th>sprtrn</th>\n",
       "    </tr>\n",
       "  </thead>\n",
       "  <tbody>\n",
       "    <tr>\n",
       "      <th>2019-12-02</th>\n",
       "      <td>-0.008588</td>\n",
       "      <td>-0.008620</td>\n",
       "      <td>-0.008306</td>\n",
       "      <td>-0.008362</td>\n",
       "      <td>26829950300</td>\n",
       "      <td>505</td>\n",
       "      <td>27063281400</td>\n",
       "      <td>505</td>\n",
       "      <td>3113.87</td>\n",
       "      <td>-0.008631</td>\n",
       "    </tr>\n",
       "    <tr>\n",
       "      <th>2019-12-03</th>\n",
       "      <td>-0.006563</td>\n",
       "      <td>-0.006595</td>\n",
       "      <td>-0.008242</td>\n",
       "      <td>-0.008301</td>\n",
       "      <td>26653014700</td>\n",
       "      <td>505</td>\n",
       "      <td>26829950300</td>\n",
       "      <td>505</td>\n",
       "      <td>3093.20</td>\n",
       "      <td>-0.006638</td>\n",
       "    </tr>\n",
       "    <tr>\n",
       "      <th>2019-12-04</th>\n",
       "      <td>0.006336</td>\n",
       "      <td>0.006233</td>\n",
       "      <td>0.007800</td>\n",
       "      <td>0.007729</td>\n",
       "      <td>26819640300</td>\n",
       "      <td>505</td>\n",
       "      <td>26653014700</td>\n",
       "      <td>505</td>\n",
       "      <td>3112.76</td>\n",
       "      <td>0.006324</td>\n",
       "    </tr>\n",
       "    <tr>\n",
       "      <th>2019-12-05</th>\n",
       "      <td>0.001732</td>\n",
       "      <td>0.001427</td>\n",
       "      <td>0.001703</td>\n",
       "      <td>0.001449</td>\n",
       "      <td>26870497000</td>\n",
       "      <td>505</td>\n",
       "      <td>26823599100</td>\n",
       "      <td>505</td>\n",
       "      <td>3117.43</td>\n",
       "      <td>0.001500</td>\n",
       "    </tr>\n",
       "    <tr>\n",
       "      <th>2019-12-06</th>\n",
       "      <td>0.009108</td>\n",
       "      <td>0.009062</td>\n",
       "      <td>0.009213</td>\n",
       "      <td>0.009175</td>\n",
       "      <td>27113952600</td>\n",
       "      <td>505</td>\n",
       "      <td>26870497000</td>\n",
       "      <td>505</td>\n",
       "      <td>3145.91</td>\n",
       "      <td>0.009136</td>\n",
       "    </tr>\n",
       "    <tr>\n",
       "      <th>...</th>\n",
       "      <td>...</td>\n",
       "      <td>...</td>\n",
       "      <td>...</td>\n",
       "      <td>...</td>\n",
       "      <td>...</td>\n",
       "      <td>...</td>\n",
       "      <td>...</td>\n",
       "      <td>...</td>\n",
       "      <td>...</td>\n",
       "      <td>...</td>\n",
       "    </tr>\n",
       "    <tr>\n",
       "      <th>2020-12-24</th>\n",
       "      <td>0.003623</td>\n",
       "      <td>0.003520</td>\n",
       "      <td>0.002365</td>\n",
       "      <td>0.002262</td>\n",
       "      <td>32690302800</td>\n",
       "      <td>505</td>\n",
       "      <td>32575644000</td>\n",
       "      <td>505</td>\n",
       "      <td>3703.06</td>\n",
       "      <td>0.003537</td>\n",
       "    </tr>\n",
       "    <tr>\n",
       "      <th>2020-12-28</th>\n",
       "      <td>0.008938</td>\n",
       "      <td>0.008938</td>\n",
       "      <td>0.002918</td>\n",
       "      <td>0.002918</td>\n",
       "      <td>32982474500</td>\n",
       "      <td>505</td>\n",
       "      <td>32690302800</td>\n",
       "      <td>505</td>\n",
       "      <td>3735.36</td>\n",
       "      <td>0.008723</td>\n",
       "    </tr>\n",
       "    <tr>\n",
       "      <th>2020-12-29</th>\n",
       "      <td>-0.002240</td>\n",
       "      <td>-0.002240</td>\n",
       "      <td>-0.004992</td>\n",
       "      <td>-0.004992</td>\n",
       "      <td>32908586800</td>\n",
       "      <td>505</td>\n",
       "      <td>32982474500</td>\n",
       "      <td>505</td>\n",
       "      <td>3727.04</td>\n",
       "      <td>-0.002227</td>\n",
       "    </tr>\n",
       "    <tr>\n",
       "      <th>2020-12-30</th>\n",
       "      <td>0.001475</td>\n",
       "      <td>0.001364</td>\n",
       "      <td>0.006731</td>\n",
       "      <td>0.006487</td>\n",
       "      <td>32953469800</td>\n",
       "      <td>505</td>\n",
       "      <td>32908586800</td>\n",
       "      <td>505</td>\n",
       "      <td>3732.04</td>\n",
       "      <td>0.001342</td>\n",
       "    </tr>\n",
       "    <tr>\n",
       "      <th>2020-12-31</th>\n",
       "      <td>0.006367</td>\n",
       "      <td>0.006290</td>\n",
       "      <td>0.007515</td>\n",
       "      <td>0.007359</td>\n",
       "      <td>33161225600</td>\n",
       "      <td>505</td>\n",
       "      <td>32953469800</td>\n",
       "      <td>505</td>\n",
       "      <td>3756.07</td>\n",
       "      <td>0.006439</td>\n",
       "    </tr>\n",
       "  </tbody>\n",
       "</table>\n",
       "<p>274 rows × 10 columns</p>\n",
       "</div>"
      ],
      "text/plain": [
       "              vwretd    vwretx    ewretd    ewretx       totval  totcnt  \\\n",
       "2019-12-02 -0.008588 -0.008620 -0.008306 -0.008362  26829950300     505   \n",
       "2019-12-03 -0.006563 -0.006595 -0.008242 -0.008301  26653014700     505   \n",
       "2019-12-04  0.006336  0.006233  0.007800  0.007729  26819640300     505   \n",
       "2019-12-05  0.001732  0.001427  0.001703  0.001449  26870497000     505   \n",
       "2019-12-06  0.009108  0.009062  0.009213  0.009175  27113952600     505   \n",
       "...              ...       ...       ...       ...          ...     ...   \n",
       "2020-12-24  0.003623  0.003520  0.002365  0.002262  32690302800     505   \n",
       "2020-12-28  0.008938  0.008938  0.002918  0.002918  32982474500     505   \n",
       "2020-12-29 -0.002240 -0.002240 -0.004992 -0.004992  32908586800     505   \n",
       "2020-12-30  0.001475  0.001364  0.006731  0.006487  32953469800     505   \n",
       "2020-12-31  0.006367  0.006290  0.007515  0.007359  33161225600     505   \n",
       "\n",
       "                 usdval  usdcnt   spindx    sprtrn  \n",
       "2019-12-02  27063281400     505  3113.87 -0.008631  \n",
       "2019-12-03  26829950300     505  3093.20 -0.006638  \n",
       "2019-12-04  26653014700     505  3112.76  0.006324  \n",
       "2019-12-05  26823599100     505  3117.43  0.001500  \n",
       "2019-12-06  26870497000     505  3145.91  0.009136  \n",
       "...                 ...     ...      ...       ...  \n",
       "2020-12-24  32575644000     505  3703.06  0.003537  \n",
       "2020-12-28  32690302800     505  3735.36  0.008723  \n",
       "2020-12-29  32982474500     505  3727.04 -0.002227  \n",
       "2020-12-30  32908586800     505  3732.04  0.001342  \n",
       "2020-12-31  32953469800     505  3756.07  0.006439  \n",
       "\n",
       "[274 rows x 10 columns]"
      ]
     },
     "execution_count": 6,
     "metadata": {},
     "output_type": "execute_result"
    }
   ],
   "source": [
    "# index = pd.read_csv('RUSSEL_3000_2020.csv', parse_dates=[0], index_col=0, thousands=r',')\n",
    "index = pd.read_csv('sp500.csv', parse_dates=[0], index_col=0)\n",
    "index"
   ]
  },
  {
   "cell_type": "code",
   "execution_count": 7,
   "id": "283ef36d",
   "metadata": {},
   "outputs": [],
   "source": [
    "senate = senate_transactions.copy()\n",
    "senate.drop(columns=['ticker_original', 'asset_type', 'comment', 'ptr_link'], inplace=True)"
   ]
  },
  {
   "cell_type": "code",
   "execution_count": 8,
   "id": "9e891a53",
   "metadata": {},
   "outputs": [
    {
     "data": {
      "text/plain": [
       "{'$1,000,001 - $5,000,000',\n",
       " '$1,001 - $15,000',\n",
       " '$100,001 - $250,000',\n",
       " '$15,001 - $50,000',\n",
       " '$250,001 - $500,000',\n",
       " '$5,000,001 - $25,000,000',\n",
       " '$50,001 - $100,000'}"
      ]
     },
     "execution_count": 8,
     "metadata": {},
     "output_type": "execute_result"
    }
   ],
   "source": [
    "set(senate.amount)"
   ]
  },
  {
   "cell_type": "code",
   "execution_count": 9,
   "id": "879f27c3",
   "metadata": {},
   "outputs": [],
   "source": [
    "amount_map = {\n",
    "    '$1,001 - $15,000':1,\n",
    "    '$15,001 - $50,000':2,\n",
    "    '$50,001 - $100,000':3,\n",
    "    '$100,001 - $250,000':4,\n",
    "    '$250,001 - $500,000':5,\n",
    "    '$1,000,001 - $5,000,000':6,\n",
    "    '$5,000,001 - $25,000,000':7,\n",
    "}\n",
    "senate['amount_discrete'] = senate['amount'].apply(lambda a: amount_map[a])"
   ]
  },
  {
   "cell_type": "code",
   "execution_count": 10,
   "id": "e89561c0",
   "metadata": {},
   "outputs": [],
   "source": [
    "market_cap = pd.read_csv('MarketCap_Dec31_2020.csv')[['ticker', 'Market Cap']].rename(columns = {'Market Cap':'market_cap'})\n",
    "market_cap['market_cap'] = 1000 * market_cap['market_cap']\n",
    "senate = senate.merge(market_cap, on='ticker')"
   ]
  },
  {
   "cell_type": "code",
   "execution_count": 11,
   "id": "regular-elevation",
   "metadata": {},
   "outputs": [
    {
     "name": "stderr",
     "output_type": "stream",
     "text": [
      "<ipython-input-11-daa188d4c220>:14: SettingWithCopyWarning: \n",
      "A value is trying to be set on a copy of a slice from a DataFrame.\n",
      "Try using .loc[row_indexer,col_indexer] = value instead\n",
      "\n",
      "See the caveats in the documentation: https://pandas.pydata.org/pandas-docs/stable/user_guide/indexing.html#returning-a-view-versus-a-copy\n",
      "  stock_prices['daily_return'] = stock_prices['PRC'].pct_change()\n"
     ]
    }
   ],
   "source": [
    "times = {'1d':1, '5d':5, '1m':22, 'prev1d':-1, 'prev5d':-5, 'prev1m':-22}\n",
    "\n",
    "daily_returns = pd.DataFrame(columns=list(range(-21,23))+['type', 'ticker', 'amount'])\n",
    "\n",
    "prev_ticker = None\n",
    "prev_stock_prices = None\n",
    "\n",
    "for i, tr in senate.iterrows():\n",
    "    stock_prices = prev_stock_prices\n",
    "    if tr['ticker'] != prev_ticker:\n",
    "        stock_prices = senate_stocks[senate_stocks['TICKER'] == tr['ticker']]\n",
    "        if tr['share_class']:\n",
    "            stock_prices = stock_prices[stock_prices['SHRCLS'] == tr['share_class']]\n",
    "        stock_prices['daily_return'] = stock_prices['PRC'].pct_change()\n",
    "        prev_ticker = tr['ticker']\n",
    "        prev_stock_prices = stock_prices\n",
    "        \n",
    "    stock_transaction = stock_prices[stock_prices['date'] == tr['transaction_date']]\n",
    "    if len(stock_transaction) != 1:\n",
    "        continue\n",
    "    idx = stock_transaction.index[0]\n",
    "    index_idx = index.index.get_loc(tr['transaction_date'])\n",
    "    \n",
    "    stock_daily_returns = stock_prices.loc[idx+times['prev1m']+1:idx+times['1m']]['daily_return']\n",
    "    index_daily_returns = index.iloc[index_idx+times['prev1m']+1:index_idx+times['1m']+1]['sprtrn']\n",
    "    if len(stock_daily_returns) == 44 and len(index_daily_returns) == 44:\n",
    "        daily_returns.loc[i] = list(stock_daily_returns.to_numpy() - index_daily_returns.to_numpy()) + [tr['type'], tr['ticker'], tr['amount']]\n",
    "    \n",
    "    for time in times:\n",
    "        type_multiplier = 1 if tr['type'] == 'Purchase' else -1\n",
    "        prev_exponent = 1 if times[time] > 0 else -1\n",
    "        try:\n",
    "            senate.loc[i, 'return_{}'.format(time)] = ((stock_prices.loc[idx+times[time]]['PRC'] / stock_prices.loc[idx]['PRC']) ** prev_exponent - 1) * type_multiplier\n",
    "            senate.loc[i, 'return_index_{}'.format(time)] = ((index.iloc[index_idx+times[time]]['spindx'] / index.iloc[index_idx]['spindx']) ** prev_exponent - 1) * type_multiplier\n",
    "            senate.loc[i, 'return_abnormal_{}'.format(time)] = senate.loc[i, 'return_{}'.format(time)] - senate.loc[i, 'return_index_{}'.format(time)]\n",
    "        except:\n",
    "            pass"
   ]
  },
  {
   "cell_type": "code",
   "execution_count": 12,
   "id": "uniform-plymouth",
   "metadata": {},
   "outputs": [
    {
     "data": {
      "text/html": [
       "<div>\n",
       "<style scoped>\n",
       "    .dataframe tbody tr th:only-of-type {\n",
       "        vertical-align: middle;\n",
       "    }\n",
       "\n",
       "    .dataframe tbody tr th {\n",
       "        vertical-align: top;\n",
       "    }\n",
       "\n",
       "    .dataframe thead th {\n",
       "        text-align: right;\n",
       "    }\n",
       "</style>\n",
       "<table border=\"1\" class=\"dataframe\">\n",
       "  <thead>\n",
       "    <tr style=\"text-align: right;\">\n",
       "      <th></th>\n",
       "      <th>-21</th>\n",
       "      <th>-20</th>\n",
       "      <th>-19</th>\n",
       "      <th>-18</th>\n",
       "      <th>-17</th>\n",
       "      <th>-16</th>\n",
       "      <th>-15</th>\n",
       "      <th>-14</th>\n",
       "      <th>-13</th>\n",
       "      <th>-12</th>\n",
       "      <th>...</th>\n",
       "      <th>16</th>\n",
       "      <th>17</th>\n",
       "      <th>18</th>\n",
       "      <th>19</th>\n",
       "      <th>20</th>\n",
       "      <th>21</th>\n",
       "      <th>22</th>\n",
       "      <th>type</th>\n",
       "      <th>ticker</th>\n",
       "      <th>amount</th>\n",
       "    </tr>\n",
       "  </thead>\n",
       "  <tbody>\n",
       "    <tr>\n",
       "      <th>0</th>\n",
       "      <td>-0.088583</td>\n",
       "      <td>-0.027625</td>\n",
       "      <td>-0.027659</td>\n",
       "      <td>-0.033562</td>\n",
       "      <td>-0.126740</td>\n",
       "      <td>0.009205</td>\n",
       "      <td>-0.016674</td>\n",
       "      <td>0.063966</td>\n",
       "      <td>0.188359</td>\n",
       "      <td>-0.036294</td>\n",
       "      <td>...</td>\n",
       "      <td>-0.007759</td>\n",
       "      <td>-0.005825</td>\n",
       "      <td>-0.040039</td>\n",
       "      <td>0.060565</td>\n",
       "      <td>-0.037352</td>\n",
       "      <td>-0.041232</td>\n",
       "      <td>-0.025061</td>\n",
       "      <td>Sale</td>\n",
       "      <td>AA</td>\n",
       "      <td>$15,001 - $50,000</td>\n",
       "    </tr>\n",
       "    <tr>\n",
       "      <th>1</th>\n",
       "      <td>-0.040609</td>\n",
       "      <td>-0.020361</td>\n",
       "      <td>0.019846</td>\n",
       "      <td>0.046021</td>\n",
       "      <td>-0.004122</td>\n",
       "      <td>-0.024010</td>\n",
       "      <td>-0.038496</td>\n",
       "      <td>-0.007134</td>\n",
       "      <td>-0.015948</td>\n",
       "      <td>0.060313</td>\n",
       "      <td>...</td>\n",
       "      <td>-0.035758</td>\n",
       "      <td>0.061243</td>\n",
       "      <td>-0.034179</td>\n",
       "      <td>-0.024915</td>\n",
       "      <td>-0.028741</td>\n",
       "      <td>0.008118</td>\n",
       "      <td>-0.058712</td>\n",
       "      <td>Purchase</td>\n",
       "      <td>AAL</td>\n",
       "      <td>$1,001 - $15,000</td>\n",
       "    </tr>\n",
       "    <tr>\n",
       "      <th>2</th>\n",
       "      <td>-0.040609</td>\n",
       "      <td>-0.020361</td>\n",
       "      <td>0.019846</td>\n",
       "      <td>0.046021</td>\n",
       "      <td>-0.004122</td>\n",
       "      <td>-0.024010</td>\n",
       "      <td>-0.038496</td>\n",
       "      <td>-0.007134</td>\n",
       "      <td>-0.015948</td>\n",
       "      <td>0.060313</td>\n",
       "      <td>...</td>\n",
       "      <td>-0.035758</td>\n",
       "      <td>0.061243</td>\n",
       "      <td>-0.034179</td>\n",
       "      <td>-0.024915</td>\n",
       "      <td>-0.028741</td>\n",
       "      <td>0.008118</td>\n",
       "      <td>-0.058712</td>\n",
       "      <td>Purchase</td>\n",
       "      <td>AAL</td>\n",
       "      <td>$1,001 - $15,000</td>\n",
       "    </tr>\n",
       "    <tr>\n",
       "      <th>3</th>\n",
       "      <td>0.054344</td>\n",
       "      <td>0.001690</td>\n",
       "      <td>0.042501</td>\n",
       "      <td>0.414339</td>\n",
       "      <td>0.085630</td>\n",
       "      <td>0.080481</td>\n",
       "      <td>-0.078858</td>\n",
       "      <td>-0.077167</td>\n",
       "      <td>-0.096168</td>\n",
       "      <td>0.151056</td>\n",
       "      <td>...</td>\n",
       "      <td>0.048412</td>\n",
       "      <td>-0.026095</td>\n",
       "      <td>-0.007395</td>\n",
       "      <td>0.039836</td>\n",
       "      <td>-0.043864</td>\n",
       "      <td>-0.015548</td>\n",
       "      <td>-0.013037</td>\n",
       "      <td>Purchase</td>\n",
       "      <td>AAL</td>\n",
       "      <td>$1,001 - $15,000</td>\n",
       "    </tr>\n",
       "    <tr>\n",
       "      <th>4</th>\n",
       "      <td>0.042501</td>\n",
       "      <td>0.414339</td>\n",
       "      <td>0.085630</td>\n",
       "      <td>0.080481</td>\n",
       "      <td>-0.078858</td>\n",
       "      <td>-0.077167</td>\n",
       "      <td>-0.096168</td>\n",
       "      <td>0.151056</td>\n",
       "      <td>-0.010701</td>\n",
       "      <td>0.000798</td>\n",
       "      <td>...</td>\n",
       "      <td>-0.007395</td>\n",
       "      <td>0.039836</td>\n",
       "      <td>-0.043864</td>\n",
       "      <td>-0.015548</td>\n",
       "      <td>-0.013037</td>\n",
       "      <td>-0.010778</td>\n",
       "      <td>0.031587</td>\n",
       "      <td>Sale</td>\n",
       "      <td>AAL</td>\n",
       "      <td>$1,001 - $15,000</td>\n",
       "    </tr>\n",
       "    <tr>\n",
       "      <th>...</th>\n",
       "      <td>...</td>\n",
       "      <td>...</td>\n",
       "      <td>...</td>\n",
       "      <td>...</td>\n",
       "      <td>...</td>\n",
       "      <td>...</td>\n",
       "      <td>...</td>\n",
       "      <td>...</td>\n",
       "      <td>...</td>\n",
       "      <td>...</td>\n",
       "      <td>...</td>\n",
       "      <td>...</td>\n",
       "      <td>...</td>\n",
       "      <td>...</td>\n",
       "      <td>...</td>\n",
       "      <td>...</td>\n",
       "      <td>...</td>\n",
       "      <td>...</td>\n",
       "      <td>...</td>\n",
       "      <td>...</td>\n",
       "      <td>...</td>\n",
       "    </tr>\n",
       "    <tr>\n",
       "      <th>1184</th>\n",
       "      <td>-0.067589</td>\n",
       "      <td>0.024615</td>\n",
       "      <td>0.007311</td>\n",
       "      <td>-0.048413</td>\n",
       "      <td>0.034845</td>\n",
       "      <td>-0.005725</td>\n",
       "      <td>-0.010107</td>\n",
       "      <td>0.033040</td>\n",
       "      <td>0.040666</td>\n",
       "      <td>-0.021384</td>\n",
       "      <td>...</td>\n",
       "      <td>-0.011758</td>\n",
       "      <td>-0.005822</td>\n",
       "      <td>0.026980</td>\n",
       "      <td>-0.009705</td>\n",
       "      <td>-0.014874</td>\n",
       "      <td>-0.032174</td>\n",
       "      <td>-0.002701</td>\n",
       "      <td>Sale</td>\n",
       "      <td>XOM</td>\n",
       "      <td>$1,001 - $15,000</td>\n",
       "    </tr>\n",
       "    <tr>\n",
       "      <th>1185</th>\n",
       "      <td>-0.067589</td>\n",
       "      <td>0.024615</td>\n",
       "      <td>0.007311</td>\n",
       "      <td>-0.048413</td>\n",
       "      <td>0.034845</td>\n",
       "      <td>-0.005725</td>\n",
       "      <td>-0.010107</td>\n",
       "      <td>0.033040</td>\n",
       "      <td>0.040666</td>\n",
       "      <td>-0.021384</td>\n",
       "      <td>...</td>\n",
       "      <td>-0.011758</td>\n",
       "      <td>-0.005822</td>\n",
       "      <td>0.026980</td>\n",
       "      <td>-0.009705</td>\n",
       "      <td>-0.014874</td>\n",
       "      <td>-0.032174</td>\n",
       "      <td>-0.002701</td>\n",
       "      <td>Sale</td>\n",
       "      <td>XOM</td>\n",
       "      <td>$50,001 - $100,000</td>\n",
       "    </tr>\n",
       "    <tr>\n",
       "      <th>1186</th>\n",
       "      <td>-0.031845</td>\n",
       "      <td>0.048909</td>\n",
       "      <td>-0.029039</td>\n",
       "      <td>0.014384</td>\n",
       "      <td>0.000012</td>\n",
       "      <td>0.007341</td>\n",
       "      <td>-0.005326</td>\n",
       "      <td>-0.001406</td>\n",
       "      <td>-0.045307</td>\n",
       "      <td>-0.002654</td>\n",
       "      <td>...</td>\n",
       "      <td>-0.007448</td>\n",
       "      <td>-0.003236</td>\n",
       "      <td>-0.019246</td>\n",
       "      <td>-0.015857</td>\n",
       "      <td>0.047078</td>\n",
       "      <td>0.008148</td>\n",
       "      <td>-0.004955</td>\n",
       "      <td>Sale</td>\n",
       "      <td>XOM</td>\n",
       "      <td>$1,001 - $15,000</td>\n",
       "    </tr>\n",
       "    <tr>\n",
       "      <th>1187</th>\n",
       "      <td>0.014384</td>\n",
       "      <td>0.000012</td>\n",
       "      <td>0.007341</td>\n",
       "      <td>-0.005326</td>\n",
       "      <td>-0.001406</td>\n",
       "      <td>-0.045307</td>\n",
       "      <td>-0.002654</td>\n",
       "      <td>-0.003141</td>\n",
       "      <td>0.025264</td>\n",
       "      <td>0.002312</td>\n",
       "      <td>...</td>\n",
       "      <td>-0.015857</td>\n",
       "      <td>0.047078</td>\n",
       "      <td>0.008148</td>\n",
       "      <td>-0.004955</td>\n",
       "      <td>-0.008865</td>\n",
       "      <td>-0.035223</td>\n",
       "      <td>-0.008365</td>\n",
       "      <td>Sale</td>\n",
       "      <td>XOM</td>\n",
       "      <td>$15,001 - $50,000</td>\n",
       "    </tr>\n",
       "    <tr>\n",
       "      <th>1189</th>\n",
       "      <td>-0.036484</td>\n",
       "      <td>-0.067871</td>\n",
       "      <td>0.010588</td>\n",
       "      <td>0.046530</td>\n",
       "      <td>-0.009292</td>\n",
       "      <td>0.084016</td>\n",
       "      <td>0.037712</td>\n",
       "      <td>-0.007482</td>\n",
       "      <td>0.059654</td>\n",
       "      <td>-0.006916</td>\n",
       "      <td>...</td>\n",
       "      <td>0.022105</td>\n",
       "      <td>0.007999</td>\n",
       "      <td>-0.011465</td>\n",
       "      <td>-0.000681</td>\n",
       "      <td>-0.012471</td>\n",
       "      <td>-0.012293</td>\n",
       "      <td>0.020172</td>\n",
       "      <td>Purchase</td>\n",
       "      <td>ZM</td>\n",
       "      <td>$15,001 - $50,000</td>\n",
       "    </tr>\n",
       "  </tbody>\n",
       "</table>\n",
       "<p>1141 rows × 47 columns</p>\n",
       "</div>"
      ],
      "text/plain": [
       "           -21       -20       -19       -18       -17       -16       -15  \\\n",
       "0    -0.088583 -0.027625 -0.027659 -0.033562 -0.126740  0.009205 -0.016674   \n",
       "1    -0.040609 -0.020361  0.019846  0.046021 -0.004122 -0.024010 -0.038496   \n",
       "2    -0.040609 -0.020361  0.019846  0.046021 -0.004122 -0.024010 -0.038496   \n",
       "3     0.054344  0.001690  0.042501  0.414339  0.085630  0.080481 -0.078858   \n",
       "4     0.042501  0.414339  0.085630  0.080481 -0.078858 -0.077167 -0.096168   \n",
       "...        ...       ...       ...       ...       ...       ...       ...   \n",
       "1184 -0.067589  0.024615  0.007311 -0.048413  0.034845 -0.005725 -0.010107   \n",
       "1185 -0.067589  0.024615  0.007311 -0.048413  0.034845 -0.005725 -0.010107   \n",
       "1186 -0.031845  0.048909 -0.029039  0.014384  0.000012  0.007341 -0.005326   \n",
       "1187  0.014384  0.000012  0.007341 -0.005326 -0.001406 -0.045307 -0.002654   \n",
       "1189 -0.036484 -0.067871  0.010588  0.046530 -0.009292  0.084016  0.037712   \n",
       "\n",
       "           -14       -13       -12  ...        16        17        18  \\\n",
       "0     0.063966  0.188359 -0.036294  ... -0.007759 -0.005825 -0.040039   \n",
       "1    -0.007134 -0.015948  0.060313  ... -0.035758  0.061243 -0.034179   \n",
       "2    -0.007134 -0.015948  0.060313  ... -0.035758  0.061243 -0.034179   \n",
       "3    -0.077167 -0.096168  0.151056  ...  0.048412 -0.026095 -0.007395   \n",
       "4     0.151056 -0.010701  0.000798  ... -0.007395  0.039836 -0.043864   \n",
       "...        ...       ...       ...  ...       ...       ...       ...   \n",
       "1184  0.033040  0.040666 -0.021384  ... -0.011758 -0.005822  0.026980   \n",
       "1185  0.033040  0.040666 -0.021384  ... -0.011758 -0.005822  0.026980   \n",
       "1186 -0.001406 -0.045307 -0.002654  ... -0.007448 -0.003236 -0.019246   \n",
       "1187 -0.003141  0.025264  0.002312  ... -0.015857  0.047078  0.008148   \n",
       "1189 -0.007482  0.059654 -0.006916  ...  0.022105  0.007999 -0.011465   \n",
       "\n",
       "            19        20        21        22      type  ticker  \\\n",
       "0     0.060565 -0.037352 -0.041232 -0.025061      Sale      AA   \n",
       "1    -0.024915 -0.028741  0.008118 -0.058712  Purchase     AAL   \n",
       "2    -0.024915 -0.028741  0.008118 -0.058712  Purchase     AAL   \n",
       "3     0.039836 -0.043864 -0.015548 -0.013037  Purchase     AAL   \n",
       "4    -0.015548 -0.013037 -0.010778  0.031587      Sale     AAL   \n",
       "...        ...       ...       ...       ...       ...     ...   \n",
       "1184 -0.009705 -0.014874 -0.032174 -0.002701      Sale     XOM   \n",
       "1185 -0.009705 -0.014874 -0.032174 -0.002701      Sale     XOM   \n",
       "1186 -0.015857  0.047078  0.008148 -0.004955      Sale     XOM   \n",
       "1187 -0.004955 -0.008865 -0.035223 -0.008365      Sale     XOM   \n",
       "1189 -0.000681 -0.012471 -0.012293  0.020172  Purchase      ZM   \n",
       "\n",
       "                  amount  \n",
       "0      $15,001 - $50,000  \n",
       "1       $1,001 - $15,000  \n",
       "2       $1,001 - $15,000  \n",
       "3       $1,001 - $15,000  \n",
       "4       $1,001 - $15,000  \n",
       "...                  ...  \n",
       "1184    $1,001 - $15,000  \n",
       "1185  $50,001 - $100,000  \n",
       "1186    $1,001 - $15,000  \n",
       "1187   $15,001 - $50,000  \n",
       "1189   $15,001 - $50,000  \n",
       "\n",
       "[1141 rows x 47 columns]"
      ]
     },
     "execution_count": 12,
     "metadata": {},
     "output_type": "execute_result"
    }
   ],
   "source": [
    "daily_returns"
   ]
  },
  {
   "cell_type": "code",
   "execution_count": 13,
   "id": "3adb5a59",
   "metadata": {},
   "outputs": [],
   "source": [
    "# def graph(tr_type):\n",
    "#     daily = daily_returns[daily_returns['type'] == tr_type].drop(columns=['type'])\n",
    "#     cumulative = (daily+1).cumprod(axis=1) - 1\n",
    "#     return cumulative.mean() - 1\n",
    "\n",
    "# plt.plot(graph('Purchase'))\n",
    "# plt.plot(graph('Sale'))\n",
    "\n",
    "pd.options.plotting.backend = \"plotly\"\n",
    "\n",
    "def cumulative_returns(tr_type):\n",
    "    daily = daily_returns[daily_returns['type'] == tr_type].drop(columns=['type', 'ticker', 'amount'])\n",
    "    cumulative = (daily+1).cumprod(axis=1)\n",
    "    return cumulative.mean() - 1"
   ]
  },
  {
   "cell_type": "code",
   "execution_count": 15,
   "id": "452d5df2",
   "metadata": {},
   "outputs": [],
   "source": [
    "pd.DataFrame({'Purchase':cumulative_returns('Purchase'), \n",
    "              'Sale':cumulative_returns('Sale')}).to_csv('senate_returns_graph.csv')"
   ]
  },
  {
   "cell_type": "code",
   "execution_count": 25,
   "id": "numerical-bunny",
   "metadata": {},
   "outputs": [
    {
     "data": {
      "application/vnd.plotly.v1+json": {
       "config": {
        "plotlyServerURL": "https://plot.ly"
       },
       "data": [
        {
         "hovertemplate": "variable=Purchases<br>t=%{x}<br>return=%{y}<extra></extra>",
         "legendgroup": "Purchases",
         "line": {
          "color": "#636efa",
          "dash": "solid"
         },
         "mode": "lines",
         "name": "Purchases",
         "orientation": "v",
         "showlegend": true,
         "type": "scatter",
         "x": [
          -21,
          -20,
          -19,
          -18,
          -17,
          -16,
          -15,
          -14,
          -13,
          -12,
          -11,
          -10,
          -9,
          -8,
          -7,
          -6,
          -5,
          -4,
          -3,
          -2,
          -1,
          0,
          1,
          2,
          3,
          4,
          5,
          6,
          7,
          8,
          9,
          10,
          11,
          12,
          13,
          14,
          15,
          16,
          17,
          18,
          19,
          20,
          21,
          22
         ],
         "xaxis": "x",
         "y": [
          -0.0005577813715451629,
          -0.0020738080382883828,
          7.115722588357798e-05,
          0.0010925791568692222,
          0.0005814977083618,
          0.0007935161925054501,
          -0.001114600987846881,
          -0.0038701443061153196,
          -0.005218572055155191,
          -0.0037273264552927232,
          -0.003205845002688501,
          -0.0028514554065712794,
          -0.005847611329267366,
          -0.0071541565801834794,
          -0.006415776223008596,
          -0.010386174014579641,
          -0.008070014387791535,
          -0.007403046258745105,
          -0.012644163263467623,
          -0.01969101558457953,
          -0.017531792794595047,
          -0.01683585146233213,
          -0.01884208009077204,
          -0.02481949667672445,
          -0.022920212515946448,
          -0.024288203770807093,
          -0.0222193660035942,
          -0.02405156085879412,
          -0.020985331547401676,
          -0.01907075876663422,
          -0.01959943679663778,
          -0.01747249067715506,
          -0.021446179159900325,
          -0.024602355749822835,
          -0.02673825417009501,
          -0.027739252675667236,
          -0.025673464401096413,
          -0.028065415107239255,
          -0.027806145757105494,
          -0.02844121536034505,
          -0.02492767549015451,
          -0.02693871389910052,
          -0.025462537519311823,
          -0.02447408849317989
         ],
         "yaxis": "y"
        },
        {
         "hovertemplate": "variable=Sales<br>t=%{x}<br>return=%{y}<extra></extra>",
         "legendgroup": "Sales",
         "line": {
          "color": "#EF553B",
          "dash": "solid"
         },
         "mode": "lines",
         "name": "Sales",
         "orientation": "v",
         "showlegend": true,
         "type": "scatter",
         "x": [
          -21,
          -20,
          -19,
          -18,
          -17,
          -16,
          -15,
          -14,
          -13,
          -12,
          -11,
          -10,
          -9,
          -8,
          -7,
          -6,
          -5,
          -4,
          -3,
          -2,
          -1,
          0,
          1,
          2,
          3,
          4,
          5,
          6,
          7,
          8,
          9,
          10,
          11,
          12,
          13,
          14,
          15,
          16,
          17,
          18,
          19,
          20,
          21,
          22
         ],
         "xaxis": "x",
         "y": [
          0.0006688826457506014,
          -0.0040969405736213105,
          -0.010117220600857957,
          -0.008421722203601045,
          -0.0020566945394362435,
          -0.0038500859473244997,
          -0.0060694512074396245,
          -0.002122398359352351,
          6.176108787148138e-05,
          -0.0016338975274640122,
          -0.006241802059403279,
          -0.005113641747201969,
          -0.00115086235645101,
          -0.001938723997609526,
          -0.00042876718929252267,
          -0.0015697910012654193,
          -0.00021394423046827704,
          0.0020895602581749717,
          0.0022876409368364214,
          0.004522846184796814,
          -0.0014810946531901292,
          -0.0055219947196235575,
          -0.005856997315407675,
          -0.008883422082543557,
          -0.005949235598631253,
          -0.008337136554873004,
          -0.01025302558204133,
          -0.014178742709490488,
          -0.012322096976307373,
          -0.014342991556529405,
          -0.010876346749134846,
          -0.007491280205871087,
          -0.0068743027998507955,
          -0.012529788268034858,
          -0.016386653214632063,
          -0.018570031592604175,
          -0.021835890023653937,
          -0.0254274325523699,
          -0.0236551389561096,
          -0.022387502699910078,
          -0.027928152547913365,
          -0.029833153774571297,
          -0.031181485453898983,
          -0.028111520834002923
         ],
         "yaxis": "y"
        }
       ],
       "layout": {
        "legend": {
         "title": {
          "text": "variable"
         },
         "tracegroupgap": 0
        },
        "margin": {
         "t": 60
        },
        "template": {
         "data": {
          "bar": [
           {
            "error_x": {
             "color": "#2a3f5f"
            },
            "error_y": {
             "color": "#2a3f5f"
            },
            "marker": {
             "line": {
              "color": "#E5ECF6",
              "width": 0.5
             },
             "pattern": {
              "fillmode": "overlay",
              "size": 10,
              "solidity": 0.2
             }
            },
            "type": "bar"
           }
          ],
          "barpolar": [
           {
            "marker": {
             "line": {
              "color": "#E5ECF6",
              "width": 0.5
             },
             "pattern": {
              "fillmode": "overlay",
              "size": 10,
              "solidity": 0.2
             }
            },
            "type": "barpolar"
           }
          ],
          "carpet": [
           {
            "aaxis": {
             "endlinecolor": "#2a3f5f",
             "gridcolor": "white",
             "linecolor": "white",
             "minorgridcolor": "white",
             "startlinecolor": "#2a3f5f"
            },
            "baxis": {
             "endlinecolor": "#2a3f5f",
             "gridcolor": "white",
             "linecolor": "white",
             "minorgridcolor": "white",
             "startlinecolor": "#2a3f5f"
            },
            "type": "carpet"
           }
          ],
          "choropleth": [
           {
            "colorbar": {
             "outlinewidth": 0,
             "ticks": ""
            },
            "type": "choropleth"
           }
          ],
          "contour": [
           {
            "colorbar": {
             "outlinewidth": 0,
             "ticks": ""
            },
            "colorscale": [
             [
              0,
              "#0d0887"
             ],
             [
              0.1111111111111111,
              "#46039f"
             ],
             [
              0.2222222222222222,
              "#7201a8"
             ],
             [
              0.3333333333333333,
              "#9c179e"
             ],
             [
              0.4444444444444444,
              "#bd3786"
             ],
             [
              0.5555555555555556,
              "#d8576b"
             ],
             [
              0.6666666666666666,
              "#ed7953"
             ],
             [
              0.7777777777777778,
              "#fb9f3a"
             ],
             [
              0.8888888888888888,
              "#fdca26"
             ],
             [
              1,
              "#f0f921"
             ]
            ],
            "type": "contour"
           }
          ],
          "contourcarpet": [
           {
            "colorbar": {
             "outlinewidth": 0,
             "ticks": ""
            },
            "type": "contourcarpet"
           }
          ],
          "heatmap": [
           {
            "colorbar": {
             "outlinewidth": 0,
             "ticks": ""
            },
            "colorscale": [
             [
              0,
              "#0d0887"
             ],
             [
              0.1111111111111111,
              "#46039f"
             ],
             [
              0.2222222222222222,
              "#7201a8"
             ],
             [
              0.3333333333333333,
              "#9c179e"
             ],
             [
              0.4444444444444444,
              "#bd3786"
             ],
             [
              0.5555555555555556,
              "#d8576b"
             ],
             [
              0.6666666666666666,
              "#ed7953"
             ],
             [
              0.7777777777777778,
              "#fb9f3a"
             ],
             [
              0.8888888888888888,
              "#fdca26"
             ],
             [
              1,
              "#f0f921"
             ]
            ],
            "type": "heatmap"
           }
          ],
          "heatmapgl": [
           {
            "colorbar": {
             "outlinewidth": 0,
             "ticks": ""
            },
            "colorscale": [
             [
              0,
              "#0d0887"
             ],
             [
              0.1111111111111111,
              "#46039f"
             ],
             [
              0.2222222222222222,
              "#7201a8"
             ],
             [
              0.3333333333333333,
              "#9c179e"
             ],
             [
              0.4444444444444444,
              "#bd3786"
             ],
             [
              0.5555555555555556,
              "#d8576b"
             ],
             [
              0.6666666666666666,
              "#ed7953"
             ],
             [
              0.7777777777777778,
              "#fb9f3a"
             ],
             [
              0.8888888888888888,
              "#fdca26"
             ],
             [
              1,
              "#f0f921"
             ]
            ],
            "type": "heatmapgl"
           }
          ],
          "histogram": [
           {
            "marker": {
             "pattern": {
              "fillmode": "overlay",
              "size": 10,
              "solidity": 0.2
             }
            },
            "type": "histogram"
           }
          ],
          "histogram2d": [
           {
            "colorbar": {
             "outlinewidth": 0,
             "ticks": ""
            },
            "colorscale": [
             [
              0,
              "#0d0887"
             ],
             [
              0.1111111111111111,
              "#46039f"
             ],
             [
              0.2222222222222222,
              "#7201a8"
             ],
             [
              0.3333333333333333,
              "#9c179e"
             ],
             [
              0.4444444444444444,
              "#bd3786"
             ],
             [
              0.5555555555555556,
              "#d8576b"
             ],
             [
              0.6666666666666666,
              "#ed7953"
             ],
             [
              0.7777777777777778,
              "#fb9f3a"
             ],
             [
              0.8888888888888888,
              "#fdca26"
             ],
             [
              1,
              "#f0f921"
             ]
            ],
            "type": "histogram2d"
           }
          ],
          "histogram2dcontour": [
           {
            "colorbar": {
             "outlinewidth": 0,
             "ticks": ""
            },
            "colorscale": [
             [
              0,
              "#0d0887"
             ],
             [
              0.1111111111111111,
              "#46039f"
             ],
             [
              0.2222222222222222,
              "#7201a8"
             ],
             [
              0.3333333333333333,
              "#9c179e"
             ],
             [
              0.4444444444444444,
              "#bd3786"
             ],
             [
              0.5555555555555556,
              "#d8576b"
             ],
             [
              0.6666666666666666,
              "#ed7953"
             ],
             [
              0.7777777777777778,
              "#fb9f3a"
             ],
             [
              0.8888888888888888,
              "#fdca26"
             ],
             [
              1,
              "#f0f921"
             ]
            ],
            "type": "histogram2dcontour"
           }
          ],
          "mesh3d": [
           {
            "colorbar": {
             "outlinewidth": 0,
             "ticks": ""
            },
            "type": "mesh3d"
           }
          ],
          "parcoords": [
           {
            "line": {
             "colorbar": {
              "outlinewidth": 0,
              "ticks": ""
             }
            },
            "type": "parcoords"
           }
          ],
          "pie": [
           {
            "automargin": true,
            "type": "pie"
           }
          ],
          "scatter": [
           {
            "marker": {
             "colorbar": {
              "outlinewidth": 0,
              "ticks": ""
             }
            },
            "type": "scatter"
           }
          ],
          "scatter3d": [
           {
            "line": {
             "colorbar": {
              "outlinewidth": 0,
              "ticks": ""
             }
            },
            "marker": {
             "colorbar": {
              "outlinewidth": 0,
              "ticks": ""
             }
            },
            "type": "scatter3d"
           }
          ],
          "scattercarpet": [
           {
            "marker": {
             "colorbar": {
              "outlinewidth": 0,
              "ticks": ""
             }
            },
            "type": "scattercarpet"
           }
          ],
          "scattergeo": [
           {
            "marker": {
             "colorbar": {
              "outlinewidth": 0,
              "ticks": ""
             }
            },
            "type": "scattergeo"
           }
          ],
          "scattergl": [
           {
            "marker": {
             "colorbar": {
              "outlinewidth": 0,
              "ticks": ""
             }
            },
            "type": "scattergl"
           }
          ],
          "scattermapbox": [
           {
            "marker": {
             "colorbar": {
              "outlinewidth": 0,
              "ticks": ""
             }
            },
            "type": "scattermapbox"
           }
          ],
          "scatterpolar": [
           {
            "marker": {
             "colorbar": {
              "outlinewidth": 0,
              "ticks": ""
             }
            },
            "type": "scatterpolar"
           }
          ],
          "scatterpolargl": [
           {
            "marker": {
             "colorbar": {
              "outlinewidth": 0,
              "ticks": ""
             }
            },
            "type": "scatterpolargl"
           }
          ],
          "scatterternary": [
           {
            "marker": {
             "colorbar": {
              "outlinewidth": 0,
              "ticks": ""
             }
            },
            "type": "scatterternary"
           }
          ],
          "surface": [
           {
            "colorbar": {
             "outlinewidth": 0,
             "ticks": ""
            },
            "colorscale": [
             [
              0,
              "#0d0887"
             ],
             [
              0.1111111111111111,
              "#46039f"
             ],
             [
              0.2222222222222222,
              "#7201a8"
             ],
             [
              0.3333333333333333,
              "#9c179e"
             ],
             [
              0.4444444444444444,
              "#bd3786"
             ],
             [
              0.5555555555555556,
              "#d8576b"
             ],
             [
              0.6666666666666666,
              "#ed7953"
             ],
             [
              0.7777777777777778,
              "#fb9f3a"
             ],
             [
              0.8888888888888888,
              "#fdca26"
             ],
             [
              1,
              "#f0f921"
             ]
            ],
            "type": "surface"
           }
          ],
          "table": [
           {
            "cells": {
             "fill": {
              "color": "#EBF0F8"
             },
             "line": {
              "color": "white"
             }
            },
            "header": {
             "fill": {
              "color": "#C8D4E3"
             },
             "line": {
              "color": "white"
             }
            },
            "type": "table"
           }
          ]
         },
         "layout": {
          "annotationdefaults": {
           "arrowcolor": "#2a3f5f",
           "arrowhead": 0,
           "arrowwidth": 1
          },
          "autotypenumbers": "strict",
          "coloraxis": {
           "colorbar": {
            "outlinewidth": 0,
            "ticks": ""
           }
          },
          "colorscale": {
           "diverging": [
            [
             0,
             "#8e0152"
            ],
            [
             0.1,
             "#c51b7d"
            ],
            [
             0.2,
             "#de77ae"
            ],
            [
             0.3,
             "#f1b6da"
            ],
            [
             0.4,
             "#fde0ef"
            ],
            [
             0.5,
             "#f7f7f7"
            ],
            [
             0.6,
             "#e6f5d0"
            ],
            [
             0.7,
             "#b8e186"
            ],
            [
             0.8,
             "#7fbc41"
            ],
            [
             0.9,
             "#4d9221"
            ],
            [
             1,
             "#276419"
            ]
           ],
           "sequential": [
            [
             0,
             "#0d0887"
            ],
            [
             0.1111111111111111,
             "#46039f"
            ],
            [
             0.2222222222222222,
             "#7201a8"
            ],
            [
             0.3333333333333333,
             "#9c179e"
            ],
            [
             0.4444444444444444,
             "#bd3786"
            ],
            [
             0.5555555555555556,
             "#d8576b"
            ],
            [
             0.6666666666666666,
             "#ed7953"
            ],
            [
             0.7777777777777778,
             "#fb9f3a"
            ],
            [
             0.8888888888888888,
             "#fdca26"
            ],
            [
             1,
             "#f0f921"
            ]
           ],
           "sequentialminus": [
            [
             0,
             "#0d0887"
            ],
            [
             0.1111111111111111,
             "#46039f"
            ],
            [
             0.2222222222222222,
             "#7201a8"
            ],
            [
             0.3333333333333333,
             "#9c179e"
            ],
            [
             0.4444444444444444,
             "#bd3786"
            ],
            [
             0.5555555555555556,
             "#d8576b"
            ],
            [
             0.6666666666666666,
             "#ed7953"
            ],
            [
             0.7777777777777778,
             "#fb9f3a"
            ],
            [
             0.8888888888888888,
             "#fdca26"
            ],
            [
             1,
             "#f0f921"
            ]
           ]
          },
          "colorway": [
           "#636efa",
           "#EF553B",
           "#00cc96",
           "#ab63fa",
           "#FFA15A",
           "#19d3f3",
           "#FF6692",
           "#B6E880",
           "#FF97FF",
           "#FECB52"
          ],
          "font": {
           "color": "#2a3f5f"
          },
          "geo": {
           "bgcolor": "white",
           "lakecolor": "white",
           "landcolor": "#E5ECF6",
           "showlakes": true,
           "showland": true,
           "subunitcolor": "white"
          },
          "hoverlabel": {
           "align": "left"
          },
          "hovermode": "closest",
          "mapbox": {
           "style": "light"
          },
          "paper_bgcolor": "white",
          "plot_bgcolor": "#E5ECF6",
          "polar": {
           "angularaxis": {
            "gridcolor": "white",
            "linecolor": "white",
            "ticks": ""
           },
           "bgcolor": "#E5ECF6",
           "radialaxis": {
            "gridcolor": "white",
            "linecolor": "white",
            "ticks": ""
           }
          },
          "scene": {
           "xaxis": {
            "backgroundcolor": "#E5ECF6",
            "gridcolor": "white",
            "gridwidth": 2,
            "linecolor": "white",
            "showbackground": true,
            "ticks": "",
            "zerolinecolor": "white"
           },
           "yaxis": {
            "backgroundcolor": "#E5ECF6",
            "gridcolor": "white",
            "gridwidth": 2,
            "linecolor": "white",
            "showbackground": true,
            "ticks": "",
            "zerolinecolor": "white"
           },
           "zaxis": {
            "backgroundcolor": "#E5ECF6",
            "gridcolor": "white",
            "gridwidth": 2,
            "linecolor": "white",
            "showbackground": true,
            "ticks": "",
            "zerolinecolor": "white"
           }
          },
          "shapedefaults": {
           "line": {
            "color": "#2a3f5f"
           }
          },
          "ternary": {
           "aaxis": {
            "gridcolor": "white",
            "linecolor": "white",
            "ticks": ""
           },
           "baxis": {
            "gridcolor": "white",
            "linecolor": "white",
            "ticks": ""
           },
           "bgcolor": "#E5ECF6",
           "caxis": {
            "gridcolor": "white",
            "linecolor": "white",
            "ticks": ""
           }
          },
          "title": {
           "x": 0.05
          },
          "xaxis": {
           "automargin": true,
           "gridcolor": "white",
           "linecolor": "white",
           "ticks": "",
           "title": {
            "standoff": 15
           },
           "zerolinecolor": "white",
           "zerolinewidth": 2
          },
          "yaxis": {
           "automargin": true,
           "gridcolor": "white",
           "linecolor": "white",
           "ticks": "",
           "title": {
            "standoff": 15
           },
           "zerolinecolor": "white",
           "zerolinewidth": 2
          }
         }
        },
        "xaxis": {
         "anchor": "y",
         "domain": [
          0,
          1
         ],
         "title": {
          "text": "t"
         }
        },
        "yaxis": {
         "anchor": "x",
         "domain": [
          0,
          1
         ],
         "title": {
          "text": "return"
         }
        }
       }
      },
      "text/html": [
       "<div>                            <div id=\"3247d773-7e08-48d2-8476-1b9e95d63e8e\" class=\"plotly-graph-div\" style=\"height:525px; width:100%;\"></div>            <script type=\"text/javascript\">                require([\"plotly\"], function(Plotly) {                    window.PLOTLYENV=window.PLOTLYENV || {};                                    if (document.getElementById(\"3247d773-7e08-48d2-8476-1b9e95d63e8e\")) {                    Plotly.newPlot(                        \"3247d773-7e08-48d2-8476-1b9e95d63e8e\",                        [{\"hovertemplate\":\"variable=Purchases<br>t=%{x}<br>return=%{y}<extra></extra>\",\"legendgroup\":\"Purchases\",\"line\":{\"color\":\"#636efa\",\"dash\":\"solid\"},\"mode\":\"lines\",\"name\":\"Purchases\",\"orientation\":\"v\",\"showlegend\":true,\"type\":\"scatter\",\"x\":[-21,-20,-19,-18,-17,-16,-15,-14,-13,-12,-11,-10,-9,-8,-7,-6,-5,-4,-3,-2,-1,0,1,2,3,4,5,6,7,8,9,10,11,12,13,14,15,16,17,18,19,20,21,22],\"xaxis\":\"x\",\"y\":[-0.0005577813715451629,-0.0020738080382883828,7.115722588357798e-05,0.0010925791568692222,0.0005814977083618,0.0007935161925054501,-0.001114600987846881,-0.0038701443061153196,-0.005218572055155191,-0.0037273264552927232,-0.003205845002688501,-0.0028514554065712794,-0.005847611329267366,-0.0071541565801834794,-0.006415776223008596,-0.010386174014579641,-0.008070014387791535,-0.007403046258745105,-0.012644163263467623,-0.01969101558457953,-0.017531792794595047,-0.01683585146233213,-0.01884208009077204,-0.02481949667672445,-0.022920212515946448,-0.024288203770807093,-0.0222193660035942,-0.02405156085879412,-0.020985331547401676,-0.01907075876663422,-0.01959943679663778,-0.01747249067715506,-0.021446179159900325,-0.024602355749822835,-0.02673825417009501,-0.027739252675667236,-0.025673464401096413,-0.028065415107239255,-0.027806145757105494,-0.02844121536034505,-0.02492767549015451,-0.02693871389910052,-0.025462537519311823,-0.02447408849317989],\"yaxis\":\"y\"},{\"hovertemplate\":\"variable=Sales<br>t=%{x}<br>return=%{y}<extra></extra>\",\"legendgroup\":\"Sales\",\"line\":{\"color\":\"#EF553B\",\"dash\":\"solid\"},\"mode\":\"lines\",\"name\":\"Sales\",\"orientation\":\"v\",\"showlegend\":true,\"type\":\"scatter\",\"x\":[-21,-20,-19,-18,-17,-16,-15,-14,-13,-12,-11,-10,-9,-8,-7,-6,-5,-4,-3,-2,-1,0,1,2,3,4,5,6,7,8,9,10,11,12,13,14,15,16,17,18,19,20,21,22],\"xaxis\":\"x\",\"y\":[0.0006688826457506014,-0.0040969405736213105,-0.010117220600857957,-0.008421722203601045,-0.0020566945394362435,-0.0038500859473244997,-0.0060694512074396245,-0.002122398359352351,6.176108787148138e-05,-0.0016338975274640122,-0.006241802059403279,-0.005113641747201969,-0.00115086235645101,-0.001938723997609526,-0.00042876718929252267,-0.0015697910012654193,-0.00021394423046827704,0.0020895602581749717,0.0022876409368364214,0.004522846184796814,-0.0014810946531901292,-0.0055219947196235575,-0.005856997315407675,-0.008883422082543557,-0.005949235598631253,-0.008337136554873004,-0.01025302558204133,-0.014178742709490488,-0.012322096976307373,-0.014342991556529405,-0.010876346749134846,-0.007491280205871087,-0.0068743027998507955,-0.012529788268034858,-0.016386653214632063,-0.018570031592604175,-0.021835890023653937,-0.0254274325523699,-0.0236551389561096,-0.022387502699910078,-0.027928152547913365,-0.029833153774571297,-0.031181485453898983,-0.028111520834002923],\"yaxis\":\"y\"}],                        {\"legend\":{\"title\":{\"text\":\"variable\"},\"tracegroupgap\":0},\"margin\":{\"t\":60},\"template\":{\"data\":{\"bar\":[{\"error_x\":{\"color\":\"#2a3f5f\"},\"error_y\":{\"color\":\"#2a3f5f\"},\"marker\":{\"line\":{\"color\":\"#E5ECF6\",\"width\":0.5},\"pattern\":{\"fillmode\":\"overlay\",\"size\":10,\"solidity\":0.2}},\"type\":\"bar\"}],\"barpolar\":[{\"marker\":{\"line\":{\"color\":\"#E5ECF6\",\"width\":0.5},\"pattern\":{\"fillmode\":\"overlay\",\"size\":10,\"solidity\":0.2}},\"type\":\"barpolar\"}],\"carpet\":[{\"aaxis\":{\"endlinecolor\":\"#2a3f5f\",\"gridcolor\":\"white\",\"linecolor\":\"white\",\"minorgridcolor\":\"white\",\"startlinecolor\":\"#2a3f5f\"},\"baxis\":{\"endlinecolor\":\"#2a3f5f\",\"gridcolor\":\"white\",\"linecolor\":\"white\",\"minorgridcolor\":\"white\",\"startlinecolor\":\"#2a3f5f\"},\"type\":\"carpet\"}],\"choropleth\":[{\"colorbar\":{\"outlinewidth\":0,\"ticks\":\"\"},\"type\":\"choropleth\"}],\"contour\":[{\"colorbar\":{\"outlinewidth\":0,\"ticks\":\"\"},\"colorscale\":[[0.0,\"#0d0887\"],[0.1111111111111111,\"#46039f\"],[0.2222222222222222,\"#7201a8\"],[0.3333333333333333,\"#9c179e\"],[0.4444444444444444,\"#bd3786\"],[0.5555555555555556,\"#d8576b\"],[0.6666666666666666,\"#ed7953\"],[0.7777777777777778,\"#fb9f3a\"],[0.8888888888888888,\"#fdca26\"],[1.0,\"#f0f921\"]],\"type\":\"contour\"}],\"contourcarpet\":[{\"colorbar\":{\"outlinewidth\":0,\"ticks\":\"\"},\"type\":\"contourcarpet\"}],\"heatmap\":[{\"colorbar\":{\"outlinewidth\":0,\"ticks\":\"\"},\"colorscale\":[[0.0,\"#0d0887\"],[0.1111111111111111,\"#46039f\"],[0.2222222222222222,\"#7201a8\"],[0.3333333333333333,\"#9c179e\"],[0.4444444444444444,\"#bd3786\"],[0.5555555555555556,\"#d8576b\"],[0.6666666666666666,\"#ed7953\"],[0.7777777777777778,\"#fb9f3a\"],[0.8888888888888888,\"#fdca26\"],[1.0,\"#f0f921\"]],\"type\":\"heatmap\"}],\"heatmapgl\":[{\"colorbar\":{\"outlinewidth\":0,\"ticks\":\"\"},\"colorscale\":[[0.0,\"#0d0887\"],[0.1111111111111111,\"#46039f\"],[0.2222222222222222,\"#7201a8\"],[0.3333333333333333,\"#9c179e\"],[0.4444444444444444,\"#bd3786\"],[0.5555555555555556,\"#d8576b\"],[0.6666666666666666,\"#ed7953\"],[0.7777777777777778,\"#fb9f3a\"],[0.8888888888888888,\"#fdca26\"],[1.0,\"#f0f921\"]],\"type\":\"heatmapgl\"}],\"histogram\":[{\"marker\":{\"pattern\":{\"fillmode\":\"overlay\",\"size\":10,\"solidity\":0.2}},\"type\":\"histogram\"}],\"histogram2d\":[{\"colorbar\":{\"outlinewidth\":0,\"ticks\":\"\"},\"colorscale\":[[0.0,\"#0d0887\"],[0.1111111111111111,\"#46039f\"],[0.2222222222222222,\"#7201a8\"],[0.3333333333333333,\"#9c179e\"],[0.4444444444444444,\"#bd3786\"],[0.5555555555555556,\"#d8576b\"],[0.6666666666666666,\"#ed7953\"],[0.7777777777777778,\"#fb9f3a\"],[0.8888888888888888,\"#fdca26\"],[1.0,\"#f0f921\"]],\"type\":\"histogram2d\"}],\"histogram2dcontour\":[{\"colorbar\":{\"outlinewidth\":0,\"ticks\":\"\"},\"colorscale\":[[0.0,\"#0d0887\"],[0.1111111111111111,\"#46039f\"],[0.2222222222222222,\"#7201a8\"],[0.3333333333333333,\"#9c179e\"],[0.4444444444444444,\"#bd3786\"],[0.5555555555555556,\"#d8576b\"],[0.6666666666666666,\"#ed7953\"],[0.7777777777777778,\"#fb9f3a\"],[0.8888888888888888,\"#fdca26\"],[1.0,\"#f0f921\"]],\"type\":\"histogram2dcontour\"}],\"mesh3d\":[{\"colorbar\":{\"outlinewidth\":0,\"ticks\":\"\"},\"type\":\"mesh3d\"}],\"parcoords\":[{\"line\":{\"colorbar\":{\"outlinewidth\":0,\"ticks\":\"\"}},\"type\":\"parcoords\"}],\"pie\":[{\"automargin\":true,\"type\":\"pie\"}],\"scatter\":[{\"marker\":{\"colorbar\":{\"outlinewidth\":0,\"ticks\":\"\"}},\"type\":\"scatter\"}],\"scatter3d\":[{\"line\":{\"colorbar\":{\"outlinewidth\":0,\"ticks\":\"\"}},\"marker\":{\"colorbar\":{\"outlinewidth\":0,\"ticks\":\"\"}},\"type\":\"scatter3d\"}],\"scattercarpet\":[{\"marker\":{\"colorbar\":{\"outlinewidth\":0,\"ticks\":\"\"}},\"type\":\"scattercarpet\"}],\"scattergeo\":[{\"marker\":{\"colorbar\":{\"outlinewidth\":0,\"ticks\":\"\"}},\"type\":\"scattergeo\"}],\"scattergl\":[{\"marker\":{\"colorbar\":{\"outlinewidth\":0,\"ticks\":\"\"}},\"type\":\"scattergl\"}],\"scattermapbox\":[{\"marker\":{\"colorbar\":{\"outlinewidth\":0,\"ticks\":\"\"}},\"type\":\"scattermapbox\"}],\"scatterpolar\":[{\"marker\":{\"colorbar\":{\"outlinewidth\":0,\"ticks\":\"\"}},\"type\":\"scatterpolar\"}],\"scatterpolargl\":[{\"marker\":{\"colorbar\":{\"outlinewidth\":0,\"ticks\":\"\"}},\"type\":\"scatterpolargl\"}],\"scatterternary\":[{\"marker\":{\"colorbar\":{\"outlinewidth\":0,\"ticks\":\"\"}},\"type\":\"scatterternary\"}],\"surface\":[{\"colorbar\":{\"outlinewidth\":0,\"ticks\":\"\"},\"colorscale\":[[0.0,\"#0d0887\"],[0.1111111111111111,\"#46039f\"],[0.2222222222222222,\"#7201a8\"],[0.3333333333333333,\"#9c179e\"],[0.4444444444444444,\"#bd3786\"],[0.5555555555555556,\"#d8576b\"],[0.6666666666666666,\"#ed7953\"],[0.7777777777777778,\"#fb9f3a\"],[0.8888888888888888,\"#fdca26\"],[1.0,\"#f0f921\"]],\"type\":\"surface\"}],\"table\":[{\"cells\":{\"fill\":{\"color\":\"#EBF0F8\"},\"line\":{\"color\":\"white\"}},\"header\":{\"fill\":{\"color\":\"#C8D4E3\"},\"line\":{\"color\":\"white\"}},\"type\":\"table\"}]},\"layout\":{\"annotationdefaults\":{\"arrowcolor\":\"#2a3f5f\",\"arrowhead\":0,\"arrowwidth\":1},\"autotypenumbers\":\"strict\",\"coloraxis\":{\"colorbar\":{\"outlinewidth\":0,\"ticks\":\"\"}},\"colorscale\":{\"diverging\":[[0,\"#8e0152\"],[0.1,\"#c51b7d\"],[0.2,\"#de77ae\"],[0.3,\"#f1b6da\"],[0.4,\"#fde0ef\"],[0.5,\"#f7f7f7\"],[0.6,\"#e6f5d0\"],[0.7,\"#b8e186\"],[0.8,\"#7fbc41\"],[0.9,\"#4d9221\"],[1,\"#276419\"]],\"sequential\":[[0.0,\"#0d0887\"],[0.1111111111111111,\"#46039f\"],[0.2222222222222222,\"#7201a8\"],[0.3333333333333333,\"#9c179e\"],[0.4444444444444444,\"#bd3786\"],[0.5555555555555556,\"#d8576b\"],[0.6666666666666666,\"#ed7953\"],[0.7777777777777778,\"#fb9f3a\"],[0.8888888888888888,\"#fdca26\"],[1.0,\"#f0f921\"]],\"sequentialminus\":[[0.0,\"#0d0887\"],[0.1111111111111111,\"#46039f\"],[0.2222222222222222,\"#7201a8\"],[0.3333333333333333,\"#9c179e\"],[0.4444444444444444,\"#bd3786\"],[0.5555555555555556,\"#d8576b\"],[0.6666666666666666,\"#ed7953\"],[0.7777777777777778,\"#fb9f3a\"],[0.8888888888888888,\"#fdca26\"],[1.0,\"#f0f921\"]]},\"colorway\":[\"#636efa\",\"#EF553B\",\"#00cc96\",\"#ab63fa\",\"#FFA15A\",\"#19d3f3\",\"#FF6692\",\"#B6E880\",\"#FF97FF\",\"#FECB52\"],\"font\":{\"color\":\"#2a3f5f\"},\"geo\":{\"bgcolor\":\"white\",\"lakecolor\":\"white\",\"landcolor\":\"#E5ECF6\",\"showlakes\":true,\"showland\":true,\"subunitcolor\":\"white\"},\"hoverlabel\":{\"align\":\"left\"},\"hovermode\":\"closest\",\"mapbox\":{\"style\":\"light\"},\"paper_bgcolor\":\"white\",\"plot_bgcolor\":\"#E5ECF6\",\"polar\":{\"angularaxis\":{\"gridcolor\":\"white\",\"linecolor\":\"white\",\"ticks\":\"\"},\"bgcolor\":\"#E5ECF6\",\"radialaxis\":{\"gridcolor\":\"white\",\"linecolor\":\"white\",\"ticks\":\"\"}},\"scene\":{\"xaxis\":{\"backgroundcolor\":\"#E5ECF6\",\"gridcolor\":\"white\",\"gridwidth\":2,\"linecolor\":\"white\",\"showbackground\":true,\"ticks\":\"\",\"zerolinecolor\":\"white\"},\"yaxis\":{\"backgroundcolor\":\"#E5ECF6\",\"gridcolor\":\"white\",\"gridwidth\":2,\"linecolor\":\"white\",\"showbackground\":true,\"ticks\":\"\",\"zerolinecolor\":\"white\"},\"zaxis\":{\"backgroundcolor\":\"#E5ECF6\",\"gridcolor\":\"white\",\"gridwidth\":2,\"linecolor\":\"white\",\"showbackground\":true,\"ticks\":\"\",\"zerolinecolor\":\"white\"}},\"shapedefaults\":{\"line\":{\"color\":\"#2a3f5f\"}},\"ternary\":{\"aaxis\":{\"gridcolor\":\"white\",\"linecolor\":\"white\",\"ticks\":\"\"},\"baxis\":{\"gridcolor\":\"white\",\"linecolor\":\"white\",\"ticks\":\"\"},\"bgcolor\":\"#E5ECF6\",\"caxis\":{\"gridcolor\":\"white\",\"linecolor\":\"white\",\"ticks\":\"\"}},\"title\":{\"x\":0.05},\"xaxis\":{\"automargin\":true,\"gridcolor\":\"white\",\"linecolor\":\"white\",\"ticks\":\"\",\"title\":{\"standoff\":15},\"zerolinecolor\":\"white\",\"zerolinewidth\":2},\"yaxis\":{\"automargin\":true,\"gridcolor\":\"white\",\"linecolor\":\"white\",\"ticks\":\"\",\"title\":{\"standoff\":15},\"zerolinecolor\":\"white\",\"zerolinewidth\":2}}},\"xaxis\":{\"anchor\":\"y\",\"domain\":[0.0,1.0],\"title\":{\"text\":\"t\"}},\"yaxis\":{\"anchor\":\"x\",\"domain\":[0.0,1.0],\"title\":{\"text\":\"return\"}}},                        {\"responsive\": true}                    ).then(function(){\n",
       "                            \n",
       "var gd = document.getElementById('3247d773-7e08-48d2-8476-1b9e95d63e8e');\n",
       "var x = new MutationObserver(function (mutations, observer) {{\n",
       "        var display = window.getComputedStyle(gd).display;\n",
       "        if (!display || display === 'none') {{\n",
       "            console.log([gd, 'removed!']);\n",
       "            Plotly.purge(gd);\n",
       "            observer.disconnect();\n",
       "        }}\n",
       "}});\n",
       "\n",
       "// Listen for the removal of the full notebook cells\n",
       "var notebookContainer = gd.closest('#notebook-container');\n",
       "if (notebookContainer) {{\n",
       "    x.observe(notebookContainer, {childList: true});\n",
       "}}\n",
       "\n",
       "// Listen for the clearing of the current output cell\n",
       "var outputEl = gd.closest('.output');\n",
       "if (outputEl) {{\n",
       "    x.observe(outputEl, {childList: true});\n",
       "}}\n",
       "\n",
       "                        })                };                });            </script>        </div>"
      ]
     },
     "metadata": {},
     "output_type": "display_data"
    }
   ],
   "source": [
    "df = pd.DataFrame({\"Purchases\": cumulative_returns('Purchase'), \"Sales\": cumulative_returns('Sale')})\n",
    "px.line(df, labels={\"index\":\"t\", \"value\": \"return\"})"
   ]
  },
  {
   "cell_type": "code",
   "execution_count": 27,
   "id": "aware-driving",
   "metadata": {},
   "outputs": [
    {
     "data": {
      "application/vnd.plotly.v1+json": {
       "config": {
        "plotlyServerURL": "https://plot.ly"
       },
       "data": [
        {
         "hovertemplate": "variable=Purchases<br>t=%{x}<br>return=%{y}<extra></extra>",
         "legendgroup": "Purchases",
         "line": {
          "color": "#636efa",
          "dash": "solid"
         },
         "mode": "lines",
         "name": "Purchases",
         "orientation": "v",
         "showlegend": true,
         "type": "scatter",
         "x": [
          -21,
          -20,
          -19,
          -18,
          -17,
          -16,
          -15,
          -14,
          -13,
          -12,
          -11,
          -10,
          -9,
          -8,
          -7,
          -6,
          -5,
          -4,
          -3,
          -2,
          -1,
          0,
          1,
          2,
          3,
          4,
          5,
          6,
          7,
          8,
          9,
          10,
          11,
          12,
          13,
          14,
          15,
          16,
          17,
          18,
          19,
          20,
          21,
          22
         ],
         "xaxis": "x",
         "y": [
          -3.434736557561546e-05,
          -0.0025186619247689057,
          -0.001364724278715479,
          -0.00154239137808454,
          -0.003906886926575481,
          -0.006524986156189461,
          -0.010992919146138758,
          -0.014341671962294744,
          -0.01573439370833607,
          -0.013108567098272572,
          -0.012695310340876897,
          -0.011781499646785099,
          -0.019822565460591024,
          -0.022694029248416014,
          -0.023932891232477882,
          -0.023599937579271812,
          -0.01895070974669988,
          -0.02114947817590862,
          -0.02559711438884449,
          -0.0322080544228982,
          -0.028420198545966224,
          -0.026119700416719627,
          -0.027427786181322467,
          -0.03131702059549213,
          -0.030466762462029506,
          -0.03155046598455358,
          -0.02804361616707296,
          -0.03100718171094785,
          -0.02687509476588823,
          -0.02489930903351334,
          -0.02633524718349045,
          -0.022117887782668766,
          -0.030828879243226526,
          -0.03378690886657976,
          -0.03328016629654118,
          -0.03456131011151198,
          -0.03186294180294247,
          -0.030644287280712112,
          -0.028580219502199022,
          -0.027385772845933132,
          -0.022740292586690303,
          -0.01861617219553291,
          -0.013453364384920175,
          -0.013562209314346152
         ],
         "yaxis": "y"
        },
        {
         "hovertemplate": "variable=Sales<br>t=%{x}<br>return=%{y}<extra></extra>",
         "legendgroup": "Sales",
         "line": {
          "color": "#EF553B",
          "dash": "solid"
         },
         "mode": "lines",
         "name": "Sales",
         "orientation": "v",
         "showlegend": true,
         "type": "scatter",
         "x": [
          -21,
          -20,
          -19,
          -18,
          -17,
          -16,
          -15,
          -14,
          -13,
          -12,
          -11,
          -10,
          -9,
          -8,
          -7,
          -6,
          -5,
          -4,
          -3,
          -2,
          -1,
          0,
          1,
          2,
          3,
          4,
          5,
          6,
          7,
          8,
          9,
          10,
          11,
          12,
          13,
          14,
          15,
          16,
          17,
          18,
          19,
          20,
          21,
          22
         ],
         "xaxis": "x",
         "y": [
          -0.001312695783497353,
          -0.01156394194648891,
          -0.02266335808489306,
          -0.021951794034062333,
          -0.013660915423461817,
          -0.01976257374938173,
          -0.023697979393905833,
          -0.019122971513115816,
          -0.014660346985632566,
          -0.018426942819342984,
          -0.027413767355719876,
          -0.02790633933548503,
          -0.023978300102446615,
          -0.024574459142398752,
          -0.02396884236869068,
          -0.026527511126745895,
          -0.02512826309708205,
          -0.022144445489642006,
          -0.02146211423216071,
          -0.020528939583270844,
          -0.029311876830699357,
          -0.03785291846331884,
          -0.03994697967853056,
          -0.03972150476247749,
          -0.03385841569728598,
          -0.03503300307161317,
          -0.036211960231250506,
          -0.03611125391363035,
          -0.03254121101117613,
          -0.03274869031043437,
          -0.027579020193611914,
          -0.022359235873319228,
          -0.019905011308283593,
          -0.02613252126533161,
          -0.0303046591314583,
          -0.03184197486162055,
          -0.03538286152385317,
          -0.03753349884579149,
          -0.03486389654916522,
          -0.03156232376753976,
          -0.03797886483603352,
          -0.04109847464177474,
          -0.042057486584104575,
          -0.039188880033268925
         ],
         "yaxis": "y"
        }
       ],
       "layout": {
        "legend": {
         "title": {
          "text": "variable"
         },
         "tracegroupgap": 0
        },
        "margin": {
         "t": 60
        },
        "template": {
         "data": {
          "bar": [
           {
            "error_x": {
             "color": "#2a3f5f"
            },
            "error_y": {
             "color": "#2a3f5f"
            },
            "marker": {
             "line": {
              "color": "#E5ECF6",
              "width": 0.5
             },
             "pattern": {
              "fillmode": "overlay",
              "size": 10,
              "solidity": 0.2
             }
            },
            "type": "bar"
           }
          ],
          "barpolar": [
           {
            "marker": {
             "line": {
              "color": "#E5ECF6",
              "width": 0.5
             },
             "pattern": {
              "fillmode": "overlay",
              "size": 10,
              "solidity": 0.2
             }
            },
            "type": "barpolar"
           }
          ],
          "carpet": [
           {
            "aaxis": {
             "endlinecolor": "#2a3f5f",
             "gridcolor": "white",
             "linecolor": "white",
             "minorgridcolor": "white",
             "startlinecolor": "#2a3f5f"
            },
            "baxis": {
             "endlinecolor": "#2a3f5f",
             "gridcolor": "white",
             "linecolor": "white",
             "minorgridcolor": "white",
             "startlinecolor": "#2a3f5f"
            },
            "type": "carpet"
           }
          ],
          "choropleth": [
           {
            "colorbar": {
             "outlinewidth": 0,
             "ticks": ""
            },
            "type": "choropleth"
           }
          ],
          "contour": [
           {
            "colorbar": {
             "outlinewidth": 0,
             "ticks": ""
            },
            "colorscale": [
             [
              0,
              "#0d0887"
             ],
             [
              0.1111111111111111,
              "#46039f"
             ],
             [
              0.2222222222222222,
              "#7201a8"
             ],
             [
              0.3333333333333333,
              "#9c179e"
             ],
             [
              0.4444444444444444,
              "#bd3786"
             ],
             [
              0.5555555555555556,
              "#d8576b"
             ],
             [
              0.6666666666666666,
              "#ed7953"
             ],
             [
              0.7777777777777778,
              "#fb9f3a"
             ],
             [
              0.8888888888888888,
              "#fdca26"
             ],
             [
              1,
              "#f0f921"
             ]
            ],
            "type": "contour"
           }
          ],
          "contourcarpet": [
           {
            "colorbar": {
             "outlinewidth": 0,
             "ticks": ""
            },
            "type": "contourcarpet"
           }
          ],
          "heatmap": [
           {
            "colorbar": {
             "outlinewidth": 0,
             "ticks": ""
            },
            "colorscale": [
             [
              0,
              "#0d0887"
             ],
             [
              0.1111111111111111,
              "#46039f"
             ],
             [
              0.2222222222222222,
              "#7201a8"
             ],
             [
              0.3333333333333333,
              "#9c179e"
             ],
             [
              0.4444444444444444,
              "#bd3786"
             ],
             [
              0.5555555555555556,
              "#d8576b"
             ],
             [
              0.6666666666666666,
              "#ed7953"
             ],
             [
              0.7777777777777778,
              "#fb9f3a"
             ],
             [
              0.8888888888888888,
              "#fdca26"
             ],
             [
              1,
              "#f0f921"
             ]
            ],
            "type": "heatmap"
           }
          ],
          "heatmapgl": [
           {
            "colorbar": {
             "outlinewidth": 0,
             "ticks": ""
            },
            "colorscale": [
             [
              0,
              "#0d0887"
             ],
             [
              0.1111111111111111,
              "#46039f"
             ],
             [
              0.2222222222222222,
              "#7201a8"
             ],
             [
              0.3333333333333333,
              "#9c179e"
             ],
             [
              0.4444444444444444,
              "#bd3786"
             ],
             [
              0.5555555555555556,
              "#d8576b"
             ],
             [
              0.6666666666666666,
              "#ed7953"
             ],
             [
              0.7777777777777778,
              "#fb9f3a"
             ],
             [
              0.8888888888888888,
              "#fdca26"
             ],
             [
              1,
              "#f0f921"
             ]
            ],
            "type": "heatmapgl"
           }
          ],
          "histogram": [
           {
            "marker": {
             "pattern": {
              "fillmode": "overlay",
              "size": 10,
              "solidity": 0.2
             }
            },
            "type": "histogram"
           }
          ],
          "histogram2d": [
           {
            "colorbar": {
             "outlinewidth": 0,
             "ticks": ""
            },
            "colorscale": [
             [
              0,
              "#0d0887"
             ],
             [
              0.1111111111111111,
              "#46039f"
             ],
             [
              0.2222222222222222,
              "#7201a8"
             ],
             [
              0.3333333333333333,
              "#9c179e"
             ],
             [
              0.4444444444444444,
              "#bd3786"
             ],
             [
              0.5555555555555556,
              "#d8576b"
             ],
             [
              0.6666666666666666,
              "#ed7953"
             ],
             [
              0.7777777777777778,
              "#fb9f3a"
             ],
             [
              0.8888888888888888,
              "#fdca26"
             ],
             [
              1,
              "#f0f921"
             ]
            ],
            "type": "histogram2d"
           }
          ],
          "histogram2dcontour": [
           {
            "colorbar": {
             "outlinewidth": 0,
             "ticks": ""
            },
            "colorscale": [
             [
              0,
              "#0d0887"
             ],
             [
              0.1111111111111111,
              "#46039f"
             ],
             [
              0.2222222222222222,
              "#7201a8"
             ],
             [
              0.3333333333333333,
              "#9c179e"
             ],
             [
              0.4444444444444444,
              "#bd3786"
             ],
             [
              0.5555555555555556,
              "#d8576b"
             ],
             [
              0.6666666666666666,
              "#ed7953"
             ],
             [
              0.7777777777777778,
              "#fb9f3a"
             ],
             [
              0.8888888888888888,
              "#fdca26"
             ],
             [
              1,
              "#f0f921"
             ]
            ],
            "type": "histogram2dcontour"
           }
          ],
          "mesh3d": [
           {
            "colorbar": {
             "outlinewidth": 0,
             "ticks": ""
            },
            "type": "mesh3d"
           }
          ],
          "parcoords": [
           {
            "line": {
             "colorbar": {
              "outlinewidth": 0,
              "ticks": ""
             }
            },
            "type": "parcoords"
           }
          ],
          "pie": [
           {
            "automargin": true,
            "type": "pie"
           }
          ],
          "scatter": [
           {
            "marker": {
             "colorbar": {
              "outlinewidth": 0,
              "ticks": ""
             }
            },
            "type": "scatter"
           }
          ],
          "scatter3d": [
           {
            "line": {
             "colorbar": {
              "outlinewidth": 0,
              "ticks": ""
             }
            },
            "marker": {
             "colorbar": {
              "outlinewidth": 0,
              "ticks": ""
             }
            },
            "type": "scatter3d"
           }
          ],
          "scattercarpet": [
           {
            "marker": {
             "colorbar": {
              "outlinewidth": 0,
              "ticks": ""
             }
            },
            "type": "scattercarpet"
           }
          ],
          "scattergeo": [
           {
            "marker": {
             "colorbar": {
              "outlinewidth": 0,
              "ticks": ""
             }
            },
            "type": "scattergeo"
           }
          ],
          "scattergl": [
           {
            "marker": {
             "colorbar": {
              "outlinewidth": 0,
              "ticks": ""
             }
            },
            "type": "scattergl"
           }
          ],
          "scattermapbox": [
           {
            "marker": {
             "colorbar": {
              "outlinewidth": 0,
              "ticks": ""
             }
            },
            "type": "scattermapbox"
           }
          ],
          "scatterpolar": [
           {
            "marker": {
             "colorbar": {
              "outlinewidth": 0,
              "ticks": ""
             }
            },
            "type": "scatterpolar"
           }
          ],
          "scatterpolargl": [
           {
            "marker": {
             "colorbar": {
              "outlinewidth": 0,
              "ticks": ""
             }
            },
            "type": "scatterpolargl"
           }
          ],
          "scatterternary": [
           {
            "marker": {
             "colorbar": {
              "outlinewidth": 0,
              "ticks": ""
             }
            },
            "type": "scatterternary"
           }
          ],
          "surface": [
           {
            "colorbar": {
             "outlinewidth": 0,
             "ticks": ""
            },
            "colorscale": [
             [
              0,
              "#0d0887"
             ],
             [
              0.1111111111111111,
              "#46039f"
             ],
             [
              0.2222222222222222,
              "#7201a8"
             ],
             [
              0.3333333333333333,
              "#9c179e"
             ],
             [
              0.4444444444444444,
              "#bd3786"
             ],
             [
              0.5555555555555556,
              "#d8576b"
             ],
             [
              0.6666666666666666,
              "#ed7953"
             ],
             [
              0.7777777777777778,
              "#fb9f3a"
             ],
             [
              0.8888888888888888,
              "#fdca26"
             ],
             [
              1,
              "#f0f921"
             ]
            ],
            "type": "surface"
           }
          ],
          "table": [
           {
            "cells": {
             "fill": {
              "color": "#EBF0F8"
             },
             "line": {
              "color": "white"
             }
            },
            "header": {
             "fill": {
              "color": "#C8D4E3"
             },
             "line": {
              "color": "white"
             }
            },
            "type": "table"
           }
          ]
         },
         "layout": {
          "annotationdefaults": {
           "arrowcolor": "#2a3f5f",
           "arrowhead": 0,
           "arrowwidth": 1
          },
          "autotypenumbers": "strict",
          "coloraxis": {
           "colorbar": {
            "outlinewidth": 0,
            "ticks": ""
           }
          },
          "colorscale": {
           "diverging": [
            [
             0,
             "#8e0152"
            ],
            [
             0.1,
             "#c51b7d"
            ],
            [
             0.2,
             "#de77ae"
            ],
            [
             0.3,
             "#f1b6da"
            ],
            [
             0.4,
             "#fde0ef"
            ],
            [
             0.5,
             "#f7f7f7"
            ],
            [
             0.6,
             "#e6f5d0"
            ],
            [
             0.7,
             "#b8e186"
            ],
            [
             0.8,
             "#7fbc41"
            ],
            [
             0.9,
             "#4d9221"
            ],
            [
             1,
             "#276419"
            ]
           ],
           "sequential": [
            [
             0,
             "#0d0887"
            ],
            [
             0.1111111111111111,
             "#46039f"
            ],
            [
             0.2222222222222222,
             "#7201a8"
            ],
            [
             0.3333333333333333,
             "#9c179e"
            ],
            [
             0.4444444444444444,
             "#bd3786"
            ],
            [
             0.5555555555555556,
             "#d8576b"
            ],
            [
             0.6666666666666666,
             "#ed7953"
            ],
            [
             0.7777777777777778,
             "#fb9f3a"
            ],
            [
             0.8888888888888888,
             "#fdca26"
            ],
            [
             1,
             "#f0f921"
            ]
           ],
           "sequentialminus": [
            [
             0,
             "#0d0887"
            ],
            [
             0.1111111111111111,
             "#46039f"
            ],
            [
             0.2222222222222222,
             "#7201a8"
            ],
            [
             0.3333333333333333,
             "#9c179e"
            ],
            [
             0.4444444444444444,
             "#bd3786"
            ],
            [
             0.5555555555555556,
             "#d8576b"
            ],
            [
             0.6666666666666666,
             "#ed7953"
            ],
            [
             0.7777777777777778,
             "#fb9f3a"
            ],
            [
             0.8888888888888888,
             "#fdca26"
            ],
            [
             1,
             "#f0f921"
            ]
           ]
          },
          "colorway": [
           "#636efa",
           "#EF553B",
           "#00cc96",
           "#ab63fa",
           "#FFA15A",
           "#19d3f3",
           "#FF6692",
           "#B6E880",
           "#FF97FF",
           "#FECB52"
          ],
          "font": {
           "color": "#2a3f5f"
          },
          "geo": {
           "bgcolor": "white",
           "lakecolor": "white",
           "landcolor": "#E5ECF6",
           "showlakes": true,
           "showland": true,
           "subunitcolor": "white"
          },
          "hoverlabel": {
           "align": "left"
          },
          "hovermode": "closest",
          "mapbox": {
           "style": "light"
          },
          "paper_bgcolor": "white",
          "plot_bgcolor": "#E5ECF6",
          "polar": {
           "angularaxis": {
            "gridcolor": "white",
            "linecolor": "white",
            "ticks": ""
           },
           "bgcolor": "#E5ECF6",
           "radialaxis": {
            "gridcolor": "white",
            "linecolor": "white",
            "ticks": ""
           }
          },
          "scene": {
           "xaxis": {
            "backgroundcolor": "#E5ECF6",
            "gridcolor": "white",
            "gridwidth": 2,
            "linecolor": "white",
            "showbackground": true,
            "ticks": "",
            "zerolinecolor": "white"
           },
           "yaxis": {
            "backgroundcolor": "#E5ECF6",
            "gridcolor": "white",
            "gridwidth": 2,
            "linecolor": "white",
            "showbackground": true,
            "ticks": "",
            "zerolinecolor": "white"
           },
           "zaxis": {
            "backgroundcolor": "#E5ECF6",
            "gridcolor": "white",
            "gridwidth": 2,
            "linecolor": "white",
            "showbackground": true,
            "ticks": "",
            "zerolinecolor": "white"
           }
          },
          "shapedefaults": {
           "line": {
            "color": "#2a3f5f"
           }
          },
          "ternary": {
           "aaxis": {
            "gridcolor": "white",
            "linecolor": "white",
            "ticks": ""
           },
           "baxis": {
            "gridcolor": "white",
            "linecolor": "white",
            "ticks": ""
           },
           "bgcolor": "#E5ECF6",
           "caxis": {
            "gridcolor": "white",
            "linecolor": "white",
            "ticks": ""
           }
          },
          "title": {
           "x": 0.05
          },
          "xaxis": {
           "automargin": true,
           "gridcolor": "white",
           "linecolor": "white",
           "ticks": "",
           "title": {
            "standoff": 15
           },
           "zerolinecolor": "white",
           "zerolinewidth": 2
          },
          "yaxis": {
           "automargin": true,
           "gridcolor": "white",
           "linecolor": "white",
           "ticks": "",
           "title": {
            "standoff": 15
           },
           "zerolinecolor": "white",
           "zerolinewidth": 2
          }
         }
        },
        "xaxis": {
         "anchor": "y",
         "domain": [
          0,
          1
         ],
         "title": {
          "text": "t"
         }
        },
        "yaxis": {
         "anchor": "x",
         "domain": [
          0,
          1
         ],
         "title": {
          "text": "return"
         }
        }
       }
      },
      "text/html": [
       "<div>                            <div id=\"b90ba25a-2b03-4286-ae90-e80ab1722416\" class=\"plotly-graph-div\" style=\"height:525px; width:100%;\"></div>            <script type=\"text/javascript\">                require([\"plotly\"], function(Plotly) {                    window.PLOTLYENV=window.PLOTLYENV || {};                                    if (document.getElementById(\"b90ba25a-2b03-4286-ae90-e80ab1722416\")) {                    Plotly.newPlot(                        \"b90ba25a-2b03-4286-ae90-e80ab1722416\",                        [{\"hovertemplate\":\"variable=Purchases<br>t=%{x}<br>return=%{y}<extra></extra>\",\"legendgroup\":\"Purchases\",\"line\":{\"color\":\"#636efa\",\"dash\":\"solid\"},\"mode\":\"lines\",\"name\":\"Purchases\",\"orientation\":\"v\",\"showlegend\":true,\"type\":\"scatter\",\"x\":[-21,-20,-19,-18,-17,-16,-15,-14,-13,-12,-11,-10,-9,-8,-7,-6,-5,-4,-3,-2,-1,0,1,2,3,4,5,6,7,8,9,10,11,12,13,14,15,16,17,18,19,20,21,22],\"xaxis\":\"x\",\"y\":[-3.434736557561546e-05,-0.0025186619247689057,-0.001364724278715479,-0.00154239137808454,-0.003906886926575481,-0.006524986156189461,-0.010992919146138758,-0.014341671962294744,-0.01573439370833607,-0.013108567098272572,-0.012695310340876897,-0.011781499646785099,-0.019822565460591024,-0.022694029248416014,-0.023932891232477882,-0.023599937579271812,-0.01895070974669988,-0.02114947817590862,-0.02559711438884449,-0.0322080544228982,-0.028420198545966224,-0.026119700416719627,-0.027427786181322467,-0.03131702059549213,-0.030466762462029506,-0.03155046598455358,-0.02804361616707296,-0.03100718171094785,-0.02687509476588823,-0.02489930903351334,-0.02633524718349045,-0.022117887782668766,-0.030828879243226526,-0.03378690886657976,-0.03328016629654118,-0.03456131011151198,-0.03186294180294247,-0.030644287280712112,-0.028580219502199022,-0.027385772845933132,-0.022740292586690303,-0.01861617219553291,-0.013453364384920175,-0.013562209314346152],\"yaxis\":\"y\"},{\"hovertemplate\":\"variable=Sales<br>t=%{x}<br>return=%{y}<extra></extra>\",\"legendgroup\":\"Sales\",\"line\":{\"color\":\"#EF553B\",\"dash\":\"solid\"},\"mode\":\"lines\",\"name\":\"Sales\",\"orientation\":\"v\",\"showlegend\":true,\"type\":\"scatter\",\"x\":[-21,-20,-19,-18,-17,-16,-15,-14,-13,-12,-11,-10,-9,-8,-7,-6,-5,-4,-3,-2,-1,0,1,2,3,4,5,6,7,8,9,10,11,12,13,14,15,16,17,18,19,20,21,22],\"xaxis\":\"x\",\"y\":[-0.001312695783497353,-0.01156394194648891,-0.02266335808489306,-0.021951794034062333,-0.013660915423461817,-0.01976257374938173,-0.023697979393905833,-0.019122971513115816,-0.014660346985632566,-0.018426942819342984,-0.027413767355719876,-0.02790633933548503,-0.023978300102446615,-0.024574459142398752,-0.02396884236869068,-0.026527511126745895,-0.02512826309708205,-0.022144445489642006,-0.02146211423216071,-0.020528939583270844,-0.029311876830699357,-0.03785291846331884,-0.03994697967853056,-0.03972150476247749,-0.03385841569728598,-0.03503300307161317,-0.036211960231250506,-0.03611125391363035,-0.03254121101117613,-0.03274869031043437,-0.027579020193611914,-0.022359235873319228,-0.019905011308283593,-0.02613252126533161,-0.0303046591314583,-0.03184197486162055,-0.03538286152385317,-0.03753349884579149,-0.03486389654916522,-0.03156232376753976,-0.03797886483603352,-0.04109847464177474,-0.042057486584104575,-0.039188880033268925],\"yaxis\":\"y\"}],                        {\"legend\":{\"title\":{\"text\":\"variable\"},\"tracegroupgap\":0},\"margin\":{\"t\":60},\"template\":{\"data\":{\"bar\":[{\"error_x\":{\"color\":\"#2a3f5f\"},\"error_y\":{\"color\":\"#2a3f5f\"},\"marker\":{\"line\":{\"color\":\"#E5ECF6\",\"width\":0.5},\"pattern\":{\"fillmode\":\"overlay\",\"size\":10,\"solidity\":0.2}},\"type\":\"bar\"}],\"barpolar\":[{\"marker\":{\"line\":{\"color\":\"#E5ECF6\",\"width\":0.5},\"pattern\":{\"fillmode\":\"overlay\",\"size\":10,\"solidity\":0.2}},\"type\":\"barpolar\"}],\"carpet\":[{\"aaxis\":{\"endlinecolor\":\"#2a3f5f\",\"gridcolor\":\"white\",\"linecolor\":\"white\",\"minorgridcolor\":\"white\",\"startlinecolor\":\"#2a3f5f\"},\"baxis\":{\"endlinecolor\":\"#2a3f5f\",\"gridcolor\":\"white\",\"linecolor\":\"white\",\"minorgridcolor\":\"white\",\"startlinecolor\":\"#2a3f5f\"},\"type\":\"carpet\"}],\"choropleth\":[{\"colorbar\":{\"outlinewidth\":0,\"ticks\":\"\"},\"type\":\"choropleth\"}],\"contour\":[{\"colorbar\":{\"outlinewidth\":0,\"ticks\":\"\"},\"colorscale\":[[0.0,\"#0d0887\"],[0.1111111111111111,\"#46039f\"],[0.2222222222222222,\"#7201a8\"],[0.3333333333333333,\"#9c179e\"],[0.4444444444444444,\"#bd3786\"],[0.5555555555555556,\"#d8576b\"],[0.6666666666666666,\"#ed7953\"],[0.7777777777777778,\"#fb9f3a\"],[0.8888888888888888,\"#fdca26\"],[1.0,\"#f0f921\"]],\"type\":\"contour\"}],\"contourcarpet\":[{\"colorbar\":{\"outlinewidth\":0,\"ticks\":\"\"},\"type\":\"contourcarpet\"}],\"heatmap\":[{\"colorbar\":{\"outlinewidth\":0,\"ticks\":\"\"},\"colorscale\":[[0.0,\"#0d0887\"],[0.1111111111111111,\"#46039f\"],[0.2222222222222222,\"#7201a8\"],[0.3333333333333333,\"#9c179e\"],[0.4444444444444444,\"#bd3786\"],[0.5555555555555556,\"#d8576b\"],[0.6666666666666666,\"#ed7953\"],[0.7777777777777778,\"#fb9f3a\"],[0.8888888888888888,\"#fdca26\"],[1.0,\"#f0f921\"]],\"type\":\"heatmap\"}],\"heatmapgl\":[{\"colorbar\":{\"outlinewidth\":0,\"ticks\":\"\"},\"colorscale\":[[0.0,\"#0d0887\"],[0.1111111111111111,\"#46039f\"],[0.2222222222222222,\"#7201a8\"],[0.3333333333333333,\"#9c179e\"],[0.4444444444444444,\"#bd3786\"],[0.5555555555555556,\"#d8576b\"],[0.6666666666666666,\"#ed7953\"],[0.7777777777777778,\"#fb9f3a\"],[0.8888888888888888,\"#fdca26\"],[1.0,\"#f0f921\"]],\"type\":\"heatmapgl\"}],\"histogram\":[{\"marker\":{\"pattern\":{\"fillmode\":\"overlay\",\"size\":10,\"solidity\":0.2}},\"type\":\"histogram\"}],\"histogram2d\":[{\"colorbar\":{\"outlinewidth\":0,\"ticks\":\"\"},\"colorscale\":[[0.0,\"#0d0887\"],[0.1111111111111111,\"#46039f\"],[0.2222222222222222,\"#7201a8\"],[0.3333333333333333,\"#9c179e\"],[0.4444444444444444,\"#bd3786\"],[0.5555555555555556,\"#d8576b\"],[0.6666666666666666,\"#ed7953\"],[0.7777777777777778,\"#fb9f3a\"],[0.8888888888888888,\"#fdca26\"],[1.0,\"#f0f921\"]],\"type\":\"histogram2d\"}],\"histogram2dcontour\":[{\"colorbar\":{\"outlinewidth\":0,\"ticks\":\"\"},\"colorscale\":[[0.0,\"#0d0887\"],[0.1111111111111111,\"#46039f\"],[0.2222222222222222,\"#7201a8\"],[0.3333333333333333,\"#9c179e\"],[0.4444444444444444,\"#bd3786\"],[0.5555555555555556,\"#d8576b\"],[0.6666666666666666,\"#ed7953\"],[0.7777777777777778,\"#fb9f3a\"],[0.8888888888888888,\"#fdca26\"],[1.0,\"#f0f921\"]],\"type\":\"histogram2dcontour\"}],\"mesh3d\":[{\"colorbar\":{\"outlinewidth\":0,\"ticks\":\"\"},\"type\":\"mesh3d\"}],\"parcoords\":[{\"line\":{\"colorbar\":{\"outlinewidth\":0,\"ticks\":\"\"}},\"type\":\"parcoords\"}],\"pie\":[{\"automargin\":true,\"type\":\"pie\"}],\"scatter\":[{\"marker\":{\"colorbar\":{\"outlinewidth\":0,\"ticks\":\"\"}},\"type\":\"scatter\"}],\"scatter3d\":[{\"line\":{\"colorbar\":{\"outlinewidth\":0,\"ticks\":\"\"}},\"marker\":{\"colorbar\":{\"outlinewidth\":0,\"ticks\":\"\"}},\"type\":\"scatter3d\"}],\"scattercarpet\":[{\"marker\":{\"colorbar\":{\"outlinewidth\":0,\"ticks\":\"\"}},\"type\":\"scattercarpet\"}],\"scattergeo\":[{\"marker\":{\"colorbar\":{\"outlinewidth\":0,\"ticks\":\"\"}},\"type\":\"scattergeo\"}],\"scattergl\":[{\"marker\":{\"colorbar\":{\"outlinewidth\":0,\"ticks\":\"\"}},\"type\":\"scattergl\"}],\"scattermapbox\":[{\"marker\":{\"colorbar\":{\"outlinewidth\":0,\"ticks\":\"\"}},\"type\":\"scattermapbox\"}],\"scatterpolar\":[{\"marker\":{\"colorbar\":{\"outlinewidth\":0,\"ticks\":\"\"}},\"type\":\"scatterpolar\"}],\"scatterpolargl\":[{\"marker\":{\"colorbar\":{\"outlinewidth\":0,\"ticks\":\"\"}},\"type\":\"scatterpolargl\"}],\"scatterternary\":[{\"marker\":{\"colorbar\":{\"outlinewidth\":0,\"ticks\":\"\"}},\"type\":\"scatterternary\"}],\"surface\":[{\"colorbar\":{\"outlinewidth\":0,\"ticks\":\"\"},\"colorscale\":[[0.0,\"#0d0887\"],[0.1111111111111111,\"#46039f\"],[0.2222222222222222,\"#7201a8\"],[0.3333333333333333,\"#9c179e\"],[0.4444444444444444,\"#bd3786\"],[0.5555555555555556,\"#d8576b\"],[0.6666666666666666,\"#ed7953\"],[0.7777777777777778,\"#fb9f3a\"],[0.8888888888888888,\"#fdca26\"],[1.0,\"#f0f921\"]],\"type\":\"surface\"}],\"table\":[{\"cells\":{\"fill\":{\"color\":\"#EBF0F8\"},\"line\":{\"color\":\"white\"}},\"header\":{\"fill\":{\"color\":\"#C8D4E3\"},\"line\":{\"color\":\"white\"}},\"type\":\"table\"}]},\"layout\":{\"annotationdefaults\":{\"arrowcolor\":\"#2a3f5f\",\"arrowhead\":0,\"arrowwidth\":1},\"autotypenumbers\":\"strict\",\"coloraxis\":{\"colorbar\":{\"outlinewidth\":0,\"ticks\":\"\"}},\"colorscale\":{\"diverging\":[[0,\"#8e0152\"],[0.1,\"#c51b7d\"],[0.2,\"#de77ae\"],[0.3,\"#f1b6da\"],[0.4,\"#fde0ef\"],[0.5,\"#f7f7f7\"],[0.6,\"#e6f5d0\"],[0.7,\"#b8e186\"],[0.8,\"#7fbc41\"],[0.9,\"#4d9221\"],[1,\"#276419\"]],\"sequential\":[[0.0,\"#0d0887\"],[0.1111111111111111,\"#46039f\"],[0.2222222222222222,\"#7201a8\"],[0.3333333333333333,\"#9c179e\"],[0.4444444444444444,\"#bd3786\"],[0.5555555555555556,\"#d8576b\"],[0.6666666666666666,\"#ed7953\"],[0.7777777777777778,\"#fb9f3a\"],[0.8888888888888888,\"#fdca26\"],[1.0,\"#f0f921\"]],\"sequentialminus\":[[0.0,\"#0d0887\"],[0.1111111111111111,\"#46039f\"],[0.2222222222222222,\"#7201a8\"],[0.3333333333333333,\"#9c179e\"],[0.4444444444444444,\"#bd3786\"],[0.5555555555555556,\"#d8576b\"],[0.6666666666666666,\"#ed7953\"],[0.7777777777777778,\"#fb9f3a\"],[0.8888888888888888,\"#fdca26\"],[1.0,\"#f0f921\"]]},\"colorway\":[\"#636efa\",\"#EF553B\",\"#00cc96\",\"#ab63fa\",\"#FFA15A\",\"#19d3f3\",\"#FF6692\",\"#B6E880\",\"#FF97FF\",\"#FECB52\"],\"font\":{\"color\":\"#2a3f5f\"},\"geo\":{\"bgcolor\":\"white\",\"lakecolor\":\"white\",\"landcolor\":\"#E5ECF6\",\"showlakes\":true,\"showland\":true,\"subunitcolor\":\"white\"},\"hoverlabel\":{\"align\":\"left\"},\"hovermode\":\"closest\",\"mapbox\":{\"style\":\"light\"},\"paper_bgcolor\":\"white\",\"plot_bgcolor\":\"#E5ECF6\",\"polar\":{\"angularaxis\":{\"gridcolor\":\"white\",\"linecolor\":\"white\",\"ticks\":\"\"},\"bgcolor\":\"#E5ECF6\",\"radialaxis\":{\"gridcolor\":\"white\",\"linecolor\":\"white\",\"ticks\":\"\"}},\"scene\":{\"xaxis\":{\"backgroundcolor\":\"#E5ECF6\",\"gridcolor\":\"white\",\"gridwidth\":2,\"linecolor\":\"white\",\"showbackground\":true,\"ticks\":\"\",\"zerolinecolor\":\"white\"},\"yaxis\":{\"backgroundcolor\":\"#E5ECF6\",\"gridcolor\":\"white\",\"gridwidth\":2,\"linecolor\":\"white\",\"showbackground\":true,\"ticks\":\"\",\"zerolinecolor\":\"white\"},\"zaxis\":{\"backgroundcolor\":\"#E5ECF6\",\"gridcolor\":\"white\",\"gridwidth\":2,\"linecolor\":\"white\",\"showbackground\":true,\"ticks\":\"\",\"zerolinecolor\":\"white\"}},\"shapedefaults\":{\"line\":{\"color\":\"#2a3f5f\"}},\"ternary\":{\"aaxis\":{\"gridcolor\":\"white\",\"linecolor\":\"white\",\"ticks\":\"\"},\"baxis\":{\"gridcolor\":\"white\",\"linecolor\":\"white\",\"ticks\":\"\"},\"bgcolor\":\"#E5ECF6\",\"caxis\":{\"gridcolor\":\"white\",\"linecolor\":\"white\",\"ticks\":\"\"}},\"title\":{\"x\":0.05},\"xaxis\":{\"automargin\":true,\"gridcolor\":\"white\",\"linecolor\":\"white\",\"ticks\":\"\",\"title\":{\"standoff\":15},\"zerolinecolor\":\"white\",\"zerolinewidth\":2},\"yaxis\":{\"automargin\":true,\"gridcolor\":\"white\",\"linecolor\":\"white\",\"ticks\":\"\",\"title\":{\"standoff\":15},\"zerolinecolor\":\"white\",\"zerolinewidth\":2}}},\"xaxis\":{\"anchor\":\"y\",\"domain\":[0.0,1.0],\"title\":{\"text\":\"t\"}},\"yaxis\":{\"anchor\":\"x\",\"domain\":[0.0,1.0],\"title\":{\"text\":\"return\"}}},                        {\"responsive\": true}                    ).then(function(){\n",
       "                            \n",
       "var gd = document.getElementById('b90ba25a-2b03-4286-ae90-e80ab1722416');\n",
       "var x = new MutationObserver(function (mutations, observer) {{\n",
       "        var display = window.getComputedStyle(gd).display;\n",
       "        if (!display || display === 'none') {{\n",
       "            console.log([gd, 'removed!']);\n",
       "            Plotly.purge(gd);\n",
       "            observer.disconnect();\n",
       "        }}\n",
       "}});\n",
       "\n",
       "// Listen for the removal of the full notebook cells\n",
       "var notebookContainer = gd.closest('#notebook-container');\n",
       "if (notebookContainer) {{\n",
       "    x.observe(notebookContainer, {childList: true});\n",
       "}}\n",
       "\n",
       "// Listen for the clearing of the current output cell\n",
       "var outputEl = gd.closest('.output');\n",
       "if (outputEl) {{\n",
       "    x.observe(outputEl, {childList: true});\n",
       "}}\n",
       "\n",
       "                        })                };                });            </script>        </div>"
      ]
     },
     "metadata": {},
     "output_type": "display_data"
    }
   ],
   "source": [
    "def cumulative_returns_avg_by_ticker(tr_type):\n",
    "    daily = daily_returns[daily_returns['type'] == tr_type].drop(columns=['type', 'amount'])\n",
    "    cumulative = daily.copy()\n",
    "    cumulative.iloc[:,:-1] = (daily.iloc[:,:-1]+1).cumprod(axis=1)\n",
    "    return cumulative.groupby('ticker').mean().mean() - 1\n",
    "\n",
    "df = pd.DataFrame({\"Purchases\": cumulative_returns_avg_by_ticker('Purchase'), \"Sales\": cumulative_returns_avg_by_ticker('Sale')})\n",
    "px.line(df, labels={\"index\":\"t\", \"value\": \"return\"})"
   ]
  },
  {
   "cell_type": "code",
   "execution_count": 28,
   "id": "egyptian-venue",
   "metadata": {},
   "outputs": [
    {
     "data": {
      "application/vnd.plotly.v1+json": {
       "config": {
        "plotlyServerURL": "https://plot.ly"
       },
       "data": [
        {
         "hovertemplate": "variable=Purchases<br>t=%{x}<br>return=%{y}<extra></extra>",
         "legendgroup": "Purchases",
         "line": {
          "color": "#636efa",
          "dash": "solid"
         },
         "mode": "lines",
         "name": "Purchases",
         "orientation": "v",
         "showlegend": true,
         "type": "scatter",
         "x": [
          -21,
          -20,
          -19,
          -18,
          -17,
          -16,
          -15,
          -14,
          -13,
          -12,
          -11,
          -10,
          -9,
          -8,
          -7,
          -6,
          -5,
          -4,
          -3,
          -2,
          -1,
          0,
          1,
          2,
          3,
          4,
          5,
          6,
          7,
          8,
          9,
          10,
          11,
          12,
          13,
          14,
          15,
          16,
          17,
          18,
          19,
          20,
          21,
          22
         ],
         "xaxis": "x",
         "y": [
          0.001922759136778085,
          0.0021429339766532163,
          0.0037536863056930603,
          0.002227071946655057,
          0.008436515228107178,
          0.011107386359332061,
          0.014194252629498916,
          0.012453152218643071,
          0.012098266379392486,
          0.020408506488220013,
          0.02903598780295913,
          0.024277307095849077,
          -0.01854546542251656,
          -0.02264467272374593,
          -0.03282837920616932,
          -0.02228215178961379,
          -0.013011579000910878,
          -0.012865039950296198,
          -0.018836973754275843,
          -0.024066330415070447,
          -0.011554838401400369,
          -0.013690583244449828,
          -0.01794672870688485,
          -0.019442892751751262,
          -0.01627032002010409,
          -0.006145496185345878,
          0.000957952662199002,
          0.014060166114289618,
          0.024061815111039886,
          0.01617336666669611,
          0.013272478980672187,
          0.033918609175557446,
          0.03633015130867134,
          0.040207983236661526,
          0.03040501117298966,
          0.03764405888661626,
          0.023233913632481507,
          0.025330068550811324,
          0.01499454806662981,
          0.012617682350535508,
          0.020451158658920443,
          0.005362104256087408,
          -0.008315767735381119,
          0.015028117839022359
         ],
         "yaxis": "y"
        },
        {
         "hovertemplate": "variable=Sales<br>t=%{x}<br>return=%{y}<extra></extra>",
         "legendgroup": "Sales",
         "line": {
          "color": "#EF553B",
          "dash": "solid"
         },
         "mode": "lines",
         "name": "Sales",
         "orientation": "v",
         "showlegend": true,
         "type": "scatter",
         "x": [
          -21,
          -20,
          -19,
          -18,
          -17,
          -16,
          -15,
          -14,
          -13,
          -12,
          -11,
          -10,
          -9,
          -8,
          -7,
          -6,
          -5,
          -4,
          -3,
          -2,
          -1,
          0,
          1,
          2,
          3,
          4,
          5,
          6,
          7,
          8,
          9,
          10,
          11,
          12,
          13,
          14,
          15,
          16,
          17,
          18,
          19,
          20,
          21,
          22
         ],
         "xaxis": "x",
         "y": [
          0.007756033079873381,
          0.0031369939824492654,
          -0.002347906145080736,
          -0.001350513831058331,
          0.013426847220389337,
          0.005623385380146173,
          -0.005966100092552051,
          -0.005227465023643907,
          -0.0011707064021972968,
          0.006834110663127779,
          0.018821995208663456,
          0.025801667226862834,
          0.0332324107359796,
          0.023312920508353097,
          0.03306350098852695,
          0.04752124349807407,
          0.05492474259824487,
          0.05702737736202357,
          0.05075089628909324,
          0.057583829384247665,
          0.042759029872714516,
          0.04015426061149174,
          0.0323633178850371,
          0.03497492703125804,
          0.0352398855340772,
          0.02149338515772703,
          0.013289315161472137,
          0.03302790699825242,
          0.047423110668323165,
          0.023285940720546128,
          0.024299542653742234,
          0.024619427231226343,
          0.027457391114297014,
          0.04883531039912192,
          0.04464003163547159,
          0.03641588563398246,
          0.043817199804724316,
          0.04771614645577338,
          0.05886133276201533,
          0.04799276661820362,
          0.038236485306082146,
          0.03796299802774805,
          0.04118347895474139,
          0.03570106997920597
         ],
         "yaxis": "y"
        }
       ],
       "layout": {
        "legend": {
         "title": {
          "text": "variable"
         },
         "tracegroupgap": 0
        },
        "margin": {
         "t": 60
        },
        "template": {
         "data": {
          "bar": [
           {
            "error_x": {
             "color": "#2a3f5f"
            },
            "error_y": {
             "color": "#2a3f5f"
            },
            "marker": {
             "line": {
              "color": "#E5ECF6",
              "width": 0.5
             },
             "pattern": {
              "fillmode": "overlay",
              "size": 10,
              "solidity": 0.2
             }
            },
            "type": "bar"
           }
          ],
          "barpolar": [
           {
            "marker": {
             "line": {
              "color": "#E5ECF6",
              "width": 0.5
             },
             "pattern": {
              "fillmode": "overlay",
              "size": 10,
              "solidity": 0.2
             }
            },
            "type": "barpolar"
           }
          ],
          "carpet": [
           {
            "aaxis": {
             "endlinecolor": "#2a3f5f",
             "gridcolor": "white",
             "linecolor": "white",
             "minorgridcolor": "white",
             "startlinecolor": "#2a3f5f"
            },
            "baxis": {
             "endlinecolor": "#2a3f5f",
             "gridcolor": "white",
             "linecolor": "white",
             "minorgridcolor": "white",
             "startlinecolor": "#2a3f5f"
            },
            "type": "carpet"
           }
          ],
          "choropleth": [
           {
            "colorbar": {
             "outlinewidth": 0,
             "ticks": ""
            },
            "type": "choropleth"
           }
          ],
          "contour": [
           {
            "colorbar": {
             "outlinewidth": 0,
             "ticks": ""
            },
            "colorscale": [
             [
              0,
              "#0d0887"
             ],
             [
              0.1111111111111111,
              "#46039f"
             ],
             [
              0.2222222222222222,
              "#7201a8"
             ],
             [
              0.3333333333333333,
              "#9c179e"
             ],
             [
              0.4444444444444444,
              "#bd3786"
             ],
             [
              0.5555555555555556,
              "#d8576b"
             ],
             [
              0.6666666666666666,
              "#ed7953"
             ],
             [
              0.7777777777777778,
              "#fb9f3a"
             ],
             [
              0.8888888888888888,
              "#fdca26"
             ],
             [
              1,
              "#f0f921"
             ]
            ],
            "type": "contour"
           }
          ],
          "contourcarpet": [
           {
            "colorbar": {
             "outlinewidth": 0,
             "ticks": ""
            },
            "type": "contourcarpet"
           }
          ],
          "heatmap": [
           {
            "colorbar": {
             "outlinewidth": 0,
             "ticks": ""
            },
            "colorscale": [
             [
              0,
              "#0d0887"
             ],
             [
              0.1111111111111111,
              "#46039f"
             ],
             [
              0.2222222222222222,
              "#7201a8"
             ],
             [
              0.3333333333333333,
              "#9c179e"
             ],
             [
              0.4444444444444444,
              "#bd3786"
             ],
             [
              0.5555555555555556,
              "#d8576b"
             ],
             [
              0.6666666666666666,
              "#ed7953"
             ],
             [
              0.7777777777777778,
              "#fb9f3a"
             ],
             [
              0.8888888888888888,
              "#fdca26"
             ],
             [
              1,
              "#f0f921"
             ]
            ],
            "type": "heatmap"
           }
          ],
          "heatmapgl": [
           {
            "colorbar": {
             "outlinewidth": 0,
             "ticks": ""
            },
            "colorscale": [
             [
              0,
              "#0d0887"
             ],
             [
              0.1111111111111111,
              "#46039f"
             ],
             [
              0.2222222222222222,
              "#7201a8"
             ],
             [
              0.3333333333333333,
              "#9c179e"
             ],
             [
              0.4444444444444444,
              "#bd3786"
             ],
             [
              0.5555555555555556,
              "#d8576b"
             ],
             [
              0.6666666666666666,
              "#ed7953"
             ],
             [
              0.7777777777777778,
              "#fb9f3a"
             ],
             [
              0.8888888888888888,
              "#fdca26"
             ],
             [
              1,
              "#f0f921"
             ]
            ],
            "type": "heatmapgl"
           }
          ],
          "histogram": [
           {
            "marker": {
             "pattern": {
              "fillmode": "overlay",
              "size": 10,
              "solidity": 0.2
             }
            },
            "type": "histogram"
           }
          ],
          "histogram2d": [
           {
            "colorbar": {
             "outlinewidth": 0,
             "ticks": ""
            },
            "colorscale": [
             [
              0,
              "#0d0887"
             ],
             [
              0.1111111111111111,
              "#46039f"
             ],
             [
              0.2222222222222222,
              "#7201a8"
             ],
             [
              0.3333333333333333,
              "#9c179e"
             ],
             [
              0.4444444444444444,
              "#bd3786"
             ],
             [
              0.5555555555555556,
              "#d8576b"
             ],
             [
              0.6666666666666666,
              "#ed7953"
             ],
             [
              0.7777777777777778,
              "#fb9f3a"
             ],
             [
              0.8888888888888888,
              "#fdca26"
             ],
             [
              1,
              "#f0f921"
             ]
            ],
            "type": "histogram2d"
           }
          ],
          "histogram2dcontour": [
           {
            "colorbar": {
             "outlinewidth": 0,
             "ticks": ""
            },
            "colorscale": [
             [
              0,
              "#0d0887"
             ],
             [
              0.1111111111111111,
              "#46039f"
             ],
             [
              0.2222222222222222,
              "#7201a8"
             ],
             [
              0.3333333333333333,
              "#9c179e"
             ],
             [
              0.4444444444444444,
              "#bd3786"
             ],
             [
              0.5555555555555556,
              "#d8576b"
             ],
             [
              0.6666666666666666,
              "#ed7953"
             ],
             [
              0.7777777777777778,
              "#fb9f3a"
             ],
             [
              0.8888888888888888,
              "#fdca26"
             ],
             [
              1,
              "#f0f921"
             ]
            ],
            "type": "histogram2dcontour"
           }
          ],
          "mesh3d": [
           {
            "colorbar": {
             "outlinewidth": 0,
             "ticks": ""
            },
            "type": "mesh3d"
           }
          ],
          "parcoords": [
           {
            "line": {
             "colorbar": {
              "outlinewidth": 0,
              "ticks": ""
             }
            },
            "type": "parcoords"
           }
          ],
          "pie": [
           {
            "automargin": true,
            "type": "pie"
           }
          ],
          "scatter": [
           {
            "marker": {
             "colorbar": {
              "outlinewidth": 0,
              "ticks": ""
             }
            },
            "type": "scatter"
           }
          ],
          "scatter3d": [
           {
            "line": {
             "colorbar": {
              "outlinewidth": 0,
              "ticks": ""
             }
            },
            "marker": {
             "colorbar": {
              "outlinewidth": 0,
              "ticks": ""
             }
            },
            "type": "scatter3d"
           }
          ],
          "scattercarpet": [
           {
            "marker": {
             "colorbar": {
              "outlinewidth": 0,
              "ticks": ""
             }
            },
            "type": "scattercarpet"
           }
          ],
          "scattergeo": [
           {
            "marker": {
             "colorbar": {
              "outlinewidth": 0,
              "ticks": ""
             }
            },
            "type": "scattergeo"
           }
          ],
          "scattergl": [
           {
            "marker": {
             "colorbar": {
              "outlinewidth": 0,
              "ticks": ""
             }
            },
            "type": "scattergl"
           }
          ],
          "scattermapbox": [
           {
            "marker": {
             "colorbar": {
              "outlinewidth": 0,
              "ticks": ""
             }
            },
            "type": "scattermapbox"
           }
          ],
          "scatterpolar": [
           {
            "marker": {
             "colorbar": {
              "outlinewidth": 0,
              "ticks": ""
             }
            },
            "type": "scatterpolar"
           }
          ],
          "scatterpolargl": [
           {
            "marker": {
             "colorbar": {
              "outlinewidth": 0,
              "ticks": ""
             }
            },
            "type": "scatterpolargl"
           }
          ],
          "scatterternary": [
           {
            "marker": {
             "colorbar": {
              "outlinewidth": 0,
              "ticks": ""
             }
            },
            "type": "scatterternary"
           }
          ],
          "surface": [
           {
            "colorbar": {
             "outlinewidth": 0,
             "ticks": ""
            },
            "colorscale": [
             [
              0,
              "#0d0887"
             ],
             [
              0.1111111111111111,
              "#46039f"
             ],
             [
              0.2222222222222222,
              "#7201a8"
             ],
             [
              0.3333333333333333,
              "#9c179e"
             ],
             [
              0.4444444444444444,
              "#bd3786"
             ],
             [
              0.5555555555555556,
              "#d8576b"
             ],
             [
              0.6666666666666666,
              "#ed7953"
             ],
             [
              0.7777777777777778,
              "#fb9f3a"
             ],
             [
              0.8888888888888888,
              "#fdca26"
             ],
             [
              1,
              "#f0f921"
             ]
            ],
            "type": "surface"
           }
          ],
          "table": [
           {
            "cells": {
             "fill": {
              "color": "#EBF0F8"
             },
             "line": {
              "color": "white"
             }
            },
            "header": {
             "fill": {
              "color": "#C8D4E3"
             },
             "line": {
              "color": "white"
             }
            },
            "type": "table"
           }
          ]
         },
         "layout": {
          "annotationdefaults": {
           "arrowcolor": "#2a3f5f",
           "arrowhead": 0,
           "arrowwidth": 1
          },
          "autotypenumbers": "strict",
          "coloraxis": {
           "colorbar": {
            "outlinewidth": 0,
            "ticks": ""
           }
          },
          "colorscale": {
           "diverging": [
            [
             0,
             "#8e0152"
            ],
            [
             0.1,
             "#c51b7d"
            ],
            [
             0.2,
             "#de77ae"
            ],
            [
             0.3,
             "#f1b6da"
            ],
            [
             0.4,
             "#fde0ef"
            ],
            [
             0.5,
             "#f7f7f7"
            ],
            [
             0.6,
             "#e6f5d0"
            ],
            [
             0.7,
             "#b8e186"
            ],
            [
             0.8,
             "#7fbc41"
            ],
            [
             0.9,
             "#4d9221"
            ],
            [
             1,
             "#276419"
            ]
           ],
           "sequential": [
            [
             0,
             "#0d0887"
            ],
            [
             0.1111111111111111,
             "#46039f"
            ],
            [
             0.2222222222222222,
             "#7201a8"
            ],
            [
             0.3333333333333333,
             "#9c179e"
            ],
            [
             0.4444444444444444,
             "#bd3786"
            ],
            [
             0.5555555555555556,
             "#d8576b"
            ],
            [
             0.6666666666666666,
             "#ed7953"
            ],
            [
             0.7777777777777778,
             "#fb9f3a"
            ],
            [
             0.8888888888888888,
             "#fdca26"
            ],
            [
             1,
             "#f0f921"
            ]
           ],
           "sequentialminus": [
            [
             0,
             "#0d0887"
            ],
            [
             0.1111111111111111,
             "#46039f"
            ],
            [
             0.2222222222222222,
             "#7201a8"
            ],
            [
             0.3333333333333333,
             "#9c179e"
            ],
            [
             0.4444444444444444,
             "#bd3786"
            ],
            [
             0.5555555555555556,
             "#d8576b"
            ],
            [
             0.6666666666666666,
             "#ed7953"
            ],
            [
             0.7777777777777778,
             "#fb9f3a"
            ],
            [
             0.8888888888888888,
             "#fdca26"
            ],
            [
             1,
             "#f0f921"
            ]
           ]
          },
          "colorway": [
           "#636efa",
           "#EF553B",
           "#00cc96",
           "#ab63fa",
           "#FFA15A",
           "#19d3f3",
           "#FF6692",
           "#B6E880",
           "#FF97FF",
           "#FECB52"
          ],
          "font": {
           "color": "#2a3f5f"
          },
          "geo": {
           "bgcolor": "white",
           "lakecolor": "white",
           "landcolor": "#E5ECF6",
           "showlakes": true,
           "showland": true,
           "subunitcolor": "white"
          },
          "hoverlabel": {
           "align": "left"
          },
          "hovermode": "closest",
          "mapbox": {
           "style": "light"
          },
          "paper_bgcolor": "white",
          "plot_bgcolor": "#E5ECF6",
          "polar": {
           "angularaxis": {
            "gridcolor": "white",
            "linecolor": "white",
            "ticks": ""
           },
           "bgcolor": "#E5ECF6",
           "radialaxis": {
            "gridcolor": "white",
            "linecolor": "white",
            "ticks": ""
           }
          },
          "scene": {
           "xaxis": {
            "backgroundcolor": "#E5ECF6",
            "gridcolor": "white",
            "gridwidth": 2,
            "linecolor": "white",
            "showbackground": true,
            "ticks": "",
            "zerolinecolor": "white"
           },
           "yaxis": {
            "backgroundcolor": "#E5ECF6",
            "gridcolor": "white",
            "gridwidth": 2,
            "linecolor": "white",
            "showbackground": true,
            "ticks": "",
            "zerolinecolor": "white"
           },
           "zaxis": {
            "backgroundcolor": "#E5ECF6",
            "gridcolor": "white",
            "gridwidth": 2,
            "linecolor": "white",
            "showbackground": true,
            "ticks": "",
            "zerolinecolor": "white"
           }
          },
          "shapedefaults": {
           "line": {
            "color": "#2a3f5f"
           }
          },
          "ternary": {
           "aaxis": {
            "gridcolor": "white",
            "linecolor": "white",
            "ticks": ""
           },
           "baxis": {
            "gridcolor": "white",
            "linecolor": "white",
            "ticks": ""
           },
           "bgcolor": "#E5ECF6",
           "caxis": {
            "gridcolor": "white",
            "linecolor": "white",
            "ticks": ""
           }
          },
          "title": {
           "x": 0.05
          },
          "xaxis": {
           "automargin": true,
           "gridcolor": "white",
           "linecolor": "white",
           "ticks": "",
           "title": {
            "standoff": 15
           },
           "zerolinecolor": "white",
           "zerolinewidth": 2
          },
          "yaxis": {
           "automargin": true,
           "gridcolor": "white",
           "linecolor": "white",
           "ticks": "",
           "title": {
            "standoff": 15
           },
           "zerolinecolor": "white",
           "zerolinewidth": 2
          }
         }
        },
        "xaxis": {
         "anchor": "y",
         "domain": [
          0,
          1
         ],
         "title": {
          "text": "t"
         }
        },
        "yaxis": {
         "anchor": "x",
         "domain": [
          0,
          1
         ],
         "title": {
          "text": "return"
         }
        }
       }
      },
      "text/html": [
       "<div>                            <div id=\"75e367ba-582e-4a08-9a9d-048aeeeef9a5\" class=\"plotly-graph-div\" style=\"height:525px; width:100%;\"></div>            <script type=\"text/javascript\">                require([\"plotly\"], function(Plotly) {                    window.PLOTLYENV=window.PLOTLYENV || {};                                    if (document.getElementById(\"75e367ba-582e-4a08-9a9d-048aeeeef9a5\")) {                    Plotly.newPlot(                        \"75e367ba-582e-4a08-9a9d-048aeeeef9a5\",                        [{\"hovertemplate\":\"variable=Purchases<br>t=%{x}<br>return=%{y}<extra></extra>\",\"legendgroup\":\"Purchases\",\"line\":{\"color\":\"#636efa\",\"dash\":\"solid\"},\"mode\":\"lines\",\"name\":\"Purchases\",\"orientation\":\"v\",\"showlegend\":true,\"type\":\"scatter\",\"x\":[-21,-20,-19,-18,-17,-16,-15,-14,-13,-12,-11,-10,-9,-8,-7,-6,-5,-4,-3,-2,-1,0,1,2,3,4,5,6,7,8,9,10,11,12,13,14,15,16,17,18,19,20,21,22],\"xaxis\":\"x\",\"y\":[0.001922759136778085,0.0021429339766532163,0.0037536863056930603,0.002227071946655057,0.008436515228107178,0.011107386359332061,0.014194252629498916,0.012453152218643071,0.012098266379392486,0.020408506488220013,0.02903598780295913,0.024277307095849077,-0.01854546542251656,-0.02264467272374593,-0.03282837920616932,-0.02228215178961379,-0.013011579000910878,-0.012865039950296198,-0.018836973754275843,-0.024066330415070447,-0.011554838401400369,-0.013690583244449828,-0.01794672870688485,-0.019442892751751262,-0.01627032002010409,-0.006145496185345878,0.000957952662199002,0.014060166114289618,0.024061815111039886,0.01617336666669611,0.013272478980672187,0.033918609175557446,0.03633015130867134,0.040207983236661526,0.03040501117298966,0.03764405888661626,0.023233913632481507,0.025330068550811324,0.01499454806662981,0.012617682350535508,0.020451158658920443,0.005362104256087408,-0.008315767735381119,0.015028117839022359],\"yaxis\":\"y\"},{\"hovertemplate\":\"variable=Sales<br>t=%{x}<br>return=%{y}<extra></extra>\",\"legendgroup\":\"Sales\",\"line\":{\"color\":\"#EF553B\",\"dash\":\"solid\"},\"mode\":\"lines\",\"name\":\"Sales\",\"orientation\":\"v\",\"showlegend\":true,\"type\":\"scatter\",\"x\":[-21,-20,-19,-18,-17,-16,-15,-14,-13,-12,-11,-10,-9,-8,-7,-6,-5,-4,-3,-2,-1,0,1,2,3,4,5,6,7,8,9,10,11,12,13,14,15,16,17,18,19,20,21,22],\"xaxis\":\"x\",\"y\":[0.007756033079873381,0.0031369939824492654,-0.002347906145080736,-0.001350513831058331,0.013426847220389337,0.005623385380146173,-0.005966100092552051,-0.005227465023643907,-0.0011707064021972968,0.006834110663127779,0.018821995208663456,0.025801667226862834,0.0332324107359796,0.023312920508353097,0.03306350098852695,0.04752124349807407,0.05492474259824487,0.05702737736202357,0.05075089628909324,0.057583829384247665,0.042759029872714516,0.04015426061149174,0.0323633178850371,0.03497492703125804,0.0352398855340772,0.02149338515772703,0.013289315161472137,0.03302790699825242,0.047423110668323165,0.023285940720546128,0.024299542653742234,0.024619427231226343,0.027457391114297014,0.04883531039912192,0.04464003163547159,0.03641588563398246,0.043817199804724316,0.04771614645577338,0.05886133276201533,0.04799276661820362,0.038236485306082146,0.03796299802774805,0.04118347895474139,0.03570106997920597],\"yaxis\":\"y\"}],                        {\"legend\":{\"title\":{\"text\":\"variable\"},\"tracegroupgap\":0},\"margin\":{\"t\":60},\"template\":{\"data\":{\"bar\":[{\"error_x\":{\"color\":\"#2a3f5f\"},\"error_y\":{\"color\":\"#2a3f5f\"},\"marker\":{\"line\":{\"color\":\"#E5ECF6\",\"width\":0.5},\"pattern\":{\"fillmode\":\"overlay\",\"size\":10,\"solidity\":0.2}},\"type\":\"bar\"}],\"barpolar\":[{\"marker\":{\"line\":{\"color\":\"#E5ECF6\",\"width\":0.5},\"pattern\":{\"fillmode\":\"overlay\",\"size\":10,\"solidity\":0.2}},\"type\":\"barpolar\"}],\"carpet\":[{\"aaxis\":{\"endlinecolor\":\"#2a3f5f\",\"gridcolor\":\"white\",\"linecolor\":\"white\",\"minorgridcolor\":\"white\",\"startlinecolor\":\"#2a3f5f\"},\"baxis\":{\"endlinecolor\":\"#2a3f5f\",\"gridcolor\":\"white\",\"linecolor\":\"white\",\"minorgridcolor\":\"white\",\"startlinecolor\":\"#2a3f5f\"},\"type\":\"carpet\"}],\"choropleth\":[{\"colorbar\":{\"outlinewidth\":0,\"ticks\":\"\"},\"type\":\"choropleth\"}],\"contour\":[{\"colorbar\":{\"outlinewidth\":0,\"ticks\":\"\"},\"colorscale\":[[0.0,\"#0d0887\"],[0.1111111111111111,\"#46039f\"],[0.2222222222222222,\"#7201a8\"],[0.3333333333333333,\"#9c179e\"],[0.4444444444444444,\"#bd3786\"],[0.5555555555555556,\"#d8576b\"],[0.6666666666666666,\"#ed7953\"],[0.7777777777777778,\"#fb9f3a\"],[0.8888888888888888,\"#fdca26\"],[1.0,\"#f0f921\"]],\"type\":\"contour\"}],\"contourcarpet\":[{\"colorbar\":{\"outlinewidth\":0,\"ticks\":\"\"},\"type\":\"contourcarpet\"}],\"heatmap\":[{\"colorbar\":{\"outlinewidth\":0,\"ticks\":\"\"},\"colorscale\":[[0.0,\"#0d0887\"],[0.1111111111111111,\"#46039f\"],[0.2222222222222222,\"#7201a8\"],[0.3333333333333333,\"#9c179e\"],[0.4444444444444444,\"#bd3786\"],[0.5555555555555556,\"#d8576b\"],[0.6666666666666666,\"#ed7953\"],[0.7777777777777778,\"#fb9f3a\"],[0.8888888888888888,\"#fdca26\"],[1.0,\"#f0f921\"]],\"type\":\"heatmap\"}],\"heatmapgl\":[{\"colorbar\":{\"outlinewidth\":0,\"ticks\":\"\"},\"colorscale\":[[0.0,\"#0d0887\"],[0.1111111111111111,\"#46039f\"],[0.2222222222222222,\"#7201a8\"],[0.3333333333333333,\"#9c179e\"],[0.4444444444444444,\"#bd3786\"],[0.5555555555555556,\"#d8576b\"],[0.6666666666666666,\"#ed7953\"],[0.7777777777777778,\"#fb9f3a\"],[0.8888888888888888,\"#fdca26\"],[1.0,\"#f0f921\"]],\"type\":\"heatmapgl\"}],\"histogram\":[{\"marker\":{\"pattern\":{\"fillmode\":\"overlay\",\"size\":10,\"solidity\":0.2}},\"type\":\"histogram\"}],\"histogram2d\":[{\"colorbar\":{\"outlinewidth\":0,\"ticks\":\"\"},\"colorscale\":[[0.0,\"#0d0887\"],[0.1111111111111111,\"#46039f\"],[0.2222222222222222,\"#7201a8\"],[0.3333333333333333,\"#9c179e\"],[0.4444444444444444,\"#bd3786\"],[0.5555555555555556,\"#d8576b\"],[0.6666666666666666,\"#ed7953\"],[0.7777777777777778,\"#fb9f3a\"],[0.8888888888888888,\"#fdca26\"],[1.0,\"#f0f921\"]],\"type\":\"histogram2d\"}],\"histogram2dcontour\":[{\"colorbar\":{\"outlinewidth\":0,\"ticks\":\"\"},\"colorscale\":[[0.0,\"#0d0887\"],[0.1111111111111111,\"#46039f\"],[0.2222222222222222,\"#7201a8\"],[0.3333333333333333,\"#9c179e\"],[0.4444444444444444,\"#bd3786\"],[0.5555555555555556,\"#d8576b\"],[0.6666666666666666,\"#ed7953\"],[0.7777777777777778,\"#fb9f3a\"],[0.8888888888888888,\"#fdca26\"],[1.0,\"#f0f921\"]],\"type\":\"histogram2dcontour\"}],\"mesh3d\":[{\"colorbar\":{\"outlinewidth\":0,\"ticks\":\"\"},\"type\":\"mesh3d\"}],\"parcoords\":[{\"line\":{\"colorbar\":{\"outlinewidth\":0,\"ticks\":\"\"}},\"type\":\"parcoords\"}],\"pie\":[{\"automargin\":true,\"type\":\"pie\"}],\"scatter\":[{\"marker\":{\"colorbar\":{\"outlinewidth\":0,\"ticks\":\"\"}},\"type\":\"scatter\"}],\"scatter3d\":[{\"line\":{\"colorbar\":{\"outlinewidth\":0,\"ticks\":\"\"}},\"marker\":{\"colorbar\":{\"outlinewidth\":0,\"ticks\":\"\"}},\"type\":\"scatter3d\"}],\"scattercarpet\":[{\"marker\":{\"colorbar\":{\"outlinewidth\":0,\"ticks\":\"\"}},\"type\":\"scattercarpet\"}],\"scattergeo\":[{\"marker\":{\"colorbar\":{\"outlinewidth\":0,\"ticks\":\"\"}},\"type\":\"scattergeo\"}],\"scattergl\":[{\"marker\":{\"colorbar\":{\"outlinewidth\":0,\"ticks\":\"\"}},\"type\":\"scattergl\"}],\"scattermapbox\":[{\"marker\":{\"colorbar\":{\"outlinewidth\":0,\"ticks\":\"\"}},\"type\":\"scattermapbox\"}],\"scatterpolar\":[{\"marker\":{\"colorbar\":{\"outlinewidth\":0,\"ticks\":\"\"}},\"type\":\"scatterpolar\"}],\"scatterpolargl\":[{\"marker\":{\"colorbar\":{\"outlinewidth\":0,\"ticks\":\"\"}},\"type\":\"scatterpolargl\"}],\"scatterternary\":[{\"marker\":{\"colorbar\":{\"outlinewidth\":0,\"ticks\":\"\"}},\"type\":\"scatterternary\"}],\"surface\":[{\"colorbar\":{\"outlinewidth\":0,\"ticks\":\"\"},\"colorscale\":[[0.0,\"#0d0887\"],[0.1111111111111111,\"#46039f\"],[0.2222222222222222,\"#7201a8\"],[0.3333333333333333,\"#9c179e\"],[0.4444444444444444,\"#bd3786\"],[0.5555555555555556,\"#d8576b\"],[0.6666666666666666,\"#ed7953\"],[0.7777777777777778,\"#fb9f3a\"],[0.8888888888888888,\"#fdca26\"],[1.0,\"#f0f921\"]],\"type\":\"surface\"}],\"table\":[{\"cells\":{\"fill\":{\"color\":\"#EBF0F8\"},\"line\":{\"color\":\"white\"}},\"header\":{\"fill\":{\"color\":\"#C8D4E3\"},\"line\":{\"color\":\"white\"}},\"type\":\"table\"}]},\"layout\":{\"annotationdefaults\":{\"arrowcolor\":\"#2a3f5f\",\"arrowhead\":0,\"arrowwidth\":1},\"autotypenumbers\":\"strict\",\"coloraxis\":{\"colorbar\":{\"outlinewidth\":0,\"ticks\":\"\"}},\"colorscale\":{\"diverging\":[[0,\"#8e0152\"],[0.1,\"#c51b7d\"],[0.2,\"#de77ae\"],[0.3,\"#f1b6da\"],[0.4,\"#fde0ef\"],[0.5,\"#f7f7f7\"],[0.6,\"#e6f5d0\"],[0.7,\"#b8e186\"],[0.8,\"#7fbc41\"],[0.9,\"#4d9221\"],[1,\"#276419\"]],\"sequential\":[[0.0,\"#0d0887\"],[0.1111111111111111,\"#46039f\"],[0.2222222222222222,\"#7201a8\"],[0.3333333333333333,\"#9c179e\"],[0.4444444444444444,\"#bd3786\"],[0.5555555555555556,\"#d8576b\"],[0.6666666666666666,\"#ed7953\"],[0.7777777777777778,\"#fb9f3a\"],[0.8888888888888888,\"#fdca26\"],[1.0,\"#f0f921\"]],\"sequentialminus\":[[0.0,\"#0d0887\"],[0.1111111111111111,\"#46039f\"],[0.2222222222222222,\"#7201a8\"],[0.3333333333333333,\"#9c179e\"],[0.4444444444444444,\"#bd3786\"],[0.5555555555555556,\"#d8576b\"],[0.6666666666666666,\"#ed7953\"],[0.7777777777777778,\"#fb9f3a\"],[0.8888888888888888,\"#fdca26\"],[1.0,\"#f0f921\"]]},\"colorway\":[\"#636efa\",\"#EF553B\",\"#00cc96\",\"#ab63fa\",\"#FFA15A\",\"#19d3f3\",\"#FF6692\",\"#B6E880\",\"#FF97FF\",\"#FECB52\"],\"font\":{\"color\":\"#2a3f5f\"},\"geo\":{\"bgcolor\":\"white\",\"lakecolor\":\"white\",\"landcolor\":\"#E5ECF6\",\"showlakes\":true,\"showland\":true,\"subunitcolor\":\"white\"},\"hoverlabel\":{\"align\":\"left\"},\"hovermode\":\"closest\",\"mapbox\":{\"style\":\"light\"},\"paper_bgcolor\":\"white\",\"plot_bgcolor\":\"#E5ECF6\",\"polar\":{\"angularaxis\":{\"gridcolor\":\"white\",\"linecolor\":\"white\",\"ticks\":\"\"},\"bgcolor\":\"#E5ECF6\",\"radialaxis\":{\"gridcolor\":\"white\",\"linecolor\":\"white\",\"ticks\":\"\"}},\"scene\":{\"xaxis\":{\"backgroundcolor\":\"#E5ECF6\",\"gridcolor\":\"white\",\"gridwidth\":2,\"linecolor\":\"white\",\"showbackground\":true,\"ticks\":\"\",\"zerolinecolor\":\"white\"},\"yaxis\":{\"backgroundcolor\":\"#E5ECF6\",\"gridcolor\":\"white\",\"gridwidth\":2,\"linecolor\":\"white\",\"showbackground\":true,\"ticks\":\"\",\"zerolinecolor\":\"white\"},\"zaxis\":{\"backgroundcolor\":\"#E5ECF6\",\"gridcolor\":\"white\",\"gridwidth\":2,\"linecolor\":\"white\",\"showbackground\":true,\"ticks\":\"\",\"zerolinecolor\":\"white\"}},\"shapedefaults\":{\"line\":{\"color\":\"#2a3f5f\"}},\"ternary\":{\"aaxis\":{\"gridcolor\":\"white\",\"linecolor\":\"white\",\"ticks\":\"\"},\"baxis\":{\"gridcolor\":\"white\",\"linecolor\":\"white\",\"ticks\":\"\"},\"bgcolor\":\"#E5ECF6\",\"caxis\":{\"gridcolor\":\"white\",\"linecolor\":\"white\",\"ticks\":\"\"}},\"title\":{\"x\":0.05},\"xaxis\":{\"automargin\":true,\"gridcolor\":\"white\",\"linecolor\":\"white\",\"ticks\":\"\",\"title\":{\"standoff\":15},\"zerolinecolor\":\"white\",\"zerolinewidth\":2},\"yaxis\":{\"automargin\":true,\"gridcolor\":\"white\",\"linecolor\":\"white\",\"ticks\":\"\",\"title\":{\"standoff\":15},\"zerolinecolor\":\"white\",\"zerolinewidth\":2}}},\"xaxis\":{\"anchor\":\"y\",\"domain\":[0.0,1.0],\"title\":{\"text\":\"t\"}},\"yaxis\":{\"anchor\":\"x\",\"domain\":[0.0,1.0],\"title\":{\"text\":\"return\"}}},                        {\"responsive\": true}                    ).then(function(){\n",
       "                            \n",
       "var gd = document.getElementById('75e367ba-582e-4a08-9a9d-048aeeeef9a5');\n",
       "var x = new MutationObserver(function (mutations, observer) {{\n",
       "        var display = window.getComputedStyle(gd).display;\n",
       "        if (!display || display === 'none') {{\n",
       "            console.log([gd, 'removed!']);\n",
       "            Plotly.purge(gd);\n",
       "            observer.disconnect();\n",
       "        }}\n",
       "}});\n",
       "\n",
       "// Listen for the removal of the full notebook cells\n",
       "var notebookContainer = gd.closest('#notebook-container');\n",
       "if (notebookContainer) {{\n",
       "    x.observe(notebookContainer, {childList: true});\n",
       "}}\n",
       "\n",
       "// Listen for the clearing of the current output cell\n",
       "var outputEl = gd.closest('.output');\n",
       "if (outputEl) {{\n",
       "    x.observe(outputEl, {childList: true});\n",
       "}}\n",
       "\n",
       "                        })                };                });            </script>        </div>"
      ]
     },
     "metadata": {},
     "output_type": "display_data"
    }
   ],
   "source": [
    "amount_midpoint_map = {\n",
    "    '$1,001 - $15,000': 8000.5,\n",
    "    '$15,001 - $50,000': 32500.5,\n",
    "    '$50,001 - $100,000': 75000.5,\n",
    "    '$100,001 - $250,000':125000.5,\n",
    "    '$250,001 - $500,000':375000.5,\n",
    "    '$1,000,001 - $5,000,000':2500000.5,\n",
    "    '$5,000,001 - $25,000,000':15000000.5,\n",
    "}\n",
    "\n",
    "def cumulative_returns_weight_by_amount(tr_type):\n",
    "    daily = daily_returns[daily_returns['type'] == tr_type].drop(columns=['type', 'ticker'])\n",
    "    weight = daily['amount'].map(lambda a: amount_midpoint_map[a])\n",
    "    cumulative = (daily.iloc[:,:-1]+1).cumprod(axis=1)\n",
    "    cumulative = cumulative.mul(weight, axis=0)\n",
    "    return cumulative.sum() / weight.sum() - 1\n",
    "\n",
    "df = pd.DataFrame({\"Purchases\": cumulative_returns_weight_by_amount('Purchase'), \"Sales\": cumulative_returns_weight_by_amount('Sale')})\n",
    "px.line(df, labels={\"index\":\"t\", \"value\": \"return\"})"
   ]
  },
  {
   "cell_type": "code",
   "execution_count": 16,
   "id": "refined-miami",
   "metadata": {},
   "outputs": [],
   "source": [
    "# def graph2(tr_type):\n",
    "#     daily = daily_returns[daily_returns['type'] == tr_type]\n",
    "#     daily = daily.drop(columns=['type'])\n",
    "#     daily = daily.mean()\n",
    "#     cumulative = (daily + 1).cumprod()\n",
    "#     return cumulative - 1\n",
    "\n",
    "# plt.plot(graph2('Purchase'))\n",
    "# plt.plot(graph2('Sale'))"
   ]
  },
  {
   "cell_type": "code",
   "execution_count": 17,
   "id": "motivated-mayor",
   "metadata": {},
   "outputs": [
    {
     "data": {
      "text/html": [
       "<div>\n",
       "<style scoped>\n",
       "    .dataframe tbody tr th:only-of-type {\n",
       "        vertical-align: middle;\n",
       "    }\n",
       "\n",
       "    .dataframe tbody tr th {\n",
       "        vertical-align: top;\n",
       "    }\n",
       "\n",
       "    .dataframe thead th {\n",
       "        text-align: right;\n",
       "    }\n",
       "</style>\n",
       "<table border=\"1\" class=\"dataframe\">\n",
       "  <thead>\n",
       "    <tr style=\"text-align: right;\">\n",
       "      <th></th>\n",
       "      <th>Senator</th>\n",
       "      <th>Party</th>\n",
       "      <th>Born</th>\n",
       "      <th>Occupation(s)</th>\n",
       "      <th>Assumed office</th>\n",
       "      <th>age</th>\n",
       "      <th>in_office</th>\n",
       "    </tr>\n",
       "    <tr>\n",
       "      <th>Name</th>\n",
       "      <th></th>\n",
       "      <th></th>\n",
       "      <th></th>\n",
       "      <th></th>\n",
       "      <th></th>\n",
       "      <th></th>\n",
       "      <th></th>\n",
       "    </tr>\n",
       "  </thead>\n",
       "  <tbody>\n",
       "    <tr>\n",
       "      <th>Dianne Feinstein</th>\n",
       "      <td>Dianne Feinstein</td>\n",
       "      <td>Democratic</td>\n",
       "      <td>1933-06-22</td>\n",
       "      <td>Non-profit organization fellow; Member, Califo...</td>\n",
       "      <td>1992-11-10</td>\n",
       "      <td>87</td>\n",
       "      <td>28</td>\n",
       "    </tr>\n",
       "    <tr>\n",
       "      <th>Chuck Grassley</th>\n",
       "      <td>Chuck Grassley</td>\n",
       "      <td>Republican</td>\n",
       "      <td>1933-09-17</td>\n",
       "      <td>Farmer; College professor</td>\n",
       "      <td>1981-01-03</td>\n",
       "      <td>87</td>\n",
       "      <td>39</td>\n",
       "    </tr>\n",
       "    <tr>\n",
       "      <th>Richard Shelby</th>\n",
       "      <td>Richard Shelby</td>\n",
       "      <td>Republican</td>\n",
       "      <td>1934-05-06</td>\n",
       "      <td>Lawyer</td>\n",
       "      <td>1987-01-03</td>\n",
       "      <td>86</td>\n",
       "      <td>33</td>\n",
       "    </tr>\n",
       "    <tr>\n",
       "      <th>James M Inhofe</th>\n",
       "      <td>Jim Inhofe</td>\n",
       "      <td>Republican</td>\n",
       "      <td>1934-11-17</td>\n",
       "      <td>Specialist Fourth Class, U.S. Army; Businessma...</td>\n",
       "      <td>1994-11-16</td>\n",
       "      <td>86</td>\n",
       "      <td>26</td>\n",
       "    </tr>\n",
       "    <tr>\n",
       "      <th>Patrick Leahy</th>\n",
       "      <td>Patrick Leahy</td>\n",
       "      <td>Democratic</td>\n",
       "      <td>1940-03-31</td>\n",
       "      <td>Lawyer</td>\n",
       "      <td>1975-01-03</td>\n",
       "      <td>80</td>\n",
       "      <td>45</td>\n",
       "    </tr>\n",
       "    <tr>\n",
       "      <th>...</th>\n",
       "      <td>...</td>\n",
       "      <td>...</td>\n",
       "      <td>...</td>\n",
       "      <td>...</td>\n",
       "      <td>...</td>\n",
       "      <td>...</td>\n",
       "      <td>...</td>\n",
       "    </tr>\n",
       "    <tr>\n",
       "      <th>Josh Hawley</th>\n",
       "      <td>Josh Hawley</td>\n",
       "      <td>Republican</td>\n",
       "      <td>1979-12-31</td>\n",
       "      <td>Lawyer; Professor</td>\n",
       "      <td>2019-01-03</td>\n",
       "      <td>41</td>\n",
       "      <td>1</td>\n",
       "    </tr>\n",
       "    <tr>\n",
       "      <th>Jon Ossoff</th>\n",
       "      <td>Jon Ossoff</td>\n",
       "      <td>Democratic</td>\n",
       "      <td>1987-02-16</td>\n",
       "      <td>Investigative journalist; Documentary film pro...</td>\n",
       "      <td>2021-01-20</td>\n",
       "      <td>33</td>\n",
       "      <td>-1</td>\n",
       "    </tr>\n",
       "    <tr>\n",
       "      <th>David A Perdue , Jr</th>\n",
       "      <td>David Perdue</td>\n",
       "      <td>Republican</td>\n",
       "      <td>1949-12-10</td>\n",
       "      <td>Corporate executive</td>\n",
       "      <td>2015-03-01</td>\n",
       "      <td>71</td>\n",
       "      <td>5</td>\n",
       "    </tr>\n",
       "    <tr>\n",
       "      <th>Kelly Loeffler</th>\n",
       "      <td>Kelly Loeffler</td>\n",
       "      <td>Republican</td>\n",
       "      <td>1970-11-27</td>\n",
       "      <td>Corporate executive</td>\n",
       "      <td>2020-06-01</td>\n",
       "      <td>50</td>\n",
       "      <td>0</td>\n",
       "    </tr>\n",
       "    <tr>\n",
       "      <th>Pat Roberts</th>\n",
       "      <td>Pat Roberts</td>\n",
       "      <td>Republican</td>\n",
       "      <td>1936-04-20</td>\n",
       "      <td>United States Marine Corps officer; Journalist...</td>\n",
       "      <td>1997-03-01</td>\n",
       "      <td>84</td>\n",
       "      <td>23</td>\n",
       "    </tr>\n",
       "  </tbody>\n",
       "</table>\n",
       "<p>103 rows × 7 columns</p>\n",
       "</div>"
      ],
      "text/plain": [
       "                              Senator       Party       Born  \\\n",
       "Name                                                           \n",
       "Dianne Feinstein     Dianne Feinstein  Democratic 1933-06-22   \n",
       "Chuck Grassley         Chuck Grassley  Republican 1933-09-17   \n",
       "Richard Shelby         Richard Shelby  Republican 1934-05-06   \n",
       "James M Inhofe             Jim Inhofe  Republican 1934-11-17   \n",
       "Patrick Leahy           Patrick Leahy  Democratic 1940-03-31   \n",
       "...                               ...         ...        ...   \n",
       "Josh Hawley               Josh Hawley  Republican 1979-12-31   \n",
       "Jon Ossoff                 Jon Ossoff  Democratic 1987-02-16   \n",
       "David A Perdue , Jr      David Perdue  Republican 1949-12-10   \n",
       "Kelly Loeffler         Kelly Loeffler  Republican 1970-11-27   \n",
       "Pat Roberts               Pat Roberts  Republican 1936-04-20   \n",
       "\n",
       "                                                         Occupation(s)  \\\n",
       "Name                                                                     \n",
       "Dianne Feinstein     Non-profit organization fellow; Member, Califo...   \n",
       "Chuck Grassley                               Farmer; College professor   \n",
       "Richard Shelby                                                  Lawyer   \n",
       "James M Inhofe       Specialist Fourth Class, U.S. Army; Businessma...   \n",
       "Patrick Leahy                                                   Lawyer   \n",
       "...                                                                ...   \n",
       "Josh Hawley                                          Lawyer; Professor   \n",
       "Jon Ossoff           Investigative journalist; Documentary film pro...   \n",
       "David A Perdue , Jr                                Corporate executive   \n",
       "Kelly Loeffler                                     Corporate executive   \n",
       "Pat Roberts          United States Marine Corps officer; Journalist...   \n",
       "\n",
       "                    Assumed office  age  in_office  \n",
       "Name                                                \n",
       "Dianne Feinstein        1992-11-10   87         28  \n",
       "Chuck Grassley          1981-01-03   87         39  \n",
       "Richard Shelby          1987-01-03   86         33  \n",
       "James M Inhofe          1994-11-16   86         26  \n",
       "Patrick Leahy           1975-01-03   80         45  \n",
       "...                            ...  ...        ...  \n",
       "Josh Hawley             2019-01-03   41          1  \n",
       "Jon Ossoff              2021-01-20   33         -1  \n",
       "David A Perdue , Jr     2015-03-01   71          5  \n",
       "Kelly Loeffler          2020-06-01   50          0  \n",
       "Pat Roberts             1997-03-01   84         23  \n",
       "\n",
       "[103 rows x 7 columns]"
      ]
     },
     "execution_count": 17,
     "metadata": {},
     "output_type": "execute_result"
    }
   ],
   "source": [
    "senators = pd.read_excel('senate_members.xlsx', index_col=0)\n",
    "senators['age'] = 2020 - senators['Born'].dt.year\n",
    "senators['in_office'] = 2020 - senators['Assumed office'].dt.year\n",
    "senators.drop(columns=['Unnamed: 6'], inplace=True)\n",
    "senators"
   ]
  },
  {
   "cell_type": "code",
   "execution_count": 18,
   "id": "artistic-glance",
   "metadata": {},
   "outputs": [
    {
     "data": {
      "text/html": [
       "<div>\n",
       "<style scoped>\n",
       "    .dataframe tbody tr th:only-of-type {\n",
       "        vertical-align: middle;\n",
       "    }\n",
       "\n",
       "    .dataframe tbody tr th {\n",
       "        vertical-align: top;\n",
       "    }\n",
       "\n",
       "    .dataframe thead th {\n",
       "        text-align: right;\n",
       "    }\n",
       "</style>\n",
       "<table border=\"1\" class=\"dataframe\">\n",
       "  <thead>\n",
       "    <tr style=\"text-align: right;\">\n",
       "      <th></th>\n",
       "      <th>Name</th>\n",
       "      <th>Committee</th>\n",
       "      <th>Committee #</th>\n",
       "    </tr>\n",
       "  </thead>\n",
       "  <tbody>\n",
       "    <tr>\n",
       "      <th>0</th>\n",
       "      <td>Alex Padilla</td>\n",
       "      <td>Budget</td>\n",
       "      <td>117</td>\n",
       "    </tr>\n",
       "    <tr>\n",
       "      <th>1</th>\n",
       "      <td>Alex Padilla</td>\n",
       "      <td>Environment_and_Public_Works</td>\n",
       "      <td>117</td>\n",
       "    </tr>\n",
       "    <tr>\n",
       "      <th>2</th>\n",
       "      <td>Alex Padilla</td>\n",
       "      <td>Homeland_Security_and_Governmental_Affairs</td>\n",
       "      <td>117</td>\n",
       "    </tr>\n",
       "    <tr>\n",
       "      <th>3</th>\n",
       "      <td>Alex Padilla</td>\n",
       "      <td>Judiciary</td>\n",
       "      <td>117</td>\n",
       "    </tr>\n",
       "    <tr>\n",
       "      <th>4</th>\n",
       "      <td>Alex Padilla</td>\n",
       "      <td>Rules_and_Administration</td>\n",
       "      <td>117</td>\n",
       "    </tr>\n",
       "    <tr>\n",
       "      <th>...</th>\n",
       "      <td>...</td>\n",
       "      <td>...</td>\n",
       "      <td>...</td>\n",
       "    </tr>\n",
       "    <tr>\n",
       "      <th>706</th>\n",
       "      <td>Tom Udall</td>\n",
       "      <td>Rules_and_Administration</td>\n",
       "      <td>116</td>\n",
       "    </tr>\n",
       "    <tr>\n",
       "      <th>707</th>\n",
       "      <td>Tommy Tuberville</td>\n",
       "      <td>Agriculture_Nutrition_and_Forestry</td>\n",
       "      <td>117</td>\n",
       "    </tr>\n",
       "    <tr>\n",
       "      <th>708</th>\n",
       "      <td>Tommy Tuberville</td>\n",
       "      <td>Armed_Services</td>\n",
       "      <td>117</td>\n",
       "    </tr>\n",
       "    <tr>\n",
       "      <th>709</th>\n",
       "      <td>Tommy Tuberville</td>\n",
       "      <td>Health_Education_Labor_and_Pensions</td>\n",
       "      <td>117</td>\n",
       "    </tr>\n",
       "    <tr>\n",
       "      <th>710</th>\n",
       "      <td>Tommy Tuberville</td>\n",
       "      <td>Veterans_Affairs</td>\n",
       "      <td>117</td>\n",
       "    </tr>\n",
       "  </tbody>\n",
       "</table>\n",
       "<p>711 rows × 3 columns</p>\n",
       "</div>"
      ],
      "text/plain": [
       "                 Name                                   Committee  Committee #\n",
       "0        Alex Padilla                                      Budget          117\n",
       "1        Alex Padilla                Environment_and_Public_Works          117\n",
       "2        Alex Padilla  Homeland_Security_and_Governmental_Affairs          117\n",
       "3        Alex Padilla                                   Judiciary          117\n",
       "4        Alex Padilla                    Rules_and_Administration          117\n",
       "..                ...                                         ...          ...\n",
       "706         Tom Udall                    Rules_and_Administration          116\n",
       "707  Tommy Tuberville          Agriculture_Nutrition_and_Forestry          117\n",
       "708  Tommy Tuberville                              Armed_Services          117\n",
       "709  Tommy Tuberville         Health_Education_Labor_and_Pensions          117\n",
       "710  Tommy Tuberville                            Veterans_Affairs          117\n",
       "\n",
       "[711 rows x 3 columns]"
      ]
     },
     "execution_count": 18,
     "metadata": {},
     "output_type": "execute_result"
    }
   ],
   "source": [
    "committees = pd.read_excel('senate_committees.xlsx', header=1,usecols=[1,2,3])\n",
    "committees['Committee'] = committees['Committee'].apply(lambda s: s.replace(' ', '_').replace(',', '').replace(\"'\", ''))\n",
    "committees"
   ]
  },
  {
   "cell_type": "code",
   "execution_count": 19,
   "id": "gentle-performer",
   "metadata": {},
   "outputs": [
    {
     "data": {
      "text/html": [
       "<div>\n",
       "<style scoped>\n",
       "    .dataframe tbody tr th:only-of-type {\n",
       "        vertical-align: middle;\n",
       "    }\n",
       "\n",
       "    .dataframe tbody tr th {\n",
       "        vertical-align: top;\n",
       "    }\n",
       "\n",
       "    .dataframe thead th {\n",
       "        text-align: right;\n",
       "    }\n",
       "</style>\n",
       "<table border=\"1\" class=\"dataframe\">\n",
       "  <thead>\n",
       "    <tr style=\"text-align: right;\">\n",
       "      <th></th>\n",
       "      <th>Senator</th>\n",
       "      <th>Party</th>\n",
       "      <th>Born</th>\n",
       "      <th>Occupation(s)</th>\n",
       "      <th>Assumed office</th>\n",
       "      <th>age</th>\n",
       "      <th>in_office</th>\n",
       "      <th>Budget</th>\n",
       "      <th>Environment_and_Public_Works</th>\n",
       "      <th>Homeland_Security_and_Governmental_Affairs</th>\n",
       "      <th>...</th>\n",
       "      <th>Commerce_Science_and_Transportation</th>\n",
       "      <th>Armed_Services</th>\n",
       "      <th>Energy_and_Natural_Resources</th>\n",
       "      <th>Finance</th>\n",
       "      <th>Foreign_Relations</th>\n",
       "      <th>Small_Business_and_Entrepreneurship</th>\n",
       "      <th>Health_Education_Labor_and_Pensions</th>\n",
       "      <th>Banking_Housing_and_Urban_Affairs</th>\n",
       "      <th>Veterans_Affairs</th>\n",
       "      <th>Appropriations</th>\n",
       "    </tr>\n",
       "    <tr>\n",
       "      <th>Name</th>\n",
       "      <th></th>\n",
       "      <th></th>\n",
       "      <th></th>\n",
       "      <th></th>\n",
       "      <th></th>\n",
       "      <th></th>\n",
       "      <th></th>\n",
       "      <th></th>\n",
       "      <th></th>\n",
       "      <th></th>\n",
       "      <th></th>\n",
       "      <th></th>\n",
       "      <th></th>\n",
       "      <th></th>\n",
       "      <th></th>\n",
       "      <th></th>\n",
       "      <th></th>\n",
       "      <th></th>\n",
       "      <th></th>\n",
       "      <th></th>\n",
       "      <th></th>\n",
       "    </tr>\n",
       "  </thead>\n",
       "  <tbody>\n",
       "    <tr>\n",
       "      <th>Dianne Feinstein</th>\n",
       "      <td>Dianne Feinstein</td>\n",
       "      <td>Democratic</td>\n",
       "      <td>1933-06-22</td>\n",
       "      <td>Non-profit organization fellow; Member, Califo...</td>\n",
       "      <td>1992-11-10</td>\n",
       "      <td>87</td>\n",
       "      <td>28</td>\n",
       "      <td>0</td>\n",
       "      <td>0</td>\n",
       "      <td>0</td>\n",
       "      <td>...</td>\n",
       "      <td>0</td>\n",
       "      <td>0</td>\n",
       "      <td>0</td>\n",
       "      <td>0</td>\n",
       "      <td>0</td>\n",
       "      <td>0</td>\n",
       "      <td>0</td>\n",
       "      <td>0</td>\n",
       "      <td>0</td>\n",
       "      <td>1</td>\n",
       "    </tr>\n",
       "    <tr>\n",
       "      <th>Chuck Grassley</th>\n",
       "      <td>Chuck Grassley</td>\n",
       "      <td>Republican</td>\n",
       "      <td>1933-09-17</td>\n",
       "      <td>Farmer; College professor</td>\n",
       "      <td>1981-01-03</td>\n",
       "      <td>87</td>\n",
       "      <td>39</td>\n",
       "      <td>1</td>\n",
       "      <td>0</td>\n",
       "      <td>0</td>\n",
       "      <td>...</td>\n",
       "      <td>0</td>\n",
       "      <td>0</td>\n",
       "      <td>0</td>\n",
       "      <td>1</td>\n",
       "      <td>0</td>\n",
       "      <td>0</td>\n",
       "      <td>0</td>\n",
       "      <td>0</td>\n",
       "      <td>0</td>\n",
       "      <td>0</td>\n",
       "    </tr>\n",
       "    <tr>\n",
       "      <th>Richard Shelby</th>\n",
       "      <td>Richard Shelby</td>\n",
       "      <td>Republican</td>\n",
       "      <td>1934-05-06</td>\n",
       "      <td>Lawyer</td>\n",
       "      <td>1987-01-03</td>\n",
       "      <td>86</td>\n",
       "      <td>33</td>\n",
       "      <td>0</td>\n",
       "      <td>1</td>\n",
       "      <td>0</td>\n",
       "      <td>...</td>\n",
       "      <td>0</td>\n",
       "      <td>0</td>\n",
       "      <td>0</td>\n",
       "      <td>0</td>\n",
       "      <td>0</td>\n",
       "      <td>0</td>\n",
       "      <td>0</td>\n",
       "      <td>1</td>\n",
       "      <td>0</td>\n",
       "      <td>1</td>\n",
       "    </tr>\n",
       "    <tr>\n",
       "      <th>James M Inhofe</th>\n",
       "      <td>Jim Inhofe</td>\n",
       "      <td>Republican</td>\n",
       "      <td>1934-11-17</td>\n",
       "      <td>Specialist Fourth Class, U.S. Army; Businessma...</td>\n",
       "      <td>1994-11-16</td>\n",
       "      <td>86</td>\n",
       "      <td>26</td>\n",
       "      <td>0</td>\n",
       "      <td>1</td>\n",
       "      <td>0</td>\n",
       "      <td>...</td>\n",
       "      <td>0</td>\n",
       "      <td>1</td>\n",
       "      <td>0</td>\n",
       "      <td>0</td>\n",
       "      <td>0</td>\n",
       "      <td>1</td>\n",
       "      <td>0</td>\n",
       "      <td>0</td>\n",
       "      <td>0</td>\n",
       "      <td>0</td>\n",
       "    </tr>\n",
       "    <tr>\n",
       "      <th>Patrick Leahy</th>\n",
       "      <td>Patrick Leahy</td>\n",
       "      <td>Democratic</td>\n",
       "      <td>1940-03-31</td>\n",
       "      <td>Lawyer</td>\n",
       "      <td>1975-01-03</td>\n",
       "      <td>80</td>\n",
       "      <td>45</td>\n",
       "      <td>0</td>\n",
       "      <td>0</td>\n",
       "      <td>0</td>\n",
       "      <td>...</td>\n",
       "      <td>0</td>\n",
       "      <td>0</td>\n",
       "      <td>0</td>\n",
       "      <td>0</td>\n",
       "      <td>0</td>\n",
       "      <td>0</td>\n",
       "      <td>0</td>\n",
       "      <td>0</td>\n",
       "      <td>0</td>\n",
       "      <td>1</td>\n",
       "    </tr>\n",
       "    <tr>\n",
       "      <th>...</th>\n",
       "      <td>...</td>\n",
       "      <td>...</td>\n",
       "      <td>...</td>\n",
       "      <td>...</td>\n",
       "      <td>...</td>\n",
       "      <td>...</td>\n",
       "      <td>...</td>\n",
       "      <td>...</td>\n",
       "      <td>...</td>\n",
       "      <td>...</td>\n",
       "      <td>...</td>\n",
       "      <td>...</td>\n",
       "      <td>...</td>\n",
       "      <td>...</td>\n",
       "      <td>...</td>\n",
       "      <td>...</td>\n",
       "      <td>...</td>\n",
       "      <td>...</td>\n",
       "      <td>...</td>\n",
       "      <td>...</td>\n",
       "      <td>...</td>\n",
       "    </tr>\n",
       "    <tr>\n",
       "      <th>Josh Hawley</th>\n",
       "      <td>Josh Hawley</td>\n",
       "      <td>Republican</td>\n",
       "      <td>1979-12-31</td>\n",
       "      <td>Lawyer; Professor</td>\n",
       "      <td>2019-01-03</td>\n",
       "      <td>41</td>\n",
       "      <td>1</td>\n",
       "      <td>0</td>\n",
       "      <td>0</td>\n",
       "      <td>1</td>\n",
       "      <td>...</td>\n",
       "      <td>0</td>\n",
       "      <td>1</td>\n",
       "      <td>0</td>\n",
       "      <td>0</td>\n",
       "      <td>0</td>\n",
       "      <td>1</td>\n",
       "      <td>0</td>\n",
       "      <td>0</td>\n",
       "      <td>0</td>\n",
       "      <td>0</td>\n",
       "    </tr>\n",
       "    <tr>\n",
       "      <th>Jon Ossoff</th>\n",
       "      <td>Jon Ossoff</td>\n",
       "      <td>Democratic</td>\n",
       "      <td>1987-02-16</td>\n",
       "      <td>Investigative journalist; Documentary film pro...</td>\n",
       "      <td>2021-01-20</td>\n",
       "      <td>33</td>\n",
       "      <td>-1</td>\n",
       "      <td>0</td>\n",
       "      <td>0</td>\n",
       "      <td>1</td>\n",
       "      <td>...</td>\n",
       "      <td>0</td>\n",
       "      <td>0</td>\n",
       "      <td>0</td>\n",
       "      <td>0</td>\n",
       "      <td>0</td>\n",
       "      <td>0</td>\n",
       "      <td>0</td>\n",
       "      <td>1</td>\n",
       "      <td>0</td>\n",
       "      <td>0</td>\n",
       "    </tr>\n",
       "    <tr>\n",
       "      <th>David A Perdue , Jr</th>\n",
       "      <td>David Perdue</td>\n",
       "      <td>Republican</td>\n",
       "      <td>1949-12-10</td>\n",
       "      <td>Corporate executive</td>\n",
       "      <td>2015-03-01</td>\n",
       "      <td>71</td>\n",
       "      <td>5</td>\n",
       "      <td>1</td>\n",
       "      <td>0</td>\n",
       "      <td>0</td>\n",
       "      <td>...</td>\n",
       "      <td>0</td>\n",
       "      <td>1</td>\n",
       "      <td>0</td>\n",
       "      <td>0</td>\n",
       "      <td>1</td>\n",
       "      <td>0</td>\n",
       "      <td>0</td>\n",
       "      <td>0</td>\n",
       "      <td>0</td>\n",
       "      <td>0</td>\n",
       "    </tr>\n",
       "    <tr>\n",
       "      <th>Kelly Loeffler</th>\n",
       "      <td>Kelly Loeffler</td>\n",
       "      <td>Republican</td>\n",
       "      <td>1970-11-27</td>\n",
       "      <td>Corporate executive</td>\n",
       "      <td>2020-06-01</td>\n",
       "      <td>50</td>\n",
       "      <td>0</td>\n",
       "      <td>0</td>\n",
       "      <td>0</td>\n",
       "      <td>0</td>\n",
       "      <td>...</td>\n",
       "      <td>0</td>\n",
       "      <td>0</td>\n",
       "      <td>0</td>\n",
       "      <td>0</td>\n",
       "      <td>0</td>\n",
       "      <td>0</td>\n",
       "      <td>1</td>\n",
       "      <td>0</td>\n",
       "      <td>1</td>\n",
       "      <td>0</td>\n",
       "    </tr>\n",
       "    <tr>\n",
       "      <th>Pat Roberts</th>\n",
       "      <td>Pat Roberts</td>\n",
       "      <td>Republican</td>\n",
       "      <td>1936-04-20</td>\n",
       "      <td>United States Marine Corps officer; Journalist...</td>\n",
       "      <td>1997-03-01</td>\n",
       "      <td>84</td>\n",
       "      <td>23</td>\n",
       "      <td>0</td>\n",
       "      <td>0</td>\n",
       "      <td>0</td>\n",
       "      <td>...</td>\n",
       "      <td>0</td>\n",
       "      <td>0</td>\n",
       "      <td>0</td>\n",
       "      <td>0</td>\n",
       "      <td>0</td>\n",
       "      <td>0</td>\n",
       "      <td>1</td>\n",
       "      <td>0</td>\n",
       "      <td>0</td>\n",
       "      <td>0</td>\n",
       "    </tr>\n",
       "  </tbody>\n",
       "</table>\n",
       "<p>103 rows × 23 columns</p>\n",
       "</div>"
      ],
      "text/plain": [
       "                              Senator       Party       Born  \\\n",
       "Name                                                           \n",
       "Dianne Feinstein     Dianne Feinstein  Democratic 1933-06-22   \n",
       "Chuck Grassley         Chuck Grassley  Republican 1933-09-17   \n",
       "Richard Shelby         Richard Shelby  Republican 1934-05-06   \n",
       "James M Inhofe             Jim Inhofe  Republican 1934-11-17   \n",
       "Patrick Leahy           Patrick Leahy  Democratic 1940-03-31   \n",
       "...                               ...         ...        ...   \n",
       "Josh Hawley               Josh Hawley  Republican 1979-12-31   \n",
       "Jon Ossoff                 Jon Ossoff  Democratic 1987-02-16   \n",
       "David A Perdue , Jr      David Perdue  Republican 1949-12-10   \n",
       "Kelly Loeffler         Kelly Loeffler  Republican 1970-11-27   \n",
       "Pat Roberts               Pat Roberts  Republican 1936-04-20   \n",
       "\n",
       "                                                         Occupation(s)  \\\n",
       "Name                                                                     \n",
       "Dianne Feinstein     Non-profit organization fellow; Member, Califo...   \n",
       "Chuck Grassley                               Farmer; College professor   \n",
       "Richard Shelby                                                  Lawyer   \n",
       "James M Inhofe       Specialist Fourth Class, U.S. Army; Businessma...   \n",
       "Patrick Leahy                                                   Lawyer   \n",
       "...                                                                ...   \n",
       "Josh Hawley                                          Lawyer; Professor   \n",
       "Jon Ossoff           Investigative journalist; Documentary film pro...   \n",
       "David A Perdue , Jr                                Corporate executive   \n",
       "Kelly Loeffler                                     Corporate executive   \n",
       "Pat Roberts          United States Marine Corps officer; Journalist...   \n",
       "\n",
       "                    Assumed office  age  in_office  Budget  \\\n",
       "Name                                                         \n",
       "Dianne Feinstein        1992-11-10   87         28       0   \n",
       "Chuck Grassley          1981-01-03   87         39       1   \n",
       "Richard Shelby          1987-01-03   86         33       0   \n",
       "James M Inhofe          1994-11-16   86         26       0   \n",
       "Patrick Leahy           1975-01-03   80         45       0   \n",
       "...                            ...  ...        ...     ...   \n",
       "Josh Hawley             2019-01-03   41          1       0   \n",
       "Jon Ossoff              2021-01-20   33         -1       0   \n",
       "David A Perdue , Jr     2015-03-01   71          5       1   \n",
       "Kelly Loeffler          2020-06-01   50          0       0   \n",
       "Pat Roberts             1997-03-01   84         23       0   \n",
       "\n",
       "                     Environment_and_Public_Works  \\\n",
       "Name                                                \n",
       "Dianne Feinstein                                0   \n",
       "Chuck Grassley                                  0   \n",
       "Richard Shelby                                  1   \n",
       "James M Inhofe                                  1   \n",
       "Patrick Leahy                                   0   \n",
       "...                                           ...   \n",
       "Josh Hawley                                     0   \n",
       "Jon Ossoff                                      0   \n",
       "David A Perdue , Jr                             0   \n",
       "Kelly Loeffler                                  0   \n",
       "Pat Roberts                                     0   \n",
       "\n",
       "                     Homeland_Security_and_Governmental_Affairs  ...  \\\n",
       "Name                                                             ...   \n",
       "Dianne Feinstein                                              0  ...   \n",
       "Chuck Grassley                                                0  ...   \n",
       "Richard Shelby                                                0  ...   \n",
       "James M Inhofe                                                0  ...   \n",
       "Patrick Leahy                                                 0  ...   \n",
       "...                                                         ...  ...   \n",
       "Josh Hawley                                                   1  ...   \n",
       "Jon Ossoff                                                    1  ...   \n",
       "David A Perdue , Jr                                           0  ...   \n",
       "Kelly Loeffler                                                0  ...   \n",
       "Pat Roberts                                                   0  ...   \n",
       "\n",
       "                     Commerce_Science_and_Transportation  Armed_Services  \\\n",
       "Name                                                                       \n",
       "Dianne Feinstein                                       0               0   \n",
       "Chuck Grassley                                         0               0   \n",
       "Richard Shelby                                         0               0   \n",
       "James M Inhofe                                         0               1   \n",
       "Patrick Leahy                                          0               0   \n",
       "...                                                  ...             ...   \n",
       "Josh Hawley                                            0               1   \n",
       "Jon Ossoff                                             0               0   \n",
       "David A Perdue , Jr                                    0               1   \n",
       "Kelly Loeffler                                         0               0   \n",
       "Pat Roberts                                            0               0   \n",
       "\n",
       "                     Energy_and_Natural_Resources  Finance  Foreign_Relations  \\\n",
       "Name                                                                            \n",
       "Dianne Feinstein                                0        0                  0   \n",
       "Chuck Grassley                                  0        1                  0   \n",
       "Richard Shelby                                  0        0                  0   \n",
       "James M Inhofe                                  0        0                  0   \n",
       "Patrick Leahy                                   0        0                  0   \n",
       "...                                           ...      ...                ...   \n",
       "Josh Hawley                                     0        0                  0   \n",
       "Jon Ossoff                                      0        0                  0   \n",
       "David A Perdue , Jr                             0        0                  1   \n",
       "Kelly Loeffler                                  0        0                  0   \n",
       "Pat Roberts                                     0        0                  0   \n",
       "\n",
       "                     Small_Business_and_Entrepreneurship  \\\n",
       "Name                                                       \n",
       "Dianne Feinstein                                       0   \n",
       "Chuck Grassley                                         0   \n",
       "Richard Shelby                                         0   \n",
       "James M Inhofe                                         1   \n",
       "Patrick Leahy                                          0   \n",
       "...                                                  ...   \n",
       "Josh Hawley                                            1   \n",
       "Jon Ossoff                                             0   \n",
       "David A Perdue , Jr                                    0   \n",
       "Kelly Loeffler                                         0   \n",
       "Pat Roberts                                            0   \n",
       "\n",
       "                     Health_Education_Labor_and_Pensions  \\\n",
       "Name                                                       \n",
       "Dianne Feinstein                                       0   \n",
       "Chuck Grassley                                         0   \n",
       "Richard Shelby                                         0   \n",
       "James M Inhofe                                         0   \n",
       "Patrick Leahy                                          0   \n",
       "...                                                  ...   \n",
       "Josh Hawley                                            0   \n",
       "Jon Ossoff                                             0   \n",
       "David A Perdue , Jr                                    0   \n",
       "Kelly Loeffler                                         1   \n",
       "Pat Roberts                                            1   \n",
       "\n",
       "                     Banking_Housing_and_Urban_Affairs  Veterans_Affairs  \\\n",
       "Name                                                                       \n",
       "Dianne Feinstein                                     0                 0   \n",
       "Chuck Grassley                                       0                 0   \n",
       "Richard Shelby                                       1                 0   \n",
       "James M Inhofe                                       0                 0   \n",
       "Patrick Leahy                                        0                 0   \n",
       "...                                                ...               ...   \n",
       "Josh Hawley                                          0                 0   \n",
       "Jon Ossoff                                           1                 0   \n",
       "David A Perdue , Jr                                  0                 0   \n",
       "Kelly Loeffler                                       0                 1   \n",
       "Pat Roberts                                          0                 0   \n",
       "\n",
       "                     Appropriations  \n",
       "Name                                 \n",
       "Dianne Feinstein                  1  \n",
       "Chuck Grassley                    0  \n",
       "Richard Shelby                    1  \n",
       "James M Inhofe                    0  \n",
       "Patrick Leahy                     1  \n",
       "...                             ...  \n",
       "Josh Hawley                       0  \n",
       "Jon Ossoff                        0  \n",
       "David A Perdue , Jr               0  \n",
       "Kelly Loeffler                    0  \n",
       "Pat Roberts                       0  \n",
       "\n",
       "[103 rows x 23 columns]"
      ]
     },
     "execution_count": 19,
     "metadata": {},
     "output_type": "execute_result"
    }
   ],
   "source": [
    "for com in committees['Committee'].unique():\n",
    "    senators[com] = 0\n",
    "\n",
    "for i, row in senators.iterrows():\n",
    "    for com in committees[committees['Name'] == row['Senator']]['Committee']:\n",
    "        senators.loc[i, com] = 1\n",
    "\n",
    "senators"
   ]
  },
  {
   "cell_type": "code",
   "execution_count": 20,
   "id": "mighty-shield",
   "metadata": {},
   "outputs": [],
   "source": [
    "senate_returns = senate.join(senators, on='senator')\n",
    "senate_returns.reset_index(drop = True, inplace = True)"
   ]
  },
  {
   "cell_type": "code",
   "execution_count": 21,
   "id": "distributed-teddy",
   "metadata": {},
   "outputs": [],
   "source": [
    "senate_returns.to_csv(path_or_buf='senate_returns.csv', index = False)"
   ]
  }
 ],
 "metadata": {
  "kernelspec": {
   "display_name": "Python 3",
   "language": "python",
   "name": "python3"
  },
  "language_info": {
   "codemirror_mode": {
    "name": "ipython",
    "version": 3
   },
   "file_extension": ".py",
   "mimetype": "text/x-python",
   "name": "python",
   "nbconvert_exporter": "python",
   "pygments_lexer": "ipython3",
   "version": "3.9.1"
  }
 },
 "nbformat": 4,
 "nbformat_minor": 5
}
