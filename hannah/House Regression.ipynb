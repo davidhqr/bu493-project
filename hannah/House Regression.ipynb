{
 "cells": [
  {
   "cell_type": "code",
   "execution_count": 1,
   "id": "1b4ee547",
   "metadata": {
    "id": "1b4ee547"
   },
   "outputs": [],
   "source": [
    "import pandas as pd\n",
    "import numpy as np\n",
    "import statsmodels.api as sm\n",
    "import statsmodels.formula.api as smf\n",
    "from itertools import combinations\n",
    "pd.set_option('display.max_columns', 100)"
   ]
  },
  {
   "cell_type": "code",
   "execution_count": 2,
   "id": "a1df5ac6",
   "metadata": {
    "id": "a1df5ac6"
   },
   "outputs": [],
   "source": [
    "data = pd.read_csv('house_returns.csv')\n",
    "data.rename(columns = {col:col.lower() for col in data.columns}, inplace = True)\n",
    "data['amount_discrete'] = data['amount_discrete'].apply(lambda x: min(x, 5))\n",
    "def market_cap_discrete(x):\n",
    "    if x < 10 ** 8: # <= 100,000,000\n",
    "        return 1\n",
    "    if x < 2.5 * 10 ** 8: # <= 250,000,000\n",
    "        return 2\n",
    "    if x < 5 * 10 ** 8: # <= 500,000,000\n",
    "        return 3\n",
    "    if x < 10 ** 9: # <= 1,000,000,000\n",
    "        return 4\n",
    "    if x < 2.5 * 10 ** 9: # <= 2,500,000,000\n",
    "        return 5\n",
    "    if x < 5 * 10 ** 9: # <= 5,000,000,000\n",
    "        return 6\n",
    "    if x < 10 ** 10: # <= 10,000,000,000\n",
    "        return 7\n",
    "    if x < 2.5 * 10 ** 10: # <= 25,000,000,000\n",
    "        return 8\n",
    "    if x < 5 * 10 ** 10: # <= 50,000,000,000\n",
    "        return 9\n",
    "    if x < 10 ** 11: # <= 100,000,000,000\n",
    "        return 10\n",
    "    if x < 2.5 * 10 ** 11: # <= 250,000,000,000\n",
    "        return 11\n",
    "    if x < 5 * 10 ** 11: # <= 500,000,000,000\n",
    "        return 12\n",
    "    if x < 10 ** 12: # <= 1,000,000,000,000\n",
    "        return 13\n",
    "    return 14\n",
    "data['market_cap_discrete'] = data['market_cap'].apply(market_cap_discrete)"
   ]
  },
  {
   "cell_type": "code",
   "execution_count": 3,
   "id": "a43a5950",
   "metadata": {},
   "outputs": [],
   "source": [
    "committees_high = ['agriculture',\n",
    " 'appropriations',\n",
    " 'energy_and_commerce',\n",
    " 'financial_services',\n",
    " 'natural_resources',\n",
    " 'science_space_and_technology',\n",
    " 'transportation_and_infrastructure']\n",
    "committees_medium = [\n",
    " 'armed_services',\n",
    " 'budget',\n",
    " 'education_and_labor',\n",
    " 'foreign_affairs',\n",
    " 'judiciary',\n",
    " 'oversight_and_reform',\n",
    " 'ways_and_means']\n",
    "committees_low = [\n",
    " 'ethics',\n",
    " 'homeland_security',\n",
    " 'house_administration',\n",
    " 'rules',\n",
    " 'small_business',\n",
    " 'veterans_affairs']"
   ]
  },
  {
   "cell_type": "code",
   "execution_count": 4,
   "id": "fb6b6685",
   "metadata": {},
   "outputs": [
    {
     "data": {
      "text/plain": [
       "3"
      ]
     },
     "execution_count": 4,
     "metadata": {},
     "output_type": "execute_result"
    }
   ],
   "source": [
    "returns = [['return_{}'.format(time), 'return_prev{}'.format(time)] for time in ['1d', '5d', '1m']] \\\n",
    "# + [['return_abnormal_{}'.format(time), 'return_abnormal_prev{}'.format(time)] for time in ['1d', '5d', '1m']]\n",
    "returns = [['return_abnormal_{}'.format(time), 'return_abnormal_prev{}'.format(time)] for time in ['1d', '5d', '1m']]\n",
    "indep_vars = ['amount_discrete', 'type', 'party', 'age', 'market_cap_discrete']\n",
    "committees = [committees_high] \n",
    "#[[], committees_high, committees_high + committees_medium, committees_high + committees_medium + committees_low]\n",
    "\n",
    "# combos = []\n",
    "# for i in range(len(indep_vars) + 1):\n",
    "#     combos.extend(list(map(lambda t: list(t), combinations(indep_vars, i))))\n",
    "models = []\n",
    "for com in committees:\n",
    "    for ret in returns:\n",
    "        models.append(ret + indep_vars + com)\n",
    "#     models.extend(list(map(lambda c: [ret] + c, combos)))\n",
    "# models.extend(list(map(lambda c: c + committees, models)))\n",
    "len(models)"
   ]
  },
  {
   "cell_type": "code",
   "execution_count": 5,
   "id": "c731e3c9",
   "metadata": {
    "id": "c731e3c9",
    "outputId": "d238e2e0-a20f-488e-b396-4bd6c444f713"
   },
   "outputs": [],
   "source": [
    "# smf.ols('return_1d ~ Age + In_Office', data = data[['return_1d', 'amount', 'Party']].dropna()).fit().rsquared_adj\n",
    "\n",
    "def make_model(variables):\n",
    "    model_data = data[variables].dropna()\n",
    "    if len(variables) == 1:\n",
    "        formula = variables[0] + ' ~ 1'\n",
    "    else:\n",
    "        formula = variables[0] + ' ~ ' + ' + '.join(variables[1:])\n",
    "    print(formula)\n",
    "    model = smf.ols(formula, data = model_data).fit()\n",
    "    print(model.summary())\n",
    "    return formula, model.rsquared_adj"
   ]
  },
  {
   "cell_type": "code",
   "execution_count": 6,
   "id": "1f0440d2",
   "metadata": {},
   "outputs": [
    {
     "data": {
      "text/html": [
       "<div>\n",
       "<style scoped>\n",
       "    .dataframe tbody tr th:only-of-type {\n",
       "        vertical-align: middle;\n",
       "    }\n",
       "\n",
       "    .dataframe tbody tr th {\n",
       "        vertical-align: top;\n",
       "    }\n",
       "\n",
       "    .dataframe thead th {\n",
       "        text-align: right;\n",
       "    }\n",
       "</style>\n",
       "<table border=\"1\" class=\"dataframe\">\n",
       "  <thead>\n",
       "    <tr style=\"text-align: right;\">\n",
       "      <th></th>\n",
       "      <th>amount_discrete</th>\n",
       "      <th>age</th>\n",
       "      <th>market_cap_discrete</th>\n",
       "    </tr>\n",
       "  </thead>\n",
       "  <tbody>\n",
       "    <tr>\n",
       "      <th>amount_discrete</th>\n",
       "      <td>1.000000</td>\n",
       "      <td>0.045506</td>\n",
       "      <td>0.009164</td>\n",
       "    </tr>\n",
       "    <tr>\n",
       "      <th>age</th>\n",
       "      <td>0.045506</td>\n",
       "      <td>1.000000</td>\n",
       "      <td>0.074779</td>\n",
       "    </tr>\n",
       "    <tr>\n",
       "      <th>market_cap_discrete</th>\n",
       "      <td>0.009164</td>\n",
       "      <td>0.074779</td>\n",
       "      <td>1.000000</td>\n",
       "    </tr>\n",
       "  </tbody>\n",
       "</table>\n",
       "</div>"
      ],
      "text/plain": [
       "                     amount_discrete       age  market_cap_discrete\n",
       "amount_discrete             1.000000  0.045506             0.009164\n",
       "age                         0.045506  1.000000             0.074779\n",
       "market_cap_discrete         0.009164  0.074779             1.000000"
      ]
     },
     "execution_count": 6,
     "metadata": {},
     "output_type": "execute_result"
    }
   ],
   "source": [
    "data[indep_vars].corr()"
   ]
  },
  {
   "cell_type": "code",
   "execution_count": 7,
   "id": "c41344a8",
   "metadata": {
    "scrolled": false
   },
   "outputs": [
    {
     "name": "stdout",
     "output_type": "stream",
     "text": [
      "return_abnormal_1d ~ return_abnormal_prev1d + amount_discrete + type + party + age + market_cap_discrete + agriculture + appropriations + energy_and_commerce + financial_services + natural_resources + science_space_and_technology + transportation_and_infrastructure\n",
      "                            OLS Regression Results                            \n",
      "==============================================================================\n",
      "Dep. Variable:     return_abnormal_1d   R-squared:                       0.055\n",
      "Model:                            OLS   Adj. R-squared:                  0.053\n",
      "Method:                 Least Squares   F-statistic:                     22.76\n",
      "Date:                Fri, 25 Jun 2021   Prob (F-statistic):           9.71e-58\n",
      "Time:                        20:46:59   Log-Likelihood:                 8277.6\n",
      "No. Observations:                5462   AIC:                        -1.653e+04\n",
      "Df Residuals:                    5447   BIC:                        -1.643e+04\n",
      "Df Model:                          14                                         \n",
      "Covariance Type:            nonrobust                                         \n",
      "=====================================================================================================\n",
      "                                        coef    std err          t      P>|t|      [0.025      0.975]\n",
      "-----------------------------------------------------------------------------------------------------\n",
      "Intercept                             0.0027      0.005      0.516      0.606      -0.008       0.013\n",
      "type[T.Sale]                         -0.0005      0.001     -0.312      0.755      -0.003       0.002\n",
      "party[T.Libertarian]                  0.0684      0.031      2.219      0.027       0.008       0.129\n",
      "party[T.Republican]                  -0.0050      0.002     -2.610      0.009      -0.009      -0.001\n",
      "return_abnormal_prev1d               -0.1901      0.012    -16.192      0.000      -0.213      -0.167\n",
      "amount_discrete                      -0.0020      0.001     -1.953      0.051      -0.004    7.21e-06\n",
      "age                                   0.0001   8.09e-05      1.690      0.091   -2.19e-05       0.000\n",
      "market_cap_discrete                  -0.0008      0.000     -2.667      0.008      -0.001      -0.000\n",
      "agriculture                           0.0033      0.004      0.903      0.366      -0.004       0.010\n",
      "appropriations                       -0.0004      0.002     -0.155      0.877      -0.005       0.004\n",
      "energy_and_commerce                   0.0079      0.003      2.595      0.009       0.002       0.014\n",
      "financial_services                    0.0024      0.003      0.880      0.379      -0.003       0.008\n",
      "natural_resources                     0.0009      0.003      0.297      0.766      -0.005       0.007\n",
      "science_space_and_technology         -0.0010      0.003     -0.403      0.687      -0.006       0.004\n",
      "transportation_and_infrastructure    -0.0127      0.004     -3.624      0.000      -0.020      -0.006\n",
      "==============================================================================\n",
      "Omnibus:                    10748.682   Durbin-Watson:                   1.494\n",
      "Prob(Omnibus):                  0.000   Jarque-Bera (JB):         63597687.807\n",
      "Skew:                          15.209   Prob(JB):                         0.00\n",
      "Kurtosis:                     530.752   Cond. No.                     2.61e+03\n",
      "==============================================================================\n",
      "\n",
      "Notes:\n",
      "[1] Standard Errors assume that the covariance matrix of the errors is correctly specified.\n",
      "[2] The condition number is large, 2.61e+03. This might indicate that there are\n",
      "strong multicollinearity or other numerical problems.\n",
      "return_abnormal_5d ~ return_abnormal_prev5d + amount_discrete + type + party + age + market_cap_discrete + agriculture + appropriations + energy_and_commerce + financial_services + natural_resources + science_space_and_technology + transportation_and_infrastructure\n",
      "                            OLS Regression Results                            \n",
      "==============================================================================\n",
      "Dep. Variable:     return_abnormal_5d   R-squared:                       0.067\n",
      "Model:                            OLS   Adj. R-squared:                  0.064\n",
      "Method:                 Least Squares   F-statistic:                     27.58\n",
      "Date:                Fri, 25 Jun 2021   Prob (F-statistic):           5.21e-71\n",
      "Time:                        20:46:59   Log-Likelihood:                 5371.7\n",
      "No. Observations:                5429   AIC:                        -1.071e+04\n",
      "Df Residuals:                    5414   BIC:                        -1.061e+04\n",
      "Df Model:                          14                                         \n",
      "Covariance Type:            nonrobust                                         \n",
      "=====================================================================================================\n",
      "                                        coef    std err          t      P>|t|      [0.025      0.975]\n",
      "-----------------------------------------------------------------------------------------------------\n",
      "Intercept                            -0.0040      0.009     -0.454      0.650      -0.021       0.013\n",
      "type[T.Sale]                         -0.0127      0.003     -4.999      0.000      -0.018      -0.008\n",
      "party[T.Libertarian]                  0.0964      0.052      1.849      0.065      -0.006       0.199\n",
      "party[T.Republican]                  -0.0037      0.003     -1.136      0.256      -0.010       0.003\n",
      "return_abnormal_prev5d               -0.1250      0.007    -17.118      0.000      -0.139      -0.111\n",
      "amount_discrete                       0.0005      0.002      0.277      0.782      -0.003       0.004\n",
      "age                                   0.0001      0.000      1.090      0.276      -0.000       0.000\n",
      "market_cap_discrete                  -0.0002      0.000     -0.437      0.662      -0.001       0.001\n",
      "agriculture                           0.0002      0.006      0.028      0.978      -0.012       0.012\n",
      "appropriations                        0.0006      0.004      0.154      0.878      -0.007       0.008\n",
      "energy_and_commerce                   0.0186      0.005      3.613      0.000       0.009       0.029\n",
      "financial_services                    0.0101      0.005      2.186      0.029       0.001       0.019\n",
      "natural_resources                     0.0043      0.005      0.836      0.403      -0.006       0.014\n",
      "science_space_and_technology         -0.0032      0.004     -0.758      0.449      -0.012       0.005\n",
      "transportation_and_infrastructure    -0.0258      0.006     -4.299      0.000      -0.038      -0.014\n",
      "==============================================================================\n",
      "Omnibus:                     2064.258   Durbin-Watson:                   1.453\n",
      "Prob(Omnibus):                  0.000   Jarque-Bera (JB):           477628.175\n",
      "Skew:                           0.609   Prob(JB):                         0.00\n",
      "Kurtosis:                      48.934   Cond. No.                     2.60e+03\n",
      "==============================================================================\n",
      "\n",
      "Notes:\n",
      "[1] Standard Errors assume that the covariance matrix of the errors is correctly specified.\n",
      "[2] The condition number is large, 2.6e+03. This might indicate that there are\n",
      "strong multicollinearity or other numerical problems.\n",
      "return_abnormal_1m ~ return_abnormal_prev1m + amount_discrete + type + party + age + market_cap_discrete + agriculture + appropriations + energy_and_commerce + financial_services + natural_resources + science_space_and_technology + transportation_and_infrastructure\n",
      "                            OLS Regression Results                            \n",
      "==============================================================================\n",
      "Dep. Variable:     return_abnormal_1m   R-squared:                       0.036\n",
      "Model:                            OLS   Adj. R-squared:                  0.034\n",
      "Method:                 Least Squares   F-statistic:                     13.81\n",
      "Date:                Fri, 25 Jun 2021   Prob (F-statistic):           6.05e-33\n",
      "Time:                        20:46:59   Log-Likelihood:                 868.86\n",
      "No. Observations:                5149   AIC:                            -1708.\n",
      "Df Residuals:                    5134   BIC:                            -1610.\n",
      "Df Model:                          14                                         \n",
      "Covariance Type:            nonrobust                                         \n",
      "=====================================================================================================\n",
      "                                        coef    std err          t      P>|t|      [0.025      0.975]\n",
      "-----------------------------------------------------------------------------------------------------\n",
      "Intercept                             0.0077      0.021      0.371      0.711      -0.033       0.048\n",
      "type[T.Sale]                         -0.0222      0.006     -3.703      0.000      -0.034      -0.010\n",
      "party[T.Libertarian]                 -0.0609      0.119     -0.514      0.608      -0.293       0.172\n",
      "party[T.Republican]                  -0.0107      0.007     -1.426      0.154      -0.025       0.004\n",
      "return_abnormal_prev1m               -0.0661      0.010     -6.602      0.000      -0.086      -0.046\n",
      "amount_discrete                       0.0036      0.004      0.888      0.375      -0.004       0.012\n",
      "age                                  -0.0005      0.000     -1.617      0.106      -0.001       0.000\n",
      "market_cap_discrete                   0.0027      0.001      2.370      0.018       0.000       0.005\n",
      "agriculture                           0.0092      0.015      0.632      0.527      -0.019       0.038\n",
      "appropriations                        0.0069      0.009      0.750      0.454      -0.011       0.025\n",
      "energy_and_commerce                   0.0269      0.012      2.264      0.024       0.004       0.050\n",
      "financial_services                   -0.0015      0.011     -0.138      0.890      -0.023       0.020\n",
      "natural_resources                    -0.0093      0.012     -0.781      0.435      -0.033       0.014\n",
      "science_space_and_technology          0.0183      0.010      1.860      0.063      -0.001       0.037\n",
      "transportation_and_infrastructure    -0.0825      0.014     -5.903      0.000      -0.110      -0.055\n",
      "==============================================================================\n",
      "Omnibus:                     2518.710   Durbin-Watson:                   1.739\n",
      "Prob(Omnibus):                  0.000   Jarque-Bera (JB):         12424154.434\n",
      "Skew:                          -0.445   Prob(JB):                         0.00\n",
      "Kurtosis:                     243.644   Cond. No.                     2.54e+03\n",
      "==============================================================================\n",
      "\n",
      "Notes:\n",
      "[1] Standard Errors assume that the covariance matrix of the errors is correctly specified.\n",
      "[2] The condition number is large, 2.54e+03. This might indicate that there are\n",
      "strong multicollinearity or other numerical problems.\n"
     ]
    }
   ],
   "source": [
    "r2 = {}\n",
    "for model in models:\n",
    "    m = make_model(model)\n",
    "    r2[m[0]] = m[1]"
   ]
  },
  {
   "cell_type": "code",
   "execution_count": 8,
   "id": "d3728c31",
   "metadata": {},
   "outputs": [
    {
     "data": {
      "text/plain": [
       "0.06414681575450287"
      ]
     },
     "execution_count": 8,
     "metadata": {},
     "output_type": "execute_result"
    }
   ],
   "source": [
    "max(r2.values())"
   ]
  }
 ],
 "metadata": {
  "colab": {
   "name": "Elbert-Regression.ipynb",
   "provenance": []
  },
  "kernelspec": {
   "display_name": "Python 3",
   "language": "python",
   "name": "python3"
  },
  "language_info": {
   "codemirror_mode": {
    "name": "ipython",
    "version": 3
   },
   "file_extension": ".py",
   "mimetype": "text/x-python",
   "name": "python",
   "nbconvert_exporter": "python",
   "pygments_lexer": "ipython3",
   "version": "3.9.1"
  }
 },
 "nbformat": 4,
 "nbformat_minor": 5
}
