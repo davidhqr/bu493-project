{
 "cells": [
  {
   "cell_type": "code",
   "execution_count": 1,
   "id": "1b4ee547",
   "metadata": {
    "id": "1b4ee547"
   },
   "outputs": [],
   "source": [
    "import pandas as pd\n",
    "import numpy as np\n",
    "import statsmodels.api as sm\n",
    "import statsmodels.formula.api as smf\n",
    "from itertools import combinations\n",
    "pd.set_option('display.max_columns', 100)"
   ]
  },
  {
   "cell_type": "code",
   "execution_count": 2,
   "id": "a1df5ac6",
   "metadata": {
    "id": "a1df5ac6"
   },
   "outputs": [],
   "source": [
    "data = pd.read_csv('senate_returns.csv')\n",
    "data.rename(columns = {col:col.lower() for col in data.columns}, inplace = True)\n",
    "data['amount_discrete'] = data['amount_discrete'].apply(lambda x: min(x, 5))\n",
    "def market_cap_discrete(x):\n",
    "    if x < 10 ** 8: # <= 100,000,000\n",
    "        return 1\n",
    "    if x < 2.5 * 10 ** 8: # <= 250,000,000\n",
    "        return 2\n",
    "    if x < 5 * 10 ** 8: # <= 500,000,000\n",
    "        return 3\n",
    "    if x < 10 ** 9: # <= 1,000,000,000\n",
    "        return 4\n",
    "    if x < 2.5 * 10 ** 9: # <= 2,500,000,000\n",
    "        return 5\n",
    "    if x < 5 * 10 ** 9: # <= 5,000,000,000\n",
    "        return 6\n",
    "    if x < 10 ** 10: # <= 10,000,000,000\n",
    "        return 7\n",
    "    if x < 2.5 * 10 ** 10: # <= 25,000,000,000\n",
    "        return 8\n",
    "    if x < 5 * 10 ** 10: # <= 50,000,000,000\n",
    "        return 9\n",
    "    if x < 10 ** 11: # <= 100,000,000,000\n",
    "        return 10\n",
    "    if x < 2.5 * 10 ** 11: # <= 250,000,000,000\n",
    "        return 11\n",
    "    if x < 5 * 10 ** 11: # <= 500,000,000,000\n",
    "        return 12\n",
    "    if x < 10 ** 12: # <= 1,000,000,000,000\n",
    "        return 13\n",
    "    return 14\n",
    "data['market_cap_discrete'] = data['market_cap'].apply(market_cap_discrete)"
   ]
  },
  {
   "cell_type": "code",
   "execution_count": 3,
   "id": "08d92504",
   "metadata": {
    "id": "08d92504"
   },
   "outputs": [
    {
     "data": {
      "text/plain": [
       "16"
      ]
     },
     "execution_count": 3,
     "metadata": {},
     "output_type": "execute_result"
    }
   ],
   "source": [
    "committees_high = ['agriculture_nutrition_and_forestry',\n",
    " 'appropriations',\n",
    " 'banking_housing_and_urban_affairs',\n",
    " 'commerce_science_and_transportation',\n",
    " 'energy_and_natural_resources',\n",
    " 'finance',\n",
    " 'health_education_labor_and_pensions']\n",
    "committees_medium = ['armed_services',\n",
    " 'budget',\n",
    " 'environment_and_public_works',\n",
    " 'foreign_relations',\n",
    " 'judiciary']\n",
    "committees_low = [\n",
    " 'homeland_security_and_governmental_affairs',\n",
    " 'rules_and_administration',\n",
    " 'small_business_and_entrepreneurship',\n",
    " 'veterans_affairs']\n",
    "len(set(committees_high + committees_medium + committees_low))"
   ]
  },
  {
   "cell_type": "code",
   "execution_count": 4,
   "id": "fb6b6685",
   "metadata": {},
   "outputs": [
    {
     "data": {
      "text/plain": [
       "3"
      ]
     },
     "execution_count": 4,
     "metadata": {},
     "output_type": "execute_result"
    }
   ],
   "source": [
    "returns = [['return_{}'.format(time), 'return_prev{}'.format(time)] for time in ['1d', '5d', '1m']] \\\n",
    "# + [['return_abnormal_{}'.format(time), 'return_abnormal_prev{}'.format(time)] for time in ['1d', '5d', '1m']]\n",
    "returns = [['return_abnormal_{}'.format(time), 'return_abnormal_prev{}'.format(time)] for time in ['1d', '5d', '1m']]\n",
    "indep_vars = ['amount_discrete', 'type', 'party', 'age', 'market_cap_discrete']\n",
    "committees = [committees_high] \n",
    "#[[], committees_high, committees_high + committees_medium, committees_high + committees_medium + committees_low]\n",
    "\n",
    "# combos = []\n",
    "# for i in range(len(indep_vars) + 1):\n",
    "#     combos.extend(list(map(lambda t: list(t), combinations(indep_vars, i))))\n",
    "models = []\n",
    "for com in committees:\n",
    "    for ret in returns:\n",
    "        models.append(ret + indep_vars + com)\n",
    "#     models.extend(list(map(lambda c: [ret] + c, combos)))\n",
    "# models.extend(list(map(lambda c: c + committees, models)))\n",
    "len(models)"
   ]
  },
  {
   "cell_type": "code",
   "execution_count": 5,
   "id": "c731e3c9",
   "metadata": {
    "id": "c731e3c9",
    "outputId": "d238e2e0-a20f-488e-b396-4bd6c444f713"
   },
   "outputs": [],
   "source": [
    "# smf.ols('return_1d ~ Age + In_Office', data = data[['return_1d', 'amount', 'Party']].dropna()).fit().rsquared_adj\n",
    "\n",
    "def make_model(variables):\n",
    "    model_data = data[variables].dropna()\n",
    "    if len(variables) == 1:\n",
    "        formula = variables[0] + ' ~ 1'\n",
    "    else:\n",
    "        formula = variables[0] + ' ~ ' + ' + '.join(variables[1:])\n",
    "    print(formula)\n",
    "    model = smf.ols(formula, data = model_data).fit()\n",
    "    print(model.summary())\n",
    "    return formula, model.rsquared_adj"
   ]
  },
  {
   "cell_type": "code",
   "execution_count": 6,
   "id": "e4a353cb",
   "metadata": {
    "scrolled": false
   },
   "outputs": [
    {
     "name": "stdout",
     "output_type": "stream",
     "text": [
      "return_abnormal_1d ~ return_abnormal_prev1d + amount_discrete + type + party + age + market_cap_discrete + agriculture_nutrition_and_forestry + appropriations + banking_housing_and_urban_affairs + commerce_science_and_transportation + energy_and_natural_resources + finance + health_education_labor_and_pensions\n",
      "                            OLS Regression Results                            \n",
      "==============================================================================\n",
      "Dep. Variable:     return_abnormal_1d   R-squared:                       0.023\n",
      "Model:                            OLS   Adj. R-squared:                  0.012\n",
      "Method:                 Least Squares   F-statistic:                     1.984\n",
      "Date:                Fri, 25 Jun 2021   Prob (F-statistic):             0.0161\n",
      "Time:                        20:46:56   Log-Likelihood:                 2073.1\n",
      "No. Observations:                1171   AIC:                            -4116.\n",
      "Df Residuals:                    1156   BIC:                            -4040.\n",
      "Df Model:                          14                                         \n",
      "Covariance Type:            nonrobust                                         \n",
      "=======================================================================================================\n",
      "                                          coef    std err          t      P>|t|      [0.025      0.975]\n",
      "-------------------------------------------------------------------------------------------------------\n",
      "Intercept                               0.0120      0.022      0.557      0.578      -0.030       0.054\n",
      "type[T.Sale]                            0.0025      0.003      0.912      0.362      -0.003       0.008\n",
      "party[T.Independent]                   -0.0092      0.026     -0.356      0.722      -0.060       0.042\n",
      "party[T.Republican]                    -0.0107      0.008     -1.406      0.160      -0.026       0.004\n",
      "return_abnormal_prev1d                  0.0369      0.029      1.295      0.196      -0.019       0.093\n",
      "amount_discrete                         0.0016      0.002      1.016      0.310      -0.001       0.005\n",
      "age                                  2.127e-05      0.000      0.132      0.895      -0.000       0.000\n",
      "market_cap_discrete                    -0.0008      0.001     -1.353      0.176      -0.002       0.000\n",
      "agriculture_nutrition_and_forestry     -0.0016      0.011     -0.148      0.882      -0.023       0.020\n",
      "appropriations                          0.0190      0.017      1.118      0.264      -0.014       0.052\n",
      "banking_housing_and_urban_affairs      -0.0402      0.011     -3.674      0.000      -0.062      -0.019\n",
      "commerce_science_and_transportation     0.0114      0.020      0.571      0.568      -0.028       0.051\n",
      "energy_and_natural_resources            0.0041      0.005      0.842      0.400      -0.005       0.014\n",
      "finance                                -0.0134      0.014     -0.946      0.344      -0.041       0.014\n",
      "health_education_labor_and_pensions     0.0021      0.003      0.621      0.535      -0.005       0.009\n",
      "==============================================================================\n",
      "Omnibus:                     1203.811   Durbin-Watson:                   2.024\n",
      "Prob(Omnibus):                  0.000   Jarque-Bera (JB):           340236.194\n",
      "Skew:                          -4.249   Prob(JB):                         0.00\n",
      "Kurtosis:                      86.072   Cond. No.                     2.01e+03\n",
      "==============================================================================\n",
      "\n",
      "Notes:\n",
      "[1] Standard Errors assume that the covariance matrix of the errors is correctly specified.\n",
      "[2] The condition number is large, 2.01e+03. This might indicate that there are\n",
      "strong multicollinearity or other numerical problems.\n",
      "return_abnormal_5d ~ return_abnormal_prev5d + amount_discrete + type + party + age + market_cap_discrete + agriculture_nutrition_and_forestry + appropriations + banking_housing_and_urban_affairs + commerce_science_and_transportation + energy_and_natural_resources + finance + health_education_labor_and_pensions\n",
      "                            OLS Regression Results                            \n",
      "==============================================================================\n",
      "Dep. Variable:     return_abnormal_5d   R-squared:                       0.025\n",
      "Model:                            OLS   Adj. R-squared:                  0.014\n",
      "Method:                 Least Squares   F-statistic:                     2.140\n",
      "Date:                Fri, 25 Jun 2021   Prob (F-statistic):            0.00831\n",
      "Time:                        20:46:56   Log-Likelihood:                 1145.1\n",
      "No. Observations:                1163   AIC:                            -2260.\n",
      "Df Residuals:                    1148   BIC:                            -2184.\n",
      "Df Model:                          14                                         \n",
      "Covariance Type:            nonrobust                                         \n",
      "=======================================================================================================\n",
      "                                          coef    std err          t      P>|t|      [0.025      0.975]\n",
      "-------------------------------------------------------------------------------------------------------\n",
      "Intercept                              -0.0067      0.047     -0.142      0.887      -0.100       0.086\n",
      "type[T.Sale]                            0.0056      0.006      0.915      0.361      -0.006       0.018\n",
      "party[T.Independent]                    0.0195      0.057      0.344      0.731      -0.092       0.131\n",
      "party[T.Republican]                    -0.0125      0.017     -0.747      0.455      -0.045       0.020\n",
      "return_abnormal_prev5d                 -0.0128      0.012     -1.062      0.288      -0.036       0.011\n",
      "amount_discrete                         0.0039      0.003      1.133      0.257      -0.003       0.011\n",
      "age                                     0.0002      0.000      0.605      0.545      -0.000       0.001\n",
      "market_cap_discrete                    -0.0002      0.001     -0.160      0.873      -0.003       0.002\n",
      "agriculture_nutrition_and_forestry     -0.0016      0.024     -0.065      0.948      -0.048       0.045\n",
      "appropriations                          0.0457      0.037      1.223      0.221      -0.028       0.119\n",
      "banking_housing_and_urban_affairs      -0.0984      0.024     -4.115      0.000      -0.145      -0.051\n",
      "commerce_science_and_transportation     0.0302      0.044      0.690      0.490      -0.056       0.116\n",
      "energy_and_natural_resources           -0.0011      0.011     -0.103      0.918      -0.022       0.020\n",
      "finance                                -0.0187      0.031     -0.605      0.545      -0.079       0.042\n",
      "health_education_labor_and_pensions     0.0014      0.007      0.191      0.849      -0.013       0.016\n",
      "==============================================================================\n",
      "Omnibus:                      311.896   Durbin-Watson:                   1.578\n",
      "Prob(Omnibus):                  0.000   Jarque-Bera (JB):            19369.992\n",
      "Skew:                           0.247   Prob(JB):                         0.00\n",
      "Kurtosis:                      22.987   Cond. No.                     1.99e+03\n",
      "==============================================================================\n",
      "\n",
      "Notes:\n",
      "[1] Standard Errors assume that the covariance matrix of the errors is correctly specified.\n",
      "[2] The condition number is large, 1.99e+03. This might indicate that there are\n",
      "strong multicollinearity or other numerical problems.\n",
      "return_abnormal_1m ~ return_abnormal_prev1m + amount_discrete + type + party + age + market_cap_discrete + agriculture_nutrition_and_forestry + appropriations + banking_housing_and_urban_affairs + commerce_science_and_transportation + energy_and_natural_resources + finance + health_education_labor_and_pensions\n",
      "                            OLS Regression Results                            \n",
      "==============================================================================\n",
      "Dep. Variable:     return_abnormal_1m   R-squared:                       0.049\n",
      "Model:                            OLS   Adj. R-squared:                  0.038\n",
      "Method:                 Least Squares   F-statistic:                     4.174\n",
      "Date:                Fri, 25 Jun 2021   Prob (F-statistic):           3.50e-07\n",
      "Time:                        20:46:56   Log-Likelihood:                 450.27\n",
      "No. Observations:                1141   AIC:                            -870.5\n",
      "Df Residuals:                    1126   BIC:                            -794.9\n",
      "Df Model:                          14                                         \n",
      "Covariance Type:            nonrobust                                         \n",
      "=======================================================================================================\n",
      "                                          coef    std err          t      P>|t|      [0.025      0.975]\n",
      "-------------------------------------------------------------------------------------------------------\n",
      "Intercept                               0.0139      0.089      0.157      0.876      -0.160       0.188\n",
      "type[T.Sale]                            0.0449      0.011      3.930      0.000       0.023       0.067\n",
      "party[T.Independent]                    0.0110      0.104      0.106      0.915      -0.192       0.214\n",
      "party[T.Republican]                    -0.0479      0.031     -1.563      0.118      -0.108       0.012\n",
      "return_abnormal_prev1m                 -0.0449      0.014     -3.170      0.002      -0.073      -0.017\n",
      "amount_discrete                        -0.0027      0.006     -0.423      0.672      -0.015       0.010\n",
      "age                                     0.0002      0.001      0.364      0.716      -0.001       0.002\n",
      "market_cap_discrete                     0.0004      0.002      0.159      0.874      -0.004       0.005\n",
      "agriculture_nutrition_and_forestry     -0.0172      0.046     -0.377      0.706      -0.106       0.072\n",
      "appropriations                          0.1509      0.080      1.896      0.058      -0.005       0.307\n",
      "banking_housing_and_urban_affairs      -0.2499      0.045     -5.586      0.000      -0.338      -0.162\n",
      "commerce_science_and_transportation     0.0820      0.089      0.924      0.356      -0.092       0.256\n",
      "energy_and_natural_resources           -0.0104      0.020     -0.532      0.594      -0.049       0.028\n",
      "finance                                -0.0192      0.058     -0.330      0.741      -0.133       0.095\n",
      "health_education_labor_and_pensions     0.0106      0.014      0.760      0.447      -0.017       0.038\n",
      "==============================================================================\n",
      "Omnibus:                      209.255   Durbin-Watson:                   1.552\n",
      "Prob(Omnibus):                  0.000   Jarque-Bera (JB):             4638.012\n",
      "Skew:                          -0.002   Prob(JB):                         0.00\n",
      "Kurtosis:                      12.877   Cond. No.                     2.03e+03\n",
      "==============================================================================\n",
      "\n",
      "Notes:\n",
      "[1] Standard Errors assume that the covariance matrix of the errors is correctly specified.\n",
      "[2] The condition number is large, 2.03e+03. This might indicate that there are\n",
      "strong multicollinearity or other numerical problems.\n"
     ]
    }
   ],
   "source": [
    "r2 = {}\n",
    "for model in models:\n",
    "    m = make_model(model)\n",
    "    r2[m[0]] = m[1]"
   ]
  },
  {
   "cell_type": "code",
   "execution_count": 7,
   "id": "d3728c31",
   "metadata": {},
   "outputs": [
    {
     "data": {
      "text/plain": [
       "0.037519736381095514"
      ]
     },
     "execution_count": 7,
     "metadata": {},
     "output_type": "execute_result"
    }
   ],
   "source": [
    "max(r2.values())"
   ]
  }
 ],
 "metadata": {
  "colab": {
   "name": "Elbert-Regression.ipynb",
   "provenance": []
  },
  "kernelspec": {
   "display_name": "Python 3",
   "language": "python",
   "name": "python3"
  },
  "language_info": {
   "codemirror_mode": {
    "name": "ipython",
    "version": 3
   },
   "file_extension": ".py",
   "mimetype": "text/x-python",
   "name": "python",
   "nbconvert_exporter": "python",
   "pygments_lexer": "ipython3",
   "version": "3.9.1"
  }
 },
 "nbformat": 4,
 "nbformat_minor": 5
}
