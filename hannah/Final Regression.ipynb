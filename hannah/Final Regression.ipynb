{
 "cells": [
  {
   "cell_type": "code",
   "execution_count": 1,
   "id": "06998ad1",
   "metadata": {},
   "outputs": [],
   "source": [
    "import pandas as pd\n",
    "import numpy as np\n",
    "import statsmodels.api as sm\n",
    "import statsmodels.formula.api as smf\n",
    "pd.set_option('display.max_columns', 100)"
   ]
  },
  {
   "cell_type": "code",
   "execution_count": 27,
   "id": "959852db",
   "metadata": {},
   "outputs": [],
   "source": [
    "house = pd.read_csv('house_returns.csv')\n",
    "house.rename(columns = {col:col.lower() for col in house.columns}, inplace = True)\n",
    "house['house'] = [1] * len(house)\n",
    "\n",
    "senate = pd.read_csv('senate_returns.csv')\n",
    "senate.rename(columns = {col:col.lower() for col in senate.columns}, inplace = True)\n",
    "senate['house'] = [0] * len(senate)\n",
    "\n",
    "features = ['type', \n",
    "            'party',\n",
    "            'age',\n",
    "            'amount_discrete',\n",
    "            'market_cap_discrete',\n",
    "            'important_committee',\n",
    "            'house']\n",
    "returns = ['return_1d',\n",
    "           'return_index_1d', \n",
    "           'return_abnormal_1d',\n",
    "           'return_5d',\n",
    "           'return_index_5d',\n",
    "           'return_abnormal_5d',\n",
    "           'return_1m',\n",
    "           'return_index_1m',\n",
    "           'return_abnormal_1m', \n",
    "           'return_prev1d', \n",
    "           'return_index_prev1d',\n",
    "           'return_abnormal_prev1d', \n",
    "           'return_prev5d',\n",
    "           'return_index_prev5d',\n",
    "           'return_abnormal_prev5d', \n",
    "           'return_prev1m', \n",
    "           'return_index_prev1m',\n",
    "           'return_abnormal_prev1m']"
   ]
  },
  {
   "cell_type": "code",
   "execution_count": 48,
   "id": "27be3e31",
   "metadata": {},
   "outputs": [
    {
     "name": "stdout",
     "output_type": "stream",
     "text": [
      "6288\n",
      "{'Republican', 'Independent', 'Democratic', 'Libertarian'}\n",
      "3845\n",
      "2436\n",
      "6281\n"
     ]
    }
   ],
   "source": [
    "data = house[features + returns].append(senate[features + returns])\n",
    "# print(len(data))\n",
    "# print(set(data['party']))\n",
    "# print(sum(data['party'] == 'Democratic'))\n",
    "# print(sum(data['party'] == 'Republican'))\n",
    "data = data[(data['party'] == 'Democratic') | (data['party'] == 'Republican')]\n",
    "# print(len(data))"
   ]
  },
  {
   "cell_type": "code",
   "execution_count": 50,
   "id": "d0429f64",
   "metadata": {},
   "outputs": [
    {
     "name": "stdout",
     "output_type": "stream",
     "text": [
      "                            OLS Regression Results                            \n",
      "==============================================================================\n",
      "Dep. Variable:     return_abnormal_1m   R-squared:                       0.016\n",
      "Model:                            OLS   Adj. R-squared:                  0.015\n",
      "Method:                 Least Squares   F-statistic:                     14.73\n",
      "Date:                Tue, 10 Aug 2021   Prob (F-statistic):           3.55e-19\n",
      "Time:                        14:59:48   Log-Likelihood:                 1251.6\n",
      "No. Observations:                6281   AIC:                            -2487.\n",
      "Df Residuals:                    6273   BIC:                            -2433.\n",
      "Df Model:                           7                                         \n",
      "Covariance Type:            nonrobust                                         \n",
      "==========================================================================================\n",
      "                             coef    std err          t      P>|t|      [0.025      0.975]\n",
      "------------------------------------------------------------------------------------------\n",
      "Intercept                  0.0834      0.020      4.178      0.000       0.044       0.123\n",
      "type[T.Sale]              -0.0235      0.005     -4.659      0.000      -0.033      -0.014\n",
      "party[T.Republican]       -0.0100      0.006     -1.753      0.080      -0.021       0.001\n",
      "return_abnormal_prev1m    -0.0159      0.009     -1.831      0.067      -0.033       0.001\n",
      "age                       -0.0011      0.000     -4.819      0.000      -0.002      -0.001\n",
      "market_cap_discrete        0.0044      0.001      4.522      0.000       0.002       0.006\n",
      "important_committee       -0.0414      0.006     -6.395      0.000      -0.054      -0.029\n",
      "house                     -0.0451      0.008     -5.603      0.000      -0.061      -0.029\n",
      "==============================================================================\n",
      "Omnibus:                     3175.321   Durbin-Watson:                   1.740\n",
      "Prob(Omnibus):                  0.000   Jarque-Bera (JB):         13364254.379\n",
      "Skew:                          -0.603   Prob(JB):                         0.00\n",
      "Kurtosis:                     228.973   Cond. No.                         523.\n",
      "==============================================================================\n",
      "\n",
      "Notes:\n",
      "[1] Standard Errors assume that the covariance matrix of the errors is correctly specified.\n"
     ]
    }
   ],
   "source": [
    "formula = 'return_abnormal_1m ~ return_abnormal_prev1m + type + party + age + market_cap_discrete + important_committee + house'\n",
    "model = smf.ols(formula, data = data).fit()\n",
    "print(model.summary())"
   ]
  },
  {
   "cell_type": "code",
   "execution_count": 52,
   "id": "abe164ad",
   "metadata": {},
   "outputs": [
    {
     "name": "stdout",
     "output_type": "stream",
     "text": [
      "                            OLS Regression Results                            \n",
      "==============================================================================\n",
      "Dep. Variable:     return_abnormal_1d   R-squared:                       0.003\n",
      "Model:                            OLS   Adj. R-squared:                  0.002\n",
      "Method:                 Least Squares   F-statistic:                     3.672\n",
      "Date:                Tue, 10 Aug 2021   Prob (F-statistic):            0.00255\n",
      "Time:                        15:02:35   Log-Likelihood:                 11282.\n",
      "No. Observations:                6281   AIC:                        -2.255e+04\n",
      "Df Residuals:                    6275   BIC:                        -2.251e+04\n",
      "Df Model:                           5                                         \n",
      "Covariance Type:            nonrobust                                         \n",
      "==========================================================================================\n",
      "                             coef    std err          t      P>|t|      [0.025      0.975]\n",
      "------------------------------------------------------------------------------------------\n",
      "Intercept                  0.0036      0.002      1.918      0.055   -7.99e-05       0.007\n",
      "type[T.Sale]              -0.0017      0.001     -1.702      0.089      -0.004       0.000\n",
      "party[T.Republican]       -0.0018      0.001     -1.573      0.116      -0.004       0.000\n",
      "return_abnormal_prev1d     0.0252      0.012      2.061      0.039       0.001       0.049\n",
      "important_committee       -0.0043      0.001     -3.255      0.001      -0.007      -0.002\n",
      "house                     -0.0027      0.002     -1.735      0.083      -0.006       0.000\n",
      "==============================================================================\n",
      "Omnibus:                     2169.136   Durbin-Watson:                   1.786\n",
      "Prob(Omnibus):                  0.000   Jarque-Bera (JB):           772019.077\n",
      "Skew:                           0.146   Prob(JB):                         0.00\n",
      "Kurtosis:                      57.312   Cond. No.                         35.8\n",
      "==============================================================================\n",
      "\n",
      "Notes:\n",
      "[1] Standard Errors assume that the covariance matrix of the errors is correctly specified.\n"
     ]
    }
   ],
   "source": [
    "formula = 'return_abnormal_1d ~ return_abnormal_prev1d + type + party + important_committee + house'\n",
    "model = smf.ols(formula, data = data).fit()\n",
    "print(model.summary())"
   ]
  }
 ],
 "metadata": {
  "kernelspec": {
   "display_name": "Python 3",
   "language": "python",
   "name": "python3"
  },
  "language_info": {
   "codemirror_mode": {
    "name": "ipython",
    "version": 3
   },
   "file_extension": ".py",
   "mimetype": "text/x-python",
   "name": "python",
   "nbconvert_exporter": "python",
   "pygments_lexer": "ipython3",
   "version": "3.9.1"
  }
 },
 "nbformat": 4,
 "nbformat_minor": 5
}
