{
 "cells": [
  {
   "cell_type": "code",
   "execution_count": 28,
   "id": "meaning-heater",
   "metadata": {},
   "outputs": [],
   "source": [
    "import pandas as pd\n",
    "import matplotlib.pyplot as plt\n",
    "import plotly.express as px"
   ]
  },
  {
   "cell_type": "code",
   "execution_count": 2,
   "id": "imported-choir",
   "metadata": {},
   "outputs": [
    {
     "data": {
      "text/html": [
       "<div>\n",
       "<style scoped>\n",
       "    .dataframe tbody tr th:only-of-type {\n",
       "        vertical-align: middle;\n",
       "    }\n",
       "\n",
       "    .dataframe tbody tr th {\n",
       "        vertical-align: top;\n",
       "    }\n",
       "\n",
       "    .dataframe thead th {\n",
       "        text-align: right;\n",
       "    }\n",
       "</style>\n",
       "<table border=\"1\" class=\"dataframe\">\n",
       "  <thead>\n",
       "    <tr style=\"text-align: right;\">\n",
       "      <th></th>\n",
       "      <th>disclosure_year</th>\n",
       "      <th>disclosure_date</th>\n",
       "      <th>transaction_date</th>\n",
       "      <th>owner</th>\n",
       "      <th>ticker_original</th>\n",
       "      <th>asset_description</th>\n",
       "      <th>type_detailed</th>\n",
       "      <th>amount</th>\n",
       "      <th>representative</th>\n",
       "      <th>district</th>\n",
       "      <th>ptr_link</th>\n",
       "      <th>cap_gains_over_200_usd</th>\n",
       "      <th>ticker</th>\n",
       "      <th>share_class</th>\n",
       "      <th>type</th>\n",
       "    </tr>\n",
       "  </thead>\n",
       "  <tbody>\n",
       "    <tr>\n",
       "      <th>4461</th>\n",
       "      <td>2020</td>\n",
       "      <td>05/05/2020</td>\n",
       "      <td>2020-04-09</td>\n",
       "      <td>NaN</td>\n",
       "      <td>A</td>\n",
       "      <td>Agilent Technologies, Inc.</td>\n",
       "      <td>sale_partial</td>\n",
       "      <td>$1,001 - $15,000</td>\n",
       "      <td>Peter Welch</td>\n",
       "      <td>VT00</td>\n",
       "      <td>https://disclosures-clerk.house.gov/public_dis...</td>\n",
       "      <td>True</td>\n",
       "      <td>A</td>\n",
       "      <td>None</td>\n",
       "      <td>Sale</td>\n",
       "    </tr>\n",
       "    <tr>\n",
       "      <th>4878</th>\n",
       "      <td>2020</td>\n",
       "      <td>12/29/2020</td>\n",
       "      <td>2020-11-17</td>\n",
       "      <td>joint</td>\n",
       "      <td>AA</td>\n",
       "      <td>American Airlines</td>\n",
       "      <td>sale_full</td>\n",
       "      <td>$15,001 - $50,000</td>\n",
       "      <td>Kenny Marchant</td>\n",
       "      <td>TX24</td>\n",
       "      <td>https://disclosures-clerk.house.gov/public_dis...</td>\n",
       "      <td>False</td>\n",
       "      <td>AA</td>\n",
       "      <td>None</td>\n",
       "      <td>Sale</td>\n",
       "    </tr>\n",
       "    <tr>\n",
       "      <th>4487</th>\n",
       "      <td>2020</td>\n",
       "      <td>02/05/2020</td>\n",
       "      <td>2020-01-03</td>\n",
       "      <td>joint</td>\n",
       "      <td>AAGIY</td>\n",
       "      <td>AIA Group, Ltd. Sponsored American Depository ...</td>\n",
       "      <td>purchase</td>\n",
       "      <td>$15,001 - $50,000</td>\n",
       "      <td>Greg Gianforte</td>\n",
       "      <td>MT00</td>\n",
       "      <td>https://disclosures-clerk.house.gov/public_dis...</td>\n",
       "      <td>False</td>\n",
       "      <td>AAGIY</td>\n",
       "      <td>None</td>\n",
       "      <td>Purchase</td>\n",
       "    </tr>\n",
       "    <tr>\n",
       "      <th>5599</th>\n",
       "      <td>2020</td>\n",
       "      <td>02/14/2020</td>\n",
       "      <td>2020-01-13</td>\n",
       "      <td>joint</td>\n",
       "      <td>AAGIY</td>\n",
       "      <td>AIA Group, Ltd. Sponsored American Depository ...</td>\n",
       "      <td>sale_full</td>\n",
       "      <td>$15,001 - $50,000</td>\n",
       "      <td>Greg Gianforte</td>\n",
       "      <td>MT00</td>\n",
       "      <td>https://disclosures-clerk.house.gov/public_dis...</td>\n",
       "      <td>False</td>\n",
       "      <td>AAGIY</td>\n",
       "      <td>None</td>\n",
       "      <td>Sale</td>\n",
       "    </tr>\n",
       "    <tr>\n",
       "      <th>7419</th>\n",
       "      <td>2020</td>\n",
       "      <td>04/14/2020</td>\n",
       "      <td>2020-03-27</td>\n",
       "      <td>joint</td>\n",
       "      <td>AAGIY</td>\n",
       "      <td>AIA Group, Ltd. Sponsored American Depository ...</td>\n",
       "      <td>purchase</td>\n",
       "      <td>$50,001 - $100,000</td>\n",
       "      <td>Greg Gianforte</td>\n",
       "      <td>MT00</td>\n",
       "      <td>https://disclosures-clerk.house.gov/public_dis...</td>\n",
       "      <td>False</td>\n",
       "      <td>AAGIY</td>\n",
       "      <td>None</td>\n",
       "      <td>Purchase</td>\n",
       "    </tr>\n",
       "    <tr>\n",
       "      <th>...</th>\n",
       "      <td>...</td>\n",
       "      <td>...</td>\n",
       "      <td>...</td>\n",
       "      <td>...</td>\n",
       "      <td>...</td>\n",
       "      <td>...</td>\n",
       "      <td>...</td>\n",
       "      <td>...</td>\n",
       "      <td>...</td>\n",
       "      <td>...</td>\n",
       "      <td>...</td>\n",
       "      <td>...</td>\n",
       "      <td>...</td>\n",
       "      <td>...</td>\n",
       "      <td>...</td>\n",
       "    </tr>\n",
       "    <tr>\n",
       "      <th>626</th>\n",
       "      <td>2020</td>\n",
       "      <td>04/09/2020</td>\n",
       "      <td>2020-03-27</td>\n",
       "      <td>NaN</td>\n",
       "      <td>ZTS</td>\n",
       "      <td>Zoetis Inc. Class A</td>\n",
       "      <td>purchase</td>\n",
       "      <td>$1,001 - $15,000</td>\n",
       "      <td>John Curtis</td>\n",
       "      <td>UT03</td>\n",
       "      <td>https://disclosures-clerk.house.gov/public_dis...</td>\n",
       "      <td>False</td>\n",
       "      <td>ZTS</td>\n",
       "      <td>None</td>\n",
       "      <td>Purchase</td>\n",
       "    </tr>\n",
       "    <tr>\n",
       "      <th>1498</th>\n",
       "      <td>2020</td>\n",
       "      <td>08/03/2020</td>\n",
       "      <td>2020-07-21</td>\n",
       "      <td>self</td>\n",
       "      <td>ZTS</td>\n",
       "      <td>Zoetis Inc. Class A</td>\n",
       "      <td>sale_partial</td>\n",
       "      <td>$1,001 - $15,000</td>\n",
       "      <td>Alan S. Lowenthal</td>\n",
       "      <td>CA47</td>\n",
       "      <td>https://disclosures-clerk.house.gov/public_dis...</td>\n",
       "      <td>False</td>\n",
       "      <td>ZTS</td>\n",
       "      <td>None</td>\n",
       "      <td>Sale</td>\n",
       "    </tr>\n",
       "    <tr>\n",
       "      <th>8344</th>\n",
       "      <td>2020</td>\n",
       "      <td>08/27/2020</td>\n",
       "      <td>2020-08-07</td>\n",
       "      <td>self</td>\n",
       "      <td>ZTS</td>\n",
       "      <td>Zoetis Inc. Class A</td>\n",
       "      <td>sale_full</td>\n",
       "      <td>$1,001 - $15,000</td>\n",
       "      <td>Joe Courtney</td>\n",
       "      <td>CT02</td>\n",
       "      <td>https://disclosures-clerk.house.gov/public_dis...</td>\n",
       "      <td>False</td>\n",
       "      <td>ZTS</td>\n",
       "      <td>None</td>\n",
       "      <td>Sale</td>\n",
       "    </tr>\n",
       "    <tr>\n",
       "      <th>9034</th>\n",
       "      <td>2020</td>\n",
       "      <td>10/15/2020</td>\n",
       "      <td>2020-09-03</td>\n",
       "      <td>NaN</td>\n",
       "      <td>ZUO</td>\n",
       "      <td>Zuora, Inc. Class A</td>\n",
       "      <td>purchase</td>\n",
       "      <td>$15,001 - $50,000</td>\n",
       "      <td>Brian Mast</td>\n",
       "      <td>FL18</td>\n",
       "      <td>https://disclosures-clerk.house.gov/public_dis...</td>\n",
       "      <td>False</td>\n",
       "      <td>ZUO</td>\n",
       "      <td>None</td>\n",
       "      <td>Purchase</td>\n",
       "    </tr>\n",
       "    <tr>\n",
       "      <th>9224</th>\n",
       "      <td>2021</td>\n",
       "      <td>02/01/2021</td>\n",
       "      <td>2020-12-11</td>\n",
       "      <td>NaN</td>\n",
       "      <td>ZUO</td>\n",
       "      <td>Zuora, Inc. Class A</td>\n",
       "      <td>sale_full</td>\n",
       "      <td>$15,001 - $50,000</td>\n",
       "      <td>Brian Mast</td>\n",
       "      <td>FL18</td>\n",
       "      <td>https://disclosures-clerk.house.gov/public_dis...</td>\n",
       "      <td>True</td>\n",
       "      <td>ZUO</td>\n",
       "      <td>None</td>\n",
       "      <td>Sale</td>\n",
       "    </tr>\n",
       "  </tbody>\n",
       "</table>\n",
       "<p>6047 rows × 15 columns</p>\n",
       "</div>"
      ],
      "text/plain": [
       "      disclosure_year disclosure_date transaction_date  owner ticker_original  \\\n",
       "4461             2020      05/05/2020       2020-04-09    NaN               A   \n",
       "4878             2020      12/29/2020       2020-11-17  joint              AA   \n",
       "4487             2020      02/05/2020       2020-01-03  joint           AAGIY   \n",
       "5599             2020      02/14/2020       2020-01-13  joint           AAGIY   \n",
       "7419             2020      04/14/2020       2020-03-27  joint           AAGIY   \n",
       "...               ...             ...              ...    ...             ...   \n",
       "626              2020      04/09/2020       2020-03-27    NaN             ZTS   \n",
       "1498             2020      08/03/2020       2020-07-21   self             ZTS   \n",
       "8344             2020      08/27/2020       2020-08-07   self             ZTS   \n",
       "9034             2020      10/15/2020       2020-09-03    NaN             ZUO   \n",
       "9224             2021      02/01/2021       2020-12-11    NaN             ZUO   \n",
       "\n",
       "                                      asset_description type_detailed  \\\n",
       "4461                         Agilent Technologies, Inc.  sale_partial   \n",
       "4878                                  American Airlines     sale_full   \n",
       "4487  AIA Group, Ltd. Sponsored American Depository ...      purchase   \n",
       "5599  AIA Group, Ltd. Sponsored American Depository ...     sale_full   \n",
       "7419  AIA Group, Ltd. Sponsored American Depository ...      purchase   \n",
       "...                                                 ...           ...   \n",
       "626                                 Zoetis Inc. Class A      purchase   \n",
       "1498                                Zoetis Inc. Class A  sale_partial   \n",
       "8344                                Zoetis Inc. Class A     sale_full   \n",
       "9034                                Zuora, Inc. Class A      purchase   \n",
       "9224                                Zuora, Inc. Class A     sale_full   \n",
       "\n",
       "                  amount     representative district  \\\n",
       "4461    $1,001 - $15,000        Peter Welch     VT00   \n",
       "4878   $15,001 - $50,000     Kenny Marchant     TX24   \n",
       "4487   $15,001 - $50,000     Greg Gianforte     MT00   \n",
       "5599   $15,001 - $50,000     Greg Gianforte     MT00   \n",
       "7419  $50,001 - $100,000     Greg Gianforte     MT00   \n",
       "...                  ...                ...      ...   \n",
       "626     $1,001 - $15,000        John Curtis     UT03   \n",
       "1498    $1,001 - $15,000  Alan S. Lowenthal     CA47   \n",
       "8344    $1,001 - $15,000       Joe Courtney     CT02   \n",
       "9034   $15,001 - $50,000         Brian Mast     FL18   \n",
       "9224   $15,001 - $50,000         Brian Mast     FL18   \n",
       "\n",
       "                                               ptr_link  \\\n",
       "4461  https://disclosures-clerk.house.gov/public_dis...   \n",
       "4878  https://disclosures-clerk.house.gov/public_dis...   \n",
       "4487  https://disclosures-clerk.house.gov/public_dis...   \n",
       "5599  https://disclosures-clerk.house.gov/public_dis...   \n",
       "7419  https://disclosures-clerk.house.gov/public_dis...   \n",
       "...                                                 ...   \n",
       "626   https://disclosures-clerk.house.gov/public_dis...   \n",
       "1498  https://disclosures-clerk.house.gov/public_dis...   \n",
       "8344  https://disclosures-clerk.house.gov/public_dis...   \n",
       "9034  https://disclosures-clerk.house.gov/public_dis...   \n",
       "9224  https://disclosures-clerk.house.gov/public_dis...   \n",
       "\n",
       "      cap_gains_over_200_usd ticker share_class      type  \n",
       "4461                    True      A        None      Sale  \n",
       "4878                   False     AA        None      Sale  \n",
       "4487                   False  AAGIY        None  Purchase  \n",
       "5599                   False  AAGIY        None      Sale  \n",
       "7419                   False  AAGIY        None  Purchase  \n",
       "...                      ...    ...         ...       ...  \n",
       "626                    False    ZTS        None  Purchase  \n",
       "1498                   False    ZTS        None      Sale  \n",
       "8344                   False    ZTS        None      Sale  \n",
       "9034                   False    ZUO        None  Purchase  \n",
       "9224                    True    ZUO        None      Sale  \n",
       "\n",
       "[6047 rows x 15 columns]"
      ]
     },
     "execution_count": 2,
     "metadata": {},
     "output_type": "execute_result"
    }
   ],
   "source": [
    "house_transactions = pd.read_csv('house_transactions.csv', parse_dates=[2])\n",
    "house_transactions.dropna(subset=['ticker'], inplace=True)\n",
    "house_transactions = house_transactions[house_transactions['ticker'] != '--']\n",
    "house_transactions = house_transactions[house_transactions['type'] != 'exchange']\n",
    "house_transactions = house_transactions[house_transactions['transaction_date'].dt.year == 2020]\n",
    "house_transactions.rename(columns={'ticker': 'ticker_original', 'type': 'type_detailed'}, inplace=True)\n",
    "original_tickers = house_transactions['ticker_original']\n",
    "house_transactions['ticker'] = [t.split(\".\")[0] if '.' in t else t for t in original_tickers]\n",
    "house_transactions['share_class'] = [t.split(\".\")[1] if '.' in t else None for t in original_tickers]\n",
    "house_transactions['type'] = house_transactions.apply(lambda row: 'Purchase' if row['type_detailed'] == 'purchase' else 'Sale', axis=1)\n",
    "house_transactions['representative'] = house_transactions['representative'].str.slice(5)\n",
    "house_transactions.sort_values(by=['ticker', 'transaction_date'], inplace=True)\n",
    "\n",
    "house_transactions"
   ]
  },
  {
   "cell_type": "code",
   "execution_count": 3,
   "id": "rental-karaoke",
   "metadata": {},
   "outputs": [],
   "source": [
    "# f = open(\"house_tickers.txt\", \"w\")\n",
    "# f.write('\\n'.join(house_transactions['ticker'].unique()))\n",
    "# f.close()"
   ]
  },
  {
   "cell_type": "code",
   "execution_count": 4,
   "id": "biological-blond",
   "metadata": {},
   "outputs": [
    {
     "name": "stderr",
     "output_type": "stream",
     "text": [
      "/Library/Frameworks/Python.framework/Versions/3.9/lib/python3.9/site-packages/IPython/core/interactiveshell.py:3169: DtypeWarning: Columns (3,6,13,16) have mixed types.Specify dtype option on import or set low_memory=False.\n",
      "  has_raised = await self.run_ast_nodes(code_ast.body, cell_name,\n"
     ]
    },
    {
     "data": {
      "text/html": [
       "<div>\n",
       "<style scoped>\n",
       "    .dataframe tbody tr th:only-of-type {\n",
       "        vertical-align: middle;\n",
       "    }\n",
       "\n",
       "    .dataframe tbody tr th {\n",
       "        vertical-align: top;\n",
       "    }\n",
       "\n",
       "    .dataframe thead th {\n",
       "        text-align: right;\n",
       "    }\n",
       "</style>\n",
       "<table border=\"1\" class=\"dataframe\">\n",
       "  <thead>\n",
       "    <tr style=\"text-align: right;\">\n",
       "      <th></th>\n",
       "      <th>PERMNO</th>\n",
       "      <th>date</th>\n",
       "      <th>SHRCD</th>\n",
       "      <th>SICCD</th>\n",
       "      <th>TICKER</th>\n",
       "      <th>COMNAM</th>\n",
       "      <th>SHRCLS</th>\n",
       "      <th>TSYMBOL</th>\n",
       "      <th>HSICCD</th>\n",
       "      <th>BIDLO</th>\n",
       "      <th>ASKHI</th>\n",
       "      <th>PRC</th>\n",
       "      <th>VOL</th>\n",
       "      <th>RET</th>\n",
       "      <th>OPENPRC</th>\n",
       "      <th>NUMTRD</th>\n",
       "      <th>RETX</th>\n",
       "    </tr>\n",
       "  </thead>\n",
       "  <tbody>\n",
       "    <tr>\n",
       "      <th>0</th>\n",
       "      <td>10104</td>\n",
       "      <td>2019-01-02</td>\n",
       "      <td>11.0</td>\n",
       "      <td>7372</td>\n",
       "      <td>ORCL</td>\n",
       "      <td>ORACLE CORP</td>\n",
       "      <td>NaN</td>\n",
       "      <td>ORCL</td>\n",
       "      <td>7372.0</td>\n",
       "      <td>44.45000</td>\n",
       "      <td>45.34000</td>\n",
       "      <td>45.22000</td>\n",
       "      <td>14320441.0</td>\n",
       "      <td>0.00155</td>\n",
       "      <td>44.48000</td>\n",
       "      <td>NaN</td>\n",
       "      <td>0.00155</td>\n",
       "    </tr>\n",
       "    <tr>\n",
       "      <th>1</th>\n",
       "      <td>10104</td>\n",
       "      <td>2019-01-03</td>\n",
       "      <td>11.0</td>\n",
       "      <td>7372</td>\n",
       "      <td>ORCL</td>\n",
       "      <td>ORACLE CORP</td>\n",
       "      <td>NaN</td>\n",
       "      <td>ORCL</td>\n",
       "      <td>7372.0</td>\n",
       "      <td>44.41000</td>\n",
       "      <td>45.50000</td>\n",
       "      <td>44.78000</td>\n",
       "      <td>19868713.0</td>\n",
       "      <td>-0.00973</td>\n",
       "      <td>44.75000</td>\n",
       "      <td>NaN</td>\n",
       "      <td>-0.00973</td>\n",
       "    </tr>\n",
       "    <tr>\n",
       "      <th>2</th>\n",
       "      <td>10104</td>\n",
       "      <td>2019-01-04</td>\n",
       "      <td>11.0</td>\n",
       "      <td>7372</td>\n",
       "      <td>ORCL</td>\n",
       "      <td>ORACLE CORP</td>\n",
       "      <td>NaN</td>\n",
       "      <td>ORCL</td>\n",
       "      <td>7372.0</td>\n",
       "      <td>45.25000</td>\n",
       "      <td>46.95000</td>\n",
       "      <td>46.71000</td>\n",
       "      <td>20983953.0</td>\n",
       "      <td>0.0431</td>\n",
       "      <td>45.37000</td>\n",
       "      <td>NaN</td>\n",
       "      <td>0.0431</td>\n",
       "    </tr>\n",
       "    <tr>\n",
       "      <th>3</th>\n",
       "      <td>10104</td>\n",
       "      <td>2019-01-07</td>\n",
       "      <td>11.0</td>\n",
       "      <td>7372</td>\n",
       "      <td>ORCL</td>\n",
       "      <td>ORACLE CORP</td>\n",
       "      <td>NaN</td>\n",
       "      <td>ORCL</td>\n",
       "      <td>7372.0</td>\n",
       "      <td>46.47000</td>\n",
       "      <td>48.10500</td>\n",
       "      <td>47.45000</td>\n",
       "      <td>17967907.0</td>\n",
       "      <td>0.015842</td>\n",
       "      <td>46.93000</td>\n",
       "      <td>NaN</td>\n",
       "      <td>0.015842</td>\n",
       "    </tr>\n",
       "    <tr>\n",
       "      <th>4</th>\n",
       "      <td>10104</td>\n",
       "      <td>2019-01-08</td>\n",
       "      <td>11.0</td>\n",
       "      <td>7372</td>\n",
       "      <td>ORCL</td>\n",
       "      <td>ORACLE CORP</td>\n",
       "      <td>NaN</td>\n",
       "      <td>ORCL</td>\n",
       "      <td>7372.0</td>\n",
       "      <td>47.20000</td>\n",
       "      <td>48.36000</td>\n",
       "      <td>47.88000</td>\n",
       "      <td>16255688.0</td>\n",
       "      <td>0.009062</td>\n",
       "      <td>47.93000</td>\n",
       "      <td>NaN</td>\n",
       "      <td>0.009062</td>\n",
       "    </tr>\n",
       "    <tr>\n",
       "      <th>...</th>\n",
       "      <td>...</td>\n",
       "      <td>...</td>\n",
       "      <td>...</td>\n",
       "      <td>...</td>\n",
       "      <td>...</td>\n",
       "      <td>...</td>\n",
       "      <td>...</td>\n",
       "      <td>...</td>\n",
       "      <td>...</td>\n",
       "      <td>...</td>\n",
       "      <td>...</td>\n",
       "      <td>...</td>\n",
       "      <td>...</td>\n",
       "      <td>...</td>\n",
       "      <td>...</td>\n",
       "      <td>...</td>\n",
       "      <td>...</td>\n",
       "    </tr>\n",
       "    <tr>\n",
       "      <th>562915</th>\n",
       "      <td>93436</td>\n",
       "      <td>2020-12-24</td>\n",
       "      <td>11.0</td>\n",
       "      <td>9999</td>\n",
       "      <td>TSLA</td>\n",
       "      <td>TESLA INC</td>\n",
       "      <td>NaN</td>\n",
       "      <td>TSLA</td>\n",
       "      <td>9999.0</td>\n",
       "      <td>641.00000</td>\n",
       "      <td>666.09003</td>\n",
       "      <td>661.77002</td>\n",
       "      <td>22813214.0</td>\n",
       "      <td>0.024444</td>\n",
       "      <td>642.98999</td>\n",
       "      <td>465870.0</td>\n",
       "      <td>0.024444</td>\n",
       "    </tr>\n",
       "    <tr>\n",
       "      <th>562916</th>\n",
       "      <td>93436</td>\n",
       "      <td>2020-12-28</td>\n",
       "      <td>11.0</td>\n",
       "      <td>9999</td>\n",
       "      <td>TSLA</td>\n",
       "      <td>TESLA INC</td>\n",
       "      <td>NaN</td>\n",
       "      <td>TSLA</td>\n",
       "      <td>9999.0</td>\n",
       "      <td>660.79999</td>\n",
       "      <td>681.40002</td>\n",
       "      <td>663.69000</td>\n",
       "      <td>32232732.0</td>\n",
       "      <td>0.002901</td>\n",
       "      <td>674.51001</td>\n",
       "      <td>631681.0</td>\n",
       "      <td>0.002901</td>\n",
       "    </tr>\n",
       "    <tr>\n",
       "      <th>562917</th>\n",
       "      <td>93436</td>\n",
       "      <td>2020-12-29</td>\n",
       "      <td>11.0</td>\n",
       "      <td>9999</td>\n",
       "      <td>TSLA</td>\n",
       "      <td>TESLA INC</td>\n",
       "      <td>NaN</td>\n",
       "      <td>TSLA</td>\n",
       "      <td>9999.0</td>\n",
       "      <td>655.00000</td>\n",
       "      <td>669.90002</td>\n",
       "      <td>665.98999</td>\n",
       "      <td>22867542.0</td>\n",
       "      <td>0.003465</td>\n",
       "      <td>661.00000</td>\n",
       "      <td>466884.0</td>\n",
       "      <td>0.003465</td>\n",
       "    </tr>\n",
       "    <tr>\n",
       "      <th>562918</th>\n",
       "      <td>93436</td>\n",
       "      <td>2020-12-30</td>\n",
       "      <td>11.0</td>\n",
       "      <td>9999</td>\n",
       "      <td>TSLA</td>\n",
       "      <td>TESLA INC</td>\n",
       "      <td>NaN</td>\n",
       "      <td>TSLA</td>\n",
       "      <td>9999.0</td>\n",
       "      <td>668.36029</td>\n",
       "      <td>696.59998</td>\n",
       "      <td>694.78003</td>\n",
       "      <td>42766263.0</td>\n",
       "      <td>0.043229</td>\n",
       "      <td>672.00000</td>\n",
       "      <td>767565.0</td>\n",
       "      <td>0.043229</td>\n",
       "    </tr>\n",
       "    <tr>\n",
       "      <th>562919</th>\n",
       "      <td>93436</td>\n",
       "      <td>2020-12-31</td>\n",
       "      <td>11.0</td>\n",
       "      <td>9999</td>\n",
       "      <td>TSLA</td>\n",
       "      <td>TESLA INC</td>\n",
       "      <td>NaN</td>\n",
       "      <td>TSLA</td>\n",
       "      <td>9999.0</td>\n",
       "      <td>691.12000</td>\n",
       "      <td>718.71997</td>\n",
       "      <td>705.66998</td>\n",
       "      <td>49544141.0</td>\n",
       "      <td>0.015674</td>\n",
       "      <td>699.98999</td>\n",
       "      <td>917115.0</td>\n",
       "      <td>0.015674</td>\n",
       "    </tr>\n",
       "  </tbody>\n",
       "</table>\n",
       "<p>562920 rows × 17 columns</p>\n",
       "</div>"
      ],
      "text/plain": [
       "        PERMNO       date  SHRCD SICCD TICKER       COMNAM SHRCLS TSYMBOL  \\\n",
       "0        10104 2019-01-02   11.0  7372   ORCL  ORACLE CORP    NaN    ORCL   \n",
       "1        10104 2019-01-03   11.0  7372   ORCL  ORACLE CORP    NaN    ORCL   \n",
       "2        10104 2019-01-04   11.0  7372   ORCL  ORACLE CORP    NaN    ORCL   \n",
       "3        10104 2019-01-07   11.0  7372   ORCL  ORACLE CORP    NaN    ORCL   \n",
       "4        10104 2019-01-08   11.0  7372   ORCL  ORACLE CORP    NaN    ORCL   \n",
       "...        ...        ...    ...   ...    ...          ...    ...     ...   \n",
       "562915   93436 2020-12-24   11.0  9999   TSLA    TESLA INC    NaN    TSLA   \n",
       "562916   93436 2020-12-28   11.0  9999   TSLA    TESLA INC    NaN    TSLA   \n",
       "562917   93436 2020-12-29   11.0  9999   TSLA    TESLA INC    NaN    TSLA   \n",
       "562918   93436 2020-12-30   11.0  9999   TSLA    TESLA INC    NaN    TSLA   \n",
       "562919   93436 2020-12-31   11.0  9999   TSLA    TESLA INC    NaN    TSLA   \n",
       "\n",
       "        HSICCD      BIDLO      ASKHI        PRC         VOL       RET  \\\n",
       "0       7372.0   44.45000   45.34000   45.22000  14320441.0   0.00155   \n",
       "1       7372.0   44.41000   45.50000   44.78000  19868713.0  -0.00973   \n",
       "2       7372.0   45.25000   46.95000   46.71000  20983953.0    0.0431   \n",
       "3       7372.0   46.47000   48.10500   47.45000  17967907.0  0.015842   \n",
       "4       7372.0   47.20000   48.36000   47.88000  16255688.0  0.009062   \n",
       "...        ...        ...        ...        ...         ...       ...   \n",
       "562915  9999.0  641.00000  666.09003  661.77002  22813214.0  0.024444   \n",
       "562916  9999.0  660.79999  681.40002  663.69000  32232732.0  0.002901   \n",
       "562917  9999.0  655.00000  669.90002  665.98999  22867542.0  0.003465   \n",
       "562918  9999.0  668.36029  696.59998  694.78003  42766263.0  0.043229   \n",
       "562919  9999.0  691.12000  718.71997  705.66998  49544141.0  0.015674   \n",
       "\n",
       "          OPENPRC    NUMTRD      RETX  \n",
       "0        44.48000       NaN   0.00155  \n",
       "1        44.75000       NaN  -0.00973  \n",
       "2        45.37000       NaN    0.0431  \n",
       "3        46.93000       NaN  0.015842  \n",
       "4        47.93000       NaN  0.009062  \n",
       "...           ...       ...       ...  \n",
       "562915  642.98999  465870.0  0.024444  \n",
       "562916  674.51001  631681.0  0.002901  \n",
       "562917  661.00000  466884.0  0.003465  \n",
       "562918  672.00000  767565.0  0.043229  \n",
       "562919  699.98999  917115.0  0.015674  \n",
       "\n",
       "[562920 rows x 17 columns]"
      ]
     },
     "execution_count": 4,
     "metadata": {},
     "output_type": "execute_result"
    }
   ],
   "source": [
    "house_stocks = pd.read_csv('house_stocks.csv', parse_dates=[1])\n",
    "house_stocks['PRC'] = house_stocks['PRC'].abs()\n",
    "house_stocks"
   ]
  },
  {
   "cell_type": "code",
   "execution_count": 5,
   "id": "swedish-beatles",
   "metadata": {},
   "outputs": [],
   "source": [
    "house_transactions = house_transactions[house_transactions['ticker'].isin(house_stocks['TICKER'].unique())]"
   ]
  },
  {
   "cell_type": "code",
   "execution_count": 6,
   "id": "peaceful-differential",
   "metadata": {},
   "outputs": [],
   "source": [
    "# index = pd.read_csv('RUSSEL_3000_2020.csv', parse_dates=[0], index_col=0, thousands=r',')\n",
    "index = pd.read_csv('sp500.csv', parse_dates=[0], index_col=0)"
   ]
  },
  {
   "cell_type": "code",
   "execution_count": 7,
   "id": "clean-aside",
   "metadata": {},
   "outputs": [],
   "source": [
    "house = house_transactions.copy()\n",
    "house.drop(columns=['ticker_original', 'ptr_link'], inplace=True)"
   ]
  },
  {
   "cell_type": "code",
   "execution_count": 8,
   "id": "42fe5800",
   "metadata": {},
   "outputs": [],
   "source": [
    "amount_map = {\n",
    "    '$1,001 -':1,\n",
    "    '$1,001 - $15,000':1,\n",
    "    '$15,001 - $50,000':2,\n",
    "    '$50,001 - $100,000':3,\n",
    "    '$100,001 - $250,000':4,\n",
    "    '$250,001 - $500,000':5,\n",
    "    '$500,001 - $1,000,000':6,\n",
    "    '$1,000,001 - $5,000,000':7,\n",
    "    '$5,000,001 - $25,000,000':8,\n",
    "}\n",
    "house['amount_discrete'] = house['amount'].apply(lambda a: amount_map[a])"
   ]
  },
  {
   "cell_type": "code",
   "execution_count": 9,
   "id": "3130ed4c",
   "metadata": {},
   "outputs": [],
   "source": [
    "market_cap = pd.read_csv('MarketCap_Dec31_2020.csv')[['ticker', 'Market Cap']].rename(columns = {'Market Cap':'market_cap'})\n",
    "market_cap['market_cap'] = 1000 * market_cap['market_cap']\n",
    "house = house.merge(market_cap, on='ticker')"
   ]
  },
  {
   "cell_type": "code",
   "execution_count": 22,
   "id": "typical-bradford",
   "metadata": {},
   "outputs": [
    {
     "name": "stderr",
     "output_type": "stream",
     "text": [
      "<ipython-input-22-ed23181de6af>:14: SettingWithCopyWarning: \n",
      "A value is trying to be set on a copy of a slice from a DataFrame.\n",
      "Try using .loc[row_indexer,col_indexer] = value instead\n",
      "\n",
      "See the caveats in the documentation: https://pandas.pydata.org/pandas-docs/stable/user_guide/indexing.html#returning-a-view-versus-a-copy\n",
      "  stock_prices['daily_return'] = stock_prices['PRC'].pct_change()\n"
     ]
    }
   ],
   "source": [
    "times = {'1d':1, '5d':5, '1m':22, 'prev1d':-1, 'prev5d':-5, 'prev1m':-22}\n",
    "\n",
    "daily_returns = pd.DataFrame(columns=list(range(-21,23))+['type', 'ticker', 'amount'])\n",
    "\n",
    "prev_ticker = None\n",
    "prev_stock_prices = None\n",
    "\n",
    "for i, tr in house.iterrows():\n",
    "    stock_prices = prev_stock_prices\n",
    "    if tr['ticker'] != prev_ticker:\n",
    "        stock_prices = house_stocks[house_stocks['TICKER'] == tr['ticker']]\n",
    "        if tr['share_class']:\n",
    "            stock_prices = stock_prices[stock_prices['SHRCLS'] == tr['share_class']]\n",
    "        stock_prices['daily_return'] = stock_prices['PRC'].pct_change()\n",
    "        prev_ticker = tr['ticker']\n",
    "        prev_stock_prices = stock_prices\n",
    "        \n",
    "    stock_transaction = stock_prices[stock_prices['date'] == tr['transaction_date']]\n",
    "    if len(stock_transaction) != 1:\n",
    "        continue\n",
    "    idx = stock_transaction.index[0]\n",
    "    index_idx = index.index.get_loc(tr['transaction_date'])\n",
    "    \n",
    "    stock_daily_returns = stock_prices.loc[idx+times['prev1m']+1:idx+times['1m']]['daily_return']\n",
    "    index_daily_returns = index.iloc[index_idx+times['prev1m']+1:index_idx+times['1m']+1]['sprtrn']\n",
    "    if len(stock_daily_returns) == 44 and len(index_daily_returns) == 44:\n",
    "        daily_returns.loc[i] = list(stock_daily_returns.to_numpy() - index_daily_returns.to_numpy()) + [tr['type'], tr['ticker'], tr['amount']]\n",
    "    \n",
    "    for time in times:\n",
    "        type_multiplier = 1 if tr['type'] == 'Purchase' else -1\n",
    "        prev_exponent = 1 if times[time] > 0 else -1\n",
    "        try:\n",
    "            house.loc[i, 'return_{}'.format(time)] = ((stock_prices.loc[idx+times[time]]['PRC'] / stock_prices.loc[idx]['PRC']) ** prev_exponent - 1) * type_multiplier\n",
    "            house.loc[i, 'return_index_{}'.format(time)] = ((index.iloc[index_idx+times[time]]['spindx'] / index.iloc[index_idx]['spindx']) ** prev_exponent - 1) * type_multiplier\n",
    "            house.loc[i, 'return_abnormal_{}'.format(time)] = house.loc[i, 'return_{}'.format(time)] - house.loc[i, 'return_index_{}'.format(time)]\n",
    "        except:\n",
    "            pass"
   ]
  },
  {
   "cell_type": "code",
   "execution_count": 23,
   "id": "textile-hamilton",
   "metadata": {},
   "outputs": [
    {
     "data": {
      "text/html": [
       "<div>\n",
       "<style scoped>\n",
       "    .dataframe tbody tr th:only-of-type {\n",
       "        vertical-align: middle;\n",
       "    }\n",
       "\n",
       "    .dataframe tbody tr th {\n",
       "        vertical-align: top;\n",
       "    }\n",
       "\n",
       "    .dataframe thead th {\n",
       "        text-align: right;\n",
       "    }\n",
       "</style>\n",
       "<table border=\"1\" class=\"dataframe\">\n",
       "  <thead>\n",
       "    <tr style=\"text-align: right;\">\n",
       "      <th></th>\n",
       "      <th>-21</th>\n",
       "      <th>-20</th>\n",
       "      <th>-19</th>\n",
       "      <th>-18</th>\n",
       "      <th>-17</th>\n",
       "      <th>-16</th>\n",
       "      <th>-15</th>\n",
       "      <th>-14</th>\n",
       "      <th>-13</th>\n",
       "      <th>-12</th>\n",
       "      <th>...</th>\n",
       "      <th>16</th>\n",
       "      <th>17</th>\n",
       "      <th>18</th>\n",
       "      <th>19</th>\n",
       "      <th>20</th>\n",
       "      <th>21</th>\n",
       "      <th>22</th>\n",
       "      <th>type</th>\n",
       "      <th>ticker</th>\n",
       "      <th>amount</th>\n",
       "    </tr>\n",
       "  </thead>\n",
       "  <tbody>\n",
       "    <tr>\n",
       "      <th>0</th>\n",
       "      <td>-0.006954</td>\n",
       "      <td>0.016380</td>\n",
       "      <td>-0.001733</td>\n",
       "      <td>0.046575</td>\n",
       "      <td>0.038439</td>\n",
       "      <td>0.029543</td>\n",
       "      <td>-0.049866</td>\n",
       "      <td>0.054005</td>\n",
       "      <td>-0.017200</td>\n",
       "      <td>-0.036545</td>\n",
       "      <td>...</td>\n",
       "      <td>0.000466</td>\n",
       "      <td>0.015235</td>\n",
       "      <td>0.026620</td>\n",
       "      <td>-0.003415</td>\n",
       "      <td>-0.001458</td>\n",
       "      <td>0.019394</td>\n",
       "      <td>0.003071</td>\n",
       "      <td>Sale</td>\n",
       "      <td>A</td>\n",
       "      <td>$1,001 - $15,000</td>\n",
       "    </tr>\n",
       "    <tr>\n",
       "      <th>1</th>\n",
       "      <td>0.017122</td>\n",
       "      <td>0.008733</td>\n",
       "      <td>0.042821</td>\n",
       "      <td>0.020307</td>\n",
       "      <td>-0.017355</td>\n",
       "      <td>-0.016302</td>\n",
       "      <td>0.005334</td>\n",
       "      <td>-0.016132</td>\n",
       "      <td>0.019606</td>\n",
       "      <td>0.025463</td>\n",
       "      <td>...</td>\n",
       "      <td>0.058529</td>\n",
       "      <td>-0.047465</td>\n",
       "      <td>-0.042926</td>\n",
       "      <td>0.005921</td>\n",
       "      <td>-0.028386</td>\n",
       "      <td>0.022046</td>\n",
       "      <td>-0.004154</td>\n",
       "      <td>Sale</td>\n",
       "      <td>AA</td>\n",
       "      <td>$15,001 - $50,000</td>\n",
       "    </tr>\n",
       "    <tr>\n",
       "      <th>2</th>\n",
       "      <td>-0.061272</td>\n",
       "      <td>-0.031256</td>\n",
       "      <td>-0.032484</td>\n",
       "      <td>-0.067005</td>\n",
       "      <td>-0.056013</td>\n",
       "      <td>-0.025444</td>\n",
       "      <td>-0.004108</td>\n",
       "      <td>-0.100455</td>\n",
       "      <td>0.012690</td>\n",
       "      <td>-0.000423</td>\n",
       "      <td>...</td>\n",
       "      <td>0.018373</td>\n",
       "      <td>-0.026199</td>\n",
       "      <td>0.025250</td>\n",
       "      <td>-0.089294</td>\n",
       "      <td>-0.001408</td>\n",
       "      <td>-0.008064</td>\n",
       "      <td>-0.042842</td>\n",
       "      <td>Purchase</td>\n",
       "      <td>AAL</td>\n",
       "      <td>$1,001 - $15,000</td>\n",
       "    </tr>\n",
       "    <tr>\n",
       "      <th>3</th>\n",
       "      <td>-0.061272</td>\n",
       "      <td>-0.031256</td>\n",
       "      <td>-0.032484</td>\n",
       "      <td>-0.067005</td>\n",
       "      <td>-0.056013</td>\n",
       "      <td>-0.025444</td>\n",
       "      <td>-0.004108</td>\n",
       "      <td>-0.100455</td>\n",
       "      <td>0.012690</td>\n",
       "      <td>-0.000423</td>\n",
       "      <td>...</td>\n",
       "      <td>0.018373</td>\n",
       "      <td>-0.026199</td>\n",
       "      <td>0.025250</td>\n",
       "      <td>-0.089294</td>\n",
       "      <td>-0.001408</td>\n",
       "      <td>-0.008064</td>\n",
       "      <td>-0.042842</td>\n",
       "      <td>Purchase</td>\n",
       "      <td>AAL</td>\n",
       "      <td>$1,001 - $15,000</td>\n",
       "    </tr>\n",
       "    <tr>\n",
       "      <th>4</th>\n",
       "      <td>0.264221</td>\n",
       "      <td>0.094068</td>\n",
       "      <td>-0.044870</td>\n",
       "      <td>-0.069761</td>\n",
       "      <td>-0.161009</td>\n",
       "      <td>0.011115</td>\n",
       "      <td>-0.078910</td>\n",
       "      <td>-0.081763</td>\n",
       "      <td>-0.051463</td>\n",
       "      <td>-0.058616</td>\n",
       "      <td>...</td>\n",
       "      <td>-0.015948</td>\n",
       "      <td>0.060313</td>\n",
       "      <td>-0.012819</td>\n",
       "      <td>0.007208</td>\n",
       "      <td>0.009800</td>\n",
       "      <td>-0.021565</td>\n",
       "      <td>0.136165</td>\n",
       "      <td>Purchase</td>\n",
       "      <td>AAL</td>\n",
       "      <td>$1,001 - $15,000</td>\n",
       "    </tr>\n",
       "    <tr>\n",
       "      <th>...</th>\n",
       "      <td>...</td>\n",
       "      <td>...</td>\n",
       "      <td>...</td>\n",
       "      <td>...</td>\n",
       "      <td>...</td>\n",
       "      <td>...</td>\n",
       "      <td>...</td>\n",
       "      <td>...</td>\n",
       "      <td>...</td>\n",
       "      <td>...</td>\n",
       "      <td>...</td>\n",
       "      <td>...</td>\n",
       "      <td>...</td>\n",
       "      <td>...</td>\n",
       "      <td>...</td>\n",
       "      <td>...</td>\n",
       "      <td>...</td>\n",
       "      <td>...</td>\n",
       "      <td>...</td>\n",
       "      <td>...</td>\n",
       "      <td>...</td>\n",
       "    </tr>\n",
       "    <tr>\n",
       "      <th>5530</th>\n",
       "      <td>0.001323</td>\n",
       "      <td>0.006515</td>\n",
       "      <td>0.004483</td>\n",
       "      <td>0.013644</td>\n",
       "      <td>0.028004</td>\n",
       "      <td>0.002863</td>\n",
       "      <td>-0.003406</td>\n",
       "      <td>0.016086</td>\n",
       "      <td>0.004285</td>\n",
       "      <td>0.005653</td>\n",
       "      <td>...</td>\n",
       "      <td>-0.009342</td>\n",
       "      <td>0.023583</td>\n",
       "      <td>-0.001137</td>\n",
       "      <td>-0.007593</td>\n",
       "      <td>0.009559</td>\n",
       "      <td>-0.014029</td>\n",
       "      <td>-0.016709</td>\n",
       "      <td>Sale</td>\n",
       "      <td>ZTS</td>\n",
       "      <td>$1,001 - $15,000</td>\n",
       "    </tr>\n",
       "    <tr>\n",
       "      <th>5531</th>\n",
       "      <td>0.028004</td>\n",
       "      <td>0.002863</td>\n",
       "      <td>-0.003406</td>\n",
       "      <td>0.016086</td>\n",
       "      <td>0.004285</td>\n",
       "      <td>0.005653</td>\n",
       "      <td>-0.000931</td>\n",
       "      <td>0.022486</td>\n",
       "      <td>-0.026269</td>\n",
       "      <td>0.030408</td>\n",
       "      <td>...</td>\n",
       "      <td>0.009559</td>\n",
       "      <td>-0.014029</td>\n",
       "      <td>-0.016709</td>\n",
       "      <td>0.004442</td>\n",
       "      <td>-0.002721</td>\n",
       "      <td>-0.029446</td>\n",
       "      <td>-0.005852</td>\n",
       "      <td>Purchase</td>\n",
       "      <td>ZTS</td>\n",
       "      <td>$1,001 - $15,000</td>\n",
       "    </tr>\n",
       "    <tr>\n",
       "      <th>5532</th>\n",
       "      <td>0.005649</td>\n",
       "      <td>-0.009843</td>\n",
       "      <td>0.004237</td>\n",
       "      <td>-0.001732</td>\n",
       "      <td>-0.003439</td>\n",
       "      <td>0.004642</td>\n",
       "      <td>-0.019812</td>\n",
       "      <td>0.022929</td>\n",
       "      <td>-0.003927</td>\n",
       "      <td>-0.001115</td>\n",
       "      <td>...</td>\n",
       "      <td>0.001488</td>\n",
       "      <td>-0.001028</td>\n",
       "      <td>-0.011284</td>\n",
       "      <td>-0.000354</td>\n",
       "      <td>0.015166</td>\n",
       "      <td>-0.005523</td>\n",
       "      <td>-0.003411</td>\n",
       "      <td>Sale</td>\n",
       "      <td>ZTS</td>\n",
       "      <td>$1,001 - $15,000</td>\n",
       "    </tr>\n",
       "    <tr>\n",
       "      <th>5533</th>\n",
       "      <td>-0.002497</td>\n",
       "      <td>-0.014679</td>\n",
       "      <td>0.018189</td>\n",
       "      <td>0.001705</td>\n",
       "      <td>0.008867</td>\n",
       "      <td>0.003546</td>\n",
       "      <td>0.009184</td>\n",
       "      <td>0.000649</td>\n",
       "      <td>-0.008256</td>\n",
       "      <td>-0.005057</td>\n",
       "      <td>...</td>\n",
       "      <td>0.002820</td>\n",
       "      <td>0.004655</td>\n",
       "      <td>0.004875</td>\n",
       "      <td>-0.004371</td>\n",
       "      <td>-0.001691</td>\n",
       "      <td>0.004034</td>\n",
       "      <td>0.015032</td>\n",
       "      <td>Sale</td>\n",
       "      <td>ZTS</td>\n",
       "      <td>$1,001 - $15,000</td>\n",
       "    </tr>\n",
       "    <tr>\n",
       "      <th>5534</th>\n",
       "      <td>0.041590</td>\n",
       "      <td>-0.030544</td>\n",
       "      <td>-0.034406</td>\n",
       "      <td>-0.018087</td>\n",
       "      <td>-0.002421</td>\n",
       "      <td>0.006125</td>\n",
       "      <td>0.017484</td>\n",
       "      <td>0.001861</td>\n",
       "      <td>-0.022103</td>\n",
       "      <td>0.017473</td>\n",
       "      <td>...</td>\n",
       "      <td>0.003009</td>\n",
       "      <td>-0.006444</td>\n",
       "      <td>-0.027229</td>\n",
       "      <td>0.000510</td>\n",
       "      <td>-0.010620</td>\n",
       "      <td>-0.024845</td>\n",
       "      <td>0.007071</td>\n",
       "      <td>Purchase</td>\n",
       "      <td>ZUO</td>\n",
       "      <td>$15,001 - $50,000</td>\n",
       "    </tr>\n",
       "  </tbody>\n",
       "</table>\n",
       "<p>5151 rows × 47 columns</p>\n",
       "</div>"
      ],
      "text/plain": [
       "           -21       -20       -19       -18       -17       -16       -15  \\\n",
       "0    -0.006954  0.016380 -0.001733  0.046575  0.038439  0.029543 -0.049866   \n",
       "1     0.017122  0.008733  0.042821  0.020307 -0.017355 -0.016302  0.005334   \n",
       "2    -0.061272 -0.031256 -0.032484 -0.067005 -0.056013 -0.025444 -0.004108   \n",
       "3    -0.061272 -0.031256 -0.032484 -0.067005 -0.056013 -0.025444 -0.004108   \n",
       "4     0.264221  0.094068 -0.044870 -0.069761 -0.161009  0.011115 -0.078910   \n",
       "...        ...       ...       ...       ...       ...       ...       ...   \n",
       "5530  0.001323  0.006515  0.004483  0.013644  0.028004  0.002863 -0.003406   \n",
       "5531  0.028004  0.002863 -0.003406  0.016086  0.004285  0.005653 -0.000931   \n",
       "5532  0.005649 -0.009843  0.004237 -0.001732 -0.003439  0.004642 -0.019812   \n",
       "5533 -0.002497 -0.014679  0.018189  0.001705  0.008867  0.003546  0.009184   \n",
       "5534  0.041590 -0.030544 -0.034406 -0.018087 -0.002421  0.006125  0.017484   \n",
       "\n",
       "           -14       -13       -12  ...        16        17        18  \\\n",
       "0     0.054005 -0.017200 -0.036545  ...  0.000466  0.015235  0.026620   \n",
       "1    -0.016132  0.019606  0.025463  ...  0.058529 -0.047465 -0.042926   \n",
       "2    -0.100455  0.012690 -0.000423  ...  0.018373 -0.026199  0.025250   \n",
       "3    -0.100455  0.012690 -0.000423  ...  0.018373 -0.026199  0.025250   \n",
       "4    -0.081763 -0.051463 -0.058616  ... -0.015948  0.060313 -0.012819   \n",
       "...        ...       ...       ...  ...       ...       ...       ...   \n",
       "5530  0.016086  0.004285  0.005653  ... -0.009342  0.023583 -0.001137   \n",
       "5531  0.022486 -0.026269  0.030408  ...  0.009559 -0.014029 -0.016709   \n",
       "5532  0.022929 -0.003927 -0.001115  ...  0.001488 -0.001028 -0.011284   \n",
       "5533  0.000649 -0.008256 -0.005057  ...  0.002820  0.004655  0.004875   \n",
       "5534  0.001861 -0.022103  0.017473  ...  0.003009 -0.006444 -0.027229   \n",
       "\n",
       "            19        20        21        22      type  ticker  \\\n",
       "0    -0.003415 -0.001458  0.019394  0.003071      Sale       A   \n",
       "1     0.005921 -0.028386  0.022046 -0.004154      Sale      AA   \n",
       "2    -0.089294 -0.001408 -0.008064 -0.042842  Purchase     AAL   \n",
       "3    -0.089294 -0.001408 -0.008064 -0.042842  Purchase     AAL   \n",
       "4     0.007208  0.009800 -0.021565  0.136165  Purchase     AAL   \n",
       "...        ...       ...       ...       ...       ...     ...   \n",
       "5530 -0.007593  0.009559 -0.014029 -0.016709      Sale     ZTS   \n",
       "5531  0.004442 -0.002721 -0.029446 -0.005852  Purchase     ZTS   \n",
       "5532 -0.000354  0.015166 -0.005523 -0.003411      Sale     ZTS   \n",
       "5533 -0.004371 -0.001691  0.004034  0.015032      Sale     ZTS   \n",
       "5534  0.000510 -0.010620 -0.024845  0.007071  Purchase     ZUO   \n",
       "\n",
       "                 amount  \n",
       "0      $1,001 - $15,000  \n",
       "1     $15,001 - $50,000  \n",
       "2      $1,001 - $15,000  \n",
       "3      $1,001 - $15,000  \n",
       "4      $1,001 - $15,000  \n",
       "...                 ...  \n",
       "5530   $1,001 - $15,000  \n",
       "5531   $1,001 - $15,000  \n",
       "5532   $1,001 - $15,000  \n",
       "5533   $1,001 - $15,000  \n",
       "5534  $15,001 - $50,000  \n",
       "\n",
       "[5151 rows x 47 columns]"
      ]
     },
     "execution_count": 23,
     "metadata": {},
     "output_type": "execute_result"
    }
   ],
   "source": [
    "daily_returns"
   ]
  },
  {
   "cell_type": "code",
   "execution_count": 12,
   "id": "balanced-heart",
   "metadata": {},
   "outputs": [
    {
     "data": {
      "text/plain": [
       "[<matplotlib.lines.Line2D at 0x7fd96591fcd0>]"
      ]
     },
     "execution_count": 12,
     "metadata": {},
     "output_type": "execute_result"
    },
    {
     "data": {
      "image/png": "[encoded data removed]",
      "text/plain": [
       "<Figure size 432x288 with 1 Axes>"
      ]
     },
     "metadata": {
      "needs_background": "light"
     },
     "output_type": "display_data"
    }
   ],
   "source": [
    "# def graph(tr_type):\n",
    "#     daily = daily_returns[daily_returns['type'] == tr_type]\n",
    "#     daily = daily.drop(columns=['type'])\n",
    "#     cumulative = daily + 1\n",
    "#     cumulative = cumulative.cumprod(axis=1)\n",
    "#     return cumulative.mean() - 1\n",
    "\n",
    "# plt.plot(graph('Purchase'))\n",
    "# plt.plot(graph('Sale'))"
   ]
  },
  {
   "cell_type": "code",
   "execution_count": 13,
   "id": "surface-strand",
   "metadata": {},
   "outputs": [
    {
     "data": {
      "text/plain": [
       "[<matplotlib.lines.Line2D at 0x7fd967060490>]"
      ]
     },
     "execution_count": 13,
     "metadata": {},
     "output_type": "execute_result"
    },
    {
     "data": {
      "image/png": "[encoded data removed]",
      "text/plain": [
       "<Figure size 432x288 with 1 Axes>"
      ]
     },
     "metadata": {
      "needs_background": "light"
     },
     "output_type": "display_data"
    }
   ],
   "source": [
    "# def graph2(tr_type):\n",
    "#     daily = daily_returns[daily_returns['type'] == tr_type]\n",
    "#     daily = daily.drop(columns=['type'])\n",
    "#     daily = daily.mean()\n",
    "#     cumulative = (daily + 1).cumprod()\n",
    "#     return cumulative - 1\n",
    "\n",
    "# plt.plot(graph2('Purchase'))\n",
    "# plt.plot(graph2('Sale'))"
   ]
  },
  {
   "cell_type": "code",
   "execution_count": 29,
   "id": "innovative-period",
   "metadata": {},
   "outputs": [
    {
     "data": {
      "application/vnd.plotly.v1+json": {
       "config": {
        "plotlyServerURL": "https://plot.ly"
       },
       "data": [
        {
         "hovertemplate": "variable=Purchases<br>t=%{x}<br>return=%{y}<extra></extra>",
         "legendgroup": "Purchases",
         "line": {
          "color": "#636efa",
          "dash": "solid"
         },
         "mode": "lines",
         "name": "Purchases",
         "orientation": "v",
         "showlegend": true,
         "type": "scatter",
         "x": [
          -21,
          -20,
          -19,
          -18,
          -17,
          -16,
          -15,
          -14,
          -13,
          -12,
          -11,
          -10,
          -9,
          -8,
          -7,
          -6,
          -5,
          -4,
          -3,
          -2,
          -1,
          0,
          1,
          2,
          3,
          4,
          5,
          6,
          7,
          8,
          9,
          10,
          11,
          12,
          13,
          14,
          15,
          16,
          17,
          18,
          19,
          20,
          21,
          22
         ],
         "xaxis": "x",
         "y": [
          0.0003918537839142644,
          0.002909774486857142,
          0.0018327046142381231,
          2.064406933621754e-06,
          -0.0011825334285354705,
          -0.0017638233148032922,
          -0.002172629703788176,
          -0.0010823724521953348,
          -0.0002583283766548483,
          -0.0006673846213246515,
          0.00028700901150124913,
          0.00032415196384105727,
          -0.0019073326657060852,
          -0.002963581406274507,
          -0.0048509592963442705,
          -0.0052560471860342295,
          -0.005408252852950324,
          -0.005136693812368365,
          -0.00403673910686797,
          -0.002415287018250667,
          -0.0027332934056648606,
          -0.0020666551600651006,
          -0.002297121293833304,
          -0.0025347747723470926,
          -0.002531179210005563,
          -0.0013898724056990996,
          -0.0006929287629204861,
          -0.0013782526803394202,
          -0.0019453067821261216,
          -0.0027858620622011054,
          -0.004261865705140422,
          -0.0056268311265473825,
          -0.005653023392683587,
          -0.0050099359434589985,
          -0.005068315731428519,
          -0.004697985910610325,
          -0.0039880323662574435,
          -0.0007120217114874317,
          -0.0004484519788494623,
          -0.0007718713647327791,
          -0.003563784557502281,
          -0.0043181250644555025,
          -0.00358013583479988,
          -0.0036537417352140444
         ],
         "yaxis": "y"
        },
        {
         "hovertemplate": "variable=Sales<br>t=%{x}<br>return=%{y}<extra></extra>",
         "legendgroup": "Sales",
         "line": {
          "color": "#EF553B",
          "dash": "solid"
         },
         "mode": "lines",
         "name": "Sales",
         "orientation": "v",
         "showlegend": true,
         "type": "scatter",
         "x": [
          -21,
          -20,
          -19,
          -18,
          -17,
          -16,
          -15,
          -14,
          -13,
          -12,
          -11,
          -10,
          -9,
          -8,
          -7,
          -6,
          -5,
          -4,
          -3,
          -2,
          -1,
          0,
          1,
          2,
          3,
          4,
          5,
          6,
          7,
          8,
          9,
          10,
          11,
          12,
          13,
          14,
          15,
          16,
          17,
          18,
          19,
          20,
          21,
          22
         ],
         "xaxis": "x",
         "y": [
          0.00012778989456596612,
          0.00071895890434992,
          0.0009262422825460082,
          -8.324608064924632e-05,
          0.0006187171012246306,
          0.00022239455420147713,
          0.0005065432983513141,
          0.0018015245389382262,
          0.0010353146035901872,
          0.001789714951747623,
          0.0003070844044956722,
          0.00174543209395428,
          0.0020507161771690097,
          0.0033842310891345484,
          0.00501701614666672,
          0.0068984096350108715,
          0.014160513394283702,
          0.01593991653177884,
          0.0164162001822592,
          0.014378547685184095,
          0.012906707519701133,
          0.014767366370470603,
          0.018496914606833226,
          0.02241477983752982,
          0.024217553694242833,
          0.024871252257208987,
          0.02692694698290654,
          0.0280475019380233,
          0.030721530997390722,
          0.03165632591363399,
          0.031651936527946845,
          0.03324564975469735,
          0.03318503457486033,
          0.032411971157968233,
          0.034392026743870874,
          0.036332177531132936,
          0.0397456384301238,
          0.042197901462208476,
          0.04389979794104093,
          0.04386077552905032,
          0.040585955468789736,
          0.04111745373780673,
          0.039786962435901074,
          0.04190065296162948
         ],
         "yaxis": "y"
        }
       ],
       "layout": {
        "legend": {
         "title": {
          "text": "variable"
         },
         "tracegroupgap": 0
        },
        "margin": {
         "t": 60
        },
        "template": {
         "data": {
          "bar": [
           {
            "error_x": {
             "color": "#2a3f5f"
            },
            "error_y": {
             "color": "#2a3f5f"
            },
            "marker": {
             "line": {
              "color": "#E5ECF6",
              "width": 0.5
             },
             "pattern": {
              "fillmode": "overlay",
              "size": 10,
              "solidity": 0.2
             }
            },
            "type": "bar"
           }
          ],
          "barpolar": [
           {
            "marker": {
             "line": {
              "color": "#E5ECF6",
              "width": 0.5
             },
             "pattern": {
              "fillmode": "overlay",
              "size": 10,
              "solidity": 0.2
             }
            },
            "type": "barpolar"
           }
          ],
          "carpet": [
           {
            "aaxis": {
             "endlinecolor": "#2a3f5f",
             "gridcolor": "white",
             "linecolor": "white",
             "minorgridcolor": "white",
             "startlinecolor": "#2a3f5f"
            },
            "baxis": {
             "endlinecolor": "#2a3f5f",
             "gridcolor": "white",
             "linecolor": "white",
             "minorgridcolor": "white",
             "startlinecolor": "#2a3f5f"
            },
            "type": "carpet"
           }
          ],
          "choropleth": [
           {
            "colorbar": {
             "outlinewidth": 0,
             "ticks": ""
            },
            "type": "choropleth"
           }
          ],
          "contour": [
           {
            "colorbar": {
             "outlinewidth": 0,
             "ticks": ""
            },
            "colorscale": [
             [
              0,
              "#0d0887"
             ],
             [
              0.1111111111111111,
              "#46039f"
             ],
             [
              0.2222222222222222,
              "#7201a8"
             ],
             [
              0.3333333333333333,
              "#9c179e"
             ],
             [
              0.4444444444444444,
              "#bd3786"
             ],
             [
              0.5555555555555556,
              "#d8576b"
             ],
             [
              0.6666666666666666,
              "#ed7953"
             ],
             [
              0.7777777777777778,
              "#fb9f3a"
             ],
             [
              0.8888888888888888,
              "#fdca26"
             ],
             [
              1,
              "#f0f921"
             ]
            ],
            "type": "contour"
           }
          ],
          "contourcarpet": [
           {
            "colorbar": {
             "outlinewidth": 0,
             "ticks": ""
            },
            "type": "contourcarpet"
           }
          ],
          "heatmap": [
           {
            "colorbar": {
             "outlinewidth": 0,
             "ticks": ""
            },
            "colorscale": [
             [
              0,
              "#0d0887"
             ],
             [
              0.1111111111111111,
              "#46039f"
             ],
             [
              0.2222222222222222,
              "#7201a8"
             ],
             [
              0.3333333333333333,
              "#9c179e"
             ],
             [
              0.4444444444444444,
              "#bd3786"
             ],
             [
              0.5555555555555556,
              "#d8576b"
             ],
             [
              0.6666666666666666,
              "#ed7953"
             ],
             [
              0.7777777777777778,
              "#fb9f3a"
             ],
             [
              0.8888888888888888,
              "#fdca26"
             ],
             [
              1,
              "#f0f921"
             ]
            ],
            "type": "heatmap"
           }
          ],
          "heatmapgl": [
           {
            "colorbar": {
             "outlinewidth": 0,
             "ticks": ""
            },
            "colorscale": [
             [
              0,
              "#0d0887"
             ],
             [
              0.1111111111111111,
              "#46039f"
             ],
             [
              0.2222222222222222,
              "#7201a8"
             ],
             [
              0.3333333333333333,
              "#9c179e"
             ],
             [
              0.4444444444444444,
              "#bd3786"
             ],
             [
              0.5555555555555556,
              "#d8576b"
             ],
             [
              0.6666666666666666,
              "#ed7953"
             ],
             [
              0.7777777777777778,
              "#fb9f3a"
             ],
             [
              0.8888888888888888,
              "#fdca26"
             ],
             [
              1,
              "#f0f921"
             ]
            ],
            "type": "heatmapgl"
           }
          ],
          "histogram": [
           {
            "marker": {
             "pattern": {
              "fillmode": "overlay",
              "size": 10,
              "solidity": 0.2
             }
            },
            "type": "histogram"
           }
          ],
          "histogram2d": [
           {
            "colorbar": {
             "outlinewidth": 0,
             "ticks": ""
            },
            "colorscale": [
             [
              0,
              "#0d0887"
             ],
             [
              0.1111111111111111,
              "#46039f"
             ],
             [
              0.2222222222222222,
              "#7201a8"
             ],
             [
              0.3333333333333333,
              "#9c179e"
             ],
             [
              0.4444444444444444,
              "#bd3786"
             ],
             [
              0.5555555555555556,
              "#d8576b"
             ],
             [
              0.6666666666666666,
              "#ed7953"
             ],
             [
              0.7777777777777778,
              "#fb9f3a"
             ],
             [
              0.8888888888888888,
              "#fdca26"
             ],
             [
              1,
              "#f0f921"
             ]
            ],
            "type": "histogram2d"
           }
          ],
          "histogram2dcontour": [
           {
            "colorbar": {
             "outlinewidth": 0,
             "ticks": ""
            },
            "colorscale": [
             [
              0,
              "#0d0887"
             ],
             [
              0.1111111111111111,
              "#46039f"
             ],
             [
              0.2222222222222222,
              "#7201a8"
             ],
             [
              0.3333333333333333,
              "#9c179e"
             ],
             [
              0.4444444444444444,
              "#bd3786"
             ],
             [
              0.5555555555555556,
              "#d8576b"
             ],
             [
              0.6666666666666666,
              "#ed7953"
             ],
             [
              0.7777777777777778,
              "#fb9f3a"
             ],
             [
              0.8888888888888888,
              "#fdca26"
             ],
             [
              1,
              "#f0f921"
             ]
            ],
            "type": "histogram2dcontour"
           }
          ],
          "mesh3d": [
           {
            "colorbar": {
             "outlinewidth": 0,
             "ticks": ""
            },
            "type": "mesh3d"
           }
          ],
          "parcoords": [
           {
            "line": {
             "colorbar": {
              "outlinewidth": 0,
              "ticks": ""
             }
            },
            "type": "parcoords"
           }
          ],
          "pie": [
           {
            "automargin": true,
            "type": "pie"
           }
          ],
          "scatter": [
           {
            "marker": {
             "colorbar": {
              "outlinewidth": 0,
              "ticks": ""
             }
            },
            "type": "scatter"
           }
          ],
          "scatter3d": [
           {
            "line": {
             "colorbar": {
              "outlinewidth": 0,
              "ticks": ""
             }
            },
            "marker": {
             "colorbar": {
              "outlinewidth": 0,
              "ticks": ""
             }
            },
            "type": "scatter3d"
           }
          ],
          "scattercarpet": [
           {
            "marker": {
             "colorbar": {
              "outlinewidth": 0,
              "ticks": ""
             }
            },
            "type": "scattercarpet"
           }
          ],
          "scattergeo": [
           {
            "marker": {
             "colorbar": {
              "outlinewidth": 0,
              "ticks": ""
             }
            },
            "type": "scattergeo"
           }
          ],
          "scattergl": [
           {
            "marker": {
             "colorbar": {
              "outlinewidth": 0,
              "ticks": ""
             }
            },
            "type": "scattergl"
           }
          ],
          "scattermapbox": [
           {
            "marker": {
             "colorbar": {
              "outlinewidth": 0,
              "ticks": ""
             }
            },
            "type": "scattermapbox"
           }
          ],
          "scatterpolar": [
           {
            "marker": {
             "colorbar": {
              "outlinewidth": 0,
              "ticks": ""
             }
            },
            "type": "scatterpolar"
           }
          ],
          "scatterpolargl": [
           {
            "marker": {
             "colorbar": {
              "outlinewidth": 0,
              "ticks": ""
             }
            },
            "type": "scatterpolargl"
           }
          ],
          "scatterternary": [
           {
            "marker": {
             "colorbar": {
              "outlinewidth": 0,
              "ticks": ""
             }
            },
            "type": "scatterternary"
           }
          ],
          "surface": [
           {
            "colorbar": {
             "outlinewidth": 0,
             "ticks": ""
            },
            "colorscale": [
             [
              0,
              "#0d0887"
             ],
             [
              0.1111111111111111,
              "#46039f"
             ],
             [
              0.2222222222222222,
              "#7201a8"
             ],
             [
              0.3333333333333333,
              "#9c179e"
             ],
             [
              0.4444444444444444,
              "#bd3786"
             ],
             [
              0.5555555555555556,
              "#d8576b"
             ],
             [
              0.6666666666666666,
              "#ed7953"
             ],
             [
              0.7777777777777778,
              "#fb9f3a"
             ],
             [
              0.8888888888888888,
              "#fdca26"
             ],
             [
              1,
              "#f0f921"
             ]
            ],
            "type": "surface"
           }
          ],
          "table": [
           {
            "cells": {
             "fill": {
              "color": "#EBF0F8"
             },
             "line": {
              "color": "white"
             }
            },
            "header": {
             "fill": {
              "color": "#C8D4E3"
             },
             "line": {
              "color": "white"
             }
            },
            "type": "table"
           }
          ]
         },
         "layout": {
          "annotationdefaults": {
           "arrowcolor": "#2a3f5f",
           "arrowhead": 0,
           "arrowwidth": 1
          },
          "autotypenumbers": "strict",
          "coloraxis": {
           "colorbar": {
            "outlinewidth": 0,
            "ticks": ""
           }
          },
          "colorscale": {
           "diverging": [
            [
             0,
             "#8e0152"
            ],
            [
             0.1,
             "#c51b7d"
            ],
            [
             0.2,
             "#de77ae"
            ],
            [
             0.3,
             "#f1b6da"
            ],
            [
             0.4,
             "#fde0ef"
            ],
            [
             0.5,
             "#f7f7f7"
            ],
            [
             0.6,
             "#e6f5d0"
            ],
            [
             0.7,
             "#b8e186"
            ],
            [
             0.8,
             "#7fbc41"
            ],
            [
             0.9,
             "#4d9221"
            ],
            [
             1,
             "#276419"
            ]
           ],
           "sequential": [
            [
             0,
             "#0d0887"
            ],
            [
             0.1111111111111111,
             "#46039f"
            ],
            [
             0.2222222222222222,
             "#7201a8"
            ],
            [
             0.3333333333333333,
             "#9c179e"
            ],
            [
             0.4444444444444444,
             "#bd3786"
            ],
            [
             0.5555555555555556,
             "#d8576b"
            ],
            [
             0.6666666666666666,
             "#ed7953"
            ],
            [
             0.7777777777777778,
             "#fb9f3a"
            ],
            [
             0.8888888888888888,
             "#fdca26"
            ],
            [
             1,
             "#f0f921"
            ]
           ],
           "sequentialminus": [
            [
             0,
             "#0d0887"
            ],
            [
             0.1111111111111111,
             "#46039f"
            ],
            [
             0.2222222222222222,
             "#7201a8"
            ],
            [
             0.3333333333333333,
             "#9c179e"
            ],
            [
             0.4444444444444444,
             "#bd3786"
            ],
            [
             0.5555555555555556,
             "#d8576b"
            ],
            [
             0.6666666666666666,
             "#ed7953"
            ],
            [
             0.7777777777777778,
             "#fb9f3a"
            ],
            [
             0.8888888888888888,
             "#fdca26"
            ],
            [
             1,
             "#f0f921"
            ]
           ]
          },
          "colorway": [
           "#636efa",
           "#EF553B",
           "#00cc96",
           "#ab63fa",
           "#FFA15A",
           "#19d3f3",
           "#FF6692",
           "#B6E880",
           "#FF97FF",
           "#FECB52"
          ],
          "font": {
           "color": "#2a3f5f"
          },
          "geo": {
           "bgcolor": "white",
           "lakecolor": "white",
           "landcolor": "#E5ECF6",
           "showlakes": true,
           "showland": true,
           "subunitcolor": "white"
          },
          "hoverlabel": {
           "align": "left"
          },
          "hovermode": "closest",
          "mapbox": {
           "style": "light"
          },
          "paper_bgcolor": "white",
          "plot_bgcolor": "#E5ECF6",
          "polar": {
           "angularaxis": {
            "gridcolor": "white",
            "linecolor": "white",
            "ticks": ""
           },
           "bgcolor": "#E5ECF6",
           "radialaxis": {
            "gridcolor": "white",
            "linecolor": "white",
            "ticks": ""
           }
          },
          "scene": {
           "xaxis": {
            "backgroundcolor": "#E5ECF6",
            "gridcolor": "white",
            "gridwidth": 2,
            "linecolor": "white",
            "showbackground": true,
            "ticks": "",
            "zerolinecolor": "white"
           },
           "yaxis": {
            "backgroundcolor": "#E5ECF6",
            "gridcolor": "white",
            "gridwidth": 2,
            "linecolor": "white",
            "showbackground": true,
            "ticks": "",
            "zerolinecolor": "white"
           },
           "zaxis": {
            "backgroundcolor": "#E5ECF6",
            "gridcolor": "white",
            "gridwidth": 2,
            "linecolor": "white",
            "showbackground": true,
            "ticks": "",
            "zerolinecolor": "white"
           }
          },
          "shapedefaults": {
           "line": {
            "color": "#2a3f5f"
           }
          },
          "ternary": {
           "aaxis": {
            "gridcolor": "white",
            "linecolor": "white",
            "ticks": ""
           },
           "baxis": {
            "gridcolor": "white",
            "linecolor": "white",
            "ticks": ""
           },
           "bgcolor": "#E5ECF6",
           "caxis": {
            "gridcolor": "white",
            "linecolor": "white",
            "ticks": ""
           }
          },
          "title": {
           "x": 0.05
          },
          "xaxis": {
           "automargin": true,
           "gridcolor": "white",
           "linecolor": "white",
           "ticks": "",
           "title": {
            "standoff": 15
           },
           "zerolinecolor": "white",
           "zerolinewidth": 2
          },
          "yaxis": {
           "automargin": true,
           "gridcolor": "white",
           "linecolor": "white",
           "ticks": "",
           "title": {
            "standoff": 15
           },
           "zerolinecolor": "white",
           "zerolinewidth": 2
          }
         }
        },
        "xaxis": {
         "anchor": "y",
         "domain": [
          0,
          1
         ],
         "title": {
          "text": "t"
         }
        },
        "yaxis": {
         "anchor": "x",
         "domain": [
          0,
          1
         ],
         "title": {
          "text": "return"
         }
        }
       }
      },
      "text/html": [
       "<div>                            <div id=\"8a6551f9-feaa-4fe3-a3c0-2fc0d7fa9d20\" class=\"plotly-graph-div\" style=\"height:525px; width:100%;\"></div>            <script type=\"text/javascript\">                require([\"plotly\"], function(Plotly) {                    window.PLOTLYENV=window.PLOTLYENV || {};                                    if (document.getElementById(\"8a6551f9-feaa-4fe3-a3c0-2fc0d7fa9d20\")) {                    Plotly.newPlot(                        \"8a6551f9-feaa-4fe3-a3c0-2fc0d7fa9d20\",                        [{\"hovertemplate\":\"variable=Purchases<br>t=%{x}<br>return=%{y}<extra></extra>\",\"legendgroup\":\"Purchases\",\"line\":{\"color\":\"#636efa\",\"dash\":\"solid\"},\"mode\":\"lines\",\"name\":\"Purchases\",\"orientation\":\"v\",\"showlegend\":true,\"type\":\"scatter\",\"x\":[-21,-20,-19,-18,-17,-16,-15,-14,-13,-12,-11,-10,-9,-8,-7,-6,-5,-4,-3,-2,-1,0,1,2,3,4,5,6,7,8,9,10,11,12,13,14,15,16,17,18,19,20,21,22],\"xaxis\":\"x\",\"y\":[0.0003918537839142644,0.002909774486857142,0.0018327046142381231,2.064406933621754e-06,-0.0011825334285354705,-0.0017638233148032922,-0.002172629703788176,-0.0010823724521953348,-0.0002583283766548483,-0.0006673846213246515,0.00028700901150124913,0.00032415196384105727,-0.0019073326657060852,-0.002963581406274507,-0.0048509592963442705,-0.0052560471860342295,-0.005408252852950324,-0.005136693812368365,-0.00403673910686797,-0.002415287018250667,-0.0027332934056648606,-0.0020666551600651006,-0.002297121293833304,-0.0025347747723470926,-0.002531179210005563,-0.0013898724056990996,-0.0006929287629204861,-0.0013782526803394202,-0.0019453067821261216,-0.0027858620622011054,-0.004261865705140422,-0.0056268311265473825,-0.005653023392683587,-0.0050099359434589985,-0.005068315731428519,-0.004697985910610325,-0.0039880323662574435,-0.0007120217114874317,-0.0004484519788494623,-0.0007718713647327791,-0.003563784557502281,-0.0043181250644555025,-0.00358013583479988,-0.0036537417352140444],\"yaxis\":\"y\"},{\"hovertemplate\":\"variable=Sales<br>t=%{x}<br>return=%{y}<extra></extra>\",\"legendgroup\":\"Sales\",\"line\":{\"color\":\"#EF553B\",\"dash\":\"solid\"},\"mode\":\"lines\",\"name\":\"Sales\",\"orientation\":\"v\",\"showlegend\":true,\"type\":\"scatter\",\"x\":[-21,-20,-19,-18,-17,-16,-15,-14,-13,-12,-11,-10,-9,-8,-7,-6,-5,-4,-3,-2,-1,0,1,2,3,4,5,6,7,8,9,10,11,12,13,14,15,16,17,18,19,20,21,22],\"xaxis\":\"x\",\"y\":[0.00012778989456596612,0.00071895890434992,0.0009262422825460082,-8.324608064924632e-05,0.0006187171012246306,0.00022239455420147713,0.0005065432983513141,0.0018015245389382262,0.0010353146035901872,0.001789714951747623,0.0003070844044956722,0.00174543209395428,0.0020507161771690097,0.0033842310891345484,0.00501701614666672,0.0068984096350108715,0.014160513394283702,0.01593991653177884,0.0164162001822592,0.014378547685184095,0.012906707519701133,0.014767366370470603,0.018496914606833226,0.02241477983752982,0.024217553694242833,0.024871252257208987,0.02692694698290654,0.0280475019380233,0.030721530997390722,0.03165632591363399,0.031651936527946845,0.03324564975469735,0.03318503457486033,0.032411971157968233,0.034392026743870874,0.036332177531132936,0.0397456384301238,0.042197901462208476,0.04389979794104093,0.04386077552905032,0.040585955468789736,0.04111745373780673,0.039786962435901074,0.04190065296162948],\"yaxis\":\"y\"}],                        {\"legend\":{\"title\":{\"text\":\"variable\"},\"tracegroupgap\":0},\"margin\":{\"t\":60},\"template\":{\"data\":{\"bar\":[{\"error_x\":{\"color\":\"#2a3f5f\"},\"error_y\":{\"color\":\"#2a3f5f\"},\"marker\":{\"line\":{\"color\":\"#E5ECF6\",\"width\":0.5},\"pattern\":{\"fillmode\":\"overlay\",\"size\":10,\"solidity\":0.2}},\"type\":\"bar\"}],\"barpolar\":[{\"marker\":{\"line\":{\"color\":\"#E5ECF6\",\"width\":0.5},\"pattern\":{\"fillmode\":\"overlay\",\"size\":10,\"solidity\":0.2}},\"type\":\"barpolar\"}],\"carpet\":[{\"aaxis\":{\"endlinecolor\":\"#2a3f5f\",\"gridcolor\":\"white\",\"linecolor\":\"white\",\"minorgridcolor\":\"white\",\"startlinecolor\":\"#2a3f5f\"},\"baxis\":{\"endlinecolor\":\"#2a3f5f\",\"gridcolor\":\"white\",\"linecolor\":\"white\",\"minorgridcolor\":\"white\",\"startlinecolor\":\"#2a3f5f\"},\"type\":\"carpet\"}],\"choropleth\":[{\"colorbar\":{\"outlinewidth\":0,\"ticks\":\"\"},\"type\":\"choropleth\"}],\"contour\":[{\"colorbar\":{\"outlinewidth\":0,\"ticks\":\"\"},\"colorscale\":[[0.0,\"#0d0887\"],[0.1111111111111111,\"#46039f\"],[0.2222222222222222,\"#7201a8\"],[0.3333333333333333,\"#9c179e\"],[0.4444444444444444,\"#bd3786\"],[0.5555555555555556,\"#d8576b\"],[0.6666666666666666,\"#ed7953\"],[0.7777777777777778,\"#fb9f3a\"],[0.8888888888888888,\"#fdca26\"],[1.0,\"#f0f921\"]],\"type\":\"contour\"}],\"contourcarpet\":[{\"colorbar\":{\"outlinewidth\":0,\"ticks\":\"\"},\"type\":\"contourcarpet\"}],\"heatmap\":[{\"colorbar\":{\"outlinewidth\":0,\"ticks\":\"\"},\"colorscale\":[[0.0,\"#0d0887\"],[0.1111111111111111,\"#46039f\"],[0.2222222222222222,\"#7201a8\"],[0.3333333333333333,\"#9c179e\"],[0.4444444444444444,\"#bd3786\"],[0.5555555555555556,\"#d8576b\"],[0.6666666666666666,\"#ed7953\"],[0.7777777777777778,\"#fb9f3a\"],[0.8888888888888888,\"#fdca26\"],[1.0,\"#f0f921\"]],\"type\":\"heatmap\"}],\"heatmapgl\":[{\"colorbar\":{\"outlinewidth\":0,\"ticks\":\"\"},\"colorscale\":[[0.0,\"#0d0887\"],[0.1111111111111111,\"#46039f\"],[0.2222222222222222,\"#7201a8\"],[0.3333333333333333,\"#9c179e\"],[0.4444444444444444,\"#bd3786\"],[0.5555555555555556,\"#d8576b\"],[0.6666666666666666,\"#ed7953\"],[0.7777777777777778,\"#fb9f3a\"],[0.8888888888888888,\"#fdca26\"],[1.0,\"#f0f921\"]],\"type\":\"heatmapgl\"}],\"histogram\":[{\"marker\":{\"pattern\":{\"fillmode\":\"overlay\",\"size\":10,\"solidity\":0.2}},\"type\":\"histogram\"}],\"histogram2d\":[{\"colorbar\":{\"outlinewidth\":0,\"ticks\":\"\"},\"colorscale\":[[0.0,\"#0d0887\"],[0.1111111111111111,\"#46039f\"],[0.2222222222222222,\"#7201a8\"],[0.3333333333333333,\"#9c179e\"],[0.4444444444444444,\"#bd3786\"],[0.5555555555555556,\"#d8576b\"],[0.6666666666666666,\"#ed7953\"],[0.7777777777777778,\"#fb9f3a\"],[0.8888888888888888,\"#fdca26\"],[1.0,\"#f0f921\"]],\"type\":\"histogram2d\"}],\"histogram2dcontour\":[{\"colorbar\":{\"outlinewidth\":0,\"ticks\":\"\"},\"colorscale\":[[0.0,\"#0d0887\"],[0.1111111111111111,\"#46039f\"],[0.2222222222222222,\"#7201a8\"],[0.3333333333333333,\"#9c179e\"],[0.4444444444444444,\"#bd3786\"],[0.5555555555555556,\"#d8576b\"],[0.6666666666666666,\"#ed7953\"],[0.7777777777777778,\"#fb9f3a\"],[0.8888888888888888,\"#fdca26\"],[1.0,\"#f0f921\"]],\"type\":\"histogram2dcontour\"}],\"mesh3d\":[{\"colorbar\":{\"outlinewidth\":0,\"ticks\":\"\"},\"type\":\"mesh3d\"}],\"parcoords\":[{\"line\":{\"colorbar\":{\"outlinewidth\":0,\"ticks\":\"\"}},\"type\":\"parcoords\"}],\"pie\":[{\"automargin\":true,\"type\":\"pie\"}],\"scatter\":[{\"marker\":{\"colorbar\":{\"outlinewidth\":0,\"ticks\":\"\"}},\"type\":\"scatter\"}],\"scatter3d\":[{\"line\":{\"colorbar\":{\"outlinewidth\":0,\"ticks\":\"\"}},\"marker\":{\"colorbar\":{\"outlinewidth\":0,\"ticks\":\"\"}},\"type\":\"scatter3d\"}],\"scattercarpet\":[{\"marker\":{\"colorbar\":{\"outlinewidth\":0,\"ticks\":\"\"}},\"type\":\"scattercarpet\"}],\"scattergeo\":[{\"marker\":{\"colorbar\":{\"outlinewidth\":0,\"ticks\":\"\"}},\"type\":\"scattergeo\"}],\"scattergl\":[{\"marker\":{\"colorbar\":{\"outlinewidth\":0,\"ticks\":\"\"}},\"type\":\"scattergl\"}],\"scattermapbox\":[{\"marker\":{\"colorbar\":{\"outlinewidth\":0,\"ticks\":\"\"}},\"type\":\"scattermapbox\"}],\"scatterpolar\":[{\"marker\":{\"colorbar\":{\"outlinewidth\":0,\"ticks\":\"\"}},\"type\":\"scatterpolar\"}],\"scatterpolargl\":[{\"marker\":{\"colorbar\":{\"outlinewidth\":0,\"ticks\":\"\"}},\"type\":\"scatterpolargl\"}],\"scatterternary\":[{\"marker\":{\"colorbar\":{\"outlinewidth\":0,\"ticks\":\"\"}},\"type\":\"scatterternary\"}],\"surface\":[{\"colorbar\":{\"outlinewidth\":0,\"ticks\":\"\"},\"colorscale\":[[0.0,\"#0d0887\"],[0.1111111111111111,\"#46039f\"],[0.2222222222222222,\"#7201a8\"],[0.3333333333333333,\"#9c179e\"],[0.4444444444444444,\"#bd3786\"],[0.5555555555555556,\"#d8576b\"],[0.6666666666666666,\"#ed7953\"],[0.7777777777777778,\"#fb9f3a\"],[0.8888888888888888,\"#fdca26\"],[1.0,\"#f0f921\"]],\"type\":\"surface\"}],\"table\":[{\"cells\":{\"fill\":{\"color\":\"#EBF0F8\"},\"line\":{\"color\":\"white\"}},\"header\":{\"fill\":{\"color\":\"#C8D4E3\"},\"line\":{\"color\":\"white\"}},\"type\":\"table\"}]},\"layout\":{\"annotationdefaults\":{\"arrowcolor\":\"#2a3f5f\",\"arrowhead\":0,\"arrowwidth\":1},\"autotypenumbers\":\"strict\",\"coloraxis\":{\"colorbar\":{\"outlinewidth\":0,\"ticks\":\"\"}},\"colorscale\":{\"diverging\":[[0,\"#8e0152\"],[0.1,\"#c51b7d\"],[0.2,\"#de77ae\"],[0.3,\"#f1b6da\"],[0.4,\"#fde0ef\"],[0.5,\"#f7f7f7\"],[0.6,\"#e6f5d0\"],[0.7,\"#b8e186\"],[0.8,\"#7fbc41\"],[0.9,\"#4d9221\"],[1,\"#276419\"]],\"sequential\":[[0.0,\"#0d0887\"],[0.1111111111111111,\"#46039f\"],[0.2222222222222222,\"#7201a8\"],[0.3333333333333333,\"#9c179e\"],[0.4444444444444444,\"#bd3786\"],[0.5555555555555556,\"#d8576b\"],[0.6666666666666666,\"#ed7953\"],[0.7777777777777778,\"#fb9f3a\"],[0.8888888888888888,\"#fdca26\"],[1.0,\"#f0f921\"]],\"sequentialminus\":[[0.0,\"#0d0887\"],[0.1111111111111111,\"#46039f\"],[0.2222222222222222,\"#7201a8\"],[0.3333333333333333,\"#9c179e\"],[0.4444444444444444,\"#bd3786\"],[0.5555555555555556,\"#d8576b\"],[0.6666666666666666,\"#ed7953\"],[0.7777777777777778,\"#fb9f3a\"],[0.8888888888888888,\"#fdca26\"],[1.0,\"#f0f921\"]]},\"colorway\":[\"#636efa\",\"#EF553B\",\"#00cc96\",\"#ab63fa\",\"#FFA15A\",\"#19d3f3\",\"#FF6692\",\"#B6E880\",\"#FF97FF\",\"#FECB52\"],\"font\":{\"color\":\"#2a3f5f\"},\"geo\":{\"bgcolor\":\"white\",\"lakecolor\":\"white\",\"landcolor\":\"#E5ECF6\",\"showlakes\":true,\"showland\":true,\"subunitcolor\":\"white\"},\"hoverlabel\":{\"align\":\"left\"},\"hovermode\":\"closest\",\"mapbox\":{\"style\":\"light\"},\"paper_bgcolor\":\"white\",\"plot_bgcolor\":\"#E5ECF6\",\"polar\":{\"angularaxis\":{\"gridcolor\":\"white\",\"linecolor\":\"white\",\"ticks\":\"\"},\"bgcolor\":\"#E5ECF6\",\"radialaxis\":{\"gridcolor\":\"white\",\"linecolor\":\"white\",\"ticks\":\"\"}},\"scene\":{\"xaxis\":{\"backgroundcolor\":\"#E5ECF6\",\"gridcolor\":\"white\",\"gridwidth\":2,\"linecolor\":\"white\",\"showbackground\":true,\"ticks\":\"\",\"zerolinecolor\":\"white\"},\"yaxis\":{\"backgroundcolor\":\"#E5ECF6\",\"gridcolor\":\"white\",\"gridwidth\":2,\"linecolor\":\"white\",\"showbackground\":true,\"ticks\":\"\",\"zerolinecolor\":\"white\"},\"zaxis\":{\"backgroundcolor\":\"#E5ECF6\",\"gridcolor\":\"white\",\"gridwidth\":2,\"linecolor\":\"white\",\"showbackground\":true,\"ticks\":\"\",\"zerolinecolor\":\"white\"}},\"shapedefaults\":{\"line\":{\"color\":\"#2a3f5f\"}},\"ternary\":{\"aaxis\":{\"gridcolor\":\"white\",\"linecolor\":\"white\",\"ticks\":\"\"},\"baxis\":{\"gridcolor\":\"white\",\"linecolor\":\"white\",\"ticks\":\"\"},\"bgcolor\":\"#E5ECF6\",\"caxis\":{\"gridcolor\":\"white\",\"linecolor\":\"white\",\"ticks\":\"\"}},\"title\":{\"x\":0.05},\"xaxis\":{\"automargin\":true,\"gridcolor\":\"white\",\"linecolor\":\"white\",\"ticks\":\"\",\"title\":{\"standoff\":15},\"zerolinecolor\":\"white\",\"zerolinewidth\":2},\"yaxis\":{\"automargin\":true,\"gridcolor\":\"white\",\"linecolor\":\"white\",\"ticks\":\"\",\"title\":{\"standoff\":15},\"zerolinecolor\":\"white\",\"zerolinewidth\":2}}},\"xaxis\":{\"anchor\":\"y\",\"domain\":[0.0,1.0],\"title\":{\"text\":\"t\"}},\"yaxis\":{\"anchor\":\"x\",\"domain\":[0.0,1.0],\"title\":{\"text\":\"return\"}}},                        {\"responsive\": true}                    ).then(function(){\n",
       "                            \n",
       "var gd = document.getElementById('8a6551f9-feaa-4fe3-a3c0-2fc0d7fa9d20');\n",
       "var x = new MutationObserver(function (mutations, observer) {{\n",
       "        var display = window.getComputedStyle(gd).display;\n",
       "        if (!display || display === 'none') {{\n",
       "            console.log([gd, 'removed!']);\n",
       "            Plotly.purge(gd);\n",
       "            observer.disconnect();\n",
       "        }}\n",
       "}});\n",
       "\n",
       "// Listen for the removal of the full notebook cells\n",
       "var notebookContainer = gd.closest('#notebook-container');\n",
       "if (notebookContainer) {{\n",
       "    x.observe(notebookContainer, {childList: true});\n",
       "}}\n",
       "\n",
       "// Listen for the clearing of the current output cell\n",
       "var outputEl = gd.closest('.output');\n",
       "if (outputEl) {{\n",
       "    x.observe(outputEl, {childList: true});\n",
       "}}\n",
       "\n",
       "                        })                };                });            </script>        </div>"
      ]
     },
     "metadata": {},
     "output_type": "display_data"
    }
   ],
   "source": [
    "pd.options.plotting.backend = \"plotly\"\n",
    "\n",
    "def cumulative_returns(tr_type):\n",
    "    daily = daily_returns[daily_returns['type'] == tr_type].drop(columns=['type', 'ticker', 'amount'])\n",
    "    cumulative = (daily+1).cumprod(axis=1)\n",
    "    return cumulative.mean() - 1\n",
    "\n",
    "df = pd.DataFrame({\"Purchases\": cumulative_returns('Purchase'), \"Sales\": cumulative_returns('Sale')})\n",
    "px.line(df, labels={\"index\":\"t\", \"value\": \"return\"})"
   ]
  },
  {
   "cell_type": "code",
   "execution_count": 30,
   "id": "fundamental-dover",
   "metadata": {},
   "outputs": [
    {
     "data": {
      "application/vnd.plotly.v1+json": {
       "config": {
        "plotlyServerURL": "https://plot.ly"
       },
       "data": [
        {
         "hovertemplate": "variable=Purchases<br>t=%{x}<br>return=%{y}<extra></extra>",
         "legendgroup": "Purchases",
         "line": {
          "color": "#636efa",
          "dash": "solid"
         },
         "mode": "lines",
         "name": "Purchases",
         "orientation": "v",
         "showlegend": true,
         "type": "scatter",
         "x": [
          -21,
          -20,
          -19,
          -18,
          -17,
          -16,
          -15,
          -14,
          -13,
          -12,
          -11,
          -10,
          -9,
          -8,
          -7,
          -6,
          -5,
          -4,
          -3,
          -2,
          -1,
          0,
          1,
          2,
          3,
          4,
          5,
          6,
          7,
          8,
          9,
          10,
          11,
          12,
          13,
          14,
          15,
          16,
          17,
          18,
          19,
          20,
          21,
          22
         ],
         "xaxis": "x",
         "y": [
          0.0008184559110051559,
          0.005800568889247959,
          0.004413690597968145,
          0.0012940485284214098,
          0.0005932637827819054,
          0.0001997571144318755,
          -0.0009208659103382422,
          -9.66160746758149e-05,
          0.0007932026987960139,
          -0.0005848521337882273,
          8.423968691562145e-05,
          0.00012597971567407384,
          -0.0015522522457819266,
          -0.001966578646071082,
          -0.00266033749174166,
          -0.0028890199586601994,
          -0.0042428776812419855,
          -0.0032689865386279493,
          -0.0028452185577708677,
          -0.00193138458141362,
          -0.0024009838805350014,
          -0.002659027726291674,
          0.00039173593915675653,
          0.0009273309380726236,
          0.0007394957719735196,
          0.0018098502651140436,
          0.0045162266453731,
          0.002493025686491679,
          0.0021523072159257417,
          0.0007439726764586485,
          -0.0009326565856577762,
          -0.0020126325395645184,
          -0.0026124826936234635,
          -0.0019589364587381253,
          0.00046453134902391113,
          0.0014687542539855158,
          0.0032391555669806227,
          0.007909741559939176,
          0.008448841617523906,
          0.008573455053567214,
          0.004939157895744284,
          0.003699301822346346,
          0.003856960582154789,
          0.002967664668754866
         ],
         "yaxis": "y"
        },
        {
         "hovertemplate": "variable=Sales<br>t=%{x}<br>return=%{y}<extra></extra>",
         "legendgroup": "Sales",
         "line": {
          "color": "#EF553B",
          "dash": "solid"
         },
         "mode": "lines",
         "name": "Sales",
         "orientation": "v",
         "showlegend": true,
         "type": "scatter",
         "x": [
          -21,
          -20,
          -19,
          -18,
          -17,
          -16,
          -15,
          -14,
          -13,
          -12,
          -11,
          -10,
          -9,
          -8,
          -7,
          -6,
          -5,
          -4,
          -3,
          -2,
          -1,
          0,
          1,
          2,
          3,
          4,
          5,
          6,
          7,
          8,
          9,
          10,
          11,
          12,
          13,
          14,
          15,
          16,
          17,
          18,
          19,
          20,
          21,
          22
         ],
         "xaxis": "x",
         "y": [
          0.0004232263208434617,
          -0.00011491874256575052,
          -0.0011373096337883304,
          -0.0034604814156340424,
          -0.00331230228174606,
          -0.004805387119711013,
          -0.004433737360673207,
          -0.004100091439459108,
          -0.005477965503605131,
          -0.007199205864344749,
          -0.008462847832605869,
          -0.007204526536238931,
          -0.0076781336868863015,
          -0.007535767033343577,
          -0.00708814798238766,
          -0.004279453068203987,
          0.013917415711302006,
          0.011897961288616754,
          0.011638237031490029,
          0.007432432130795696,
          0.006047172986745064,
          0.009696728853344938,
          0.011986027953948986,
          0.013226363180021128,
          0.014341006919449395,
          0.015769953841092033,
          0.01725651354975022,
          0.018732646968201427,
          0.023357971250769216,
          0.021527809672701403,
          0.02085941906200306,
          0.020222419936589908,
          0.021066408769848888,
          0.022930446393397697,
          0.025670740129601022,
          0.024829983005036027,
          0.026500847685482443,
          0.027991320652764218,
          0.027447521354478255,
          0.02755389482041526,
          0.02317789632974776,
          0.021409699155681583,
          0.02213935570874237,
          0.021772739290239373
         ],
         "yaxis": "y"
        }
       ],
       "layout": {
        "legend": {
         "title": {
          "text": "variable"
         },
         "tracegroupgap": 0
        },
        "margin": {
         "t": 60
        },
        "template": {
         "data": {
          "bar": [
           {
            "error_x": {
             "color": "#2a3f5f"
            },
            "error_y": {
             "color": "#2a3f5f"
            },
            "marker": {
             "line": {
              "color": "#E5ECF6",
              "width": 0.5
             },
             "pattern": {
              "fillmode": "overlay",
              "size": 10,
              "solidity": 0.2
             }
            },
            "type": "bar"
           }
          ],
          "barpolar": [
           {
            "marker": {
             "line": {
              "color": "#E5ECF6",
              "width": 0.5
             },
             "pattern": {
              "fillmode": "overlay",
              "size": 10,
              "solidity": 0.2
             }
            },
            "type": "barpolar"
           }
          ],
          "carpet": [
           {
            "aaxis": {
             "endlinecolor": "#2a3f5f",
             "gridcolor": "white",
             "linecolor": "white",
             "minorgridcolor": "white",
             "startlinecolor": "#2a3f5f"
            },
            "baxis": {
             "endlinecolor": "#2a3f5f",
             "gridcolor": "white",
             "linecolor": "white",
             "minorgridcolor": "white",
             "startlinecolor": "#2a3f5f"
            },
            "type": "carpet"
           }
          ],
          "choropleth": [
           {
            "colorbar": {
             "outlinewidth": 0,
             "ticks": ""
            },
            "type": "choropleth"
           }
          ],
          "contour": [
           {
            "colorbar": {
             "outlinewidth": 0,
             "ticks": ""
            },
            "colorscale": [
             [
              0,
              "#0d0887"
             ],
             [
              0.1111111111111111,
              "#46039f"
             ],
             [
              0.2222222222222222,
              "#7201a8"
             ],
             [
              0.3333333333333333,
              "#9c179e"
             ],
             [
              0.4444444444444444,
              "#bd3786"
             ],
             [
              0.5555555555555556,
              "#d8576b"
             ],
             [
              0.6666666666666666,
              "#ed7953"
             ],
             [
              0.7777777777777778,
              "#fb9f3a"
             ],
             [
              0.8888888888888888,
              "#fdca26"
             ],
             [
              1,
              "#f0f921"
             ]
            ],
            "type": "contour"
           }
          ],
          "contourcarpet": [
           {
            "colorbar": {
             "outlinewidth": 0,
             "ticks": ""
            },
            "type": "contourcarpet"
           }
          ],
          "heatmap": [
           {
            "colorbar": {
             "outlinewidth": 0,
             "ticks": ""
            },
            "colorscale": [
             [
              0,
              "#0d0887"
             ],
             [
              0.1111111111111111,
              "#46039f"
             ],
             [
              0.2222222222222222,
              "#7201a8"
             ],
             [
              0.3333333333333333,
              "#9c179e"
             ],
             [
              0.4444444444444444,
              "#bd3786"
             ],
             [
              0.5555555555555556,
              "#d8576b"
             ],
             [
              0.6666666666666666,
              "#ed7953"
             ],
             [
              0.7777777777777778,
              "#fb9f3a"
             ],
             [
              0.8888888888888888,
              "#fdca26"
             ],
             [
              1,
              "#f0f921"
             ]
            ],
            "type": "heatmap"
           }
          ],
          "heatmapgl": [
           {
            "colorbar": {
             "outlinewidth": 0,
             "ticks": ""
            },
            "colorscale": [
             [
              0,
              "#0d0887"
             ],
             [
              0.1111111111111111,
              "#46039f"
             ],
             [
              0.2222222222222222,
              "#7201a8"
             ],
             [
              0.3333333333333333,
              "#9c179e"
             ],
             [
              0.4444444444444444,
              "#bd3786"
             ],
             [
              0.5555555555555556,
              "#d8576b"
             ],
             [
              0.6666666666666666,
              "#ed7953"
             ],
             [
              0.7777777777777778,
              "#fb9f3a"
             ],
             [
              0.8888888888888888,
              "#fdca26"
             ],
             [
              1,
              "#f0f921"
             ]
            ],
            "type": "heatmapgl"
           }
          ],
          "histogram": [
           {
            "marker": {
             "pattern": {
              "fillmode": "overlay",
              "size": 10,
              "solidity": 0.2
             }
            },
            "type": "histogram"
           }
          ],
          "histogram2d": [
           {
            "colorbar": {
             "outlinewidth": 0,
             "ticks": ""
            },
            "colorscale": [
             [
              0,
              "#0d0887"
             ],
             [
              0.1111111111111111,
              "#46039f"
             ],
             [
              0.2222222222222222,
              "#7201a8"
             ],
             [
              0.3333333333333333,
              "#9c179e"
             ],
             [
              0.4444444444444444,
              "#bd3786"
             ],
             [
              0.5555555555555556,
              "#d8576b"
             ],
             [
              0.6666666666666666,
              "#ed7953"
             ],
             [
              0.7777777777777778,
              "#fb9f3a"
             ],
             [
              0.8888888888888888,
              "#fdca26"
             ],
             [
              1,
              "#f0f921"
             ]
            ],
            "type": "histogram2d"
           }
          ],
          "histogram2dcontour": [
           {
            "colorbar": {
             "outlinewidth": 0,
             "ticks": ""
            },
            "colorscale": [
             [
              0,
              "#0d0887"
             ],
             [
              0.1111111111111111,
              "#46039f"
             ],
             [
              0.2222222222222222,
              "#7201a8"
             ],
             [
              0.3333333333333333,
              "#9c179e"
             ],
             [
              0.4444444444444444,
              "#bd3786"
             ],
             [
              0.5555555555555556,
              "#d8576b"
             ],
             [
              0.6666666666666666,
              "#ed7953"
             ],
             [
              0.7777777777777778,
              "#fb9f3a"
             ],
             [
              0.8888888888888888,
              "#fdca26"
             ],
             [
              1,
              "#f0f921"
             ]
            ],
            "type": "histogram2dcontour"
           }
          ],
          "mesh3d": [
           {
            "colorbar": {
             "outlinewidth": 0,
             "ticks": ""
            },
            "type": "mesh3d"
           }
          ],
          "parcoords": [
           {
            "line": {
             "colorbar": {
              "outlinewidth": 0,
              "ticks": ""
             }
            },
            "type": "parcoords"
           }
          ],
          "pie": [
           {
            "automargin": true,
            "type": "pie"
           }
          ],
          "scatter": [
           {
            "marker": {
             "colorbar": {
              "outlinewidth": 0,
              "ticks": ""
             }
            },
            "type": "scatter"
           }
          ],
          "scatter3d": [
           {
            "line": {
             "colorbar": {
              "outlinewidth": 0,
              "ticks": ""
             }
            },
            "marker": {
             "colorbar": {
              "outlinewidth": 0,
              "ticks": ""
             }
            },
            "type": "scatter3d"
           }
          ],
          "scattercarpet": [
           {
            "marker": {
             "colorbar": {
              "outlinewidth": 0,
              "ticks": ""
             }
            },
            "type": "scattercarpet"
           }
          ],
          "scattergeo": [
           {
            "marker": {
             "colorbar": {
              "outlinewidth": 0,
              "ticks": ""
             }
            },
            "type": "scattergeo"
           }
          ],
          "scattergl": [
           {
            "marker": {
             "colorbar": {
              "outlinewidth": 0,
              "ticks": ""
             }
            },
            "type": "scattergl"
           }
          ],
          "scattermapbox": [
           {
            "marker": {
             "colorbar": {
              "outlinewidth": 0,
              "ticks": ""
             }
            },
            "type": "scattermapbox"
           }
          ],
          "scatterpolar": [
           {
            "marker": {
             "colorbar": {
              "outlinewidth": 0,
              "ticks": ""
             }
            },
            "type": "scatterpolar"
           }
          ],
          "scatterpolargl": [
           {
            "marker": {
             "colorbar": {
              "outlinewidth": 0,
              "ticks": ""
             }
            },
            "type": "scatterpolargl"
           }
          ],
          "scatterternary": [
           {
            "marker": {
             "colorbar": {
              "outlinewidth": 0,
              "ticks": ""
             }
            },
            "type": "scatterternary"
           }
          ],
          "surface": [
           {
            "colorbar": {
             "outlinewidth": 0,
             "ticks": ""
            },
            "colorscale": [
             [
              0,
              "#0d0887"
             ],
             [
              0.1111111111111111,
              "#46039f"
             ],
             [
              0.2222222222222222,
              "#7201a8"
             ],
             [
              0.3333333333333333,
              "#9c179e"
             ],
             [
              0.4444444444444444,
              "#bd3786"
             ],
             [
              0.5555555555555556,
              "#d8576b"
             ],
             [
              0.6666666666666666,
              "#ed7953"
             ],
             [
              0.7777777777777778,
              "#fb9f3a"
             ],
             [
              0.8888888888888888,
              "#fdca26"
             ],
             [
              1,
              "#f0f921"
             ]
            ],
            "type": "surface"
           }
          ],
          "table": [
           {
            "cells": {
             "fill": {
              "color": "#EBF0F8"
             },
             "line": {
              "color": "white"
             }
            },
            "header": {
             "fill": {
              "color": "#C8D4E3"
             },
             "line": {
              "color": "white"
             }
            },
            "type": "table"
           }
          ]
         },
         "layout": {
          "annotationdefaults": {
           "arrowcolor": "#2a3f5f",
           "arrowhead": 0,
           "arrowwidth": 1
          },
          "autotypenumbers": "strict",
          "coloraxis": {
           "colorbar": {
            "outlinewidth": 0,
            "ticks": ""
           }
          },
          "colorscale": {
           "diverging": [
            [
             0,
             "#8e0152"
            ],
            [
             0.1,
             "#c51b7d"
            ],
            [
             0.2,
             "#de77ae"
            ],
            [
             0.3,
             "#f1b6da"
            ],
            [
             0.4,
             "#fde0ef"
            ],
            [
             0.5,
             "#f7f7f7"
            ],
            [
             0.6,
             "#e6f5d0"
            ],
            [
             0.7,
             "#b8e186"
            ],
            [
             0.8,
             "#7fbc41"
            ],
            [
             0.9,
             "#4d9221"
            ],
            [
             1,
             "#276419"
            ]
           ],
           "sequential": [
            [
             0,
             "#0d0887"
            ],
            [
             0.1111111111111111,
             "#46039f"
            ],
            [
             0.2222222222222222,
             "#7201a8"
            ],
            [
             0.3333333333333333,
             "#9c179e"
            ],
            [
             0.4444444444444444,
             "#bd3786"
            ],
            [
             0.5555555555555556,
             "#d8576b"
            ],
            [
             0.6666666666666666,
             "#ed7953"
            ],
            [
             0.7777777777777778,
             "#fb9f3a"
            ],
            [
             0.8888888888888888,
             "#fdca26"
            ],
            [
             1,
             "#f0f921"
            ]
           ],
           "sequentialminus": [
            [
             0,
             "#0d0887"
            ],
            [
             0.1111111111111111,
             "#46039f"
            ],
            [
             0.2222222222222222,
             "#7201a8"
            ],
            [
             0.3333333333333333,
             "#9c179e"
            ],
            [
             0.4444444444444444,
             "#bd3786"
            ],
            [
             0.5555555555555556,
             "#d8576b"
            ],
            [
             0.6666666666666666,
             "#ed7953"
            ],
            [
             0.7777777777777778,
             "#fb9f3a"
            ],
            [
             0.8888888888888888,
             "#fdca26"
            ],
            [
             1,
             "#f0f921"
            ]
           ]
          },
          "colorway": [
           "#636efa",
           "#EF553B",
           "#00cc96",
           "#ab63fa",
           "#FFA15A",
           "#19d3f3",
           "#FF6692",
           "#B6E880",
           "#FF97FF",
           "#FECB52"
          ],
          "font": {
           "color": "#2a3f5f"
          },
          "geo": {
           "bgcolor": "white",
           "lakecolor": "white",
           "landcolor": "#E5ECF6",
           "showlakes": true,
           "showland": true,
           "subunitcolor": "white"
          },
          "hoverlabel": {
           "align": "left"
          },
          "hovermode": "closest",
          "mapbox": {
           "style": "light"
          },
          "paper_bgcolor": "white",
          "plot_bgcolor": "#E5ECF6",
          "polar": {
           "angularaxis": {
            "gridcolor": "white",
            "linecolor": "white",
            "ticks": ""
           },
           "bgcolor": "#E5ECF6",
           "radialaxis": {
            "gridcolor": "white",
            "linecolor": "white",
            "ticks": ""
           }
          },
          "scene": {
           "xaxis": {
            "backgroundcolor": "#E5ECF6",
            "gridcolor": "white",
            "gridwidth": 2,
            "linecolor": "white",
            "showbackground": true,
            "ticks": "",
            "zerolinecolor": "white"
           },
           "yaxis": {
            "backgroundcolor": "#E5ECF6",
            "gridcolor": "white",
            "gridwidth": 2,
            "linecolor": "white",
            "showbackground": true,
            "ticks": "",
            "zerolinecolor": "white"
           },
           "zaxis": {
            "backgroundcolor": "#E5ECF6",
            "gridcolor": "white",
            "gridwidth": 2,
            "linecolor": "white",
            "showbackground": true,
            "ticks": "",
            "zerolinecolor": "white"
           }
          },
          "shapedefaults": {
           "line": {
            "color": "#2a3f5f"
           }
          },
          "ternary": {
           "aaxis": {
            "gridcolor": "white",
            "linecolor": "white",
            "ticks": ""
           },
           "baxis": {
            "gridcolor": "white",
            "linecolor": "white",
            "ticks": ""
           },
           "bgcolor": "#E5ECF6",
           "caxis": {
            "gridcolor": "white",
            "linecolor": "white",
            "ticks": ""
           }
          },
          "title": {
           "x": 0.05
          },
          "xaxis": {
           "automargin": true,
           "gridcolor": "white",
           "linecolor": "white",
           "ticks": "",
           "title": {
            "standoff": 15
           },
           "zerolinecolor": "white",
           "zerolinewidth": 2
          },
          "yaxis": {
           "automargin": true,
           "gridcolor": "white",
           "linecolor": "white",
           "ticks": "",
           "title": {
            "standoff": 15
           },
           "zerolinecolor": "white",
           "zerolinewidth": 2
          }
         }
        },
        "xaxis": {
         "anchor": "y",
         "domain": [
          0,
          1
         ],
         "title": {
          "text": "t"
         }
        },
        "yaxis": {
         "anchor": "x",
         "domain": [
          0,
          1
         ],
         "title": {
          "text": "return"
         }
        }
       }
      },
      "text/html": [
       "<div>                            <div id=\"6e05173f-e058-4e87-a019-af76c38abcca\" class=\"plotly-graph-div\" style=\"height:525px; width:100%;\"></div>            <script type=\"text/javascript\">                require([\"plotly\"], function(Plotly) {                    window.PLOTLYENV=window.PLOTLYENV || {};                                    if (document.getElementById(\"6e05173f-e058-4e87-a019-af76c38abcca\")) {                    Plotly.newPlot(                        \"6e05173f-e058-4e87-a019-af76c38abcca\",                        [{\"hovertemplate\":\"variable=Purchases<br>t=%{x}<br>return=%{y}<extra></extra>\",\"legendgroup\":\"Purchases\",\"line\":{\"color\":\"#636efa\",\"dash\":\"solid\"},\"mode\":\"lines\",\"name\":\"Purchases\",\"orientation\":\"v\",\"showlegend\":true,\"type\":\"scatter\",\"x\":[-21,-20,-19,-18,-17,-16,-15,-14,-13,-12,-11,-10,-9,-8,-7,-6,-5,-4,-3,-2,-1,0,1,2,3,4,5,6,7,8,9,10,11,12,13,14,15,16,17,18,19,20,21,22],\"xaxis\":\"x\",\"y\":[0.0008184559110051559,0.005800568889247959,0.004413690597968145,0.0012940485284214098,0.0005932637827819054,0.0001997571144318755,-0.0009208659103382422,-9.66160746758149e-05,0.0007932026987960139,-0.0005848521337882273,8.423968691562145e-05,0.00012597971567407384,-0.0015522522457819266,-0.001966578646071082,-0.00266033749174166,-0.0028890199586601994,-0.0042428776812419855,-0.0032689865386279493,-0.0028452185577708677,-0.00193138458141362,-0.0024009838805350014,-0.002659027726291674,0.00039173593915675653,0.0009273309380726236,0.0007394957719735196,0.0018098502651140436,0.0045162266453731,0.002493025686491679,0.0021523072159257417,0.0007439726764586485,-0.0009326565856577762,-0.0020126325395645184,-0.0026124826936234635,-0.0019589364587381253,0.00046453134902391113,0.0014687542539855158,0.0032391555669806227,0.007909741559939176,0.008448841617523906,0.008573455053567214,0.004939157895744284,0.003699301822346346,0.003856960582154789,0.002967664668754866],\"yaxis\":\"y\"},{\"hovertemplate\":\"variable=Sales<br>t=%{x}<br>return=%{y}<extra></extra>\",\"legendgroup\":\"Sales\",\"line\":{\"color\":\"#EF553B\",\"dash\":\"solid\"},\"mode\":\"lines\",\"name\":\"Sales\",\"orientation\":\"v\",\"showlegend\":true,\"type\":\"scatter\",\"x\":[-21,-20,-19,-18,-17,-16,-15,-14,-13,-12,-11,-10,-9,-8,-7,-6,-5,-4,-3,-2,-1,0,1,2,3,4,5,6,7,8,9,10,11,12,13,14,15,16,17,18,19,20,21,22],\"xaxis\":\"x\",\"y\":[0.0004232263208434617,-0.00011491874256575052,-0.0011373096337883304,-0.0034604814156340424,-0.00331230228174606,-0.004805387119711013,-0.004433737360673207,-0.004100091439459108,-0.005477965503605131,-0.007199205864344749,-0.008462847832605869,-0.007204526536238931,-0.0076781336868863015,-0.007535767033343577,-0.00708814798238766,-0.004279453068203987,0.013917415711302006,0.011897961288616754,0.011638237031490029,0.007432432130795696,0.006047172986745064,0.009696728853344938,0.011986027953948986,0.013226363180021128,0.014341006919449395,0.015769953841092033,0.01725651354975022,0.018732646968201427,0.023357971250769216,0.021527809672701403,0.02085941906200306,0.020222419936589908,0.021066408769848888,0.022930446393397697,0.025670740129601022,0.024829983005036027,0.026500847685482443,0.027991320652764218,0.027447521354478255,0.02755389482041526,0.02317789632974776,0.021409699155681583,0.02213935570874237,0.021772739290239373],\"yaxis\":\"y\"}],                        {\"legend\":{\"title\":{\"text\":\"variable\"},\"tracegroupgap\":0},\"margin\":{\"t\":60},\"template\":{\"data\":{\"bar\":[{\"error_x\":{\"color\":\"#2a3f5f\"},\"error_y\":{\"color\":\"#2a3f5f\"},\"marker\":{\"line\":{\"color\":\"#E5ECF6\",\"width\":0.5},\"pattern\":{\"fillmode\":\"overlay\",\"size\":10,\"solidity\":0.2}},\"type\":\"bar\"}],\"barpolar\":[{\"marker\":{\"line\":{\"color\":\"#E5ECF6\",\"width\":0.5},\"pattern\":{\"fillmode\":\"overlay\",\"size\":10,\"solidity\":0.2}},\"type\":\"barpolar\"}],\"carpet\":[{\"aaxis\":{\"endlinecolor\":\"#2a3f5f\",\"gridcolor\":\"white\",\"linecolor\":\"white\",\"minorgridcolor\":\"white\",\"startlinecolor\":\"#2a3f5f\"},\"baxis\":{\"endlinecolor\":\"#2a3f5f\",\"gridcolor\":\"white\",\"linecolor\":\"white\",\"minorgridcolor\":\"white\",\"startlinecolor\":\"#2a3f5f\"},\"type\":\"carpet\"}],\"choropleth\":[{\"colorbar\":{\"outlinewidth\":0,\"ticks\":\"\"},\"type\":\"choropleth\"}],\"contour\":[{\"colorbar\":{\"outlinewidth\":0,\"ticks\":\"\"},\"colorscale\":[[0.0,\"#0d0887\"],[0.1111111111111111,\"#46039f\"],[0.2222222222222222,\"#7201a8\"],[0.3333333333333333,\"#9c179e\"],[0.4444444444444444,\"#bd3786\"],[0.5555555555555556,\"#d8576b\"],[0.6666666666666666,\"#ed7953\"],[0.7777777777777778,\"#fb9f3a\"],[0.8888888888888888,\"#fdca26\"],[1.0,\"#f0f921\"]],\"type\":\"contour\"}],\"contourcarpet\":[{\"colorbar\":{\"outlinewidth\":0,\"ticks\":\"\"},\"type\":\"contourcarpet\"}],\"heatmap\":[{\"colorbar\":{\"outlinewidth\":0,\"ticks\":\"\"},\"colorscale\":[[0.0,\"#0d0887\"],[0.1111111111111111,\"#46039f\"],[0.2222222222222222,\"#7201a8\"],[0.3333333333333333,\"#9c179e\"],[0.4444444444444444,\"#bd3786\"],[0.5555555555555556,\"#d8576b\"],[0.6666666666666666,\"#ed7953\"],[0.7777777777777778,\"#fb9f3a\"],[0.8888888888888888,\"#fdca26\"],[1.0,\"#f0f921\"]],\"type\":\"heatmap\"}],\"heatmapgl\":[{\"colorbar\":{\"outlinewidth\":0,\"ticks\":\"\"},\"colorscale\":[[0.0,\"#0d0887\"],[0.1111111111111111,\"#46039f\"],[0.2222222222222222,\"#7201a8\"],[0.3333333333333333,\"#9c179e\"],[0.4444444444444444,\"#bd3786\"],[0.5555555555555556,\"#d8576b\"],[0.6666666666666666,\"#ed7953\"],[0.7777777777777778,\"#fb9f3a\"],[0.8888888888888888,\"#fdca26\"],[1.0,\"#f0f921\"]],\"type\":\"heatmapgl\"}],\"histogram\":[{\"marker\":{\"pattern\":{\"fillmode\":\"overlay\",\"size\":10,\"solidity\":0.2}},\"type\":\"histogram\"}],\"histogram2d\":[{\"colorbar\":{\"outlinewidth\":0,\"ticks\":\"\"},\"colorscale\":[[0.0,\"#0d0887\"],[0.1111111111111111,\"#46039f\"],[0.2222222222222222,\"#7201a8\"],[0.3333333333333333,\"#9c179e\"],[0.4444444444444444,\"#bd3786\"],[0.5555555555555556,\"#d8576b\"],[0.6666666666666666,\"#ed7953\"],[0.7777777777777778,\"#fb9f3a\"],[0.8888888888888888,\"#fdca26\"],[1.0,\"#f0f921\"]],\"type\":\"histogram2d\"}],\"histogram2dcontour\":[{\"colorbar\":{\"outlinewidth\":0,\"ticks\":\"\"},\"colorscale\":[[0.0,\"#0d0887\"],[0.1111111111111111,\"#46039f\"],[0.2222222222222222,\"#7201a8\"],[0.3333333333333333,\"#9c179e\"],[0.4444444444444444,\"#bd3786\"],[0.5555555555555556,\"#d8576b\"],[0.6666666666666666,\"#ed7953\"],[0.7777777777777778,\"#fb9f3a\"],[0.8888888888888888,\"#fdca26\"],[1.0,\"#f0f921\"]],\"type\":\"histogram2dcontour\"}],\"mesh3d\":[{\"colorbar\":{\"outlinewidth\":0,\"ticks\":\"\"},\"type\":\"mesh3d\"}],\"parcoords\":[{\"line\":{\"colorbar\":{\"outlinewidth\":0,\"ticks\":\"\"}},\"type\":\"parcoords\"}],\"pie\":[{\"automargin\":true,\"type\":\"pie\"}],\"scatter\":[{\"marker\":{\"colorbar\":{\"outlinewidth\":0,\"ticks\":\"\"}},\"type\":\"scatter\"}],\"scatter3d\":[{\"line\":{\"colorbar\":{\"outlinewidth\":0,\"ticks\":\"\"}},\"marker\":{\"colorbar\":{\"outlinewidth\":0,\"ticks\":\"\"}},\"type\":\"scatter3d\"}],\"scattercarpet\":[{\"marker\":{\"colorbar\":{\"outlinewidth\":0,\"ticks\":\"\"}},\"type\":\"scattercarpet\"}],\"scattergeo\":[{\"marker\":{\"colorbar\":{\"outlinewidth\":0,\"ticks\":\"\"}},\"type\":\"scattergeo\"}],\"scattergl\":[{\"marker\":{\"colorbar\":{\"outlinewidth\":0,\"ticks\":\"\"}},\"type\":\"scattergl\"}],\"scattermapbox\":[{\"marker\":{\"colorbar\":{\"outlinewidth\":0,\"ticks\":\"\"}},\"type\":\"scattermapbox\"}],\"scatterpolar\":[{\"marker\":{\"colorbar\":{\"outlinewidth\":0,\"ticks\":\"\"}},\"type\":\"scatterpolar\"}],\"scatterpolargl\":[{\"marker\":{\"colorbar\":{\"outlinewidth\":0,\"ticks\":\"\"}},\"type\":\"scatterpolargl\"}],\"scatterternary\":[{\"marker\":{\"colorbar\":{\"outlinewidth\":0,\"ticks\":\"\"}},\"type\":\"scatterternary\"}],\"surface\":[{\"colorbar\":{\"outlinewidth\":0,\"ticks\":\"\"},\"colorscale\":[[0.0,\"#0d0887\"],[0.1111111111111111,\"#46039f\"],[0.2222222222222222,\"#7201a8\"],[0.3333333333333333,\"#9c179e\"],[0.4444444444444444,\"#bd3786\"],[0.5555555555555556,\"#d8576b\"],[0.6666666666666666,\"#ed7953\"],[0.7777777777777778,\"#fb9f3a\"],[0.8888888888888888,\"#fdca26\"],[1.0,\"#f0f921\"]],\"type\":\"surface\"}],\"table\":[{\"cells\":{\"fill\":{\"color\":\"#EBF0F8\"},\"line\":{\"color\":\"white\"}},\"header\":{\"fill\":{\"color\":\"#C8D4E3\"},\"line\":{\"color\":\"white\"}},\"type\":\"table\"}]},\"layout\":{\"annotationdefaults\":{\"arrowcolor\":\"#2a3f5f\",\"arrowhead\":0,\"arrowwidth\":1},\"autotypenumbers\":\"strict\",\"coloraxis\":{\"colorbar\":{\"outlinewidth\":0,\"ticks\":\"\"}},\"colorscale\":{\"diverging\":[[0,\"#8e0152\"],[0.1,\"#c51b7d\"],[0.2,\"#de77ae\"],[0.3,\"#f1b6da\"],[0.4,\"#fde0ef\"],[0.5,\"#f7f7f7\"],[0.6,\"#e6f5d0\"],[0.7,\"#b8e186\"],[0.8,\"#7fbc41\"],[0.9,\"#4d9221\"],[1,\"#276419\"]],\"sequential\":[[0.0,\"#0d0887\"],[0.1111111111111111,\"#46039f\"],[0.2222222222222222,\"#7201a8\"],[0.3333333333333333,\"#9c179e\"],[0.4444444444444444,\"#bd3786\"],[0.5555555555555556,\"#d8576b\"],[0.6666666666666666,\"#ed7953\"],[0.7777777777777778,\"#fb9f3a\"],[0.8888888888888888,\"#fdca26\"],[1.0,\"#f0f921\"]],\"sequentialminus\":[[0.0,\"#0d0887\"],[0.1111111111111111,\"#46039f\"],[0.2222222222222222,\"#7201a8\"],[0.3333333333333333,\"#9c179e\"],[0.4444444444444444,\"#bd3786\"],[0.5555555555555556,\"#d8576b\"],[0.6666666666666666,\"#ed7953\"],[0.7777777777777778,\"#fb9f3a\"],[0.8888888888888888,\"#fdca26\"],[1.0,\"#f0f921\"]]},\"colorway\":[\"#636efa\",\"#EF553B\",\"#00cc96\",\"#ab63fa\",\"#FFA15A\",\"#19d3f3\",\"#FF6692\",\"#B6E880\",\"#FF97FF\",\"#FECB52\"],\"font\":{\"color\":\"#2a3f5f\"},\"geo\":{\"bgcolor\":\"white\",\"lakecolor\":\"white\",\"landcolor\":\"#E5ECF6\",\"showlakes\":true,\"showland\":true,\"subunitcolor\":\"white\"},\"hoverlabel\":{\"align\":\"left\"},\"hovermode\":\"closest\",\"mapbox\":{\"style\":\"light\"},\"paper_bgcolor\":\"white\",\"plot_bgcolor\":\"#E5ECF6\",\"polar\":{\"angularaxis\":{\"gridcolor\":\"white\",\"linecolor\":\"white\",\"ticks\":\"\"},\"bgcolor\":\"#E5ECF6\",\"radialaxis\":{\"gridcolor\":\"white\",\"linecolor\":\"white\",\"ticks\":\"\"}},\"scene\":{\"xaxis\":{\"backgroundcolor\":\"#E5ECF6\",\"gridcolor\":\"white\",\"gridwidth\":2,\"linecolor\":\"white\",\"showbackground\":true,\"ticks\":\"\",\"zerolinecolor\":\"white\"},\"yaxis\":{\"backgroundcolor\":\"#E5ECF6\",\"gridcolor\":\"white\",\"gridwidth\":2,\"linecolor\":\"white\",\"showbackground\":true,\"ticks\":\"\",\"zerolinecolor\":\"white\"},\"zaxis\":{\"backgroundcolor\":\"#E5ECF6\",\"gridcolor\":\"white\",\"gridwidth\":2,\"linecolor\":\"white\",\"showbackground\":true,\"ticks\":\"\",\"zerolinecolor\":\"white\"}},\"shapedefaults\":{\"line\":{\"color\":\"#2a3f5f\"}},\"ternary\":{\"aaxis\":{\"gridcolor\":\"white\",\"linecolor\":\"white\",\"ticks\":\"\"},\"baxis\":{\"gridcolor\":\"white\",\"linecolor\":\"white\",\"ticks\":\"\"},\"bgcolor\":\"#E5ECF6\",\"caxis\":{\"gridcolor\":\"white\",\"linecolor\":\"white\",\"ticks\":\"\"}},\"title\":{\"x\":0.05},\"xaxis\":{\"automargin\":true,\"gridcolor\":\"white\",\"linecolor\":\"white\",\"ticks\":\"\",\"title\":{\"standoff\":15},\"zerolinecolor\":\"white\",\"zerolinewidth\":2},\"yaxis\":{\"automargin\":true,\"gridcolor\":\"white\",\"linecolor\":\"white\",\"ticks\":\"\",\"title\":{\"standoff\":15},\"zerolinecolor\":\"white\",\"zerolinewidth\":2}}},\"xaxis\":{\"anchor\":\"y\",\"domain\":[0.0,1.0],\"title\":{\"text\":\"t\"}},\"yaxis\":{\"anchor\":\"x\",\"domain\":[0.0,1.0],\"title\":{\"text\":\"return\"}}},                        {\"responsive\": true}                    ).then(function(){\n",
       "                            \n",
       "var gd = document.getElementById('6e05173f-e058-4e87-a019-af76c38abcca');\n",
       "var x = new MutationObserver(function (mutations, observer) {{\n",
       "        var display = window.getComputedStyle(gd).display;\n",
       "        if (!display || display === 'none') {{\n",
       "            console.log([gd, 'removed!']);\n",
       "            Plotly.purge(gd);\n",
       "            observer.disconnect();\n",
       "        }}\n",
       "}});\n",
       "\n",
       "// Listen for the removal of the full notebook cells\n",
       "var notebookContainer = gd.closest('#notebook-container');\n",
       "if (notebookContainer) {{\n",
       "    x.observe(notebookContainer, {childList: true});\n",
       "}}\n",
       "\n",
       "// Listen for the clearing of the current output cell\n",
       "var outputEl = gd.closest('.output');\n",
       "if (outputEl) {{\n",
       "    x.observe(outputEl, {childList: true});\n",
       "}}\n",
       "\n",
       "                        })                };                });            </script>        </div>"
      ]
     },
     "metadata": {},
     "output_type": "display_data"
    }
   ],
   "source": [
    "def cumulative_returns_avg_by_ticker(tr_type):\n",
    "    daily = daily_returns[daily_returns['type'] == tr_type].drop(columns=['type', 'amount'])\n",
    "    cumulative = daily.copy()\n",
    "    cumulative.iloc[:,:-1] = (daily.iloc[:,:-1]+1).cumprod(axis=1)\n",
    "    return cumulative.groupby('ticker').mean().mean() - 1\n",
    "\n",
    "df = pd.DataFrame({\"Purchases\": cumulative_returns_avg_by_ticker('Purchase'), \"Sales\": cumulative_returns_avg_by_ticker('Sale')})\n",
    "px.line(df, labels={\"index\":\"t\", \"value\": \"return\"})"
   ]
  },
  {
   "cell_type": "code",
   "execution_count": 31,
   "id": "assured-watch",
   "metadata": {},
   "outputs": [
    {
     "data": {
      "application/vnd.plotly.v1+json": {
       "config": {
        "plotlyServerURL": "https://plot.ly"
       },
       "data": [
        {
         "hovertemplate": "variable=Purchases<br>t=%{x}<br>return=%{y}<extra></extra>",
         "legendgroup": "Purchases",
         "line": {
          "color": "#636efa",
          "dash": "solid"
         },
         "mode": "lines",
         "name": "Purchases",
         "orientation": "v",
         "showlegend": true,
         "type": "scatter",
         "x": [
          -21,
          -20,
          -19,
          -18,
          -17,
          -16,
          -15,
          -14,
          -13,
          -12,
          -11,
          -10,
          -9,
          -8,
          -7,
          -6,
          -5,
          -4,
          -3,
          -2,
          -1,
          0,
          1,
          2,
          3,
          4,
          5,
          6,
          7,
          8,
          9,
          10,
          11,
          12,
          13,
          14,
          15,
          16,
          17,
          18,
          19,
          20,
          21,
          22
         ],
         "xaxis": "x",
         "y": [
          0.0020307404910810956,
          0.013572008851617356,
          0.008480404041597112,
          0.004629741434913015,
          0.0040242155284888614,
          0.0007480320005657237,
          -0.0023390189786339777,
          -0.003742880463569298,
          -0.0006472923009001041,
          -0.0010565668198604383,
          -0.0007791464074521359,
          0.002074057515901284,
          0.0015675539298534158,
          0.0011694324145867796,
          0.006056617822355337,
          0.0025681106869741566,
          0.0034000756542560406,
          0.005217819133556123,
          0.011007123787208473,
          0.018185885205132646,
          0.01834163332566585,
          0.01691324866680799,
          0.015566368723931134,
          0.019332403061681935,
          0.014897700758822907,
          0.013616548274497875,
          0.009523793841670347,
          0.014162253986803153,
          0.010895246430710825,
          0.010025773133351512,
          0.009367689962956671,
          0.014830148136407262,
          0.01239675072340729,
          0.01465665732406407,
          0.013296130160117992,
          0.018066821723557114,
          0.02322970927656609,
          0.02052925362257718,
          0.02262126032221179,
          0.024682386164784242,
          0.01934574833726166,
          0.017335775756599503,
          0.021155842868980423,
          0.02259277084234812
         ],
         "yaxis": "y"
        },
        {
         "hovertemplate": "variable=Sales<br>t=%{x}<br>return=%{y}<extra></extra>",
         "legendgroup": "Sales",
         "line": {
          "color": "#EF553B",
          "dash": "solid"
         },
         "mode": "lines",
         "name": "Sales",
         "orientation": "v",
         "showlegend": true,
         "type": "scatter",
         "x": [
          -21,
          -20,
          -19,
          -18,
          -17,
          -16,
          -15,
          -14,
          -13,
          -12,
          -11,
          -10,
          -9,
          -8,
          -7,
          -6,
          -5,
          -4,
          -3,
          -2,
          -1,
          0,
          1,
          2,
          3,
          4,
          5,
          6,
          7,
          8,
          9,
          10,
          11,
          12,
          13,
          14,
          15,
          16,
          17,
          18,
          19,
          20,
          21,
          22
         ],
         "xaxis": "x",
         "y": [
          -0.0038877215397860043,
          -0.006907435612571344,
          -0.002273020696437311,
          -0.0051794596885640365,
          -0.007541955957917512,
          -0.010845134295597858,
          -0.009921960018999254,
          -0.007767935556330263,
          -0.006172883232027804,
          -0.004884299139854886,
          -0.006328215323728292,
          -0.004074163721199842,
          -0.0005098675408085063,
          -0.0031029435596851007,
          -0.0006677015624414473,
          0.0062408093139429965,
          0.018959498781446538,
          0.02731755453437268,
          0.028146704429763858,
          0.026213981718874457,
          0.028101062637881702,
          0.03163917862618071,
          0.03134816339307589,
          0.03317862695753826,
          0.029775769648844985,
          0.035019041622448066,
          0.03219326085801422,
          0.03199669518728521,
          0.033213683952147965,
          0.036867143155022486,
          0.034063042581399694,
          0.03430687768409468,
          0.03352553088617838,
          0.03811861355307711,
          0.043534596487742716,
          0.04229084298549801,
          0.04562797437639321,
          0.04479266263035786,
          0.043988809757049996,
          0.04226046009560869,
          0.04060749485261117,
          0.04287156652629931,
          0.041591814416529704,
          0.04298334230461398
         ],
         "yaxis": "y"
        }
       ],
       "layout": {
        "legend": {
         "title": {
          "text": "variable"
         },
         "tracegroupgap": 0
        },
        "margin": {
         "t": 60
        },
        "template": {
         "data": {
          "bar": [
           {
            "error_x": {
             "color": "#2a3f5f"
            },
            "error_y": {
             "color": "#2a3f5f"
            },
            "marker": {
             "line": {
              "color": "#E5ECF6",
              "width": 0.5
             },
             "pattern": {
              "fillmode": "overlay",
              "size": 10,
              "solidity": 0.2
             }
            },
            "type": "bar"
           }
          ],
          "barpolar": [
           {
            "marker": {
             "line": {
              "color": "#E5ECF6",
              "width": 0.5
             },
             "pattern": {
              "fillmode": "overlay",
              "size": 10,
              "solidity": 0.2
             }
            },
            "type": "barpolar"
           }
          ],
          "carpet": [
           {
            "aaxis": {
             "endlinecolor": "#2a3f5f",
             "gridcolor": "white",
             "linecolor": "white",
             "minorgridcolor": "white",
             "startlinecolor": "#2a3f5f"
            },
            "baxis": {
             "endlinecolor": "#2a3f5f",
             "gridcolor": "white",
             "linecolor": "white",
             "minorgridcolor": "white",
             "startlinecolor": "#2a3f5f"
            },
            "type": "carpet"
           }
          ],
          "choropleth": [
           {
            "colorbar": {
             "outlinewidth": 0,
             "ticks": ""
            },
            "type": "choropleth"
           }
          ],
          "contour": [
           {
            "colorbar": {
             "outlinewidth": 0,
             "ticks": ""
            },
            "colorscale": [
             [
              0,
              "#0d0887"
             ],
             [
              0.1111111111111111,
              "#46039f"
             ],
             [
              0.2222222222222222,
              "#7201a8"
             ],
             [
              0.3333333333333333,
              "#9c179e"
             ],
             [
              0.4444444444444444,
              "#bd3786"
             ],
             [
              0.5555555555555556,
              "#d8576b"
             ],
             [
              0.6666666666666666,
              "#ed7953"
             ],
             [
              0.7777777777777778,
              "#fb9f3a"
             ],
             [
              0.8888888888888888,
              "#fdca26"
             ],
             [
              1,
              "#f0f921"
             ]
            ],
            "type": "contour"
           }
          ],
          "contourcarpet": [
           {
            "colorbar": {
             "outlinewidth": 0,
             "ticks": ""
            },
            "type": "contourcarpet"
           }
          ],
          "heatmap": [
           {
            "colorbar": {
             "outlinewidth": 0,
             "ticks": ""
            },
            "colorscale": [
             [
              0,
              "#0d0887"
             ],
             [
              0.1111111111111111,
              "#46039f"
             ],
             [
              0.2222222222222222,
              "#7201a8"
             ],
             [
              0.3333333333333333,
              "#9c179e"
             ],
             [
              0.4444444444444444,
              "#bd3786"
             ],
             [
              0.5555555555555556,
              "#d8576b"
             ],
             [
              0.6666666666666666,
              "#ed7953"
             ],
             [
              0.7777777777777778,
              "#fb9f3a"
             ],
             [
              0.8888888888888888,
              "#fdca26"
             ],
             [
              1,
              "#f0f921"
             ]
            ],
            "type": "heatmap"
           }
          ],
          "heatmapgl": [
           {
            "colorbar": {
             "outlinewidth": 0,
             "ticks": ""
            },
            "colorscale": [
             [
              0,
              "#0d0887"
             ],
             [
              0.1111111111111111,
              "#46039f"
             ],
             [
              0.2222222222222222,
              "#7201a8"
             ],
             [
              0.3333333333333333,
              "#9c179e"
             ],
             [
              0.4444444444444444,
              "#bd3786"
             ],
             [
              0.5555555555555556,
              "#d8576b"
             ],
             [
              0.6666666666666666,
              "#ed7953"
             ],
             [
              0.7777777777777778,
              "#fb9f3a"
             ],
             [
              0.8888888888888888,
              "#fdca26"
             ],
             [
              1,
              "#f0f921"
             ]
            ],
            "type": "heatmapgl"
           }
          ],
          "histogram": [
           {
            "marker": {
             "pattern": {
              "fillmode": "overlay",
              "size": 10,
              "solidity": 0.2
             }
            },
            "type": "histogram"
           }
          ],
          "histogram2d": [
           {
            "colorbar": {
             "outlinewidth": 0,
             "ticks": ""
            },
            "colorscale": [
             [
              0,
              "#0d0887"
             ],
             [
              0.1111111111111111,
              "#46039f"
             ],
             [
              0.2222222222222222,
              "#7201a8"
             ],
             [
              0.3333333333333333,
              "#9c179e"
             ],
             [
              0.4444444444444444,
              "#bd3786"
             ],
             [
              0.5555555555555556,
              "#d8576b"
             ],
             [
              0.6666666666666666,
              "#ed7953"
             ],
             [
              0.7777777777777778,
              "#fb9f3a"
             ],
             [
              0.8888888888888888,
              "#fdca26"
             ],
             [
              1,
              "#f0f921"
             ]
            ],
            "type": "histogram2d"
           }
          ],
          "histogram2dcontour": [
           {
            "colorbar": {
             "outlinewidth": 0,
             "ticks": ""
            },
            "colorscale": [
             [
              0,
              "#0d0887"
             ],
             [
              0.1111111111111111,
              "#46039f"
             ],
             [
              0.2222222222222222,
              "#7201a8"
             ],
             [
              0.3333333333333333,
              "#9c179e"
             ],
             [
              0.4444444444444444,
              "#bd3786"
             ],
             [
              0.5555555555555556,
              "#d8576b"
             ],
             [
              0.6666666666666666,
              "#ed7953"
             ],
             [
              0.7777777777777778,
              "#fb9f3a"
             ],
             [
              0.8888888888888888,
              "#fdca26"
             ],
             [
              1,
              "#f0f921"
             ]
            ],
            "type": "histogram2dcontour"
           }
          ],
          "mesh3d": [
           {
            "colorbar": {
             "outlinewidth": 0,
             "ticks": ""
            },
            "type": "mesh3d"
           }
          ],
          "parcoords": [
           {
            "line": {
             "colorbar": {
              "outlinewidth": 0,
              "ticks": ""
             }
            },
            "type": "parcoords"
           }
          ],
          "pie": [
           {
            "automargin": true,
            "type": "pie"
           }
          ],
          "scatter": [
           {
            "marker": {
             "colorbar": {
              "outlinewidth": 0,
              "ticks": ""
             }
            },
            "type": "scatter"
           }
          ],
          "scatter3d": [
           {
            "line": {
             "colorbar": {
              "outlinewidth": 0,
              "ticks": ""
             }
            },
            "marker": {
             "colorbar": {
              "outlinewidth": 0,
              "ticks": ""
             }
            },
            "type": "scatter3d"
           }
          ],
          "scattercarpet": [
           {
            "marker": {
             "colorbar": {
              "outlinewidth": 0,
              "ticks": ""
             }
            },
            "type": "scattercarpet"
           }
          ],
          "scattergeo": [
           {
            "marker": {
             "colorbar": {
              "outlinewidth": 0,
              "ticks": ""
             }
            },
            "type": "scattergeo"
           }
          ],
          "scattergl": [
           {
            "marker": {
             "colorbar": {
              "outlinewidth": 0,
              "ticks": ""
             }
            },
            "type": "scattergl"
           }
          ],
          "scattermapbox": [
           {
            "marker": {
             "colorbar": {
              "outlinewidth": 0,
              "ticks": ""
             }
            },
            "type": "scattermapbox"
           }
          ],
          "scatterpolar": [
           {
            "marker": {
             "colorbar": {
              "outlinewidth": 0,
              "ticks": ""
             }
            },
            "type": "scatterpolar"
           }
          ],
          "scatterpolargl": [
           {
            "marker": {
             "colorbar": {
              "outlinewidth": 0,
              "ticks": ""
             }
            },
            "type": "scatterpolargl"
           }
          ],
          "scatterternary": [
           {
            "marker": {
             "colorbar": {
              "outlinewidth": 0,
              "ticks": ""
             }
            },
            "type": "scatterternary"
           }
          ],
          "surface": [
           {
            "colorbar": {
             "outlinewidth": 0,
             "ticks": ""
            },
            "colorscale": [
             [
              0,
              "#0d0887"
             ],
             [
              0.1111111111111111,
              "#46039f"
             ],
             [
              0.2222222222222222,
              "#7201a8"
             ],
             [
              0.3333333333333333,
              "#9c179e"
             ],
             [
              0.4444444444444444,
              "#bd3786"
             ],
             [
              0.5555555555555556,
              "#d8576b"
             ],
             [
              0.6666666666666666,
              "#ed7953"
             ],
             [
              0.7777777777777778,
              "#fb9f3a"
             ],
             [
              0.8888888888888888,
              "#fdca26"
             ],
             [
              1,
              "#f0f921"
             ]
            ],
            "type": "surface"
           }
          ],
          "table": [
           {
            "cells": {
             "fill": {
              "color": "#EBF0F8"
             },
             "line": {
              "color": "white"
             }
            },
            "header": {
             "fill": {
              "color": "#C8D4E3"
             },
             "line": {
              "color": "white"
             }
            },
            "type": "table"
           }
          ]
         },
         "layout": {
          "annotationdefaults": {
           "arrowcolor": "#2a3f5f",
           "arrowhead": 0,
           "arrowwidth": 1
          },
          "autotypenumbers": "strict",
          "coloraxis": {
           "colorbar": {
            "outlinewidth": 0,
            "ticks": ""
           }
          },
          "colorscale": {
           "diverging": [
            [
             0,
             "#8e0152"
            ],
            [
             0.1,
             "#c51b7d"
            ],
            [
             0.2,
             "#de77ae"
            ],
            [
             0.3,
             "#f1b6da"
            ],
            [
             0.4,
             "#fde0ef"
            ],
            [
             0.5,
             "#f7f7f7"
            ],
            [
             0.6,
             "#e6f5d0"
            ],
            [
             0.7,
             "#b8e186"
            ],
            [
             0.8,
             "#7fbc41"
            ],
            [
             0.9,
             "#4d9221"
            ],
            [
             1,
             "#276419"
            ]
           ],
           "sequential": [
            [
             0,
             "#0d0887"
            ],
            [
             0.1111111111111111,
             "#46039f"
            ],
            [
             0.2222222222222222,
             "#7201a8"
            ],
            [
             0.3333333333333333,
             "#9c179e"
            ],
            [
             0.4444444444444444,
             "#bd3786"
            ],
            [
             0.5555555555555556,
             "#d8576b"
            ],
            [
             0.6666666666666666,
             "#ed7953"
            ],
            [
             0.7777777777777778,
             "#fb9f3a"
            ],
            [
             0.8888888888888888,
             "#fdca26"
            ],
            [
             1,
             "#f0f921"
            ]
           ],
           "sequentialminus": [
            [
             0,
             "#0d0887"
            ],
            [
             0.1111111111111111,
             "#46039f"
            ],
            [
             0.2222222222222222,
             "#7201a8"
            ],
            [
             0.3333333333333333,
             "#9c179e"
            ],
            [
             0.4444444444444444,
             "#bd3786"
            ],
            [
             0.5555555555555556,
             "#d8576b"
            ],
            [
             0.6666666666666666,
             "#ed7953"
            ],
            [
             0.7777777777777778,
             "#fb9f3a"
            ],
            [
             0.8888888888888888,
             "#fdca26"
            ],
            [
             1,
             "#f0f921"
            ]
           ]
          },
          "colorway": [
           "#636efa",
           "#EF553B",
           "#00cc96",
           "#ab63fa",
           "#FFA15A",
           "#19d3f3",
           "#FF6692",
           "#B6E880",
           "#FF97FF",
           "#FECB52"
          ],
          "font": {
           "color": "#2a3f5f"
          },
          "geo": {
           "bgcolor": "white",
           "lakecolor": "white",
           "landcolor": "#E5ECF6",
           "showlakes": true,
           "showland": true,
           "subunitcolor": "white"
          },
          "hoverlabel": {
           "align": "left"
          },
          "hovermode": "closest",
          "mapbox": {
           "style": "light"
          },
          "paper_bgcolor": "white",
          "plot_bgcolor": "#E5ECF6",
          "polar": {
           "angularaxis": {
            "gridcolor": "white",
            "linecolor": "white",
            "ticks": ""
           },
           "bgcolor": "#E5ECF6",
           "radialaxis": {
            "gridcolor": "white",
            "linecolor": "white",
            "ticks": ""
           }
          },
          "scene": {
           "xaxis": {
            "backgroundcolor": "#E5ECF6",
            "gridcolor": "white",
            "gridwidth": 2,
            "linecolor": "white",
            "showbackground": true,
            "ticks": "",
            "zerolinecolor": "white"
           },
           "yaxis": {
            "backgroundcolor": "#E5ECF6",
            "gridcolor": "white",
            "gridwidth": 2,
            "linecolor": "white",
            "showbackground": true,
            "ticks": "",
            "zerolinecolor": "white"
           },
           "zaxis": {
            "backgroundcolor": "#E5ECF6",
            "gridcolor": "white",
            "gridwidth": 2,
            "linecolor": "white",
            "showbackground": true,
            "ticks": "",
            "zerolinecolor": "white"
           }
          },
          "shapedefaults": {
           "line": {
            "color": "#2a3f5f"
           }
          },
          "ternary": {
           "aaxis": {
            "gridcolor": "white",
            "linecolor": "white",
            "ticks": ""
           },
           "baxis": {
            "gridcolor": "white",
            "linecolor": "white",
            "ticks": ""
           },
           "bgcolor": "#E5ECF6",
           "caxis": {
            "gridcolor": "white",
            "linecolor": "white",
            "ticks": ""
           }
          },
          "title": {
           "x": 0.05
          },
          "xaxis": {
           "automargin": true,
           "gridcolor": "white",
           "linecolor": "white",
           "ticks": "",
           "title": {
            "standoff": 15
           },
           "zerolinecolor": "white",
           "zerolinewidth": 2
          },
          "yaxis": {
           "automargin": true,
           "gridcolor": "white",
           "linecolor": "white",
           "ticks": "",
           "title": {
            "standoff": 15
           },
           "zerolinecolor": "white",
           "zerolinewidth": 2
          }
         }
        },
        "xaxis": {
         "anchor": "y",
         "domain": [
          0,
          1
         ],
         "title": {
          "text": "t"
         }
        },
        "yaxis": {
         "anchor": "x",
         "domain": [
          0,
          1
         ],
         "title": {
          "text": "return"
         }
        }
       }
      },
      "text/html": [
       "<div>                            <div id=\"b4b49157-8af6-4413-9fb6-1f8871c07450\" class=\"plotly-graph-div\" style=\"height:525px; width:100%;\"></div>            <script type=\"text/javascript\">                require([\"plotly\"], function(Plotly) {                    window.PLOTLYENV=window.PLOTLYENV || {};                                    if (document.getElementById(\"b4b49157-8af6-4413-9fb6-1f8871c07450\")) {                    Plotly.newPlot(                        \"b4b49157-8af6-4413-9fb6-1f8871c07450\",                        [{\"hovertemplate\":\"variable=Purchases<br>t=%{x}<br>return=%{y}<extra></extra>\",\"legendgroup\":\"Purchases\",\"line\":{\"color\":\"#636efa\",\"dash\":\"solid\"},\"mode\":\"lines\",\"name\":\"Purchases\",\"orientation\":\"v\",\"showlegend\":true,\"type\":\"scatter\",\"x\":[-21,-20,-19,-18,-17,-16,-15,-14,-13,-12,-11,-10,-9,-8,-7,-6,-5,-4,-3,-2,-1,0,1,2,3,4,5,6,7,8,9,10,11,12,13,14,15,16,17,18,19,20,21,22],\"xaxis\":\"x\",\"y\":[0.0020307404910810956,0.013572008851617356,0.008480404041597112,0.004629741434913015,0.0040242155284888614,0.0007480320005657237,-0.0023390189786339777,-0.003742880463569298,-0.0006472923009001041,-0.0010565668198604383,-0.0007791464074521359,0.002074057515901284,0.0015675539298534158,0.0011694324145867796,0.006056617822355337,0.0025681106869741566,0.0034000756542560406,0.005217819133556123,0.011007123787208473,0.018185885205132646,0.01834163332566585,0.01691324866680799,0.015566368723931134,0.019332403061681935,0.014897700758822907,0.013616548274497875,0.009523793841670347,0.014162253986803153,0.010895246430710825,0.010025773133351512,0.009367689962956671,0.014830148136407262,0.01239675072340729,0.01465665732406407,0.013296130160117992,0.018066821723557114,0.02322970927656609,0.02052925362257718,0.02262126032221179,0.024682386164784242,0.01934574833726166,0.017335775756599503,0.021155842868980423,0.02259277084234812],\"yaxis\":\"y\"},{\"hovertemplate\":\"variable=Sales<br>t=%{x}<br>return=%{y}<extra></extra>\",\"legendgroup\":\"Sales\",\"line\":{\"color\":\"#EF553B\",\"dash\":\"solid\"},\"mode\":\"lines\",\"name\":\"Sales\",\"orientation\":\"v\",\"showlegend\":true,\"type\":\"scatter\",\"x\":[-21,-20,-19,-18,-17,-16,-15,-14,-13,-12,-11,-10,-9,-8,-7,-6,-5,-4,-3,-2,-1,0,1,2,3,4,5,6,7,8,9,10,11,12,13,14,15,16,17,18,19,20,21,22],\"xaxis\":\"x\",\"y\":[-0.0038877215397860043,-0.006907435612571344,-0.002273020696437311,-0.0051794596885640365,-0.007541955957917512,-0.010845134295597858,-0.009921960018999254,-0.007767935556330263,-0.006172883232027804,-0.004884299139854886,-0.006328215323728292,-0.004074163721199842,-0.0005098675408085063,-0.0031029435596851007,-0.0006677015624414473,0.0062408093139429965,0.018959498781446538,0.02731755453437268,0.028146704429763858,0.026213981718874457,0.028101062637881702,0.03163917862618071,0.03134816339307589,0.03317862695753826,0.029775769648844985,0.035019041622448066,0.03219326085801422,0.03199669518728521,0.033213683952147965,0.036867143155022486,0.034063042581399694,0.03430687768409468,0.03352553088617838,0.03811861355307711,0.043534596487742716,0.04229084298549801,0.04562797437639321,0.04479266263035786,0.043988809757049996,0.04226046009560869,0.04060749485261117,0.04287156652629931,0.041591814416529704,0.04298334230461398],\"yaxis\":\"y\"}],                        {\"legend\":{\"title\":{\"text\":\"variable\"},\"tracegroupgap\":0},\"margin\":{\"t\":60},\"template\":{\"data\":{\"bar\":[{\"error_x\":{\"color\":\"#2a3f5f\"},\"error_y\":{\"color\":\"#2a3f5f\"},\"marker\":{\"line\":{\"color\":\"#E5ECF6\",\"width\":0.5},\"pattern\":{\"fillmode\":\"overlay\",\"size\":10,\"solidity\":0.2}},\"type\":\"bar\"}],\"barpolar\":[{\"marker\":{\"line\":{\"color\":\"#E5ECF6\",\"width\":0.5},\"pattern\":{\"fillmode\":\"overlay\",\"size\":10,\"solidity\":0.2}},\"type\":\"barpolar\"}],\"carpet\":[{\"aaxis\":{\"endlinecolor\":\"#2a3f5f\",\"gridcolor\":\"white\",\"linecolor\":\"white\",\"minorgridcolor\":\"white\",\"startlinecolor\":\"#2a3f5f\"},\"baxis\":{\"endlinecolor\":\"#2a3f5f\",\"gridcolor\":\"white\",\"linecolor\":\"white\",\"minorgridcolor\":\"white\",\"startlinecolor\":\"#2a3f5f\"},\"type\":\"carpet\"}],\"choropleth\":[{\"colorbar\":{\"outlinewidth\":0,\"ticks\":\"\"},\"type\":\"choropleth\"}],\"contour\":[{\"colorbar\":{\"outlinewidth\":0,\"ticks\":\"\"},\"colorscale\":[[0.0,\"#0d0887\"],[0.1111111111111111,\"#46039f\"],[0.2222222222222222,\"#7201a8\"],[0.3333333333333333,\"#9c179e\"],[0.4444444444444444,\"#bd3786\"],[0.5555555555555556,\"#d8576b\"],[0.6666666666666666,\"#ed7953\"],[0.7777777777777778,\"#fb9f3a\"],[0.8888888888888888,\"#fdca26\"],[1.0,\"#f0f921\"]],\"type\":\"contour\"}],\"contourcarpet\":[{\"colorbar\":{\"outlinewidth\":0,\"ticks\":\"\"},\"type\":\"contourcarpet\"}],\"heatmap\":[{\"colorbar\":{\"outlinewidth\":0,\"ticks\":\"\"},\"colorscale\":[[0.0,\"#0d0887\"],[0.1111111111111111,\"#46039f\"],[0.2222222222222222,\"#7201a8\"],[0.3333333333333333,\"#9c179e\"],[0.4444444444444444,\"#bd3786\"],[0.5555555555555556,\"#d8576b\"],[0.6666666666666666,\"#ed7953\"],[0.7777777777777778,\"#fb9f3a\"],[0.8888888888888888,\"#fdca26\"],[1.0,\"#f0f921\"]],\"type\":\"heatmap\"}],\"heatmapgl\":[{\"colorbar\":{\"outlinewidth\":0,\"ticks\":\"\"},\"colorscale\":[[0.0,\"#0d0887\"],[0.1111111111111111,\"#46039f\"],[0.2222222222222222,\"#7201a8\"],[0.3333333333333333,\"#9c179e\"],[0.4444444444444444,\"#bd3786\"],[0.5555555555555556,\"#d8576b\"],[0.6666666666666666,\"#ed7953\"],[0.7777777777777778,\"#fb9f3a\"],[0.8888888888888888,\"#fdca26\"],[1.0,\"#f0f921\"]],\"type\":\"heatmapgl\"}],\"histogram\":[{\"marker\":{\"pattern\":{\"fillmode\":\"overlay\",\"size\":10,\"solidity\":0.2}},\"type\":\"histogram\"}],\"histogram2d\":[{\"colorbar\":{\"outlinewidth\":0,\"ticks\":\"\"},\"colorscale\":[[0.0,\"#0d0887\"],[0.1111111111111111,\"#46039f\"],[0.2222222222222222,\"#7201a8\"],[0.3333333333333333,\"#9c179e\"],[0.4444444444444444,\"#bd3786\"],[0.5555555555555556,\"#d8576b\"],[0.6666666666666666,\"#ed7953\"],[0.7777777777777778,\"#fb9f3a\"],[0.8888888888888888,\"#fdca26\"],[1.0,\"#f0f921\"]],\"type\":\"histogram2d\"}],\"histogram2dcontour\":[{\"colorbar\":{\"outlinewidth\":0,\"ticks\":\"\"},\"colorscale\":[[0.0,\"#0d0887\"],[0.1111111111111111,\"#46039f\"],[0.2222222222222222,\"#7201a8\"],[0.3333333333333333,\"#9c179e\"],[0.4444444444444444,\"#bd3786\"],[0.5555555555555556,\"#d8576b\"],[0.6666666666666666,\"#ed7953\"],[0.7777777777777778,\"#fb9f3a\"],[0.8888888888888888,\"#fdca26\"],[1.0,\"#f0f921\"]],\"type\":\"histogram2dcontour\"}],\"mesh3d\":[{\"colorbar\":{\"outlinewidth\":0,\"ticks\":\"\"},\"type\":\"mesh3d\"}],\"parcoords\":[{\"line\":{\"colorbar\":{\"outlinewidth\":0,\"ticks\":\"\"}},\"type\":\"parcoords\"}],\"pie\":[{\"automargin\":true,\"type\":\"pie\"}],\"scatter\":[{\"marker\":{\"colorbar\":{\"outlinewidth\":0,\"ticks\":\"\"}},\"type\":\"scatter\"}],\"scatter3d\":[{\"line\":{\"colorbar\":{\"outlinewidth\":0,\"ticks\":\"\"}},\"marker\":{\"colorbar\":{\"outlinewidth\":0,\"ticks\":\"\"}},\"type\":\"scatter3d\"}],\"scattercarpet\":[{\"marker\":{\"colorbar\":{\"outlinewidth\":0,\"ticks\":\"\"}},\"type\":\"scattercarpet\"}],\"scattergeo\":[{\"marker\":{\"colorbar\":{\"outlinewidth\":0,\"ticks\":\"\"}},\"type\":\"scattergeo\"}],\"scattergl\":[{\"marker\":{\"colorbar\":{\"outlinewidth\":0,\"ticks\":\"\"}},\"type\":\"scattergl\"}],\"scattermapbox\":[{\"marker\":{\"colorbar\":{\"outlinewidth\":0,\"ticks\":\"\"}},\"type\":\"scattermapbox\"}],\"scatterpolar\":[{\"marker\":{\"colorbar\":{\"outlinewidth\":0,\"ticks\":\"\"}},\"type\":\"scatterpolar\"}],\"scatterpolargl\":[{\"marker\":{\"colorbar\":{\"outlinewidth\":0,\"ticks\":\"\"}},\"type\":\"scatterpolargl\"}],\"scatterternary\":[{\"marker\":{\"colorbar\":{\"outlinewidth\":0,\"ticks\":\"\"}},\"type\":\"scatterternary\"}],\"surface\":[{\"colorbar\":{\"outlinewidth\":0,\"ticks\":\"\"},\"colorscale\":[[0.0,\"#0d0887\"],[0.1111111111111111,\"#46039f\"],[0.2222222222222222,\"#7201a8\"],[0.3333333333333333,\"#9c179e\"],[0.4444444444444444,\"#bd3786\"],[0.5555555555555556,\"#d8576b\"],[0.6666666666666666,\"#ed7953\"],[0.7777777777777778,\"#fb9f3a\"],[0.8888888888888888,\"#fdca26\"],[1.0,\"#f0f921\"]],\"type\":\"surface\"}],\"table\":[{\"cells\":{\"fill\":{\"color\":\"#EBF0F8\"},\"line\":{\"color\":\"white\"}},\"header\":{\"fill\":{\"color\":\"#C8D4E3\"},\"line\":{\"color\":\"white\"}},\"type\":\"table\"}]},\"layout\":{\"annotationdefaults\":{\"arrowcolor\":\"#2a3f5f\",\"arrowhead\":0,\"arrowwidth\":1},\"autotypenumbers\":\"strict\",\"coloraxis\":{\"colorbar\":{\"outlinewidth\":0,\"ticks\":\"\"}},\"colorscale\":{\"diverging\":[[0,\"#8e0152\"],[0.1,\"#c51b7d\"],[0.2,\"#de77ae\"],[0.3,\"#f1b6da\"],[0.4,\"#fde0ef\"],[0.5,\"#f7f7f7\"],[0.6,\"#e6f5d0\"],[0.7,\"#b8e186\"],[0.8,\"#7fbc41\"],[0.9,\"#4d9221\"],[1,\"#276419\"]],\"sequential\":[[0.0,\"#0d0887\"],[0.1111111111111111,\"#46039f\"],[0.2222222222222222,\"#7201a8\"],[0.3333333333333333,\"#9c179e\"],[0.4444444444444444,\"#bd3786\"],[0.5555555555555556,\"#d8576b\"],[0.6666666666666666,\"#ed7953\"],[0.7777777777777778,\"#fb9f3a\"],[0.8888888888888888,\"#fdca26\"],[1.0,\"#f0f921\"]],\"sequentialminus\":[[0.0,\"#0d0887\"],[0.1111111111111111,\"#46039f\"],[0.2222222222222222,\"#7201a8\"],[0.3333333333333333,\"#9c179e\"],[0.4444444444444444,\"#bd3786\"],[0.5555555555555556,\"#d8576b\"],[0.6666666666666666,\"#ed7953\"],[0.7777777777777778,\"#fb9f3a\"],[0.8888888888888888,\"#fdca26\"],[1.0,\"#f0f921\"]]},\"colorway\":[\"#636efa\",\"#EF553B\",\"#00cc96\",\"#ab63fa\",\"#FFA15A\",\"#19d3f3\",\"#FF6692\",\"#B6E880\",\"#FF97FF\",\"#FECB52\"],\"font\":{\"color\":\"#2a3f5f\"},\"geo\":{\"bgcolor\":\"white\",\"lakecolor\":\"white\",\"landcolor\":\"#E5ECF6\",\"showlakes\":true,\"showland\":true,\"subunitcolor\":\"white\"},\"hoverlabel\":{\"align\":\"left\"},\"hovermode\":\"closest\",\"mapbox\":{\"style\":\"light\"},\"paper_bgcolor\":\"white\",\"plot_bgcolor\":\"#E5ECF6\",\"polar\":{\"angularaxis\":{\"gridcolor\":\"white\",\"linecolor\":\"white\",\"ticks\":\"\"},\"bgcolor\":\"#E5ECF6\",\"radialaxis\":{\"gridcolor\":\"white\",\"linecolor\":\"white\",\"ticks\":\"\"}},\"scene\":{\"xaxis\":{\"backgroundcolor\":\"#E5ECF6\",\"gridcolor\":\"white\",\"gridwidth\":2,\"linecolor\":\"white\",\"showbackground\":true,\"ticks\":\"\",\"zerolinecolor\":\"white\"},\"yaxis\":{\"backgroundcolor\":\"#E5ECF6\",\"gridcolor\":\"white\",\"gridwidth\":2,\"linecolor\":\"white\",\"showbackground\":true,\"ticks\":\"\",\"zerolinecolor\":\"white\"},\"zaxis\":{\"backgroundcolor\":\"#E5ECF6\",\"gridcolor\":\"white\",\"gridwidth\":2,\"linecolor\":\"white\",\"showbackground\":true,\"ticks\":\"\",\"zerolinecolor\":\"white\"}},\"shapedefaults\":{\"line\":{\"color\":\"#2a3f5f\"}},\"ternary\":{\"aaxis\":{\"gridcolor\":\"white\",\"linecolor\":\"white\",\"ticks\":\"\"},\"baxis\":{\"gridcolor\":\"white\",\"linecolor\":\"white\",\"ticks\":\"\"},\"bgcolor\":\"#E5ECF6\",\"caxis\":{\"gridcolor\":\"white\",\"linecolor\":\"white\",\"ticks\":\"\"}},\"title\":{\"x\":0.05},\"xaxis\":{\"automargin\":true,\"gridcolor\":\"white\",\"linecolor\":\"white\",\"ticks\":\"\",\"title\":{\"standoff\":15},\"zerolinecolor\":\"white\",\"zerolinewidth\":2},\"yaxis\":{\"automargin\":true,\"gridcolor\":\"white\",\"linecolor\":\"white\",\"ticks\":\"\",\"title\":{\"standoff\":15},\"zerolinecolor\":\"white\",\"zerolinewidth\":2}}},\"xaxis\":{\"anchor\":\"y\",\"domain\":[0.0,1.0],\"title\":{\"text\":\"t\"}},\"yaxis\":{\"anchor\":\"x\",\"domain\":[0.0,1.0],\"title\":{\"text\":\"return\"}}},                        {\"responsive\": true}                    ).then(function(){\n",
       "                            \n",
       "var gd = document.getElementById('b4b49157-8af6-4413-9fb6-1f8871c07450');\n",
       "var x = new MutationObserver(function (mutations, observer) {{\n",
       "        var display = window.getComputedStyle(gd).display;\n",
       "        if (!display || display === 'none') {{\n",
       "            console.log([gd, 'removed!']);\n",
       "            Plotly.purge(gd);\n",
       "            observer.disconnect();\n",
       "        }}\n",
       "}});\n",
       "\n",
       "// Listen for the removal of the full notebook cells\n",
       "var notebookContainer = gd.closest('#notebook-container');\n",
       "if (notebookContainer) {{\n",
       "    x.observe(notebookContainer, {childList: true});\n",
       "}}\n",
       "\n",
       "// Listen for the clearing of the current output cell\n",
       "var outputEl = gd.closest('.output');\n",
       "if (outputEl) {{\n",
       "    x.observe(outputEl, {childList: true});\n",
       "}}\n",
       "\n",
       "                        })                };                });            </script>        </div>"
      ]
     },
     "metadata": {},
     "output_type": "display_data"
    }
   ],
   "source": [
    "amount_midpoint_map = {\n",
    "    '$1,001 -':1000,\n",
    "    '$1,001 - $15,000': 8000.5,\n",
    "    '$15,001 - $50,000': 32500.5,\n",
    "    '$50,001 - $100,000': 75000.5,\n",
    "    '$100,001 - $250,000':125000.5,\n",
    "    '$250,001 - $500,000':375000.5,\n",
    "    '$500,001 - $1,000,000':750000.5,\n",
    "    '$1,000,001 - $5,000,000':2500000.5,\n",
    "    '$5,000,001 - $25,000,000':15000000.5,\n",
    "}\n",
    "\n",
    "def cumulative_returns_weight_by_amount(tr_type):\n",
    "    daily = daily_returns[daily_returns['type'] == tr_type].drop(columns=['type', 'ticker'])\n",
    "    weight = daily['amount'].map(lambda a: amount_midpoint_map[a])\n",
    "    cumulative = (daily.iloc[:,:-1]+1).cumprod(axis=1)\n",
    "    cumulative = cumulative.mul(weight, axis=0)\n",
    "    return cumulative.sum() / weight.sum() - 1\n",
    "\n",
    "df = pd.DataFrame({\"Purchases\": cumulative_returns_weight_by_amount('Purchase'), \"Sales\": cumulative_returns_weight_by_amount('Sale')})\n",
    "px.line(df, labels={\"index\":\"t\", \"value\": \"return\"})"
   ]
  },
  {
   "cell_type": "code",
   "execution_count": 14,
   "id": "conditional-harrison",
   "metadata": {},
   "outputs": [
    {
     "data": {
      "text/html": [
       "<div>\n",
       "<style scoped>\n",
       "    .dataframe tbody tr th:only-of-type {\n",
       "        vertical-align: middle;\n",
       "    }\n",
       "\n",
       "    .dataframe tbody tr th {\n",
       "        vertical-align: top;\n",
       "    }\n",
       "\n",
       "    .dataframe thead th {\n",
       "        text-align: right;\n",
       "    }\n",
       "</style>\n",
       "<table border=\"1\" class=\"dataframe\">\n",
       "  <thead>\n",
       "    <tr style=\"text-align: right;\">\n",
       "      <th></th>\n",
       "      <th>disclosure_year</th>\n",
       "      <th>disclosure_date</th>\n",
       "      <th>transaction_date</th>\n",
       "      <th>owner</th>\n",
       "      <th>asset_description</th>\n",
       "      <th>type_detailed</th>\n",
       "      <th>amount</th>\n",
       "      <th>representative</th>\n",
       "      <th>district</th>\n",
       "      <th>cap_gains_over_200_usd</th>\n",
       "      <th>...</th>\n",
       "      <th>return_abnormal_1m</th>\n",
       "      <th>return_prev1d</th>\n",
       "      <th>return_index_prev1d</th>\n",
       "      <th>return_abnormal_prev1d</th>\n",
       "      <th>return_prev5d</th>\n",
       "      <th>return_index_prev5d</th>\n",
       "      <th>return_abnormal_prev5d</th>\n",
       "      <th>return_prev1m</th>\n",
       "      <th>return_index_prev1m</th>\n",
       "      <th>return_abnormal_prev1m</th>\n",
       "    </tr>\n",
       "  </thead>\n",
       "  <tbody>\n",
       "    <tr>\n",
       "      <th>0</th>\n",
       "      <td>2020</td>\n",
       "      <td>05/05/2020</td>\n",
       "      <td>2020-04-09</td>\n",
       "      <td>NaN</td>\n",
       "      <td>Agilent Technologies, Inc.</td>\n",
       "      <td>sale_partial</td>\n",
       "      <td>$1,001 - $15,000</td>\n",
       "      <td>Peter Welch</td>\n",
       "      <td>VT00</td>\n",
       "      <td>True</td>\n",
       "      <td>...</td>\n",
       "      <td>0.009378</td>\n",
       "      <td>-0.021385</td>\n",
       "      <td>-0.014487</td>\n",
       "      <td>-0.006897</td>\n",
       "      <td>-0.083552</td>\n",
       "      <td>-0.104048</td>\n",
       "      <td>0.020496</td>\n",
       "      <td>-0.074338</td>\n",
       "      <td>0.032062</td>\n",
       "      <td>-0.106400</td>\n",
       "    </tr>\n",
       "    <tr>\n",
       "      <th>1</th>\n",
       "      <td>2020</td>\n",
       "      <td>12/29/2020</td>\n",
       "      <td>2020-11-17</td>\n",
       "      <td>joint</td>\n",
       "      <td>American Airlines</td>\n",
       "      <td>sale_full</td>\n",
       "      <td>$15,001 - $50,000</td>\n",
       "      <td>Kenny Marchant</td>\n",
       "      <td>TX24</td>\n",
       "      <td>False</td>\n",
       "      <td>...</td>\n",
       "      <td>-0.177036</td>\n",
       "      <td>-0.034541</td>\n",
       "      <td>0.004792</td>\n",
       "      <td>-0.039333</td>\n",
       "      <td>-0.142589</td>\n",
       "      <td>-0.018051</td>\n",
       "      <td>-0.124538</td>\n",
       "      <td>-0.447702</td>\n",
       "      <td>-0.036087</td>\n",
       "      <td>-0.411615</td>\n",
       "    </tr>\n",
       "    <tr>\n",
       "      <th>2</th>\n",
       "      <td>2020</td>\n",
       "      <td>05/05/2020</td>\n",
       "      <td>2020-03-25</td>\n",
       "      <td>NaN</td>\n",
       "      <td>American Airlines Group, Inc.</td>\n",
       "      <td>purchase</td>\n",
       "      <td>$1,001 - $15,000</td>\n",
       "      <td>James R. Langevin</td>\n",
       "      <td>RI02</td>\n",
       "      <td>False</td>\n",
       "      <td>...</td>\n",
       "      <td>-0.511687</td>\n",
       "      <td>0.105603</td>\n",
       "      <td>0.011535</td>\n",
       "      <td>0.094068</td>\n",
       "      <td>0.321030</td>\n",
       "      <td>0.032301</td>\n",
       "      <td>0.288729</td>\n",
       "      <td>-0.395285</td>\n",
       "      <td>-0.232596</td>\n",
       "      <td>-0.162689</td>\n",
       "    </tr>\n",
       "    <tr>\n",
       "      <th>3</th>\n",
       "      <td>2020</td>\n",
       "      <td>08/18/2020</td>\n",
       "      <td>2020-03-25</td>\n",
       "      <td>NaN</td>\n",
       "      <td>American Airlines Group, Inc.</td>\n",
       "      <td>purchase</td>\n",
       "      <td>$1,001 - $15,000</td>\n",
       "      <td>James R. Langevin</td>\n",
       "      <td>RI02</td>\n",
       "      <td>False</td>\n",
       "      <td>...</td>\n",
       "      <td>-0.511687</td>\n",
       "      <td>0.105603</td>\n",
       "      <td>0.011535</td>\n",
       "      <td>0.094068</td>\n",
       "      <td>0.321030</td>\n",
       "      <td>0.032301</td>\n",
       "      <td>0.288729</td>\n",
       "      <td>-0.395285</td>\n",
       "      <td>-0.232596</td>\n",
       "      <td>-0.162689</td>\n",
       "    </tr>\n",
       "    <tr>\n",
       "      <th>4</th>\n",
       "      <td>2020</td>\n",
       "      <td>05/07/2020</td>\n",
       "      <td>2020-04-23</td>\n",
       "      <td>--</td>\n",
       "      <td>American Airlines Group, Inc.</td>\n",
       "      <td>purchase</td>\n",
       "      <td>$1,001 - $15,000</td>\n",
       "      <td>Adam Kinzinger</td>\n",
       "      <td>IL16</td>\n",
       "      <td>False</td>\n",
       "      <td>...</td>\n",
       "      <td>0.017500</td>\n",
       "      <td>-0.001947</td>\n",
       "      <td>-0.000539</td>\n",
       "      <td>-0.001408</td>\n",
       "      <td>-0.074074</td>\n",
       "      <td>-0.000625</td>\n",
       "      <td>-0.073449</td>\n",
       "      <td>0.000000</td>\n",
       "      <td>0.250469</td>\n",
       "      <td>-0.250469</td>\n",
       "    </tr>\n",
       "    <tr>\n",
       "      <th>...</th>\n",
       "      <td>...</td>\n",
       "      <td>...</td>\n",
       "      <td>...</td>\n",
       "      <td>...</td>\n",
       "      <td>...</td>\n",
       "      <td>...</td>\n",
       "      <td>...</td>\n",
       "      <td>...</td>\n",
       "      <td>...</td>\n",
       "      <td>...</td>\n",
       "      <td>...</td>\n",
       "      <td>...</td>\n",
       "      <td>...</td>\n",
       "      <td>...</td>\n",
       "      <td>...</td>\n",
       "      <td>...</td>\n",
       "      <td>...</td>\n",
       "      <td>...</td>\n",
       "      <td>...</td>\n",
       "      <td>...</td>\n",
       "      <td>...</td>\n",
       "    </tr>\n",
       "    <tr>\n",
       "      <th>5531</th>\n",
       "      <td>2020</td>\n",
       "      <td>04/09/2020</td>\n",
       "      <td>2020-03-27</td>\n",
       "      <td>NaN</td>\n",
       "      <td>Zoetis Inc. Class A</td>\n",
       "      <td>purchase</td>\n",
       "      <td>$1,001 - $15,000</td>\n",
       "      <td>John Curtis</td>\n",
       "      <td>UT03</td>\n",
       "      <td>False</td>\n",
       "      <td>...</td>\n",
       "      <td>-0.033329</td>\n",
       "      <td>-0.052074</td>\n",
       "      <td>-0.033687</td>\n",
       "      <td>-0.018386</td>\n",
       "      <td>0.107291</td>\n",
       "      <td>0.102628</td>\n",
       "      <td>0.004663</td>\n",
       "      <td>-0.179067</td>\n",
       "      <td>-0.184483</td>\n",
       "      <td>0.005416</td>\n",
       "    </tr>\n",
       "    <tr>\n",
       "      <th>5532</th>\n",
       "      <td>2020</td>\n",
       "      <td>08/03/2020</td>\n",
       "      <td>2020-07-21</td>\n",
       "      <td>self</td>\n",
       "      <td>Zoetis Inc. Class A</td>\n",
       "      <td>sale_partial</td>\n",
       "      <td>$1,001 - $15,000</td>\n",
       "      <td>Alan S. Lowenthal</td>\n",
       "      <td>CA47</td>\n",
       "      <td>False</td>\n",
       "      <td>...</td>\n",
       "      <td>-0.053943</td>\n",
       "      <td>0.006577</td>\n",
       "      <td>-0.001679</td>\n",
       "      <td>0.008256</td>\n",
       "      <td>-0.032835</td>\n",
       "      <td>-0.018696</td>\n",
       "      <td>-0.014139</td>\n",
       "      <td>-0.055386</td>\n",
       "      <td>-0.045568</td>\n",
       "      <td>-0.009818</td>\n",
       "    </tr>\n",
       "    <tr>\n",
       "      <th>5533</th>\n",
       "      <td>2020</td>\n",
       "      <td>08/27/2020</td>\n",
       "      <td>2020-08-07</td>\n",
       "      <td>self</td>\n",
       "      <td>Zoetis Inc. Class A</td>\n",
       "      <td>sale_full</td>\n",
       "      <td>$1,001 - $15,000</td>\n",
       "      <td>Joe Courtney</td>\n",
       "      <td>CT02</td>\n",
       "      <td>False</td>\n",
       "      <td>...</td>\n",
       "      <td>0.014039</td>\n",
       "      <td>0.015186</td>\n",
       "      <td>-0.000633</td>\n",
       "      <td>0.015819</td>\n",
       "      <td>-0.047468</td>\n",
       "      <td>-0.024505</td>\n",
       "      <td>-0.022963</td>\n",
       "      <td>-0.144586</td>\n",
       "      <td>-0.057206</td>\n",
       "      <td>-0.087380</td>\n",
       "    </tr>\n",
       "    <tr>\n",
       "      <th>5534</th>\n",
       "      <td>2020</td>\n",
       "      <td>10/15/2020</td>\n",
       "      <td>2020-09-03</td>\n",
       "      <td>NaN</td>\n",
       "      <td>Zuora, Inc. Class A</td>\n",
       "      <td>purchase</td>\n",
       "      <td>$15,001 - $50,000</td>\n",
       "      <td>Brian Mast</td>\n",
       "      <td>FL18</td>\n",
       "      <td>False</td>\n",
       "      <td>...</td>\n",
       "      <td>-0.077040</td>\n",
       "      <td>-0.306122</td>\n",
       "      <td>-0.035126</td>\n",
       "      <td>-0.270997</td>\n",
       "      <td>-0.135593</td>\n",
       "      <td>-0.008463</td>\n",
       "      <td>-0.127130</td>\n",
       "      <td>-0.054760</td>\n",
       "      <td>0.044927</td>\n",
       "      <td>-0.099686</td>\n",
       "    </tr>\n",
       "    <tr>\n",
       "      <th>5535</th>\n",
       "      <td>2021</td>\n",
       "      <td>02/01/2021</td>\n",
       "      <td>2020-12-11</td>\n",
       "      <td>NaN</td>\n",
       "      <td>Zuora, Inc. Class A</td>\n",
       "      <td>sale_full</td>\n",
       "      <td>$15,001 - $50,000</td>\n",
       "      <td>Brian Mast</td>\n",
       "      <td>FL18</td>\n",
       "      <td>True</td>\n",
       "      <td>...</td>\n",
       "      <td>NaN</td>\n",
       "      <td>0.001643</td>\n",
       "      <td>0.001265</td>\n",
       "      <td>0.000378</td>\n",
       "      <td>-0.069542</td>\n",
       "      <td>0.009640</td>\n",
       "      <td>-0.079182</td>\n",
       "      <td>-0.204163</td>\n",
       "      <td>-0.033262</td>\n",
       "      <td>-0.170901</td>\n",
       "    </tr>\n",
       "  </tbody>\n",
       "</table>\n",
       "<p>5536 rows × 33 columns</p>\n",
       "</div>"
      ],
      "text/plain": [
       "      disclosure_year disclosure_date transaction_date  owner  \\\n",
       "0                2020      05/05/2020       2020-04-09    NaN   \n",
       "1                2020      12/29/2020       2020-11-17  joint   \n",
       "2                2020      05/05/2020       2020-03-25    NaN   \n",
       "3                2020      08/18/2020       2020-03-25    NaN   \n",
       "4                2020      05/07/2020       2020-04-23     --   \n",
       "...               ...             ...              ...    ...   \n",
       "5531             2020      04/09/2020       2020-03-27    NaN   \n",
       "5532             2020      08/03/2020       2020-07-21   self   \n",
       "5533             2020      08/27/2020       2020-08-07   self   \n",
       "5534             2020      10/15/2020       2020-09-03    NaN   \n",
       "5535             2021      02/01/2021       2020-12-11    NaN   \n",
       "\n",
       "                  asset_description type_detailed             amount  \\\n",
       "0        Agilent Technologies, Inc.  sale_partial   $1,001 - $15,000   \n",
       "1                 American Airlines     sale_full  $15,001 - $50,000   \n",
       "2     American Airlines Group, Inc.      purchase   $1,001 - $15,000   \n",
       "3     American Airlines Group, Inc.      purchase   $1,001 - $15,000   \n",
       "4     American Airlines Group, Inc.      purchase   $1,001 - $15,000   \n",
       "...                             ...           ...                ...   \n",
       "5531            Zoetis Inc. Class A      purchase   $1,001 - $15,000   \n",
       "5532            Zoetis Inc. Class A  sale_partial   $1,001 - $15,000   \n",
       "5533            Zoetis Inc. Class A     sale_full   $1,001 - $15,000   \n",
       "5534            Zuora, Inc. Class A      purchase  $15,001 - $50,000   \n",
       "5535            Zuora, Inc. Class A     sale_full  $15,001 - $50,000   \n",
       "\n",
       "         representative district  cap_gains_over_200_usd  ...  \\\n",
       "0           Peter Welch     VT00                    True  ...   \n",
       "1        Kenny Marchant     TX24                   False  ...   \n",
       "2     James R. Langevin     RI02                   False  ...   \n",
       "3     James R. Langevin     RI02                   False  ...   \n",
       "4        Adam Kinzinger     IL16                   False  ...   \n",
       "...                 ...      ...                     ...  ...   \n",
       "5531        John Curtis     UT03                   False  ...   \n",
       "5532  Alan S. Lowenthal     CA47                   False  ...   \n",
       "5533       Joe Courtney     CT02                   False  ...   \n",
       "5534         Brian Mast     FL18                   False  ...   \n",
       "5535         Brian Mast     FL18                    True  ...   \n",
       "\n",
       "     return_abnormal_1m return_prev1d return_index_prev1d  \\\n",
       "0              0.009378     -0.021385           -0.014487   \n",
       "1             -0.177036     -0.034541            0.004792   \n",
       "2             -0.511687      0.105603            0.011535   \n",
       "3             -0.511687      0.105603            0.011535   \n",
       "4              0.017500     -0.001947           -0.000539   \n",
       "...                 ...           ...                 ...   \n",
       "5531          -0.033329     -0.052074           -0.033687   \n",
       "5532          -0.053943      0.006577           -0.001679   \n",
       "5533           0.014039      0.015186           -0.000633   \n",
       "5534          -0.077040     -0.306122           -0.035126   \n",
       "5535                NaN      0.001643            0.001265   \n",
       "\n",
       "      return_abnormal_prev1d  return_prev5d  return_index_prev5d  \\\n",
       "0                  -0.006897      -0.083552            -0.104048   \n",
       "1                  -0.039333      -0.142589            -0.018051   \n",
       "2                   0.094068       0.321030             0.032301   \n",
       "3                   0.094068       0.321030             0.032301   \n",
       "4                  -0.001408      -0.074074            -0.000625   \n",
       "...                      ...            ...                  ...   \n",
       "5531               -0.018386       0.107291             0.102628   \n",
       "5532                0.008256      -0.032835            -0.018696   \n",
       "5533                0.015819      -0.047468            -0.024505   \n",
       "5534               -0.270997      -0.135593            -0.008463   \n",
       "5535                0.000378      -0.069542             0.009640   \n",
       "\n",
       "      return_abnormal_prev5d  return_prev1m  return_index_prev1m  \\\n",
       "0                   0.020496      -0.074338             0.032062   \n",
       "1                  -0.124538      -0.447702            -0.036087   \n",
       "2                   0.288729      -0.395285            -0.232596   \n",
       "3                   0.288729      -0.395285            -0.232596   \n",
       "4                  -0.073449       0.000000             0.250469   \n",
       "...                      ...            ...                  ...   \n",
       "5531                0.004663      -0.179067            -0.184483   \n",
       "5532               -0.014139      -0.055386            -0.045568   \n",
       "5533               -0.022963      -0.144586            -0.057206   \n",
       "5534               -0.127130      -0.054760             0.044927   \n",
       "5535               -0.079182      -0.204163            -0.033262   \n",
       "\n",
       "      return_abnormal_prev1m  \n",
       "0                  -0.106400  \n",
       "1                  -0.411615  \n",
       "2                  -0.162689  \n",
       "3                  -0.162689  \n",
       "4                  -0.250469  \n",
       "...                      ...  \n",
       "5531                0.005416  \n",
       "5532               -0.009818  \n",
       "5533               -0.087380  \n",
       "5534               -0.099686  \n",
       "5535               -0.170901  \n",
       "\n",
       "[5536 rows x 33 columns]"
      ]
     },
     "execution_count": 14,
     "metadata": {},
     "output_type": "execute_result"
    }
   ],
   "source": [
    "house"
   ]
  },
  {
   "cell_type": "code",
   "execution_count": 15,
   "id": "suitable-prize",
   "metadata": {},
   "outputs": [
    {
     "data": {
      "text/html": [
       "<div>\n",
       "<style scoped>\n",
       "    .dataframe tbody tr th:only-of-type {\n",
       "        vertical-align: middle;\n",
       "    }\n",
       "\n",
       "    .dataframe tbody tr th {\n",
       "        vertical-align: top;\n",
       "    }\n",
       "\n",
       "    .dataframe thead th {\n",
       "        text-align: right;\n",
       "    }\n",
       "</style>\n",
       "<table border=\"1\" class=\"dataframe\">\n",
       "  <thead>\n",
       "    <tr style=\"text-align: right;\">\n",
       "      <th></th>\n",
       "      <th>name</th>\n",
       "      <th>name_committee</th>\n",
       "      <th>party</th>\n",
       "      <th>education</th>\n",
       "      <th>assumed_office</th>\n",
       "      <th>born</th>\n",
       "      <th>age</th>\n",
       "      <th>in_office</th>\n",
       "    </tr>\n",
       "    <tr>\n",
       "      <th>name_long</th>\n",
       "      <th></th>\n",
       "      <th></th>\n",
       "      <th></th>\n",
       "      <th></th>\n",
       "      <th></th>\n",
       "      <th></th>\n",
       "      <th></th>\n",
       "      <th></th>\n",
       "    </tr>\n",
       "  </thead>\n",
       "  <tbody>\n",
       "    <tr>\n",
       "      <th>Don Young</th>\n",
       "      <td>Don Young</td>\n",
       "      <td>Don Young</td>\n",
       "      <td>Republican</td>\n",
       "      <td>Yuba College; California State University, Chi...</td>\n",
       "      <td>1973</td>\n",
       "      <td>1933-06-09</td>\n",
       "      <td>87</td>\n",
       "      <td>47</td>\n",
       "    </tr>\n",
       "    <tr>\n",
       "      <th>Eddie Bernice Johnson</th>\n",
       "      <td>Eddie Bernice Johnson</td>\n",
       "      <td>Eddie Bernice Johnson</td>\n",
       "      <td>Democratic</td>\n",
       "      <td>St Mary's College, Indiana; Texas Christian Un...</td>\n",
       "      <td>1993</td>\n",
       "      <td>1935-12-03</td>\n",
       "      <td>85</td>\n",
       "      <td>27</td>\n",
       "    </tr>\n",
       "    <tr>\n",
       "      <th>Grace Napolitano</th>\n",
       "      <td>Grace Napolitano</td>\n",
       "      <td>Grace Napolitano</td>\n",
       "      <td>Democratic</td>\n",
       "      <td>Cerritos College; Texas Southmost College</td>\n",
       "      <td>1999</td>\n",
       "      <td>1936-12-04</td>\n",
       "      <td>84</td>\n",
       "      <td>21</td>\n",
       "    </tr>\n",
       "    <tr>\n",
       "      <th>Bill Pascrell</th>\n",
       "      <td>Bill Pascrell</td>\n",
       "      <td>Bill Pascrell</td>\n",
       "      <td>Democratic</td>\n",
       "      <td>Fordham University; BA; MA</td>\n",
       "      <td>1997</td>\n",
       "      <td>1937-01-25</td>\n",
       "      <td>83</td>\n",
       "      <td>23</td>\n",
       "    </tr>\n",
       "    <tr>\n",
       "      <th>Harold Dallas Rogers</th>\n",
       "      <td>Hal Rogers</td>\n",
       "      <td>Hal Rogers</td>\n",
       "      <td>Republican</td>\n",
       "      <td>Western Kentucky University; BA; University of...</td>\n",
       "      <td>1981</td>\n",
       "      <td>1937-12-31</td>\n",
       "      <td>83</td>\n",
       "      <td>39</td>\n",
       "    </tr>\n",
       "    <tr>\n",
       "      <th>...</th>\n",
       "      <td>...</td>\n",
       "      <td>...</td>\n",
       "      <td>...</td>\n",
       "      <td>...</td>\n",
       "      <td>...</td>\n",
       "      <td>...</td>\n",
       "      <td>...</td>\n",
       "      <td>...</td>\n",
       "    </tr>\n",
       "    <tr>\n",
       "      <th>Mark Green</th>\n",
       "      <td>Mark E. Green</td>\n",
       "      <td>Mark E. Green</td>\n",
       "      <td>Republican</td>\n",
       "      <td>United States Military Academy (BS); Universit...</td>\n",
       "      <td>2019</td>\n",
       "      <td>1964-11-08</td>\n",
       "      <td>56</td>\n",
       "      <td>1</td>\n",
       "    </tr>\n",
       "    <tr>\n",
       "      <th>Harley E. Rouda</th>\n",
       "      <td>Harley Rouda</td>\n",
       "      <td>Harley Rouda</td>\n",
       "      <td>Democratic</td>\n",
       "      <td>University of Kentucky (BA); Ohio State Univer...</td>\n",
       "      <td>2019</td>\n",
       "      <td>1978-10-20</td>\n",
       "      <td>42</td>\n",
       "      <td>1</td>\n",
       "    </tr>\n",
       "    <tr>\n",
       "      <th>David P. Roe</th>\n",
       "      <td>Phil Roe</td>\n",
       "      <td>Phil Roe</td>\n",
       "      <td>Republican</td>\n",
       "      <td>Austin Peay State University (BS); University ...</td>\n",
       "      <td>2009</td>\n",
       "      <td>1945-07-21</td>\n",
       "      <td>75</td>\n",
       "      <td>11</td>\n",
       "    </tr>\n",
       "    <tr>\n",
       "      <th>Wm. Lacy Clay</th>\n",
       "      <td>Lacy Clay</td>\n",
       "      <td>Lacy Clay</td>\n",
       "      <td>Democratic</td>\n",
       "      <td>University of Maryland, College Park (BA)</td>\n",
       "      <td>2001</td>\n",
       "      <td>1956-07-27</td>\n",
       "      <td>64</td>\n",
       "      <td>19</td>\n",
       "    </tr>\n",
       "    <tr>\n",
       "      <th>Kenny Marchant</th>\n",
       "      <td>Kenny Marchant</td>\n",
       "      <td>Kenny Marchant</td>\n",
       "      <td>Republican</td>\n",
       "      <td>Southern Nazarene University (BA); Nazarene Th...</td>\n",
       "      <td>2005</td>\n",
       "      <td>1951-02-23</td>\n",
       "      <td>69</td>\n",
       "      <td>15</td>\n",
       "    </tr>\n",
       "  </tbody>\n",
       "</table>\n",
       "<p>448 rows × 8 columns</p>\n",
       "</div>"
      ],
      "text/plain": [
       "                                        name         name_committee  \\\n",
       "name_long                                                             \n",
       "Don Young                          Don Young              Don Young   \n",
       "Eddie Bernice Johnson  Eddie Bernice Johnson  Eddie Bernice Johnson   \n",
       "Grace Napolitano            Grace Napolitano       Grace Napolitano   \n",
       "Bill Pascrell                  Bill Pascrell          Bill Pascrell   \n",
       "Harold Dallas Rogers              Hal Rogers             Hal Rogers   \n",
       "...                                      ...                    ...   \n",
       "Mark Green                     Mark E. Green          Mark E. Green   \n",
       "Harley E. Rouda                 Harley Rouda           Harley Rouda   \n",
       "David P. Roe                        Phil Roe               Phil Roe   \n",
       "Wm. Lacy Clay                      Lacy Clay              Lacy Clay   \n",
       "Kenny Marchant                Kenny Marchant         Kenny Marchant   \n",
       "\n",
       "                            party  \\\n",
       "name_long                           \n",
       "Don Young              Republican   \n",
       "Eddie Bernice Johnson  Democratic   \n",
       "Grace Napolitano       Democratic   \n",
       "Bill Pascrell          Democratic   \n",
       "Harold Dallas Rogers   Republican   \n",
       "...                           ...   \n",
       "Mark Green             Republican   \n",
       "Harley E. Rouda        Democratic   \n",
       "David P. Roe           Republican   \n",
       "Wm. Lacy Clay          Democratic   \n",
       "Kenny Marchant         Republican   \n",
       "\n",
       "                                                               education  \\\n",
       "name_long                                                                  \n",
       "Don Young              Yuba College; California State University, Chi...   \n",
       "Eddie Bernice Johnson  St Mary's College, Indiana; Texas Christian Un...   \n",
       "Grace Napolitano               Cerritos College; Texas Southmost College   \n",
       "Bill Pascrell                                 Fordham University; BA; MA   \n",
       "Harold Dallas Rogers   Western Kentucky University; BA; University of...   \n",
       "...                                                                  ...   \n",
       "Mark Green             United States Military Academy (BS); Universit...   \n",
       "Harley E. Rouda        University of Kentucky (BA); Ohio State Univer...   \n",
       "David P. Roe           Austin Peay State University (BS); University ...   \n",
       "Wm. Lacy Clay                  University of Maryland, College Park (BA)   \n",
       "Kenny Marchant         Southern Nazarene University (BA); Nazarene Th...   \n",
       "\n",
       "                       assumed_office       born  age  in_office  \n",
       "name_long                                                         \n",
       "Don Young                        1973 1933-06-09   87         47  \n",
       "Eddie Bernice Johnson            1993 1935-12-03   85         27  \n",
       "Grace Napolitano                 1999 1936-12-04   84         21  \n",
       "Bill Pascrell                    1997 1937-01-25   83         23  \n",
       "Harold Dallas Rogers             1981 1937-12-31   83         39  \n",
       "...                               ...        ...  ...        ...  \n",
       "Mark Green                       2019 1964-11-08   56          1  \n",
       "Harley E. Rouda                  2019 1978-10-20   42          1  \n",
       "David P. Roe                     2009 1945-07-21   75         11  \n",
       "Wm. Lacy Clay                    2001 1956-07-27   64         19  \n",
       "Kenny Marchant                   2005 1951-02-23   69         15  \n",
       "\n",
       "[448 rows x 8 columns]"
      ]
     },
     "execution_count": 15,
     "metadata": {},
     "output_type": "execute_result"
    }
   ],
   "source": [
    "house_members = pd.read_excel('house_members.xlsx', index_col=0, parse_dates=[6])\n",
    "house_members['age'] = 2020 - house_members['born'].dt.year\n",
    "house_members['in_office'] = 2020 - house_members['assumed_office']\n",
    "house_members"
   ]
  },
  {
   "cell_type": "code",
   "execution_count": 16,
   "id": "loving-measurement",
   "metadata": {},
   "outputs": [],
   "source": [
    "for h in house['representative'].unique():\n",
    "    if h not in house_members.index:\n",
    "        print(h)"
   ]
  },
  {
   "cell_type": "code",
   "execution_count": 17,
   "id": "earlier-separate",
   "metadata": {},
   "outputs": [
    {
     "data": {
      "text/html": [
       "<div>\n",
       "<style scoped>\n",
       "    .dataframe tbody tr th:only-of-type {\n",
       "        vertical-align: middle;\n",
       "    }\n",
       "\n",
       "    .dataframe tbody tr th {\n",
       "        vertical-align: top;\n",
       "    }\n",
       "\n",
       "    .dataframe thead th {\n",
       "        text-align: right;\n",
       "    }\n",
       "</style>\n",
       "<table border=\"1\" class=\"dataframe\">\n",
       "  <thead>\n",
       "    <tr style=\"text-align: right;\">\n",
       "      <th></th>\n",
       "      <th>House Member</th>\n",
       "      <th>House Member Name</th>\n",
       "      <th>Committee</th>\n",
       "      <th>Committee #</th>\n",
       "    </tr>\n",
       "  </thead>\n",
       "  <tbody>\n",
       "    <tr>\n",
       "      <th>0</th>\n",
       "      <td>David Scott, Georgia, Chair</td>\n",
       "      <td>David Scott</td>\n",
       "      <td>Agriculture</td>\n",
       "      <td>117</td>\n",
       "    </tr>\n",
       "    <tr>\n",
       "      <th>1</th>\n",
       "      <td>Jim Costa, California</td>\n",
       "      <td>Jim Costa</td>\n",
       "      <td>Agriculture</td>\n",
       "      <td>117</td>\n",
       "    </tr>\n",
       "    <tr>\n",
       "      <th>2</th>\n",
       "      <td>Jim McGovern, Massachusetts</td>\n",
       "      <td>Jim McGovern</td>\n",
       "      <td>Agriculture</td>\n",
       "      <td>117</td>\n",
       "    </tr>\n",
       "    <tr>\n",
       "      <th>3</th>\n",
       "      <td>Filemon Vela Jr., Texas</td>\n",
       "      <td>Filemon Vela Jr.</td>\n",
       "      <td>Agriculture</td>\n",
       "      <td>117</td>\n",
       "    </tr>\n",
       "    <tr>\n",
       "      <th>4</th>\n",
       "      <td>Alma Adams, North Carolina</td>\n",
       "      <td>Alma Adams</td>\n",
       "      <td>Agriculture</td>\n",
       "      <td>117</td>\n",
       "    </tr>\n",
       "    <tr>\n",
       "      <th>...</th>\n",
       "      <td>...</td>\n",
       "      <td>...</td>\n",
       "      <td>...</td>\n",
       "      <td>...</td>\n",
       "    </tr>\n",
       "    <tr>\n",
       "      <th>865</th>\n",
       "      <td>NaN</td>\n",
       "      <td>Phil Roe</td>\n",
       "      <td>Education_and_Labor</td>\n",
       "      <td>116</td>\n",
       "    </tr>\n",
       "    <tr>\n",
       "      <th>866</th>\n",
       "      <td>NaN</td>\n",
       "      <td>Lacy Clay</td>\n",
       "      <td>Financial_Services</td>\n",
       "      <td>116</td>\n",
       "    </tr>\n",
       "    <tr>\n",
       "      <th>867</th>\n",
       "      <td>NaN</td>\n",
       "      <td>Lacy Clay</td>\n",
       "      <td>Oversight_and_Reform</td>\n",
       "      <td>116</td>\n",
       "    </tr>\n",
       "    <tr>\n",
       "      <th>868</th>\n",
       "      <td>NaN</td>\n",
       "      <td>Kenny Marchant</td>\n",
       "      <td>Ways_and_Means</td>\n",
       "      <td>116</td>\n",
       "    </tr>\n",
       "    <tr>\n",
       "      <th>869</th>\n",
       "      <td>NaN</td>\n",
       "      <td>Kenny Marchant</td>\n",
       "      <td>Ethics</td>\n",
       "      <td>116</td>\n",
       "    </tr>\n",
       "  </tbody>\n",
       "</table>\n",
       "<p>870 rows × 4 columns</p>\n",
       "</div>"
      ],
      "text/plain": [
       "                    House Member House Member Name             Committee  \\\n",
       "0    David Scott, Georgia, Chair       David Scott           Agriculture   \n",
       "1          Jim Costa, California         Jim Costa           Agriculture   \n",
       "2    Jim McGovern, Massachusetts      Jim McGovern           Agriculture   \n",
       "3        Filemon Vela Jr., Texas  Filemon Vela Jr.           Agriculture   \n",
       "4     Alma Adams, North Carolina        Alma Adams           Agriculture   \n",
       "..                           ...               ...                   ...   \n",
       "865                          NaN          Phil Roe   Education_and_Labor   \n",
       "866                          NaN         Lacy Clay    Financial_Services   \n",
       "867                          NaN         Lacy Clay  Oversight_and_Reform   \n",
       "868                          NaN    Kenny Marchant        Ways_and_Means   \n",
       "869                          NaN    Kenny Marchant                Ethics   \n",
       "\n",
       "     Committee #  \n",
       "0            117  \n",
       "1            117  \n",
       "2            117  \n",
       "3            117  \n",
       "4            117  \n",
       "..           ...  \n",
       "865          116  \n",
       "866          116  \n",
       "867          116  \n",
       "868          116  \n",
       "869          116  \n",
       "\n",
       "[870 rows x 4 columns]"
      ]
     },
     "execution_count": 17,
     "metadata": {},
     "output_type": "execute_result"
    }
   ],
   "source": [
    "committees = pd.read_excel('house_committees.xlsx')\n",
    "committees['Committee'] = committees['Committee'].apply(lambda s: s.replace(' ', '_').replace(',', '').replace(\"'\", ''))\n",
    "committees"
   ]
  },
  {
   "cell_type": "code",
   "execution_count": 18,
   "id": "disabled-vinyl",
   "metadata": {},
   "outputs": [
    {
     "name": "stdout",
     "output_type": "stream",
     "text": [
      "Nancy Pelosi\n"
     ]
    }
   ],
   "source": [
    "for name_index, row in house_members.iterrows():\n",
    "    if name_index in house['representative'].unique() and row[\"name_committee\"] not in committees['House Member Name'].unique():\n",
    "        print(row[\"name_committee\"])"
   ]
  },
  {
   "cell_type": "code",
   "execution_count": 19,
   "id": "architectural-coalition",
   "metadata": {},
   "outputs": [
    {
     "data": {
      "text/html": [
       "<div>\n",
       "<style scoped>\n",
       "    .dataframe tbody tr th:only-of-type {\n",
       "        vertical-align: middle;\n",
       "    }\n",
       "\n",
       "    .dataframe tbody tr th {\n",
       "        vertical-align: top;\n",
       "    }\n",
       "\n",
       "    .dataframe thead th {\n",
       "        text-align: right;\n",
       "    }\n",
       "</style>\n",
       "<table border=\"1\" class=\"dataframe\">\n",
       "  <thead>\n",
       "    <tr style=\"text-align: right;\">\n",
       "      <th></th>\n",
       "      <th>name</th>\n",
       "      <th>name_committee</th>\n",
       "      <th>party</th>\n",
       "      <th>education</th>\n",
       "      <th>assumed_office</th>\n",
       "      <th>born</th>\n",
       "      <th>age</th>\n",
       "      <th>in_office</th>\n",
       "      <th>Agriculture</th>\n",
       "      <th>Appropriations</th>\n",
       "      <th>...</th>\n",
       "      <th>House_Administration</th>\n",
       "      <th>Judiciary</th>\n",
       "      <th>Natural_Resources</th>\n",
       "      <th>Oversight_and_Reform</th>\n",
       "      <th>Rules</th>\n",
       "      <th>Science_Space_and_Technology</th>\n",
       "      <th>Small_Business</th>\n",
       "      <th>Transportation_and_Infrastructure</th>\n",
       "      <th>Veterans_Affairs</th>\n",
       "      <th>Ways_and_Means</th>\n",
       "    </tr>\n",
       "    <tr>\n",
       "      <th>name_long</th>\n",
       "      <th></th>\n",
       "      <th></th>\n",
       "      <th></th>\n",
       "      <th></th>\n",
       "      <th></th>\n",
       "      <th></th>\n",
       "      <th></th>\n",
       "      <th></th>\n",
       "      <th></th>\n",
       "      <th></th>\n",
       "      <th></th>\n",
       "      <th></th>\n",
       "      <th></th>\n",
       "      <th></th>\n",
       "      <th></th>\n",
       "      <th></th>\n",
       "      <th></th>\n",
       "      <th></th>\n",
       "      <th></th>\n",
       "      <th></th>\n",
       "      <th></th>\n",
       "    </tr>\n",
       "  </thead>\n",
       "  <tbody>\n",
       "    <tr>\n",
       "      <th>Don Young</th>\n",
       "      <td>Don Young</td>\n",
       "      <td>Don Young</td>\n",
       "      <td>Republican</td>\n",
       "      <td>Yuba College; California State University, Chi...</td>\n",
       "      <td>1973</td>\n",
       "      <td>1933-06-09</td>\n",
       "      <td>87</td>\n",
       "      <td>47</td>\n",
       "      <td>0</td>\n",
       "      <td>0</td>\n",
       "      <td>...</td>\n",
       "      <td>0</td>\n",
       "      <td>0</td>\n",
       "      <td>1</td>\n",
       "      <td>0</td>\n",
       "      <td>0</td>\n",
       "      <td>0</td>\n",
       "      <td>0</td>\n",
       "      <td>1</td>\n",
       "      <td>0</td>\n",
       "      <td>0</td>\n",
       "    </tr>\n",
       "    <tr>\n",
       "      <th>Eddie Bernice Johnson</th>\n",
       "      <td>Eddie Bernice Johnson</td>\n",
       "      <td>Eddie Bernice Johnson</td>\n",
       "      <td>Democratic</td>\n",
       "      <td>St Mary's College, Indiana; Texas Christian Un...</td>\n",
       "      <td>1993</td>\n",
       "      <td>1935-12-03</td>\n",
       "      <td>85</td>\n",
       "      <td>27</td>\n",
       "      <td>0</td>\n",
       "      <td>0</td>\n",
       "      <td>...</td>\n",
       "      <td>0</td>\n",
       "      <td>0</td>\n",
       "      <td>0</td>\n",
       "      <td>0</td>\n",
       "      <td>0</td>\n",
       "      <td>1</td>\n",
       "      <td>0</td>\n",
       "      <td>1</td>\n",
       "      <td>0</td>\n",
       "      <td>0</td>\n",
       "    </tr>\n",
       "    <tr>\n",
       "      <th>Grace Napolitano</th>\n",
       "      <td>Grace Napolitano</td>\n",
       "      <td>Grace Napolitano</td>\n",
       "      <td>Democratic</td>\n",
       "      <td>Cerritos College; Texas Southmost College</td>\n",
       "      <td>1999</td>\n",
       "      <td>1936-12-04</td>\n",
       "      <td>84</td>\n",
       "      <td>21</td>\n",
       "      <td>0</td>\n",
       "      <td>0</td>\n",
       "      <td>...</td>\n",
       "      <td>0</td>\n",
       "      <td>0</td>\n",
       "      <td>1</td>\n",
       "      <td>0</td>\n",
       "      <td>0</td>\n",
       "      <td>0</td>\n",
       "      <td>0</td>\n",
       "      <td>1</td>\n",
       "      <td>0</td>\n",
       "      <td>0</td>\n",
       "    </tr>\n",
       "    <tr>\n",
       "      <th>Bill Pascrell</th>\n",
       "      <td>Bill Pascrell</td>\n",
       "      <td>Bill Pascrell</td>\n",
       "      <td>Democratic</td>\n",
       "      <td>Fordham University; BA; MA</td>\n",
       "      <td>1997</td>\n",
       "      <td>1937-01-25</td>\n",
       "      <td>83</td>\n",
       "      <td>23</td>\n",
       "      <td>0</td>\n",
       "      <td>0</td>\n",
       "      <td>...</td>\n",
       "      <td>0</td>\n",
       "      <td>0</td>\n",
       "      <td>0</td>\n",
       "      <td>0</td>\n",
       "      <td>0</td>\n",
       "      <td>0</td>\n",
       "      <td>0</td>\n",
       "      <td>0</td>\n",
       "      <td>0</td>\n",
       "      <td>1</td>\n",
       "    </tr>\n",
       "    <tr>\n",
       "      <th>Harold Dallas Rogers</th>\n",
       "      <td>Hal Rogers</td>\n",
       "      <td>Hal Rogers</td>\n",
       "      <td>Republican</td>\n",
       "      <td>Western Kentucky University; BA; University of...</td>\n",
       "      <td>1981</td>\n",
       "      <td>1937-12-31</td>\n",
       "      <td>83</td>\n",
       "      <td>39</td>\n",
       "      <td>0</td>\n",
       "      <td>1</td>\n",
       "      <td>...</td>\n",
       "      <td>0</td>\n",
       "      <td>0</td>\n",
       "      <td>0</td>\n",
       "      <td>0</td>\n",
       "      <td>0</td>\n",
       "      <td>0</td>\n",
       "      <td>0</td>\n",
       "      <td>0</td>\n",
       "      <td>0</td>\n",
       "      <td>0</td>\n",
       "    </tr>\n",
       "    <tr>\n",
       "      <th>...</th>\n",
       "      <td>...</td>\n",
       "      <td>...</td>\n",
       "      <td>...</td>\n",
       "      <td>...</td>\n",
       "      <td>...</td>\n",
       "      <td>...</td>\n",
       "      <td>...</td>\n",
       "      <td>...</td>\n",
       "      <td>...</td>\n",
       "      <td>...</td>\n",
       "      <td>...</td>\n",
       "      <td>...</td>\n",
       "      <td>...</td>\n",
       "      <td>...</td>\n",
       "      <td>...</td>\n",
       "      <td>...</td>\n",
       "      <td>...</td>\n",
       "      <td>...</td>\n",
       "      <td>...</td>\n",
       "      <td>...</td>\n",
       "      <td>...</td>\n",
       "    </tr>\n",
       "    <tr>\n",
       "      <th>Mark Green</th>\n",
       "      <td>Mark E. Green</td>\n",
       "      <td>Mark E. Green</td>\n",
       "      <td>Republican</td>\n",
       "      <td>United States Military Academy (BS); Universit...</td>\n",
       "      <td>2019</td>\n",
       "      <td>1964-11-08</td>\n",
       "      <td>56</td>\n",
       "      <td>1</td>\n",
       "      <td>0</td>\n",
       "      <td>0</td>\n",
       "      <td>...</td>\n",
       "      <td>0</td>\n",
       "      <td>0</td>\n",
       "      <td>0</td>\n",
       "      <td>0</td>\n",
       "      <td>0</td>\n",
       "      <td>0</td>\n",
       "      <td>0</td>\n",
       "      <td>0</td>\n",
       "      <td>0</td>\n",
       "      <td>0</td>\n",
       "    </tr>\n",
       "    <tr>\n",
       "      <th>Harley E. Rouda</th>\n",
       "      <td>Harley Rouda</td>\n",
       "      <td>Harley Rouda</td>\n",
       "      <td>Democratic</td>\n",
       "      <td>University of Kentucky (BA); Ohio State Univer...</td>\n",
       "      <td>2019</td>\n",
       "      <td>1978-10-20</td>\n",
       "      <td>42</td>\n",
       "      <td>1</td>\n",
       "      <td>0</td>\n",
       "      <td>0</td>\n",
       "      <td>...</td>\n",
       "      <td>0</td>\n",
       "      <td>0</td>\n",
       "      <td>0</td>\n",
       "      <td>1</td>\n",
       "      <td>0</td>\n",
       "      <td>0</td>\n",
       "      <td>0</td>\n",
       "      <td>1</td>\n",
       "      <td>0</td>\n",
       "      <td>0</td>\n",
       "    </tr>\n",
       "    <tr>\n",
       "      <th>David P. Roe</th>\n",
       "      <td>Phil Roe</td>\n",
       "      <td>Phil Roe</td>\n",
       "      <td>Republican</td>\n",
       "      <td>Austin Peay State University (BS); University ...</td>\n",
       "      <td>2009</td>\n",
       "      <td>1945-07-21</td>\n",
       "      <td>75</td>\n",
       "      <td>11</td>\n",
       "      <td>0</td>\n",
       "      <td>0</td>\n",
       "      <td>...</td>\n",
       "      <td>0</td>\n",
       "      <td>0</td>\n",
       "      <td>0</td>\n",
       "      <td>0</td>\n",
       "      <td>0</td>\n",
       "      <td>0</td>\n",
       "      <td>0</td>\n",
       "      <td>0</td>\n",
       "      <td>1</td>\n",
       "      <td>0</td>\n",
       "    </tr>\n",
       "    <tr>\n",
       "      <th>Wm. Lacy Clay</th>\n",
       "      <td>Lacy Clay</td>\n",
       "      <td>Lacy Clay</td>\n",
       "      <td>Democratic</td>\n",
       "      <td>University of Maryland, College Park (BA)</td>\n",
       "      <td>2001</td>\n",
       "      <td>1956-07-27</td>\n",
       "      <td>64</td>\n",
       "      <td>19</td>\n",
       "      <td>0</td>\n",
       "      <td>0</td>\n",
       "      <td>...</td>\n",
       "      <td>0</td>\n",
       "      <td>0</td>\n",
       "      <td>0</td>\n",
       "      <td>1</td>\n",
       "      <td>0</td>\n",
       "      <td>0</td>\n",
       "      <td>0</td>\n",
       "      <td>0</td>\n",
       "      <td>0</td>\n",
       "      <td>0</td>\n",
       "    </tr>\n",
       "    <tr>\n",
       "      <th>Kenny Marchant</th>\n",
       "      <td>Kenny Marchant</td>\n",
       "      <td>Kenny Marchant</td>\n",
       "      <td>Republican</td>\n",
       "      <td>Southern Nazarene University (BA); Nazarene Th...</td>\n",
       "      <td>2005</td>\n",
       "      <td>1951-02-23</td>\n",
       "      <td>69</td>\n",
       "      <td>15</td>\n",
       "      <td>0</td>\n",
       "      <td>0</td>\n",
       "      <td>...</td>\n",
       "      <td>0</td>\n",
       "      <td>0</td>\n",
       "      <td>0</td>\n",
       "      <td>0</td>\n",
       "      <td>0</td>\n",
       "      <td>0</td>\n",
       "      <td>0</td>\n",
       "      <td>0</td>\n",
       "      <td>0</td>\n",
       "      <td>1</td>\n",
       "    </tr>\n",
       "  </tbody>\n",
       "</table>\n",
       "<p>448 rows × 28 columns</p>\n",
       "</div>"
      ],
      "text/plain": [
       "                                        name         name_committee  \\\n",
       "name_long                                                             \n",
       "Don Young                          Don Young              Don Young   \n",
       "Eddie Bernice Johnson  Eddie Bernice Johnson  Eddie Bernice Johnson   \n",
       "Grace Napolitano            Grace Napolitano       Grace Napolitano   \n",
       "Bill Pascrell                  Bill Pascrell          Bill Pascrell   \n",
       "Harold Dallas Rogers              Hal Rogers             Hal Rogers   \n",
       "...                                      ...                    ...   \n",
       "Mark Green                     Mark E. Green          Mark E. Green   \n",
       "Harley E. Rouda                 Harley Rouda           Harley Rouda   \n",
       "David P. Roe                        Phil Roe               Phil Roe   \n",
       "Wm. Lacy Clay                      Lacy Clay              Lacy Clay   \n",
       "Kenny Marchant                Kenny Marchant         Kenny Marchant   \n",
       "\n",
       "                            party  \\\n",
       "name_long                           \n",
       "Don Young              Republican   \n",
       "Eddie Bernice Johnson  Democratic   \n",
       "Grace Napolitano       Democratic   \n",
       "Bill Pascrell          Democratic   \n",
       "Harold Dallas Rogers   Republican   \n",
       "...                           ...   \n",
       "Mark Green             Republican   \n",
       "Harley E. Rouda        Democratic   \n",
       "David P. Roe           Republican   \n",
       "Wm. Lacy Clay          Democratic   \n",
       "Kenny Marchant         Republican   \n",
       "\n",
       "                                                               education  \\\n",
       "name_long                                                                  \n",
       "Don Young              Yuba College; California State University, Chi...   \n",
       "Eddie Bernice Johnson  St Mary's College, Indiana; Texas Christian Un...   \n",
       "Grace Napolitano               Cerritos College; Texas Southmost College   \n",
       "Bill Pascrell                                 Fordham University; BA; MA   \n",
       "Harold Dallas Rogers   Western Kentucky University; BA; University of...   \n",
       "...                                                                  ...   \n",
       "Mark Green             United States Military Academy (BS); Universit...   \n",
       "Harley E. Rouda        University of Kentucky (BA); Ohio State Univer...   \n",
       "David P. Roe           Austin Peay State University (BS); University ...   \n",
       "Wm. Lacy Clay                  University of Maryland, College Park (BA)   \n",
       "Kenny Marchant         Southern Nazarene University (BA); Nazarene Th...   \n",
       "\n",
       "                       assumed_office       born  age  in_office  Agriculture  \\\n",
       "name_long                                                                       \n",
       "Don Young                        1973 1933-06-09   87         47            0   \n",
       "Eddie Bernice Johnson            1993 1935-12-03   85         27            0   \n",
       "Grace Napolitano                 1999 1936-12-04   84         21            0   \n",
       "Bill Pascrell                    1997 1937-01-25   83         23            0   \n",
       "Harold Dallas Rogers             1981 1937-12-31   83         39            0   \n",
       "...                               ...        ...  ...        ...          ...   \n",
       "Mark Green                       2019 1964-11-08   56          1            0   \n",
       "Harley E. Rouda                  2019 1978-10-20   42          1            0   \n",
       "David P. Roe                     2009 1945-07-21   75         11            0   \n",
       "Wm. Lacy Clay                    2001 1956-07-27   64         19            0   \n",
       "Kenny Marchant                   2005 1951-02-23   69         15            0   \n",
       "\n",
       "                       Appropriations  ...  House_Administration  Judiciary  \\\n",
       "name_long                              ...                                    \n",
       "Don Young                           0  ...                     0          0   \n",
       "Eddie Bernice Johnson               0  ...                     0          0   \n",
       "Grace Napolitano                    0  ...                     0          0   \n",
       "Bill Pascrell                       0  ...                     0          0   \n",
       "Harold Dallas Rogers                1  ...                     0          0   \n",
       "...                               ...  ...                   ...        ...   \n",
       "Mark Green                          0  ...                     0          0   \n",
       "Harley E. Rouda                     0  ...                     0          0   \n",
       "David P. Roe                        0  ...                     0          0   \n",
       "Wm. Lacy Clay                       0  ...                     0          0   \n",
       "Kenny Marchant                      0  ...                     0          0   \n",
       "\n",
       "                       Natural_Resources  Oversight_and_Reform  Rules  \\\n",
       "name_long                                                               \n",
       "Don Young                              1                     0      0   \n",
       "Eddie Bernice Johnson                  0                     0      0   \n",
       "Grace Napolitano                       1                     0      0   \n",
       "Bill Pascrell                          0                     0      0   \n",
       "Harold Dallas Rogers                   0                     0      0   \n",
       "...                                  ...                   ...    ...   \n",
       "Mark Green                             0                     0      0   \n",
       "Harley E. Rouda                        0                     1      0   \n",
       "David P. Roe                           0                     0      0   \n",
       "Wm. Lacy Clay                          0                     1      0   \n",
       "Kenny Marchant                         0                     0      0   \n",
       "\n",
       "                       Science_Space_and_Technology  Small_Business  \\\n",
       "name_long                                                             \n",
       "Don Young                                         0               0   \n",
       "Eddie Bernice Johnson                             1               0   \n",
       "Grace Napolitano                                  0               0   \n",
       "Bill Pascrell                                     0               0   \n",
       "Harold Dallas Rogers                              0               0   \n",
       "...                                             ...             ...   \n",
       "Mark Green                                        0               0   \n",
       "Harley E. Rouda                                   0               0   \n",
       "David P. Roe                                      0               0   \n",
       "Wm. Lacy Clay                                     0               0   \n",
       "Kenny Marchant                                    0               0   \n",
       "\n",
       "                       Transportation_and_Infrastructure  Veterans_Affairs  \\\n",
       "name_long                                                                    \n",
       "Don Young                                              1                 0   \n",
       "Eddie Bernice Johnson                                  1                 0   \n",
       "Grace Napolitano                                       1                 0   \n",
       "Bill Pascrell                                          0                 0   \n",
       "Harold Dallas Rogers                                   0                 0   \n",
       "...                                                  ...               ...   \n",
       "Mark Green                                             0                 0   \n",
       "Harley E. Rouda                                        1                 0   \n",
       "David P. Roe                                           0                 1   \n",
       "Wm. Lacy Clay                                          0                 0   \n",
       "Kenny Marchant                                         0                 0   \n",
       "\n",
       "                       Ways_and_Means  \n",
       "name_long                              \n",
       "Don Young                           0  \n",
       "Eddie Bernice Johnson               0  \n",
       "Grace Napolitano                    0  \n",
       "Bill Pascrell                       1  \n",
       "Harold Dallas Rogers                0  \n",
       "...                               ...  \n",
       "Mark Green                          0  \n",
       "Harley E. Rouda                     0  \n",
       "David P. Roe                        0  \n",
       "Wm. Lacy Clay                       0  \n",
       "Kenny Marchant                      1  \n",
       "\n",
       "[448 rows x 28 columns]"
      ]
     },
     "execution_count": 19,
     "metadata": {},
     "output_type": "execute_result"
    }
   ],
   "source": [
    "for com in committees['Committee'].unique():\n",
    "    house_members[com] = 0\n",
    "\n",
    "for i, row in house_members.iterrows():\n",
    "    for com in committees[committees['House Member Name'] == row['name_committee']]['Committee']:\n",
    "        house_members.loc[i, com] = 1\n",
    "\n",
    "house_members"
   ]
  },
  {
   "cell_type": "code",
   "execution_count": 20,
   "id": "dominican-contest",
   "metadata": {},
   "outputs": [
    {
     "data": {
      "text/html": [
       "<div>\n",
       "<style scoped>\n",
       "    .dataframe tbody tr th:only-of-type {\n",
       "        vertical-align: middle;\n",
       "    }\n",
       "\n",
       "    .dataframe tbody tr th {\n",
       "        vertical-align: top;\n",
       "    }\n",
       "\n",
       "    .dataframe thead th {\n",
       "        text-align: right;\n",
       "    }\n",
       "</style>\n",
       "<table border=\"1\" class=\"dataframe\">\n",
       "  <thead>\n",
       "    <tr style=\"text-align: right;\">\n",
       "      <th></th>\n",
       "      <th>disclosure_year</th>\n",
       "      <th>disclosure_date</th>\n",
       "      <th>transaction_date</th>\n",
       "      <th>owner</th>\n",
       "      <th>asset_description</th>\n",
       "      <th>type_detailed</th>\n",
       "      <th>amount</th>\n",
       "      <th>representative</th>\n",
       "      <th>district</th>\n",
       "      <th>cap_gains_over_200_usd</th>\n",
       "      <th>...</th>\n",
       "      <th>House_Administration</th>\n",
       "      <th>Judiciary</th>\n",
       "      <th>Natural_Resources</th>\n",
       "      <th>Oversight_and_Reform</th>\n",
       "      <th>Rules</th>\n",
       "      <th>Science_Space_and_Technology</th>\n",
       "      <th>Small_Business</th>\n",
       "      <th>Transportation_and_Infrastructure</th>\n",
       "      <th>Veterans_Affairs</th>\n",
       "      <th>Ways_and_Means</th>\n",
       "    </tr>\n",
       "  </thead>\n",
       "  <tbody>\n",
       "    <tr>\n",
       "      <th>0</th>\n",
       "      <td>2020</td>\n",
       "      <td>05/05/2020</td>\n",
       "      <td>2020-04-09</td>\n",
       "      <td>NaN</td>\n",
       "      <td>Agilent Technologies, Inc.</td>\n",
       "      <td>sale_partial</td>\n",
       "      <td>$1,001 - $15,000</td>\n",
       "      <td>Peter Welch</td>\n",
       "      <td>VT00</td>\n",
       "      <td>True</td>\n",
       "      <td>...</td>\n",
       "      <td>0</td>\n",
       "      <td>0</td>\n",
       "      <td>0</td>\n",
       "      <td>1</td>\n",
       "      <td>0</td>\n",
       "      <td>0</td>\n",
       "      <td>0</td>\n",
       "      <td>0</td>\n",
       "      <td>0</td>\n",
       "      <td>0</td>\n",
       "    </tr>\n",
       "    <tr>\n",
       "      <th>1</th>\n",
       "      <td>2020</td>\n",
       "      <td>12/29/2020</td>\n",
       "      <td>2020-11-17</td>\n",
       "      <td>joint</td>\n",
       "      <td>American Airlines</td>\n",
       "      <td>sale_full</td>\n",
       "      <td>$15,001 - $50,000</td>\n",
       "      <td>Kenny Marchant</td>\n",
       "      <td>TX24</td>\n",
       "      <td>False</td>\n",
       "      <td>...</td>\n",
       "      <td>0</td>\n",
       "      <td>0</td>\n",
       "      <td>0</td>\n",
       "      <td>0</td>\n",
       "      <td>0</td>\n",
       "      <td>0</td>\n",
       "      <td>0</td>\n",
       "      <td>0</td>\n",
       "      <td>0</td>\n",
       "      <td>1</td>\n",
       "    </tr>\n",
       "    <tr>\n",
       "      <th>2</th>\n",
       "      <td>2020</td>\n",
       "      <td>05/05/2020</td>\n",
       "      <td>2020-03-25</td>\n",
       "      <td>NaN</td>\n",
       "      <td>American Airlines Group, Inc.</td>\n",
       "      <td>purchase</td>\n",
       "      <td>$1,001 - $15,000</td>\n",
       "      <td>James R. Langevin</td>\n",
       "      <td>RI02</td>\n",
       "      <td>False</td>\n",
       "      <td>...</td>\n",
       "      <td>0</td>\n",
       "      <td>0</td>\n",
       "      <td>0</td>\n",
       "      <td>0</td>\n",
       "      <td>0</td>\n",
       "      <td>0</td>\n",
       "      <td>0</td>\n",
       "      <td>0</td>\n",
       "      <td>0</td>\n",
       "      <td>0</td>\n",
       "    </tr>\n",
       "    <tr>\n",
       "      <th>3</th>\n",
       "      <td>2020</td>\n",
       "      <td>08/18/2020</td>\n",
       "      <td>2020-03-25</td>\n",
       "      <td>NaN</td>\n",
       "      <td>American Airlines Group, Inc.</td>\n",
       "      <td>purchase</td>\n",
       "      <td>$1,001 - $15,000</td>\n",
       "      <td>James R. Langevin</td>\n",
       "      <td>RI02</td>\n",
       "      <td>False</td>\n",
       "      <td>...</td>\n",
       "      <td>0</td>\n",
       "      <td>0</td>\n",
       "      <td>0</td>\n",
       "      <td>0</td>\n",
       "      <td>0</td>\n",
       "      <td>0</td>\n",
       "      <td>0</td>\n",
       "      <td>0</td>\n",
       "      <td>0</td>\n",
       "      <td>0</td>\n",
       "    </tr>\n",
       "    <tr>\n",
       "      <th>4</th>\n",
       "      <td>2020</td>\n",
       "      <td>05/07/2020</td>\n",
       "      <td>2020-04-23</td>\n",
       "      <td>--</td>\n",
       "      <td>American Airlines Group, Inc.</td>\n",
       "      <td>purchase</td>\n",
       "      <td>$1,001 - $15,000</td>\n",
       "      <td>Adam Kinzinger</td>\n",
       "      <td>IL16</td>\n",
       "      <td>False</td>\n",
       "      <td>...</td>\n",
       "      <td>0</td>\n",
       "      <td>0</td>\n",
       "      <td>0</td>\n",
       "      <td>0</td>\n",
       "      <td>0</td>\n",
       "      <td>0</td>\n",
       "      <td>0</td>\n",
       "      <td>0</td>\n",
       "      <td>0</td>\n",
       "      <td>0</td>\n",
       "    </tr>\n",
       "    <tr>\n",
       "      <th>...</th>\n",
       "      <td>...</td>\n",
       "      <td>...</td>\n",
       "      <td>...</td>\n",
       "      <td>...</td>\n",
       "      <td>...</td>\n",
       "      <td>...</td>\n",
       "      <td>...</td>\n",
       "      <td>...</td>\n",
       "      <td>...</td>\n",
       "      <td>...</td>\n",
       "      <td>...</td>\n",
       "      <td>...</td>\n",
       "      <td>...</td>\n",
       "      <td>...</td>\n",
       "      <td>...</td>\n",
       "      <td>...</td>\n",
       "      <td>...</td>\n",
       "      <td>...</td>\n",
       "      <td>...</td>\n",
       "      <td>...</td>\n",
       "      <td>...</td>\n",
       "    </tr>\n",
       "    <tr>\n",
       "      <th>5531</th>\n",
       "      <td>2020</td>\n",
       "      <td>04/09/2020</td>\n",
       "      <td>2020-03-27</td>\n",
       "      <td>NaN</td>\n",
       "      <td>Zoetis Inc. Class A</td>\n",
       "      <td>purchase</td>\n",
       "      <td>$1,001 - $15,000</td>\n",
       "      <td>John Curtis</td>\n",
       "      <td>UT03</td>\n",
       "      <td>False</td>\n",
       "      <td>...</td>\n",
       "      <td>0</td>\n",
       "      <td>0</td>\n",
       "      <td>0</td>\n",
       "      <td>0</td>\n",
       "      <td>0</td>\n",
       "      <td>0</td>\n",
       "      <td>0</td>\n",
       "      <td>0</td>\n",
       "      <td>0</td>\n",
       "      <td>0</td>\n",
       "    </tr>\n",
       "    <tr>\n",
       "      <th>5532</th>\n",
       "      <td>2020</td>\n",
       "      <td>08/03/2020</td>\n",
       "      <td>2020-07-21</td>\n",
       "      <td>self</td>\n",
       "      <td>Zoetis Inc. Class A</td>\n",
       "      <td>sale_partial</td>\n",
       "      <td>$1,001 - $15,000</td>\n",
       "      <td>Alan S. Lowenthal</td>\n",
       "      <td>CA47</td>\n",
       "      <td>False</td>\n",
       "      <td>...</td>\n",
       "      <td>0</td>\n",
       "      <td>0</td>\n",
       "      <td>1</td>\n",
       "      <td>0</td>\n",
       "      <td>0</td>\n",
       "      <td>0</td>\n",
       "      <td>0</td>\n",
       "      <td>1</td>\n",
       "      <td>0</td>\n",
       "      <td>0</td>\n",
       "    </tr>\n",
       "    <tr>\n",
       "      <th>5533</th>\n",
       "      <td>2020</td>\n",
       "      <td>08/27/2020</td>\n",
       "      <td>2020-08-07</td>\n",
       "      <td>self</td>\n",
       "      <td>Zoetis Inc. Class A</td>\n",
       "      <td>sale_full</td>\n",
       "      <td>$1,001 - $15,000</td>\n",
       "      <td>Joe Courtney</td>\n",
       "      <td>CT02</td>\n",
       "      <td>False</td>\n",
       "      <td>...</td>\n",
       "      <td>0</td>\n",
       "      <td>0</td>\n",
       "      <td>0</td>\n",
       "      <td>0</td>\n",
       "      <td>0</td>\n",
       "      <td>0</td>\n",
       "      <td>0</td>\n",
       "      <td>0</td>\n",
       "      <td>0</td>\n",
       "      <td>0</td>\n",
       "    </tr>\n",
       "    <tr>\n",
       "      <th>5534</th>\n",
       "      <td>2020</td>\n",
       "      <td>10/15/2020</td>\n",
       "      <td>2020-09-03</td>\n",
       "      <td>NaN</td>\n",
       "      <td>Zuora, Inc. Class A</td>\n",
       "      <td>purchase</td>\n",
       "      <td>$15,001 - $50,000</td>\n",
       "      <td>Brian Mast</td>\n",
       "      <td>FL18</td>\n",
       "      <td>False</td>\n",
       "      <td>...</td>\n",
       "      <td>0</td>\n",
       "      <td>0</td>\n",
       "      <td>0</td>\n",
       "      <td>0</td>\n",
       "      <td>0</td>\n",
       "      <td>0</td>\n",
       "      <td>0</td>\n",
       "      <td>1</td>\n",
       "      <td>0</td>\n",
       "      <td>0</td>\n",
       "    </tr>\n",
       "    <tr>\n",
       "      <th>5535</th>\n",
       "      <td>2021</td>\n",
       "      <td>02/01/2021</td>\n",
       "      <td>2020-12-11</td>\n",
       "      <td>NaN</td>\n",
       "      <td>Zuora, Inc. Class A</td>\n",
       "      <td>sale_full</td>\n",
       "      <td>$15,001 - $50,000</td>\n",
       "      <td>Brian Mast</td>\n",
       "      <td>FL18</td>\n",
       "      <td>True</td>\n",
       "      <td>...</td>\n",
       "      <td>0</td>\n",
       "      <td>0</td>\n",
       "      <td>0</td>\n",
       "      <td>0</td>\n",
       "      <td>0</td>\n",
       "      <td>0</td>\n",
       "      <td>0</td>\n",
       "      <td>1</td>\n",
       "      <td>0</td>\n",
       "      <td>0</td>\n",
       "    </tr>\n",
       "  </tbody>\n",
       "</table>\n",
       "<p>5536 rows × 61 columns</p>\n",
       "</div>"
      ],
      "text/plain": [
       "      disclosure_year disclosure_date transaction_date  owner  \\\n",
       "0                2020      05/05/2020       2020-04-09    NaN   \n",
       "1                2020      12/29/2020       2020-11-17  joint   \n",
       "2                2020      05/05/2020       2020-03-25    NaN   \n",
       "3                2020      08/18/2020       2020-03-25    NaN   \n",
       "4                2020      05/07/2020       2020-04-23     --   \n",
       "...               ...             ...              ...    ...   \n",
       "5531             2020      04/09/2020       2020-03-27    NaN   \n",
       "5532             2020      08/03/2020       2020-07-21   self   \n",
       "5533             2020      08/27/2020       2020-08-07   self   \n",
       "5534             2020      10/15/2020       2020-09-03    NaN   \n",
       "5535             2021      02/01/2021       2020-12-11    NaN   \n",
       "\n",
       "                  asset_description type_detailed             amount  \\\n",
       "0        Agilent Technologies, Inc.  sale_partial   $1,001 - $15,000   \n",
       "1                 American Airlines     sale_full  $15,001 - $50,000   \n",
       "2     American Airlines Group, Inc.      purchase   $1,001 - $15,000   \n",
       "3     American Airlines Group, Inc.      purchase   $1,001 - $15,000   \n",
       "4     American Airlines Group, Inc.      purchase   $1,001 - $15,000   \n",
       "...                             ...           ...                ...   \n",
       "5531            Zoetis Inc. Class A      purchase   $1,001 - $15,000   \n",
       "5532            Zoetis Inc. Class A  sale_partial   $1,001 - $15,000   \n",
       "5533            Zoetis Inc. Class A     sale_full   $1,001 - $15,000   \n",
       "5534            Zuora, Inc. Class A      purchase  $15,001 - $50,000   \n",
       "5535            Zuora, Inc. Class A     sale_full  $15,001 - $50,000   \n",
       "\n",
       "         representative district  cap_gains_over_200_usd  ...  \\\n",
       "0           Peter Welch     VT00                    True  ...   \n",
       "1        Kenny Marchant     TX24                   False  ...   \n",
       "2     James R. Langevin     RI02                   False  ...   \n",
       "3     James R. Langevin     RI02                   False  ...   \n",
       "4        Adam Kinzinger     IL16                   False  ...   \n",
       "...                 ...      ...                     ...  ...   \n",
       "5531        John Curtis     UT03                   False  ...   \n",
       "5532  Alan S. Lowenthal     CA47                   False  ...   \n",
       "5533       Joe Courtney     CT02                   False  ...   \n",
       "5534         Brian Mast     FL18                   False  ...   \n",
       "5535         Brian Mast     FL18                    True  ...   \n",
       "\n",
       "     House_Administration Judiciary Natural_Resources  Oversight_and_Reform  \\\n",
       "0                       0         0                 0                     1   \n",
       "1                       0         0                 0                     0   \n",
       "2                       0         0                 0                     0   \n",
       "3                       0         0                 0                     0   \n",
       "4                       0         0                 0                     0   \n",
       "...                   ...       ...               ...                   ...   \n",
       "5531                    0         0                 0                     0   \n",
       "5532                    0         0                 1                     0   \n",
       "5533                    0         0                 0                     0   \n",
       "5534                    0         0                 0                     0   \n",
       "5535                    0         0                 0                     0   \n",
       "\n",
       "      Rules  Science_Space_and_Technology  Small_Business  \\\n",
       "0         0                             0               0   \n",
       "1         0                             0               0   \n",
       "2         0                             0               0   \n",
       "3         0                             0               0   \n",
       "4         0                             0               0   \n",
       "...     ...                           ...             ...   \n",
       "5531      0                             0               0   \n",
       "5532      0                             0               0   \n",
       "5533      0                             0               0   \n",
       "5534      0                             0               0   \n",
       "5535      0                             0               0   \n",
       "\n",
       "      Transportation_and_Infrastructure  Veterans_Affairs  Ways_and_Means  \n",
       "0                                     0                 0               0  \n",
       "1                                     0                 0               1  \n",
       "2                                     0                 0               0  \n",
       "3                                     0                 0               0  \n",
       "4                                     0                 0               0  \n",
       "...                                 ...               ...             ...  \n",
       "5531                                  0                 0               0  \n",
       "5532                                  1                 0               0  \n",
       "5533                                  0                 0               0  \n",
       "5534                                  1                 0               0  \n",
       "5535                                  1                 0               0  \n",
       "\n",
       "[5536 rows x 61 columns]"
      ]
     },
     "execution_count": 20,
     "metadata": {},
     "output_type": "execute_result"
    }
   ],
   "source": [
    "house_returns = house.join(house_members, on='representative')\n",
    "house_returns"
   ]
  },
  {
   "cell_type": "code",
   "execution_count": 21,
   "id": "fewer-remedy",
   "metadata": {},
   "outputs": [],
   "source": [
    "house_returns.to_csv(path_or_buf='house_returns.csv')"
   ]
  },
  {
   "cell_type": "code",
   "execution_count": null,
   "id": "understood-federation",
   "metadata": {},
   "outputs": [],
   "source": []
  }
 ],
 "metadata": {
  "kernelspec": {
   "display_name": "Python 3",
   "language": "python",
   "name": "python3"
  },
  "language_info": {
   "codemirror_mode": {
    "name": "ipython",
    "version": 3
   },
   "file_extension": ".py",
   "mimetype": "text/x-python",
   "name": "python",
   "nbconvert_exporter": "python",
   "pygments_lexer": "ipython3",
   "version": "3.8.5"
  }
 },
 "nbformat": 4,
 "nbformat_minor": 5
}
